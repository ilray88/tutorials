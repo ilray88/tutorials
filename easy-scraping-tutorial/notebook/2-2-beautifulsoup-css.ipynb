{
 "cells": [
  {
   "cell_type": "markdown",
   "metadata": {},
   "source": [
    "# BeautifulSoup 解析网页: CSS\n",
    "而 CSS 的代码, 可能就会放在这个网页的 <head> 中. 我们先使用 Python 读取这个页面."
   ]
  },
  {
   "cell_type": "code",
   "execution_count": 9,
   "metadata": {
    "collapsed": true
   },
   "outputs": [
    {
     "name": "stdout",
     "output_type": "stream",
     "text": [
      "<!DOCTYPE html>\n",
      "<html lang=\"cn\">\n",
      "<head>\n",
      "\t<meta charset=\"UTF-8\">\n",
      "\t<title>爬虫练习 列表 class | 莫烦 Python</title>\n",
      "\t<style>\n",
      "\t.jan {\n",
      "\t\tbackground-color: yellow;\n",
      "\t}\n",
      "\t.feb {\n",
      "\t\tfont-size: 25px;\n",
      "\t}\n",
      "\t.month {\n",
      "\t\tcolor: red;\n",
      "\t}\n",
      "\t</style>\n",
      "</head>\n",
      "\n",
      "<body>\n",
      "\n",
      "<h1>列表 爬虫练习</h1>\n",
      "\n",
      "<p>这是一个在 <a href=\"/\" >莫烦 Python</a> 的 <a href=\"/tutorials/data-manipulation/scraping/\" >爬虫教程</a>\n",
      "\t里无敌简单的网页, 所有的 code 让你一目了然, 清晰无比.</p>\n",
      "\n",
      "<ul>\n",
      "\t<li class=\"month\">一月</li>\n",
      "\t<ul class=\"jan\">\n",
      "\t\t<li>一月一号</li>\n",
      "\t\t<li>一月二号</li>\n",
      "\t\t<li>一月三号</li>\n",
      "\t</ul>\n",
      "\t<li class=\"feb month\">二月</li>\n",
      "\t<li class=\"month\">三月</li>\n",
      "\t<li class=\"month\">四月</li>\n",
      "\t<li class=\"month\">五月</li>\n",
      "</ul>\n",
      "\n",
      "</body>\n",
      "</html>\n"
     ]
    }
   ],
   "source": [
    "from bs4 import BeautifulSoup\n",
    "from urllib.request import urlopen\n",
    "\n",
    "# if has Chinese, apply decode()\n",
    "html = urlopen(\"https://mofanpy.com/static/scraping/list.html\").read().decode('utf-8')\n",
    "print(html)"
   ]
  },
  {
   "cell_type": "raw",
   "metadata": {
    "pycharm": {
     "name": "#%% raw\n"
    }
   },
   "source": [
    "在 <head> 中, 你会发现有这样一些东西被放在 <style> 里面, 这些东西都是某些 class 的 CSS 代码. 比如 jan 就是一个 class. jan 这个类掌控了这个类型的背景颜色. 所以在 <ul class=\"jan\"> 这里, 这个 ul 的背景颜色就是黄色的. 而如果是 month 这个类, 它们的字体颜色就是红色.\n",
    "这样, 我们就知道, 有时候, 网页中, 这种 class 归类一些组件还是很有用的. 比如我就想找 jan 下面的这些 <li>. 我就能通过寻找 class=\"jan\" 找到它们. BeautifulSoup 就能这么干."
   ]
  },
  {
   "cell_type": "markdown",
   "source": [
    "## 按Class 匹配\n",
    "按 Class 匹配很简单. 比如我要找所有 class=month 的信息. 并打印出它们的 tag 内文字."
   ],
   "metadata": {
    "collapsed": false,
    "pycharm": {
     "name": "#%% md\n"
    }
   }
  },
  {
   "cell_type": "code",
   "execution_count": 7,
   "metadata": {
    "collapsed": true
   },
   "outputs": [
    {
     "name": "stdout",
     "output_type": "stream",
     "text": [
      "一月\n",
      "二月\n",
      "三月\n",
      "四月\n",
      "五月\n"
     ]
    }
   ],
   "source": [
    "soup = BeautifulSoup(html, features='html.parser')\n",
    "\n",
    "# use class to narrow search\n",
    "month = soup.find_all('li', {\"class\": \"month\"})\n",
    "for m in month:\n",
    "    print(m.get_text())"
   ]
  },
  {
   "cell_type": "raw",
   "metadata": {
    "pycharm": {
     "name": "#%% raw\n"
    }
   },
   "source": [
    "\n",
    "或者找到 class=jan 的信息. 然后在 <ul> 下面继续找 <ul> 内部的 <li> 信息.\n",
    "这样一层层嵌套的信息, 非常容易找到."
   ]
  },
  {
   "cell_type": "code",
   "execution_count": 12,
   "metadata": {},
   "outputs": [
    {
     "name": "stdout",
     "output_type": "stream",
     "text": [
      "一月一号\n",
      "一月二号\n",
      "一月三号\n"
     ]
    }
   ],
   "source": [
    "\n",
    "jan = soup.find('ul', {\"class\": 'jan'})\n",
    "d_jan = jan.find_all('li')              # use jan as a parent\n",
    "for d in d_jan:\n",
    "    print(d.get_text())\n"
   ]
  },
  {
   "cell_type": "raw",
   "metadata": {
    "pycharm": {
     "name": "#%% raw\n"
    }
   },
   "source": [
    "如果想要找到一些有着一定格式的信息, 比如使用正则表达来寻找相类似的信息,\n",
    " 我们在 BeautifulSoup 中也能嵌入正则表达式, 让 BeautifulSoup 更为强大.\n",
    "  怎么用, 我们就接着往下看啦.\n"
   ]
  },
  {
   "cell_type": "code",
   "execution_count": 8,
   "outputs": [],
   "source": [],
   "metadata": {
    "collapsed": false,
    "pycharm": {
     "name": "#%%\n"
    }
   }
  }
 ],
 "metadata": {
  "kernelspec": {
   "name": "python3",
   "language": "python",
   "display_name": "Python 3"
  },
  "language_info": {
   "codemirror_mode": {
    "name": "ipython",
    "version": 2
   },
   "file_extension": ".py",
   "mimetype": "text/x-python",
   "name": "python",
   "nbconvert_exporter": "python",
   "pygments_lexer": "ipython2",
   "version": "2.7.6"
  }
 },
 "nbformat": 4,
 "nbformat_minor": 0
}