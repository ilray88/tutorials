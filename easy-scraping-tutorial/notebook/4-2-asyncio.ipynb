{
 "cells": [
  {
   "cell_type": "markdown",
   "metadata": {},
   "source": [
    "# 加速爬虫: 异步加载 Asyncio\n",
    "\n",
    "\n",
    "## 基本用法"
   ]
  },
  {
   "cell_type": "code",
   "execution_count": 1,
   "metadata": {},
   "outputs": [
    {
     "name": "stdout",
     "output_type": "stream",
     "text": [
      "Start job  1\n",
      "Job  1  takes  1  s\n",
      "Start job  2\n",
      "Job  2  takes  2  s\n",
      "NO async total time :  3.0008366107940674\n"
     ]
    }
   ],
   "source": [
    "import time\n",
    "\n",
    "\n",
    "def job(t):\n",
    "    print('Start job ', t)\n",
    "    time.sleep(t)               # wait for \"t\" seconds\n",
    "    print('Job ', t, ' takes ', t, ' s')\n",
    "    \n",
    "\n",
    "def main():\n",
    "    [job(t) for t in range(1, 3)]\n",
    "    \n",
    "    \n",
    "t1 = time.time()\n",
    "main()\n",
    "print(\"NO async total time : \", time.time() - t1)"
   ]
  },
  {
   "cell_type": "markdown",
   "metadata": {},
   "source": [
    "从上面可以看出, 我们的 job 是按顺序执行的, 必须执行完 job 1 才能开始执行 job 2, 而且 job 1 需要1秒的执行时间, 而 job 2 需要2秒. 所以总时间是 3 秒多. 而如果我们使用 asyncio 的形式, job 1 在等待 time.sleep(t) 结束的时候, 比如是等待一个网页的下载成功, 在这个地方是可以切换给 job 2, 让它开始执行\n",
    "## Translate above to async\n",
    "**Now, let's see the running time using asyncio**"
   ]
  },
  {
   "cell_type": "code",
   "execution_count": 2,
   "metadata": {},
   "outputs": [
    {
     "name": "stdout",
     "output_type": "stream",
     "text": [
      "Start job  1\n",
      "Start job  2\n",
      "Job  1  takes  1  s\n",
      "Job  2  takes  2  s\n",
      "Async total time :  1.9878110885620117\n"
     ]
    }
   ],
   "source": [
    "# .py文件中运行不报错\n",
    "import asyncio\n",
    "import time\n",
    "import nest_asyncio\n",
    "nest_asyncio.apply()\n",
    "\n",
    "async def job(t):\n",
    "    print('Start job ', t)\n",
    "    await asyncio.sleep(t)          # wait for \"t\" seconds, it will look for another job while await\n",
    "    print('Job ', t, ' takes ', t, ' s')\n",
    "\n",
    "\n",
    "async def main(loop):\n",
    "    tasks = [loop.create_task(job(t)) for t in range(1, 3)]     # just create, not run job\n",
    "    await asyncio.wait(tasks)                                   # run jobs and wait for all tasks done\n",
    "\n",
    "t1 = time.time()\n",
    "loop = asyncio.get_event_loop()\n",
    "loop.run_until_complete(main(loop))\n",
    "# loop.close()                          # Ipython notebook gives error if close loop\n",
    "print(\"Async total time : \", time.time() - t1)\n",
    "if __name__ == '__main__':\n",
    "\tpass\n"
   ]
  },
  {
   "cell_type": "markdown",
   "metadata": {},
   "source": [
    "从结果可以看出, 我们没有等待 job 1 的结束才开始 job 2, 而是 job 1 触发了 await 的时候就切换到了 job 2 了. 这时, job 1 和 job 2 同时在等待 await asyncio.sleep(t), 所以最终的程序完成时间, 取决于等待最长的 t, 也就是 2秒. 这和上面用普通形式的代码相比(3秒), 的确快了很多.\n",
    "## aiohttp\n",
    "接着我们来看看我们怎么用最一般的 requests 模块爬网页, 和我们怎么将 requests 替换成 aiohttp.\n"
   ]
  },
  {
   "cell_type": "code",
   "execution_count": 3,
   "metadata": {},
   "outputs": [
    {
     "name": "stdout",
     "output_type": "stream",
     "text": [
      "https://mofanpy.com/\n",
      "https://mofanpy.com/\n",
      "Normal total time: 0.3860809803009033\n"
     ]
    }
   ],
   "source": [
    "import requests\n",
    "\n",
    "URL = 'https://mofanpy.com/'\n",
    "\n",
    "\n",
    "def normal():  \n",
    "    for i in range(2):\n",
    "        r = requests.get(URL)\n",
    "        url = r.url\n",
    "        print(url)\n",
    "    \n",
    "t1 = time.time()\n",
    "normal()\n",
    "print(\"Normal total time:\", time.time()-t1)"
   ]
  },
  {
   "cell_type": "markdown",
   "metadata": {},
   "source": [
    "用 requests 用久了以后, 这样的代码真是信手拈来. 很好, 我们打开 莫烦 Python 的首页两次只花了 0.38秒. 然后我们在用 aiohttp 来实现一样的功能. 结果 asyncio 的方式只用了 0.11秒! 大获全胜."
   ]
  },
  {
   "cell_type": "code",
   "execution_count": 4,
   "metadata": {
    "pycharm": {
     "name": "#%%\n"
    }
   },
   "outputs": [
    {
     "name": "stdout",
     "output_type": "stream",
     "text": [
      "['https://mofanpy.com/', 'https://mofanpy.com/']\n",
      "Async total time: 0.09995436668395996\n"
     ]
    }
   ],
   "source": [
    "# .py文件中运行不报错\n",
    "import nest_asyncio\n",
    "nest_asyncio.apply()\n",
    "import asyncio\n",
    "\n",
    "import aiohttp\n",
    "import time\n",
    "URL = 'https://mofanpy.com/'\n",
    "async def job(session):\n",
    "\tresponse = await session.get(URL)\n",
    "\treturn str(response.url)\n",
    "\n",
    "\n",
    "async def main(loop):\n",
    "\tasync with aiohttp.ClientSession() as session:\n",
    "\t\ttasks = [loop.create_task(job(session)) for _ in range(2)]\n",
    "\t\tfinished, unfinished = await asyncio.wait(tasks)\n",
    "\t\tall_results = [r.result() for r in finished]  # get return from job\n",
    "\t\tprint(all_results)\n",
    "\n",
    "\n",
    "t1 = time.time()\n",
    "loop = asyncio.get_event_loop()\n",
    "loop.run_until_complete(main(loop))\n",
    "# loop.close()                      # Ipython notebook gives error if close loop\n",
    "print(\"Async total time:\", time.time() - t1)"
   ]
  },
  {
   "cell_type": "markdown",
   "metadata": {},
   "source": [
    "我们刚刚创建了一个 Session, 这是官网推荐的方式, 但是我觉得也可以直接用 request 形式, 细节请参考官方说明. 如果要获取网页返回的结果, 我们可以在 job() 中 return 个结果出来, 然后再在 finished, unfinished = await asyncio.wait(tasks) 收集完成的结果, 这里它会返回完成的和没完成的, 我们关心的都是完成的, 而且 await 也确实是等待都完成了才返回. 真正的结果被存放在了 result() 里面\n",
    "## 和多进程分布式爬虫对比\n",
    "**async**"
   ]
  },
  {
   "cell_type": "code",
   "execution_count": null,
   "metadata": {
    "pycharm": {
     "is_executing": true
    }
   },
   "outputs": [
    {
     "name": "stdout",
     "output_type": "stream",
     "text": [
      "\n",
      "Async Crawling...\n",
      "\n",
      "Distributed Parsing...\n"
     ]
    }
   ],
   "source": [
    "import aiohttp\n",
    "import asyncio\n",
    "import time\n",
    "from bs4 import BeautifulSoup\n",
    "from urllib.request import urljoin\n",
    "import re\n",
    "import multiprocessing as mp\n",
    "\n",
    "base_url = \"https://mofanpy.com/\"\n",
    "# base_url = \"http://127.0.0.1:4000/\"\n",
    "\n",
    "# DON'T OVER CRAWL THE WEBSITE OR YOU MAY NEVER VISIT AGAIN\n",
    "if base_url != \"http://127.0.0.1:4000/\":\n",
    "    restricted_crawl = True\n",
    "else:\n",
    "    restricted_crawl = False\n",
    "        \n",
    "        \n",
    "seen = set()\n",
    "unseen = set([base_url])\n",
    "\n",
    "\n",
    "def parse(html):\n",
    "    soup = BeautifulSoup(html, 'html.parser')\n",
    "    urls = soup.find_all('a', {\"href\": re.compile('^/.+?/$')})\n",
    "    title = soup.find('h1').get_text().strip()\n",
    "    page_urls = set([urljoin(base_url, url['href']) for url in urls])\n",
    "    url = soup.find('meta', {'property': \"og:url\"})['content']\n",
    "    return title, page_urls, url\n",
    "\n",
    "\n",
    "async def crawl(url, session):\n",
    "    r = await session.get(url)\n",
    "    html = await r.text()\n",
    "    await asyncio.sleep(0.1)        # slightly delay for downloading\n",
    "    return html\n",
    "\n",
    "\n",
    "async def main(loop):\n",
    "    pool = mp.Pool(8)               # slightly affected\n",
    "    async with aiohttp.ClientSession() as session:\n",
    "        count = 1\n",
    "        while len(unseen) != 0:\n",
    "            print('\\nAsync Crawling...')\n",
    "            tasks = [loop.create_task(crawl(url, session)) for url in unseen]\n",
    "            finished, unfinished = await asyncio.wait(tasks)\n",
    "            htmls = [f.result() for f in finished]\n",
    "            \n",
    "            print('\\nDistributed Parsing...')\n",
    "            parse_jobs = [pool.apply_async(parse, args=(html,)) for html in htmls]\n",
    "            results = [j.get() for j in parse_jobs]\n",
    "            \n",
    "            print('\\nAnalysing...')\n",
    "            seen.update(unseen)\n",
    "            unseen.clear()\n",
    "            for title, page_urls, url in results:\n",
    "                # print(count, title, url)\n",
    "                unseen.update(page_urls - seen)\n",
    "                count += 1\n",
    "\n",
    "if __name__ == \"__main__\":\n",
    "    t1 = time.time()\n",
    "    loop = asyncio.get_event_loop()\n",
    "    loop.run_until_complete(main(loop))\n",
    "    # loop.close()\n",
    "    print(\"Async total time: \", time.time() - t1)"
   ]
  },
  {
   "cell_type": "markdown",
   "metadata": {},
   "source": [
    "**多线程**"
   ]
  },
  {
   "cell_type": "code",
   "execution_count": null,
   "metadata": {
    "pycharm": {
     "is_executing": true
    }
   },
   "outputs": [],
   "source": [
    "from urllib.request import urlopen, urljoin\n",
    "from bs4 import BeautifulSoup\n",
    "import multiprocessing as mp\n",
    "import re\n",
    "import time\n",
    "\n",
    "\n",
    "def crawl(url):\n",
    "    response = urlopen(url)\n",
    "    time.sleep(0.1)             # slightly delay for downloading\n",
    "    return response.read().decode()\n",
    "\n",
    "\n",
    "def parse(html):\n",
    "    soup = BeautifulSoup(html, 'html.parser')\n",
    "    urls = soup.find_all('a', {\"href\": re.compile('^/.+?/$')})\n",
    "    title = soup.find('h1').get_text().strip()\n",
    "    page_urls = set([urljoin(base_url, url['href']) for url in urls])\n",
    "    url = soup.find('meta', {'property': \"og:url\"})['content']\n",
    "    return title, page_urls, url\n",
    "\n",
    "\n",
    "if __name__ == '__main__':\n",
    "    base_url = 'https://mofanpy.com/'\n",
    "    # base_url = \"http://127.0.0.1:4000/\"\n",
    "        \n",
    "    # DON'T OVER CRAWL THE WEBSITE OR YOU MAY NEVER VISIT AGAIN\n",
    "    if base_url != \"http://127.0.0.1:4000/\":\n",
    "        restricted_crawl = True\n",
    "    else:\n",
    "        restricted_crawl = False\n",
    "        \n",
    "    unseen = set([base_url,])\n",
    "    seen = set()\n",
    "\n",
    "    pool = mp.Pool(8)                       # number strongly affected\n",
    "    count, t1 = 1, time.time()\n",
    "    while len(unseen) != 0:                 # still get some url to visit\n",
    "        if restricted_crawl and len(seen) > 20:\n",
    "            break\n",
    "        print('\\nDistributed Crawling...')\n",
    "        crawl_jobs = [pool.apply_async(crawl, args=(url,)) for url in unseen]\n",
    "        htmls = [j.get() for j in crawl_jobs]                                       # request connection\n",
    "        htmls = [h for h in htmls if h is not None]     # remove None\n",
    "\n",
    "        print('\\nDistributed Parsing...')\n",
    "        parse_jobs = [pool.apply_async(parse, args=(html,)) for html in htmls]\n",
    "        results = [j.get() for j in parse_jobs]                                     # parse html\n",
    "\n",
    "        print('\\nAnalysing...')\n",
    "        seen.update(unseen)\n",
    "        unseen.clear()\n",
    "\n",
    "        for title, page_urls, url in results:\n",
    "            # print(count, title, url)\n",
    "            count += 1\n",
    "            unseen.update(page_urls - seen)\n",
    "\n",
    "    print('Total time: %.1f s' % (time.time()-t1, ))\n",
    "\n"
   ]
  },
  {
   "cell_type": "code",
   "execution_count": null,
   "metadata": {
    "pycharm": {
     "is_executing": true
    }
   },
   "outputs": [],
   "source": []
  },
  {
   "cell_type": "code",
   "execution_count": null,
   "metadata": {
    "pycharm": {
     "is_executing": true
    }
   },
   "outputs": [],
   "source": []
  }
 ],
 "metadata": {
  "kernelspec": {
   "name": "pycharm-5d4c1c6c",
   "language": "python",
   "display_name": "PyCharm (tutorials)"
  },
  "language_info": {
   "codemirror_mode": {
    "name": "ipython",
    "version": 3
   },
   "file_extension": ".py",
   "mimetype": "text/x-python",
   "name": "python",
   "nbconvert_exporter": "python",
   "pygments_lexer": "ipython3",
   "version": "3.5.1"
  }
 },
 "nbformat": 4,
 "nbformat_minor": 1
}