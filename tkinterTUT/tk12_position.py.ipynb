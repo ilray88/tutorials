{
 "cells": [
  {
   "cell_type": "code",
   "execution_count": 1,
   "metadata": {
    "collapsed": true
   },
   "outputs": [],
   "source": [
    "# View more python learning tutorial on my Youtube and Youku channel!!!\n",
    "\n",
    "# Youtube video tutorial: https://www.youtube.com/channel/UCdyjiB5H8Pu7aDTNVXTTpcg\n",
    "# Youku video tutorial: http://i.youku.com/pythontutorial\n",
    "\n",
    "import tkinter as tk\n",
    "\n",
    "window = tk.Tk()\n",
    "window.geometry('200x200')\n",
    "\n",
    "#canvas = tk.Canvas(window, height=150, width=500)\n",
    "#canvas.grid(row=1, column=1)\n",
    "#image_file = tk.PhotoImage(file='welcome.gif')\n",
    "#image = canvas.create_image(0, 0, anchor='nw', image=image_file)\n",
    "\n",
    "#tk.Label(window, text='1').pack(side='top')\n",
    "#tk.Label(window, text='1').pack(side='bottom')\n",
    "#tk.Label(window, text='1').pack(side='left')\n",
    "#tk.Label(window, text='1').pack(side='right')\n",
    "\n",
    "#for i in range(4):\n",
    "    #for j in range(3):\n",
    "        #tk.Label(window, text=1).grid(row=i, column=j, padx=10, pady=10)\n",
    "\n",
    "tk.Label(window, text=1).place(x=20, y=10, anchor='nw')\n",
    "\n",
    "window.mainloop()\n"
   ]
  }
 ],
 "metadata": {
  "kernelspec": {
   "display_name": "Python 3",
   "language": "python",
   "name": "python3"
  },
  "language_info": {
   "codemirror_mode": {
    "name": "ipython",
    "version": 2
   },
   "file_extension": ".py",
   "mimetype": "text/x-python",
   "name": "python",
   "nbconvert_exporter": "python",
   "pygments_lexer": "ipython2",
   "version": "2.7.6"
  }
 },
 "nbformat": 4,
 "nbformat_minor": 0
}