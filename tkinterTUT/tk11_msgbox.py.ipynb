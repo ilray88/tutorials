{
 "cells": [
  {
   "cell_type": "code",
   "execution_count": 1,
   "metadata": {
    "collapsed": true
   },
   "outputs": [
    {
     "name": "stderr",
     "output_type": "stream",
     "text": [
      "Exception in Tkinter callback\n",
      "Traceback (most recent call last):\n",
      "  File \"d:\\0ilraypan\\python_work\\env\\tensorflow=1.14\\lib\\tkinter\\__init__.py\", line 1705, in __call__\n",
      "    return self.func(*args)\n",
      "  File \"<ipython-input-1-9df3e94b376f>\", line 19, in hit_me\n",
      "    print(tk.messagebox.asktrycancel(title='Hi', message='hahahaha'))   # return True, False\n",
      "AttributeError: module 'tkinter.messagebox' has no attribute 'asktrycancel'\n",
      "Exception in Tkinter callback\n",
      "Traceback (most recent call last):\n",
      "  File \"d:\\0ilraypan\\python_work\\env\\tensorflow=1.14\\lib\\tkinter\\__init__.py\", line 1705, in __call__\n",
      "    return self.func(*args)\n",
      "  File \"<ipython-input-1-9df3e94b376f>\", line 19, in hit_me\n",
      "    print(tk.messagebox.asktrycancel(title='Hi', message='hahahaha'))   # return True, False\n",
      "AttributeError: module 'tkinter.messagebox' has no attribute 'asktrycancel'\n",
      "Exception in Tkinter callback\n",
      "Traceback (most recent call last):\n",
      "  File \"d:\\0ilraypan\\python_work\\env\\tensorflow=1.14\\lib\\tkinter\\__init__.py\", line 1705, in __call__\n",
      "    return self.func(*args)\n",
      "  File \"<ipython-input-1-9df3e94b376f>\", line 19, in hit_me\n",
      "    print(tk.messagebox.asktrycancel(title='Hi', message='hahahaha'))   # return True, False\n",
      "AttributeError: module 'tkinter.messagebox' has no attribute 'asktrycancel'\n",
      "Exception in Tkinter callback\n",
      "Traceback (most recent call last):\n",
      "  File \"d:\\0ilraypan\\python_work\\env\\tensorflow=1.14\\lib\\tkinter\\__init__.py\", line 1705, in __call__\n",
      "    return self.func(*args)\n",
      "  File \"<ipython-input-1-9df3e94b376f>\", line 19, in hit_me\n",
      "    print(tk.messagebox.asktrycancel(title='Hi', message='hahahaha'))   # return True, False\n",
      "AttributeError: module 'tkinter.messagebox' has no attribute 'asktrycancel'\n",
      "Exception in Tkinter callback\n",
      "Traceback (most recent call last):\n",
      "  File \"d:\\0ilraypan\\python_work\\env\\tensorflow=1.14\\lib\\tkinter\\__init__.py\", line 1705, in __call__\n",
      "    return self.func(*args)\n",
      "  File \"<ipython-input-1-9df3e94b376f>\", line 19, in hit_me\n",
      "    print(tk.messagebox.asktrycancel(title='Hi', message='hahahaha'))   # return True, False\n",
      "AttributeError: module 'tkinter.messagebox' has no attribute 'asktrycancel'\n"
     ]
    }
   ],
   "source": [
    "# View more python learning tutorial on my Youtube and Youku channel!!!\n",
    "\n",
    "# Youtube video tutorial: https://www.youtube.com/channel/UCdyjiB5H8Pu7aDTNVXTTpcg\n",
    "# Youku video tutorial: http://i.youku.com/pythontutorial\n",
    "\n",
    "import tkinter as tk\n",
    "import tkinter.messagebox\n",
    "\n",
    "window = tk.Tk()\n",
    "window.title('my window')\n",
    "window.geometry('200x200')\n",
    "\n",
    "def hit_me():\n",
    "    #tk.messagebox.showinfo(title='Hi', message='hahahaha')   # return 'ok'\n",
    "    #tk.messagebox.showwarning(title='Hi', message='nononono')   # return 'ok'\n",
    "    #tk.messagebox.showerror(title='Hi', message='No!! never')   # return 'ok'\n",
    "    #print(tk.messagebox.askquestion(title='Hi', message='hahahaha'))   # return 'yes' , 'no'\n",
    "    #print(tk.messagebox.askyesno(title='Hi', message='hahahaha'))   # return True, False\n",
    "    print(tk.messagebox.asktrycancel(title='Hi', message='hahahaha'))   # return True, False\n",
    "    print(tk.messagebox.askokcancel(title='Hi', message='hahahaha'))   # return True, False\n",
    "    print(tk.messagebox.askyesnocancel(title=\"Hi\", message=\"haha\"))     # return, True, False, None\n",
    "\n",
    "tk.Button(window, text='hit me', command=hit_me).pack()\n",
    "window.mainloop()\n",
    "\n",
    "\n",
    "\n",
    "\n",
    "\n",
    "\n",
    "\n",
    "\n",
    "\n"
   ]
  }
 ],
 "metadata": {
  "kernelspec": {
   "display_name": "Python 3",
   "language": "python",
   "name": "python3"
  },
  "language_info": {
   "codemirror_mode": {
    "name": "ipython",
    "version": 2
   },
   "file_extension": ".py",
   "mimetype": "text/x-python",
   "name": "python",
   "nbconvert_exporter": "python",
   "pygments_lexer": "ipython2",
   "version": "2.7.6"
  }
 },
 "nbformat": 4,
 "nbformat_minor": 0
}