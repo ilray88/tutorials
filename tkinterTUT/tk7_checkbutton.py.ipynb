{
 "cells": [
  {
   "cell_type": "code",
   "execution_count": 1,
   "metadata": {
    "collapsed": true
   },
   "outputs": [],
   "source": [
    "# View more python learning tutorial on my Youtube and Youku channel!!!\n",
    "\n",
    "# Youtube video tutorial: https://www.youtube.com/channel/UCdyjiB5H8Pu7aDTNVXTTpcg\n",
    "# Youku video tutorial: http://i.youku.com/pythontutorial\n",
    "\n",
    "import tkinter as tk\n",
    "\n",
    "window = tk.Tk()\n",
    "window.title('my window')\n",
    "window.geometry('200x200')\n",
    "\n",
    "l = tk.Label(window, bg='yellow', width=20, text='empty')\n",
    "l.pack()\n",
    "\n",
    "def print_selection():\n",
    "    if (var1.get() == 1) & (var2.get() == 0):\n",
    "        l.config(text='I love only Python ')\n",
    "    elif (var1.get() == 0) & (var2.get() == 1):\n",
    "        l.config(text='I love only C++')\n",
    "    elif (var1.get() == 0) & (var2.get() == 0):\n",
    "        l.config(text='I do not love either')\n",
    "    else:\n",
    "        l.config(text='I love both')\n",
    "\n",
    "var1 = tk.IntVar()\n",
    "var2 = tk.IntVar()\n",
    "c1 = tk.Checkbutton(window, text='Python', variable=var1, onvalue=1, offvalue=0,\n",
    "                    command=print_selection)\n",
    "c2 = tk.Checkbutton(window, text='C++', variable=var2, onvalue=1, offvalue=0,\n",
    "                    command=print_selection)\n",
    "c1.pack()\n",
    "c2.pack()\n",
    "\n",
    "\n",
    "window.mainloop()\n",
    "\n"
   ]
  }
 ],
 "metadata": {
  "kernelspec": {
   "display_name": "Python 3",
   "language": "python",
   "name": "python3"
  },
  "language_info": {
   "codemirror_mode": {
    "name": "ipython",
    "version": 2
   },
   "file_extension": ".py",
   "mimetype": "text/x-python",
   "name": "python",
   "nbconvert_exporter": "python",
   "pygments_lexer": "ipython2",
   "version": "2.7.6"
  }
 },
 "nbformat": 4,
 "nbformat_minor": 0
}