{
 "cells": [
  {
   "cell_type": "markdown",
   "metadata": {
    "collapsed": true,
    "pycharm": {
     "name": "#%% md\n"
    }
   },
   "source": [
    "# 做一个 Viewer"
   ]
  },
  {
   "cell_type": "code",
   "execution_count": 3,
   "outputs": [],
   "source": [
    "import numpy as np\n",
    "import pyglet\n",
    "\n",
    "\n",
    "class ArmEnv(object):\n",
    "    viewer = None\n",
    "\n",
    "    def __init__(self):\n",
    "        pass\n",
    "\n",
    "    def step(self, action):\n",
    "        pass\n",
    "\n",
    "    def reset(self):\n",
    "        pass\n",
    "\n",
    "    def render(self):\n",
    "        if self.viewer is None:\n",
    "            self.viewer = Viewer()\n",
    "        self.viewer.render()"
   ],
   "metadata": {
    "collapsed": false,
    "pycharm": {
     "name": "#%%\n"
    }
   }
  },
  {
   "cell_type": "code",
   "execution_count": 4,
   "outputs": [],
   "source": [
    "class Viewer(pyglet.window.Window):\n",
    "    bar_thc = 5     # 手臂的厚度\n",
    "\n",
    "    def __init__(self):\n",
    "        # 创建窗口的继承\n",
    "        # vsync 如果是 True, 按屏幕频率刷新, 反之不按那个频率\n",
    "        super(Viewer, self).__init__(width=400, height=400, resizable=False, caption='Arm', vsync=False)\n",
    "\n",
    "        # 窗口背景颜色\n",
    "        pyglet.gl.glClearColor(1, 1, 1, 1)\n",
    "\n",
    "        # 将手臂的作图信息放入这个 batch\n",
    "        self.batch = pyglet.graphics.Batch()    # display whole batch at once\n",
    "\n",
    "        # 添加蓝点\n",
    "        self.point = self.batch.add(\n",
    "            4, pyglet.gl.GL_QUADS, None,    # 4 corners\n",
    "            ('v2f', [50, 50,                # x1, y1\n",
    "                     50, 100,               # x2, y2\n",
    "                     100, 100,              # x3, y3\n",
    "                     100, 50]),             # x4, y4\n",
    "            ('c3B', (86, 109, 249) * 4))    # color\n",
    "\n",
    "        # 添加一条手臂\n",
    "        self.arm1 = self.batch.add(\n",
    "            4, pyglet.gl.GL_QUADS, None,\n",
    "            ('v2f', [250, 250,              # 同上, 点信息\n",
    "                     250, 300,\n",
    "                     260, 300,\n",
    "                     260, 250]),\n",
    "            ('c3B', (249, 86, 86) * 4,))    # color\n",
    "        self.arm2 = self.batch.add(\n",
    "            4, pyglet.gl.GL_QUADS, None,\n",
    "            ('v2f', [100, 150,              # location\n",
    "                     100, 160,\n",
    "                     200, 160,\n",
    "                     200, 150]), ('c3B', (249, 86, 86) * 4,))\n",
    "\n",
    "    def render(self):\n",
    "        self._update_arm()  # 更新手臂内容 (暂时没有变化)\n",
    "        self.switch_to()\n",
    "        self.dispatch_events()\n",
    "        self.dispatch_event('on_draw')\n",
    "        self.flip()\n",
    "\n",
    "    def on_draw(self):\n",
    "        self.clear()        # 清屏\n",
    "        self.batch.draw()   # 画上 batch 里面的内容\n",
    "\n",
    "    def _update_arm(self):\n",
    "        pass"
   ],
   "metadata": {
    "collapsed": false,
    "pycharm": {
     "name": "#%%\n"
    }
   }
  },
  {
   "cell_type": "code",
   "execution_count": 5,
   "outputs": [
    {
     "ename": "KeyboardInterrupt",
     "evalue": "",
     "output_type": "error",
     "traceback": [
      "\u001B[1;31m---------------------------------------------------------------------------\u001B[0m",
      "\u001B[1;31mKeyboardInterrupt\u001B[0m                         Traceback (most recent call last)",
      "\u001B[1;32m<ipython-input-5-cf3e69cfc24d>\u001B[0m in \u001B[0;36m<module>\u001B[1;34m\u001B[0m\n\u001B[0;32m      2\u001B[0m     \u001B[0menv\u001B[0m \u001B[1;33m=\u001B[0m \u001B[0mArmEnv\u001B[0m\u001B[1;33m(\u001B[0m\u001B[1;33m)\u001B[0m\u001B[1;33m\u001B[0m\u001B[1;33m\u001B[0m\u001B[0m\n\u001B[0;32m      3\u001B[0m     \u001B[1;32mwhile\u001B[0m \u001B[1;32mTrue\u001B[0m\u001B[1;33m:\u001B[0m\u001B[1;33m\u001B[0m\u001B[1;33m\u001B[0m\u001B[0m\n\u001B[1;32m----> 4\u001B[1;33m         \u001B[0menv\u001B[0m\u001B[1;33m.\u001B[0m\u001B[0mrender\u001B[0m\u001B[1;33m(\u001B[0m\u001B[1;33m)\u001B[0m\u001B[1;33m\u001B[0m\u001B[1;33m\u001B[0m\u001B[0m\n\u001B[0m",
      "\u001B[1;32m<ipython-input-3-bc194042b275>\u001B[0m in \u001B[0;36mrender\u001B[1;34m(self)\u001B[0m\n\u001B[0;32m     18\u001B[0m         \u001B[1;32mif\u001B[0m \u001B[0mself\u001B[0m\u001B[1;33m.\u001B[0m\u001B[0mviewer\u001B[0m \u001B[1;32mis\u001B[0m \u001B[1;32mNone\u001B[0m\u001B[1;33m:\u001B[0m\u001B[1;33m\u001B[0m\u001B[1;33m\u001B[0m\u001B[0m\n\u001B[0;32m     19\u001B[0m             \u001B[0mself\u001B[0m\u001B[1;33m.\u001B[0m\u001B[0mviewer\u001B[0m \u001B[1;33m=\u001B[0m \u001B[0mViewer\u001B[0m\u001B[1;33m(\u001B[0m\u001B[1;33m)\u001B[0m\u001B[1;33m\u001B[0m\u001B[1;33m\u001B[0m\u001B[0m\n\u001B[1;32m---> 20\u001B[1;33m         \u001B[0mself\u001B[0m\u001B[1;33m.\u001B[0m\u001B[0mviewer\u001B[0m\u001B[1;33m.\u001B[0m\u001B[0mrender\u001B[0m\u001B[1;33m(\u001B[0m\u001B[1;33m)\u001B[0m\u001B[1;33m\u001B[0m\u001B[1;33m\u001B[0m\u001B[0m\n\u001B[0m",
      "\u001B[1;32m<ipython-input-4-b6768b864a12>\u001B[0m in \u001B[0;36mrender\u001B[1;34m(self)\u001B[0m\n\u001B[0;32m     34\u001B[0m         \u001B[0mself\u001B[0m\u001B[1;33m.\u001B[0m\u001B[0mdispatch_events\u001B[0m\u001B[1;33m(\u001B[0m\u001B[1;33m)\u001B[0m\u001B[1;33m\u001B[0m\u001B[1;33m\u001B[0m\u001B[0m\n\u001B[0;32m     35\u001B[0m         \u001B[0mself\u001B[0m\u001B[1;33m.\u001B[0m\u001B[0mdispatch_event\u001B[0m\u001B[1;33m(\u001B[0m\u001B[1;34m'on_draw'\u001B[0m\u001B[1;33m)\u001B[0m\u001B[1;33m\u001B[0m\u001B[1;33m\u001B[0m\u001B[0m\n\u001B[1;32m---> 36\u001B[1;33m         \u001B[0mself\u001B[0m\u001B[1;33m.\u001B[0m\u001B[0mflip\u001B[0m\u001B[1;33m(\u001B[0m\u001B[1;33m)\u001B[0m\u001B[1;33m\u001B[0m\u001B[1;33m\u001B[0m\u001B[0m\n\u001B[0m\u001B[0;32m     37\u001B[0m \u001B[1;33m\u001B[0m\u001B[0m\n\u001B[0;32m     38\u001B[0m     \u001B[1;32mdef\u001B[0m \u001B[0mon_draw\u001B[0m\u001B[1;33m(\u001B[0m\u001B[0mself\u001B[0m\u001B[1;33m)\u001B[0m\u001B[1;33m:\u001B[0m\u001B[1;33m\u001B[0m\u001B[1;33m\u001B[0m\u001B[0m\n",
      "\u001B[1;32md:\\0ilraypan\\python_work\\env\\tensorflow=1.14\\lib\\site-packages\\pyglet\\window\\win32\\__init__.py\u001B[0m in \u001B[0;36mflip\u001B[1;34m(self)\u001B[0m\n\u001B[0;32m    378\u001B[0m             \u001B[0mself\u001B[0m\u001B[1;33m.\u001B[0m\u001B[0mupdate_transparency\u001B[0m\u001B[1;33m(\u001B[0m\u001B[1;33m)\u001B[0m\u001B[1;33m\u001B[0m\u001B[1;33m\u001B[0m\u001B[0m\n\u001B[0;32m    379\u001B[0m \u001B[1;33m\u001B[0m\u001B[0m\n\u001B[1;32m--> 380\u001B[1;33m         \u001B[0mself\u001B[0m\u001B[1;33m.\u001B[0m\u001B[0mcontext\u001B[0m\u001B[1;33m.\u001B[0m\u001B[0mflip\u001B[0m\u001B[1;33m(\u001B[0m\u001B[1;33m)\u001B[0m\u001B[1;33m\u001B[0m\u001B[1;33m\u001B[0m\u001B[0m\n\u001B[0m\u001B[0;32m    381\u001B[0m \u001B[1;33m\u001B[0m\u001B[0m\n\u001B[0;32m    382\u001B[0m     \u001B[1;32mdef\u001B[0m \u001B[0mset_location\u001B[0m\u001B[1;33m(\u001B[0m\u001B[0mself\u001B[0m\u001B[1;33m,\u001B[0m \u001B[0mx\u001B[0m\u001B[1;33m,\u001B[0m \u001B[0my\u001B[0m\u001B[1;33m)\u001B[0m\u001B[1;33m:\u001B[0m\u001B[1;33m\u001B[0m\u001B[1;33m\u001B[0m\u001B[0m\n",
      "\u001B[1;32md:\\0ilraypan\\python_work\\env\\tensorflow=1.14\\lib\\site-packages\\pyglet\\gl\\win32.py\u001B[0m in \u001B[0;36mflip\u001B[1;34m(self)\u001B[0m\n\u001B[0;32m    250\u001B[0m \u001B[1;33m\u001B[0m\u001B[0m\n\u001B[0;32m    251\u001B[0m     \u001B[1;32mdef\u001B[0m \u001B[0mflip\u001B[0m\u001B[1;33m(\u001B[0m\u001B[0mself\u001B[0m\u001B[1;33m)\u001B[0m\u001B[1;33m:\u001B[0m\u001B[1;33m\u001B[0m\u001B[1;33m\u001B[0m\u001B[0m\n\u001B[1;32m--> 252\u001B[1;33m         \u001B[0m_gdi32\u001B[0m\u001B[1;33m.\u001B[0m\u001B[0mSwapBuffers\u001B[0m\u001B[1;33m(\u001B[0m\u001B[0mself\u001B[0m\u001B[1;33m.\u001B[0m\u001B[0mcanvas\u001B[0m\u001B[1;33m.\u001B[0m\u001B[0mhdc\u001B[0m\u001B[1;33m)\u001B[0m\u001B[1;33m\u001B[0m\u001B[1;33m\u001B[0m\u001B[0m\n\u001B[0m\u001B[0;32m    253\u001B[0m \u001B[1;33m\u001B[0m\u001B[0m\n\u001B[0;32m    254\u001B[0m     \u001B[1;32mdef\u001B[0m \u001B[0mget_vsync\u001B[0m\u001B[1;33m(\u001B[0m\u001B[0mself\u001B[0m\u001B[1;33m)\u001B[0m\u001B[1;33m:\u001B[0m\u001B[1;33m\u001B[0m\u001B[1;33m\u001B[0m\u001B[0m\n",
      "\u001B[1;31mKeyboardInterrupt\u001B[0m: "
     ]
    }
   ],
   "source": [
    "if __name__ == '__main__':\n",
    "    env = ArmEnv()\n",
    "    while True:\n",
    "        env.render()"
   ],
   "metadata": {
    "collapsed": false,
    "pycharm": {
     "name": "#%%\n"
    }
   }
  }
 ],
 "metadata": {
  "kernelspec": {
   "display_name": "Python 3",
   "language": "python",
   "name": "python3"
  },
  "language_info": {
   "codemirror_mode": {
    "name": "ipython",
    "version": 2
   },
   "file_extension": ".py",
   "mimetype": "text/x-python",
   "name": "python",
   "nbconvert_exporter": "python",
   "pygments_lexer": "ipython2",
   "version": "2.7.6"
  }
 },
 "nbformat": 4,
 "nbformat_minor": 0
}