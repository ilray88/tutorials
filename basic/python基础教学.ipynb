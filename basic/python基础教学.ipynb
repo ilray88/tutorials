{
 "cells": [
  {
   "cell_type": "markdown",
   "source": [
    "# 安装\n",
    "## 1.1 安装\n",
    "#### 基本使用"
   ],
   "metadata": {
    "collapsed": false
   }
  },
  {
   "cell_type": "markdown",
   "source": [
    "# 2.1 print 功能\n",
    "## print 功能\n",
    "#### print 字符串"
   ],
   "metadata": {
    "collapsed": false
   }
  },
  {
   "cell_type": "code",
   "execution_count": 277,
   "outputs": [
    {
     "name": "stdout",
     "output_type": "stream",
     "text": [
      "hello world\n",
      "hello world 2\n"
     ]
    }
   ],
   "source": [
    "print('hello world')\n",
    "print(\"hello world 2\")"
   ],
   "metadata": {
    "collapsed": false,
    "pycharm": {
     "name": "#%%\n"
    }
   }
  },
  {
   "cell_type": "markdown",
   "source": [
    "#### print 字符串叠加"
   ],
   "metadata": {
    "collapsed": false
   }
  },
  {
   "cell_type": "code",
   "execution_count": 278,
   "outputs": [
    {
     "name": "stdout",
     "output_type": "stream",
     "text": [
      "Hello world Hello Hong Kong\n"
     ]
    }
   ],
   "source": [
    "print('Hello world'+' Hello Hong Kong')"
   ],
   "metadata": {
    "collapsed": false,
    "pycharm": {
     "name": "#%%\n"
    }
   }
  },
  {
   "cell_type": "markdown",
   "source": [
    "#### 简单运算"
   ],
   "metadata": {
    "collapsed": false
   }
  },
  {
   "cell_type": "code",
   "execution_count": 279,
   "outputs": [
    {
     "name": "stdout",
     "output_type": "stream",
     "text": [
      "2\n",
      "2\n",
      "12\n",
      "3.0\n"
     ]
    }
   ],
   "source": [
    "print(1+1)\n",
    "print(3-1)\n",
    "print(3*4)\n",
    "print(12/4)"
   ],
   "metadata": {
    "collapsed": false,
    "pycharm": {
     "name": "#%%\n"
    }
   }
  },
  {
   "cell_type": "raw",
   "source": [
    "print('iphone'+4) #字符串不可以直接和数字相加\n",
    "\"\"\"\n",
    "Traceback (most recent call last):\n",
    "  File \"<pyshell#10>\", line 1, in <module>\n",
    "    print('iphone'+4)\n",
    "TypeError: Can't convert 'int' object to str implicitly\n",
    "\"\"\""
   ],
   "metadata": {
    "collapsed": false
   }
  },
  {
   "cell_type": "code",
   "execution_count": 280,
   "outputs": [
    {
     "name": "stdout",
     "output_type": "stream",
     "text": [
      "5\n",
      "1\n",
      "4.2\n"
     ]
    }
   ],
   "source": [
    "print(int('2')+3) #int为定义整数型\n",
    "print(int(1.9))  #当int一个浮点型数时，int会保留整数部分\n",
    "print(float('1.2')+3) #float()是浮点型，可以把字符串转换成小数"
   ],
   "metadata": {
    "collapsed": false,
    "pycharm": {
     "name": "#%%\n"
    }
   }
  },
  {
   "cell_type": "markdown",
   "source": [
    "## 2.2 基础数学运算"
   ],
   "metadata": {
    "collapsed": false
   }
  },
  {
   "cell_type": "markdown",
   "source": [
    "#### 基本的加减乘除"
   ],
   "metadata": {
    "collapsed": false,
    "pycharm": {
     "name": "#%% md\n"
    }
   }
  },
  {
   "cell_type": "code",
   "execution_count": 281,
   "outputs": [
    {
     "data": {
      "text/plain": "2"
     },
     "execution_count": 281,
     "metadata": {},
     "output_type": "execute_result"
    }
   ],
   "source": [
    "1+1"
   ],
   "metadata": {
    "collapsed": false,
    "pycharm": {
     "name": "#%%\n"
    }
   }
  },
  {
   "cell_type": "code",
   "execution_count": 282,
   "outputs": [
    {
     "data": {
      "text/plain": "1"
     },
     "execution_count": 282,
     "metadata": {},
     "output_type": "execute_result"
    }
   ],
   "source": [
    "2-1"
   ],
   "metadata": {
    "collapsed": false,
    "pycharm": {
     "name": "#%%\n"
    }
   }
  },
  {
   "cell_type": "code",
   "execution_count": 283,
   "outputs": [
    {
     "data": {
      "text/plain": "6"
     },
     "execution_count": 283,
     "metadata": {},
     "output_type": "execute_result"
    }
   ],
   "source": [
    "2*3"
   ],
   "metadata": {
    "collapsed": false,
    "pycharm": {
     "name": "#%%\n"
    }
   }
  },
  {
   "cell_type": "code",
   "execution_count": 284,
   "outputs": [
    {
     "data": {
      "text/plain": "1.3333333333333333"
     },
     "execution_count": 284,
     "metadata": {},
     "output_type": "execute_result"
    }
   ],
   "source": [
    "4/3"
   ],
   "metadata": {
    "collapsed": false,
    "pycharm": {
     "name": "#%%\n"
    }
   }
  },
  {
   "cell_type": "markdown",
   "source": [
    "#### ^ 与 **"
   ],
   "metadata": {
    "collapsed": false,
    "pycharm": {
     "name": "#%% md\n"
    }
   }
  },
  {
   "cell_type": "code",
   "execution_count": 285,
   "outputs": [
    {
     "data": {
      "text/plain": "9"
     },
     "execution_count": 285,
     "metadata": {},
     "output_type": "execute_result"
    }
   ],
   "source": [
    "3**2"
   ],
   "metadata": {
    "collapsed": false,
    "pycharm": {
     "name": "#%%\n"
    }
   }
  },
  {
   "cell_type": "code",
   "execution_count": 286,
   "outputs": [
    {
     "data": {
      "text/plain": "27"
     },
     "execution_count": 286,
     "metadata": {},
     "output_type": "execute_result"
    }
   ],
   "source": [
    "3**3"
   ],
   "metadata": {
    "collapsed": false,
    "pycharm": {
     "name": "#%%\n"
    }
   }
  },
  {
   "cell_type": "code",
   "execution_count": 287,
   "outputs": [
    {
     "data": {
      "text/plain": "81"
     },
     "execution_count": 287,
     "metadata": {},
     "output_type": "execute_result"
    }
   ],
   "source": [
    "3**4"
   ],
   "metadata": {
    "collapsed": false,
    "pycharm": {
     "name": "#%%\n"
    }
   }
  },
  {
   "cell_type": "markdown",
   "source": [
    "#### 取余数 %"
   ],
   "metadata": {
    "collapsed": false,
    "pycharm": {
     "name": "#%% md\n"
    }
   }
  },
  {
   "cell_type": "code",
   "execution_count": 288,
   "outputs": [
    {
     "data": {
      "text/plain": "2"
     },
     "execution_count": 288,
     "metadata": {},
     "output_type": "execute_result"
    }
   ],
   "source": [
    "8%3"
   ],
   "metadata": {
    "collapsed": false,
    "pycharm": {
     "name": "#%%\n"
    }
   }
  },
  {
   "cell_type": "markdown",
   "source": [
    "## 2.3 变量 variable\n",
    "#### 自变量命名规则"
   ],
   "metadata": {
    "collapsed": false
   }
  },
  {
   "cell_type": "code",
   "execution_count": 289,
   "outputs": [
    {
     "name": "stdout",
     "output_type": "stream",
     "text": [
      "1\n",
      "iphone 7 plus\n",
      "iphone 7 plus and new macbook\n",
      "11 12 13\n"
     ]
    }
   ],
   "source": [
    "apple=1       #赋值 数字\n",
    "print(apple)\n",
    "\n",
    "apple='iphone 7 plus'   #赋值 字符串\n",
    "print(apple)\n",
    "\n",
    "apple_2016='iphone 7 plus and new macbook'\n",
    "print(apple_2016)\n",
    "\n",
    "a,b,c=11,12,13\n",
    "print(a,b,c)"
   ],
   "metadata": {
    "collapsed": false,
    "pycharm": {
     "name": "#%%\n"
    }
   }
  },
  {
   "cell_type": "markdown",
   "source": [
    "# while 和 for 循环\n",
    "## 3.1 while 循环\n",
    "#### 基本使用"
   ],
   "metadata": {
    "collapsed": false
   }
  },
  {
   "cell_type": "raw",
   "source": [
    "while condition:\n",
    "    expressions"
   ],
   "metadata": {
    "collapsed": false,
    "pycharm": {
     "name": "#%% raw\n"
    }
   }
  },
  {
   "cell_type": "markdown",
   "source": [
    "#### 实例"
   ],
   "metadata": {
    "collapsed": false
   }
  },
  {
   "cell_type": "code",
   "execution_count": 290,
   "outputs": [
    {
     "name": "stdout",
     "output_type": "stream",
     "text": [
      "0\n",
      "1\n",
      "2\n",
      "3\n",
      "4\n",
      "5\n",
      "6\n",
      "7\n",
      "8\n",
      "9\n"
     ]
    }
   ],
   "source": [
    "condition = 0\n",
    "while condition < 10:\n",
    "    print(condition)\n",
    "    condition = condition + 1"
   ],
   "metadata": {
    "collapsed": false,
    "pycharm": {
     "name": "#%%\n"
    }
   }
  },
  {
   "cell_type": "markdown",
   "source": [
    "#### 注意点"
   ],
   "metadata": {
    "collapsed": false
   }
  },
  {
   "cell_type": "raw",
   "source": [
    "在使用 while 句法的时候一定要注意在循环内部一定要修改判断条件的值，否则程序的 while 部分 将永远执行下去。\n",
    "while True:\n",
    "    print(\"I'm True\")"
   ],
   "metadata": {
    "collapsed": false,
    "pycharm": {
     "name": "#%% raw\n"
    }
   }
  },
  {
   "cell_type": "markdown",
   "source": [
    "#### 高级主题"
   ],
   "metadata": {
    "collapsed": false
   }
  },
  {
   "cell_type": "markdown",
   "source": [
    "##### 1 数字"
   ],
   "metadata": {
    "collapsed": false
   }
  },
  {
   "cell_type": "code",
   "execution_count": 291,
   "outputs": [
    {
     "name": "stdout",
     "output_type": "stream",
     "text": [
      "10\n",
      "9\n",
      "8\n",
      "7\n",
      "6\n",
      "5\n",
      "4\n",
      "3\n",
      "2\n",
      "1\n"
     ]
    }
   ],
   "source": [
    "condiiton = 10\n",
    "while condiiton:\n",
    "    print(condiiton)\n",
    "    condiiton -= 1"
   ],
   "metadata": {
    "collapsed": false,
    "pycharm": {
     "name": "#%%\n"
    }
   }
  },
  {
   "cell_type": "markdown",
   "source": [
    "##### 2 None 类型"
   ],
   "metadata": {
    "collapsed": false
   }
  },
  {
   "cell_type": "markdown",
   "source": [
    "##### 3 集合类型"
   ],
   "metadata": {
    "collapsed": false
   }
  },
  {
   "cell_type": "code",
   "execution_count": 292,
   "outputs": [
    {
     "name": "stdout",
     "output_type": "stream",
     "text": [
      "9\n",
      "8\n",
      "7\n",
      "6\n",
      "5\n",
      "4\n",
      "3\n",
      "2\n",
      "1\n",
      "0\n"
     ]
    }
   ],
   "source": [
    "a = range(10)\n",
    "while a:\n",
    "    print(a[-1])\n",
    "    a = a[:len(a)-1]"
   ],
   "metadata": {
    "collapsed": false,
    "pycharm": {
     "name": "#%%\n"
    }
   }
  },
  {
   "cell_type": "markdown",
   "source": [
    "## 3.2 for 循环"
   ],
   "metadata": {
    "collapsed": false
   }
  },
  {
   "cell_type": "markdown",
   "source": [
    "### 基本使用"
   ],
   "metadata": {
    "collapsed": false
   }
  },
  {
   "cell_type": "raw",
   "source": [
    "for item in sequence:\n",
    "    expressions"
   ],
   "metadata": {
    "collapsed": false
   }
  },
  {
   "cell_type": "markdown",
   "source": [
    "### 实例"
   ],
   "metadata": {
    "collapsed": false,
    "pycharm": {
     "name": "#%% md\n"
    }
   }
  },
  {
   "cell_type": "code",
   "execution_count": 293,
   "outputs": [
    {
     "name": "stdout",
     "output_type": "stream",
     "text": [
      "1\n",
      "2\n",
      "3\n",
      "4\n",
      "5\n",
      "6\n",
      "7\n",
      "12\n",
      "543\n",
      "876\n",
      "12\n",
      "3\n",
      "2\n",
      "5\n"
     ]
    }
   ],
   "source": [
    "example_list = [1,2,3,4,5,6,7,12,543,876,12,3,2,5]\n",
    "for i in example_list:\n",
    "    print(i)"
   ],
   "metadata": {
    "collapsed": false,
    "pycharm": {
     "name": "#%%\n"
    }
   }
  },
  {
   "cell_type": "code",
   "execution_count": 294,
   "outputs": [
    {
     "name": "stdout",
     "output_type": "stream",
     "text": [
      "1\n",
      "inner of for\n",
      "2\n",
      "inner of for\n",
      "3\n",
      "inner of for\n",
      "4\n",
      "inner of for\n",
      "5\n",
      "inner of for\n",
      "6\n",
      "inner of for\n",
      "7\n",
      "inner of for\n",
      "12\n",
      "inner of for\n",
      "543\n",
      "inner of for\n",
      "876\n",
      "inner of for\n",
      "12\n",
      "inner of for\n",
      "3\n",
      "inner of for\n",
      "2\n",
      "inner of for\n",
      "5\n",
      "inner of for\n",
      "outer of for\n"
     ]
    }
   ],
   "source": [
    "example_list = [1,2,3,4,5,6,7,12,543,876,12,3,2,5]\n",
    "for i in example_list:\n",
    "    print(i)\n",
    "    print('inner of for')\n",
    "print('outer of for')"
   ],
   "metadata": {
    "collapsed": false,
    "pycharm": {
     "name": "#%%\n"
    }
   }
  },
  {
   "cell_type": "markdown",
   "source": [
    "### 进阶"
   ],
   "metadata": {
    "collapsed": false
   }
  },
  {
   "cell_type": "markdown",
   "source": [
    "#### range使用\n",
    "在 Python 内置了工厂函数，range 函数将会返回一个序列，总共有三种使用方法"
   ],
   "metadata": {
    "collapsed": false
   }
  },
  {
   "cell_type": "markdown",
   "source": [
    "##### 1 range(start, stop)"
   ],
   "metadata": {
    "collapsed": false
   }
  },
  {
   "cell_type": "code",
   "execution_count": 295,
   "outputs": [
    {
     "name": "stdout",
     "output_type": "stream",
     "text": [
      "1\n",
      "2\n",
      "3\n",
      "4\n",
      "5\n",
      "6\n",
      "7\n",
      "8\n",
      "9\n"
     ]
    }
   ],
   "source": [
    "for i in range(1, 10):\n",
    "    print(i)"
   ],
   "metadata": {
    "collapsed": false,
    "pycharm": {
     "name": "#%%\n"
    }
   }
  },
  {
   "cell_type": "markdown",
   "source": [
    "##### 2 range(stop)\n",
    "如果省略了 start 那么将从 0 开始，相当于 range(0, stop)"
   ],
   "metadata": {
    "collapsed": false
   }
  },
  {
   "cell_type": "code",
   "execution_count": 296,
   "outputs": [
    {
     "name": "stdout",
     "output_type": "stream",
     "text": [
      "0\n",
      "1\n",
      "2\n",
      "3\n",
      "4\n",
      "5\n",
      "6\n",
      "7\n",
      "8\n",
      "9\n"
     ]
    }
   ],
   "source": [
    "for i in range(10):\n",
    "    print(i)"
   ],
   "metadata": {
    "collapsed": false,
    "pycharm": {
     "name": "#%%\n"
    }
   }
  },
  {
   "cell_type": "markdown",
   "source": [
    "##### 3 range(start, stop, step)"
   ],
   "metadata": {
    "collapsed": false
   }
  },
  {
   "cell_type": "code",
   "execution_count": 297,
   "outputs": [
    {
     "name": "stdout",
     "output_type": "stream",
     "text": [
      "0\n",
      "5\n",
      "10\n"
     ]
    }
   ],
   "source": [
    "for i in range(0,13, 5):\n",
    "    print(i)"
   ],
   "metadata": {
    "collapsed": false,
    "pycharm": {
     "name": "#%%\n"
    }
   }
  },
  {
   "cell_type": "markdown",
   "source": [
    "### 高级主题"
   ],
   "metadata": {
    "collapsed": false
   }
  },
  {
   "cell_type": "markdown",
   "source": [
    "#### 4.1 内置集合"
   ],
   "metadata": {
    "collapsed": false
   }
  },
  {
   "cell_type": "markdown",
   "source": [
    "##### tuple 类型"
   ],
   "metadata": {
    "collapsed": false
   }
  },
  {
   "cell_type": "code",
   "execution_count": 298,
   "outputs": [
    {
     "name": "stdout",
     "output_type": "stream",
     "text": [
      "python\n",
      "2.7\n",
      "64\n"
     ]
    }
   ],
   "source": [
    "tup = ('python', 2.7, 64)\n",
    "for i in tup:\n",
    "    print(i)"
   ],
   "metadata": {
    "collapsed": false,
    "pycharm": {
     "name": "#%%\n"
    }
   }
  },
  {
   "cell_type": "markdown",
   "source": [
    "#### dictionary 类型"
   ],
   "metadata": {
    "collapsed": false
   }
  },
  {
   "cell_type": "code",
   "execution_count": 299,
   "outputs": [
    {
     "name": "stdout",
     "output_type": "stream",
     "text": [
      "lan python\n",
      "version 2.7\n",
      "platform 64\n"
     ]
    }
   ],
   "source": [
    "dic = {}\n",
    "dic['lan'] = 'python'\n",
    "dic['version'] = 2.7\n",
    "dic['platform'] = 64\n",
    "for key in dic:\n",
    "    print(key, dic[key])"
   ],
   "metadata": {
    "collapsed": false,
    "pycharm": {
     "name": "#%%\n"
    }
   }
  },
  {
   "cell_type": "markdown",
   "source": [
    "#### set 类型"
   ],
   "metadata": {
    "collapsed": false
   }
  },
  {
   "cell_type": "code",
   "execution_count": 300,
   "outputs": [
    {
     "name": "stdout",
     "output_type": "stream",
     "text": [
      "python3\n",
      "python\n",
      "python2\n"
     ]
    }
   ],
   "source": [
    "s = set(['python', 'python2', 'python3','python'])\n",
    "for item in s:\n",
    "    print(item)"
   ],
   "metadata": {
    "collapsed": false,
    "pycharm": {
     "name": "#%%\n"
    }
   }
  },
  {
   "cell_type": "markdown",
   "source": [
    "#### 4.2 迭代器"
   ],
   "metadata": {
    "collapsed": false
   }
  },
  {
   "cell_type": "code",
   "execution_count": 301,
   "outputs": [
    {
     "name": "stdout",
     "output_type": "stream",
     "text": [
      "1\n",
      "1\n",
      "2\n",
      "3\n",
      "5\n"
     ]
    }
   ],
   "source": [
    "# define a Fib class\n",
    "class Fib(object):\n",
    "    def __init__(self, max):\n",
    "        self.max = max\n",
    "        self.n, self.a, self.b = 0, 0, 1\n",
    "\n",
    "    def __iter__(self):\n",
    "        return self\n",
    "\n",
    "    def __next__(self):\n",
    "        if self.n < self.max:\n",
    "            r = self.b\n",
    "            self.a, self.b = self.b, self.a + self.b\n",
    "            self.n = self.n + 1\n",
    "            return r\n",
    "        raise StopIteration()\n",
    "\n",
    "# using Fib object\n",
    "for i in Fib(5):\n",
    "    print(i)"
   ],
   "metadata": {
    "collapsed": false,
    "pycharm": {
     "name": "#%%\n"
    }
   }
  },
  {
   "cell_type": "markdown",
   "source": [
    "#### 4.3 生成器"
   ],
   "metadata": {
    "collapsed": false
   }
  },
  {
   "cell_type": "code",
   "execution_count": 302,
   "outputs": [
    {
     "name": "stdout",
     "output_type": "stream",
     "text": [
      "1\n",
      "1\n",
      "2\n",
      "3\n",
      "5\n"
     ]
    }
   ],
   "source": [
    "def fib(max):\n",
    "    a, b = 0, 1\n",
    "    while max:\n",
    "        r = b\n",
    "        a, b = b, a+b\n",
    "        max -= 1\n",
    "        yield r\n",
    "\n",
    "# using generator\n",
    "for i in fib(5):\n",
    "    print(i)"
   ],
   "metadata": {
    "collapsed": false,
    "pycharm": {
     "name": "#%%\n"
    }
   }
  },
  {
   "cell_type": "markdown",
   "source": [
    "# if 判断\n",
    "## 4.1 if 判断"
   ],
   "metadata": {
    "collapsed": false
   }
  },
  {
   "cell_type": "markdown",
   "source": [
    "#### 基本使用"
   ],
   "metadata": {
    "collapsed": false
   }
  },
  {
   "cell_type": "raw",
   "source": [
    "if condition:\n",
    "    expressions"
   ],
   "metadata": {
    "collapsed": false
   }
  },
  {
   "cell_type": "markdown",
   "source": [
    "#### 实例"
   ],
   "metadata": {
    "collapsed": false
   }
  },
  {
   "cell_type": "code",
   "execution_count": 303,
   "outputs": [
    {
     "name": "stdout",
     "output_type": "stream",
     "text": [
      "x is less than y\n"
     ]
    }
   ],
   "source": [
    "x = 1\n",
    "y = 2\n",
    "z = 3\n",
    "if x < y:\n",
    "    print('x is less than y')"
   ],
   "metadata": {
    "collapsed": false,
    "pycharm": {
     "name": "#%%\n"
    }
   }
  },
  {
   "cell_type": "markdown",
   "source": [
    "#### 注意点"
   ],
   "metadata": {
    "collapsed": false
   }
  },
  {
   "cell_type": "raw",
   "source": [
    "x = 1\n",
    "y = 2\n",
    "z = 3\n",
    "if x = y:\n",
    "    print('x is equal to y')"
   ],
   "metadata": {
    "collapsed": false
   }
  },
  {
   "cell_type": "code",
   "execution_count": 304,
   "outputs": [
    {
     "name": "stdout",
     "output_type": "stream",
     "text": [
      "x is equal to y\n"
     ]
    }
   ],
   "source": [
    "x = 2\n",
    "y = 2\n",
    "z = 0\n",
    "if x == y:\n",
    "    print('x is equal to y')"
   ],
   "metadata": {
    "collapsed": false,
    "pycharm": {
     "name": "#%%\n"
    }
   }
  },
  {
   "cell_type": "markdown",
   "source": [
    "## 4.2 if else 判断"
   ],
   "metadata": {
    "collapsed": false
   }
  },
  {
   "cell_type": "markdown",
   "source": [
    "#### 基本使用"
   ],
   "metadata": {
    "collapsed": false
   }
  },
  {
   "cell_type": "raw",
   "source": [
    "if condition:\n",
    "    true_expressions\n",
    "else:\n",
    "    false_expressions"
   ],
   "metadata": {
    "collapsed": false,
    "pycharm": {
     "name": "#%% raw\n"
    }
   }
  },
  {
   "cell_type": "markdown",
   "source": [
    "#### 实例"
   ],
   "metadata": {
    "collapsed": false
   }
  },
  {
   "cell_type": "code",
   "execution_count": 305,
   "outputs": [
    {
     "name": "stdout",
     "output_type": "stream",
     "text": [
      "x is less or equal to y\n"
     ]
    }
   ],
   "source": [
    "x = 1\n",
    "y = 2\n",
    "z = 3\n",
    "if x > y:\n",
    "    print('x is greater than y')\n",
    "else:\n",
    "    print('x is less or equal to y')"
   ],
   "metadata": {
    "collapsed": false,
    "pycharm": {
     "name": "#%%\n"
    }
   }
  },
  {
   "cell_type": "code",
   "execution_count": 306,
   "outputs": [
    {
     "name": "stdout",
     "output_type": "stream",
     "text": [
      "x is greater than y\n"
     ]
    }
   ],
   "source": [
    "x = 4\n",
    "y = 2\n",
    "z = 3\n",
    "if x > y:\n",
    "    print('x is greater than y')\n",
    "else:\n",
    "    print('x is less or equal y')"
   ],
   "metadata": {
    "collapsed": false,
    "pycharm": {
     "name": "#%%\n"
    }
   }
  },
  {
   "cell_type": "markdown",
   "source": [
    "#### 高级主题"
   ],
   "metadata": {
    "collapsed": false
   }
  },
  {
   "cell_type": "raw",
   "source": [
    "var = var1 if condition else var2"
   ],
   "metadata": {
    "collapsed": false,
    "pycharm": {
     "name": "#%% raw\n"
    }
   }
  },
  {
   "cell_type": "code",
   "execution_count": 307,
   "outputs": [
    {
     "name": "stdout",
     "output_type": "stream",
     "text": [
      "done\n"
     ]
    }
   ],
   "source": [
    "worked = True\n",
    "result = 'done' if worked else 'not yet'\n",
    "print(result)"
   ],
   "metadata": {
    "collapsed": false,
    "pycharm": {
     "name": "#%%\n"
    }
   }
  },
  {
   "cell_type": "markdown",
   "source": [
    "## 4.3 if elif else 判断"
   ],
   "metadata": {
    "collapsed": false
   }
  },
  {
   "cell_type": "markdown",
   "source": [
    "#### 基本使用"
   ],
   "metadata": {
    "collapsed": false
   }
  },
  {
   "cell_type": "raw",
   "source": [
    "if condition1:\n",
    "    true1_expressions\n",
    "elif condition2:\n",
    "    true2_expressions\n",
    "elif condtion3:\n",
    "    true3_expressions\n",
    "elif ...\n",
    "    ...\n",
    "else:\n",
    "    else_expressions"
   ],
   "metadata": {
    "collapsed": false,
    "pycharm": {
     "name": "#%% raw\n"
    }
   }
  },
  {
   "cell_type": "markdown",
   "source": [
    "#### 实例"
   ],
   "metadata": {
    "collapsed": false
   }
  },
  {
   "cell_type": "code",
   "execution_count": 308,
   "outputs": [
    {
     "name": "stdout",
     "output_type": "stream",
     "text": [
      "x > 1\n",
      "finish\n"
     ]
    }
   ],
   "source": [
    "x = 4\n",
    "y = 2\n",
    "z = 3\n",
    "if x > 1:\n",
    "    print ('x > 1')\n",
    "elif x < 1:\n",
    "    print('x < 1')\n",
    "else:\n",
    "    print('x = 1')\n",
    "print('finish')"
   ],
   "metadata": {
    "collapsed": false,
    "pycharm": {
     "name": "#%%\n"
    }
   }
  },
  {
   "cell_type": "markdown",
   "source": [
    "# 定义功能\n",
    "## 5.1 def 函数"
   ],
   "metadata": {
    "collapsed": false
   }
  },
  {
   "cell_type": "markdown",
   "source": [
    "#### 基本使用"
   ],
   "metadata": {
    "collapsed": false
   }
  },
  {
   "cell_type": "raw",
   "source": [
    "def function_name(parameters):\n",
    "    expressions"
   ],
   "metadata": {
    "collapsed": false,
    "pycharm": {
     "name": "#%% raw\n"
    }
   }
  },
  {
   "cell_type": "markdown",
   "source": [
    "#### 实例"
   ],
   "metadata": {
    "collapsed": false
   }
  },
  {
   "cell_type": "code",
   "execution_count": 309,
   "outputs": [
    {
     "name": "stdout",
     "output_type": "stream",
     "text": [
      "This is a function\n",
      "3\n"
     ]
    }
   ],
   "source": [
    "def function():\n",
    "    print('This is a function')\n",
    "    a = 1+2\n",
    "    print(a)\n",
    "function()"
   ],
   "metadata": {
    "collapsed": false,
    "pycharm": {
     "name": "#%%\n"
    }
   }
  },
  {
   "cell_type": "markdown",
   "source": [
    "## 5.2 函数参数"
   ],
   "metadata": {
    "collapsed": false
   }
  },
  {
   "cell_type": "markdown",
   "source": [
    "#### 基本使用"
   ],
   "metadata": {
    "collapsed": false
   }
  },
  {
   "cell_type": "raw",
   "source": [
    "def function_name(parameters):\n",
    "    expressions"
   ],
   "metadata": {
    "collapsed": false,
    "pycharm": {
     "name": "#%% raw\n"
    }
   }
  },
  {
   "cell_type": "markdown",
   "source": [
    "#### 实例"
   ],
   "metadata": {
    "collapsed": false
   }
  },
  {
   "cell_type": "code",
   "execution_count": 310,
   "outputs": [
    {
     "name": "stdout",
     "output_type": "stream",
     "text": [
      "the c is  3\n",
      "the c is  5\n"
     ]
    }
   ],
   "source": [
    "def func(a, b):\n",
    "    c = a+b\n",
    "    print('the c is ', c)\n",
    "func(a=1, b=2),\n",
    "func(b=2,a=z )"
   ],
   "metadata": {
    "collapsed": false,
    "pycharm": {
     "name": "#%%\n"
    }
   }
  },
  {
   "cell_type": "markdown",
   "source": [
    "## 5.3 函数默认参数"
   ],
   "metadata": {
    "collapsed": false
   }
  },
  {
   "cell_type": "markdown",
   "source": [
    "#### 基本使用"
   ],
   "metadata": {
    "collapsed": false
   }
  },
  {
   "cell_type": "raw",
   "source": [
    "def function_name(para_1,...,para_n=defau_n,..., para_m=defau_m):\n",
    "    expressions"
   ],
   "metadata": {
    "collapsed": false,
    "pycharm": {
     "name": "#%% raw\n"
    }
   }
  },
  {
   "cell_type": "markdown",
   "source": [
    "#### 实例"
   ],
   "metadata": {
    "collapsed": false
   }
  },
  {
   "cell_type": "code",
   "execution_count": 311,
   "outputs": [
    {
     "name": "stdout",
     "output_type": "stream",
     "text": [
      "price 1000 color red brand carmy is_second_hand True\n",
      "price 1000 color red brand carmy is_second_hand True\n"
     ]
    }
   ],
   "source": [
    "def sale_car(price, color='red', brand='carmy', is_second_hand=True):\n",
    "    print('price', price,\n",
    "          'color', color,\n",
    "          'brand', brand,\n",
    "          'is_second_hand', is_second_hand,)\n",
    "sale_car(1000, 'red', 'carmy', True)\n",
    "sale_car(1000)"
   ],
   "metadata": {
    "collapsed": false,
    "pycharm": {
     "name": "#%%\n"
    }
   }
  },
  {
   "cell_type": "markdown",
   "source": [
    "#### 进阶"
   ],
   "metadata": {
    "collapsed": false
   }
  },
  {
   "cell_type": "code",
   "execution_count": 311,
   "outputs": [],
   "source": [],
   "metadata": {
    "collapsed": false,
    "pycharm": {
     "name": "#%%\n"
    }
   }
  },
  {
   "cell_type": "markdown",
   "source": [
    "#### 3.1 自调用"
   ],
   "metadata": {
    "collapsed": false
   }
  },
  {
   "cell_type": "raw",
   "source": [
    "if __name__ == '__main__':\n",
    "    #code_here"
   ],
   "metadata": {
    "collapsed": false,
    "pycharm": {
     "name": "#%% raw\n"
    }
   }
  },
  {
   "cell_type": "markdown",
   "source": [
    "#### 3.2 可变参数"
   ],
   "metadata": {
    "collapsed": false
   }
  },
  {
   "cell_type": "code",
   "execution_count": 312,
   "outputs": [
    {
     "name": "stdout",
     "output_type": "stream",
     "text": [
      "Mike total grade is  27\n",
      "Mike total grade is  17\n"
     ]
    }
   ],
   "source": [
    "def report(name, *grades):\n",
    "    total_grade = 0\n",
    "    for grade in grades:\n",
    "        total_grade += grade\n",
    "    print(name, 'total grade is ', total_grade)\n",
    "report('Mike', 8, 9, 10)\n",
    "report('Mike', 8, 9)"
   ],
   "metadata": {
    "collapsed": false,
    "pycharm": {
     "name": "#%%\n"
    }
   }
  },
  {
   "cell_type": "markdown",
   "source": [
    "#### 3.3 关键字参数"
   ],
   "metadata": {
    "collapsed": false
   }
  },
  {
   "cell_type": "code",
   "execution_count": 313,
   "outputs": [
    {
     "name": "stdout",
     "output_type": "stream",
     "text": [
      "name is Mike\n",
      "age 24\n",
      "country China\n",
      "education bachelor\n"
     ]
    }
   ],
   "source": [
    "def portrait(name, **kw):\n",
    "    print('name is', name)\n",
    "    for k,v in kw.items():\n",
    "        print(k, v)\n",
    "portrait('Mike', age=24, country='China', education='bachelor')"
   ],
   "metadata": {
    "collapsed": false,
    "pycharm": {
     "name": "#%%\n"
    }
   }
  },
  {
   "cell_type": "markdown",
   "source": [
    "# 变量形式\n",
    "## 6.1 全局 & 局部 变量"
   ],
   "metadata": {
    "collapsed": false
   }
  },
  {
   "cell_type": "markdown",
   "source": [
    "# 模块安装"
   ],
   "metadata": {
    "collapsed": false
   }
  },
  {
   "cell_type": "markdown",
   "source": [
    "#### 局部变量"
   ],
   "metadata": {
    "collapsed": false
   }
  },
  {
   "cell_type": "code",
   "execution_count": 314,
   "outputs": [
    {
     "name": "stdout",
     "output_type": "stream",
     "text": [
      "10\n",
      "110\n"
     ]
    }
   ],
   "source": [
    "def fun():\n",
    "    a = 10\n",
    "    print(a)\n",
    "    return a+100\n",
    "\n",
    "print(fun())"
   ],
   "metadata": {
    "collapsed": false,
    "pycharm": {
     "name": "#%%\n"
    }
   }
  },
  {
   "cell_type": "code",
   "execution_count": 315,
   "outputs": [
    {
     "name": "stdout",
     "output_type": "stream",
     "text": [
      "100\n",
      "range(0, 0)\n"
     ]
    }
   ],
   "source": [
    "APPLE = 100 # 全局变量\n",
    "def fun():\n",
    "    a = 10  # 局部变量\n",
    "    return a+100\n",
    "\n",
    "print(APPLE)    # 100\n",
    "print(a)    # 报错, 不能拿到一个局部变量的值"
   ],
   "metadata": {
    "collapsed": false,
    "pycharm": {
     "name": "#%%\n"
    }
   }
  },
  {
   "cell_type": "markdown",
   "source": [
    "#### 全局变量"
   ],
   "metadata": {
    "collapsed": false
   }
  },
  {
   "cell_type": "code",
   "execution_count": 316,
   "outputs": [
    {
     "name": "stdout",
     "output_type": "stream",
     "text": [
      "100\n",
      "a past: None\n",
      "a now: 20\n"
     ]
    }
   ],
   "source": [
    "APPLE = 100 # 全局变量\n",
    "a = None\n",
    "def fun():\n",
    "    global a    # 使用之前在全局里定义的 a\n",
    "    a = 20      # 现在的 a 是全局变量了\n",
    "    return a+100\n",
    "\n",
    "print(APPLE)    # 100\n",
    "print('a past:', a)  # None\n",
    "fun()\n",
    "print('a now:', a)   # 20"
   ],
   "metadata": {
    "collapsed": false,
    "pycharm": {
     "name": "#%%\n"
    }
   }
  },
  {
   "cell_type": "markdown",
   "source": [
    "## 7.1 模块安装"
   ],
   "metadata": {
    "collapsed": false
   }
  },
  {
   "cell_type": "markdown",
   "source": [
    "#### 什么是外部模块"
   ],
   "metadata": {
    "collapsed": false
   }
  },
  {
   "cell_type": "code",
   "execution_count": 317,
   "outputs": [],
   "source": [
    "import numpy as np\n",
    "import matplotlib.pyplot as plt"
   ],
   "metadata": {
    "collapsed": false,
    "pycharm": {
     "name": "#%%\n"
    }
   }
  },
  {
   "cell_type": "markdown",
   "source": [
    "#### 安装 Numpy"
   ],
   "metadata": {
    "collapsed": false
   }
  },
  {
   "cell_type": "raw",
   "source": [
    "$ pip install 你要的模块名\n",
    "$ pip install numpy   # 这是 python2+ 版本的用法\n",
    "$ pip3 install numpy   # 这是 python3+ 版本的用法"
   ],
   "metadata": {
    "collapsed": false,
    "pycharm": {
     "name": "#%% raw\n"
    }
   }
  },
  {
   "cell_type": "markdown",
   "source": [
    "#### 更新外部模块"
   ],
   "metadata": {
    "collapsed": false
   }
  },
  {
   "cell_type": "raw",
   "source": [
    "$ pip install -U numpy   # 这是 python2+ 版本的用法\n",
    "$ pip3 install -U numpy   # 这是 python3+ 版本的用法"
   ],
   "metadata": {
    "collapsed": false,
    "pycharm": {
     "name": "#%% raw\n"
    }
   }
  },
  {
   "cell_type": "markdown",
   "source": [
    "# 文件读取\n",
    "## 8.1 读写文件 1"
   ],
   "metadata": {
    "collapsed": false
   }
  },
  {
   "cell_type": "markdown",
   "source": [
    "#### 换行命令"
   ],
   "metadata": {
    "collapsed": false
   }
  },
  {
   "cell_type": "code",
   "execution_count": 318,
   "outputs": [
    {
     "name": "stdout",
     "output_type": "stream",
     "text": [
      "This is my first test. This is the second line. This the third \n"
     ]
    }
   ],
   "source": [
    "text='This is my first test. This is the second line. This the third '\n",
    "print(text)  # 无换行命令"
   ],
   "metadata": {
    "collapsed": false,
    "pycharm": {
     "name": "#%%\n"
    }
   }
  },
  {
   "cell_type": "code",
   "execution_count": 319,
   "outputs": [
    {
     "name": "stdout",
     "output_type": "stream",
     "text": [
      "This is my first test.\n",
      "This is the second line.\n",
      "This the third line\n"
     ]
    }
   ],
   "source": [
    "text='This is my first test.\\nThis is the second line.\\nThis the third line'\n",
    "print(text)   # 输入换行命令\\n，要注意斜杆的方向。注意换行的格式和c++一样"
   ],
   "metadata": {
    "collapsed": false,
    "pycharm": {
     "name": "#%%\n"
    }
   }
  },
  {
   "cell_type": "markdown",
   "source": [
    "#### open 读文件方式"
   ],
   "metadata": {
    "collapsed": false
   }
  },
  {
   "cell_type": "code",
   "execution_count": 320,
   "outputs": [],
   "source": [
    "my_file=open('my file.txt','w')   #用法: open('文件名','形式'), 其中形式有'w':write;'r':read.\n",
    "my_file.write(text)               #该语句会写入先前定义好的 text\n",
    "my_file.close()                   #关闭文件"
   ],
   "metadata": {
    "collapsed": false,
    "pycharm": {
     "name": "#%%\n"
    }
   }
  },
  {
   "cell_type": "markdown",
   "source": [
    "#### tab 对齐"
   ],
   "metadata": {
    "collapsed": false
   }
  },
  {
   "cell_type": "code",
   "execution_count": 321,
   "outputs": [
    {
     "name": "stdout",
     "output_type": "stream",
     "text": [
      "\tThis is my first test.\n",
      "\tThis is the second line.\n",
      "\tThis is the third line\n"
     ]
    }
   ],
   "source": [
    "text='\\tThis is my first test.\\n\\tThis is the second line.\\n\\tThis is the third line'\n",
    "print(text)  #延伸 使用 \\t 对齐"
   ],
   "metadata": {
    "collapsed": false,
    "pycharm": {
     "name": "#%%\n"
    }
   }
  },
  {
   "cell_type": "markdown",
   "source": [
    "## 8.2 读写文件 2\n",
    "#### 给文件增加内容"
   ],
   "metadata": {
    "collapsed": false
   }
  },
  {
   "cell_type": "code",
   "execution_count": 322,
   "outputs": [],
   "source": [
    "append_text='\\nThis is appended file.'  # 为这行文字提前空行 \"\\n\"\n",
    "my_file=open('my file.txt','a')   # 'a'=append 以增加内容的形式打开\n",
    "my_file.write(append_text)\n",
    "my_file.close()\n",
    "#运行后再去打开文件，会发现会增加一行代码中定义的字符串"
   ],
   "metadata": {
    "collapsed": false,
    "pycharm": {
     "name": "#%%\n"
    }
   }
  },
  {
   "cell_type": "markdown",
   "source": [
    "## 8.3 读写文件 3"
   ],
   "metadata": {
    "collapsed": false
   }
  },
  {
   "cell_type": "markdown",
   "source": [
    "#### 读取文件内容 file.read()"
   ],
   "metadata": {
    "collapsed": false
   }
  },
  {
   "cell_type": "code",
   "execution_count": 323,
   "outputs": [
    {
     "name": "stdout",
     "output_type": "stream",
     "text": [
      "This is my first test.\n",
      "This is the second line.\n",
      "This the third line\n",
      "This is appended file.\n"
     ]
    }
   ],
   "source": [
    "file= open('my file.txt','r')\n",
    "content=file.read()\n",
    "print(content)"
   ],
   "metadata": {
    "collapsed": false,
    "pycharm": {
     "name": "#%%\n"
    }
   }
  },
  {
   "cell_type": "markdown",
   "source": [
    "#### 按行读取 file.readline()"
   ],
   "metadata": {
    "collapsed": false
   }
  },
  {
   "cell_type": "code",
   "execution_count": 324,
   "outputs": [
    {
     "name": "stdout",
     "output_type": "stream",
     "text": [
      "This is my first test.\n",
      "\n",
      "This is the second line.\n",
      "\n"
     ]
    }
   ],
   "source": [
    "file= open('my file.txt','r')\n",
    "content=file.readline()  # 读取第一行\n",
    "print(content)\n",
    "\n",
    "second_read_time=file.readline()  # 读取第二行\n",
    "print(second_read_time)"
   ],
   "metadata": {
    "collapsed": false,
    "pycharm": {
     "name": "#%%\n"
    }
   }
  },
  {
   "cell_type": "markdown",
   "source": [
    "#### 读取所有行 file.readlines()"
   ],
   "metadata": {
    "collapsed": false
   }
  },
  {
   "cell_type": "code",
   "execution_count": 325,
   "outputs": [
    {
     "name": "stdout",
     "output_type": "stream",
     "text": [
      "['This is my first test.\\n', 'This is the second line.\\n', 'This the third line\\n', 'This is appended file.']\n",
      "This is my first test.\n",
      "\n",
      "This is the second line.\n",
      "\n",
      "This the third line\n",
      "\n",
      "This is appended file.\n"
     ]
    }
   ],
   "source": [
    "file= open('my file.txt','r')\n",
    "content=file.readlines() # python_list 形式\n",
    "print(content)\n",
    "\n",
    "# 之后如果使用 for 来迭代输出:\n",
    "for item in content:\n",
    "    print(item)"
   ],
   "metadata": {
    "collapsed": false,
    "pycharm": {
     "name": "#%%\n"
    }
   }
  },
  {
   "cell_type": "markdown",
   "source": [
    "# class 类\n",
    "## 9.1 class 类\n",
    "#### class 定义一个类class 定义一个类"
   ],
   "metadata": {
    "collapsed": false
   }
  },
  {
   "cell_type": "code",
   "execution_count": 326,
   "outputs": [
    {
     "name": "stdout",
     "output_type": "stream",
     "text": [
      "Good Calculator\n",
      "30\n",
      "-10\n",
      "200\n",
      "0.5\n"
     ]
    }
   ],
   "source": [
    "class Calculator:       #首字母要大写，冒号不能缺\n",
    "    name='Good Calculator'  #该行为class的属性\n",
    "    price=18\n",
    "    def add(self,x,y):\n",
    "        print(self.name)\n",
    "        result = x + y\n",
    "        print(result)\n",
    "    def minus(self,x,y):\n",
    "        result=x-y\n",
    "        print(result)\n",
    "    def times(self,x,y):\n",
    "        print(x*y)\n",
    "    def divide(self,x,y):\n",
    "        print(x/y)\n",
    "cal=Calculator()\n",
    "cal.name\n",
    "cal.price\n",
    "cal.add(10,20)\n",
    "cal.minus(10,20)\n",
    "cal.times(10,20)\n",
    "cal.divide(10,20)"
   ],
   "metadata": {
    "collapsed": false,
    "pycharm": {
     "name": "#%%\n"
    }
   }
  },
  {
   "cell_type": "markdown",
   "source": [
    "## 9.2 class 类 init 功能\n",
    "#### init"
   ],
   "metadata": {
    "collapsed": false
   }
  },
  {
   "cell_type": "code",
   "execution_count": 327,
   "outputs": [
    {
     "name": "stdout",
     "output_type": "stream",
     "text": [
      "bad calculator\n",
      "18\n",
      "17\n",
      "16\n",
      "15\n"
     ]
    }
   ],
   "source": [
    "class Calculator:\n",
    "    name='good calculator'\n",
    "    price=18\n",
    "    def __init__(self,name,price,height,width,weight):   # 注意，这里的下划线是双下划线\n",
    "        self.name=name\n",
    "        self.price=price\n",
    "        self.h=height\n",
    "        self.wi=width\n",
    "        self.we=weight\n",
    "c=Calculator('bad calculator',18,17,16,15)\n",
    "print(c.name)\n",
    "print(c.price)\n",
    "print(c.h)\n",
    "print(c.wi)\n",
    "print(c.we)"
   ],
   "metadata": {
    "collapsed": false,
    "pycharm": {
     "name": "#%%\n"
    }
   }
  },
  {
   "cell_type": "code",
   "execution_count": 328,
   "outputs": [
    {
     "name": "stdout",
     "output_type": "stream",
     "text": [
      "10\n",
      "14\n",
      "16\n",
      "17\n"
     ]
    }
   ],
   "source": [
    "class Calculator:\n",
    "    name='good calculator'\n",
    "    price=18\n",
    "    def __init__(self,name,price,hight=10,width=14,weight=16): #后面三个属性设置默认值,查看运行\n",
    "        self.name=name\n",
    "        self.price=price\n",
    "        self.h=hight\n",
    "        self.wi=width\n",
    "        self.we=weight\n",
    "c=Calculator('bad calculator',18)\n",
    "print(c.h)\n",
    "print(c.wi)\n",
    "print(c.we)\n",
    "c.we=17\n",
    "print(c.we)"
   ],
   "metadata": {
    "collapsed": false,
    "pycharm": {
     "name": "#%%\n"
    }
   }
  },
  {
   "cell_type": "markdown",
   "source": [
    "# input 输入\n",
    "## 10.1 input 输入\n",
    "#### input"
   ],
   "metadata": {
    "collapsed": false
   }
  },
  {
   "cell_type": "code",
   "execution_count": 329,
   "outputs": [
    {
     "name": "stdout",
     "output_type": "stream",
     "text": [
      "this number is: \n"
     ]
    }
   ],
   "source": [
    "a_input=input('please input a number:')\n",
    "print('this number is:',a_input)"
   ],
   "metadata": {
    "collapsed": false,
    "pycharm": {
     "name": "#%%\n"
    }
   }
  },
  {
   "cell_type": "raw",
   "source": [
    "\n",
    "a_input=int(input('please input a number:'))#注意这里要定义一个整数型\n",
    "if a_input==1:\n",
    "    print('This is a good one')\n",
    "elif a_input==2:\n",
    "    print('See you next time')\n",
    "else:\n",
    "    print('Good luck')\n"
   ],
   "metadata": {
    "collapsed": false,
    "pycharm": {
     "name": "#%% raw\n"
    }
   }
  },
  {
   "cell_type": "markdown",
   "source": [
    "#### input扩展"
   ],
   "metadata": {
    "collapsed": false,
    "pycharm": {
     "name": "#%% md\n"
    }
   }
  },
  {
   "cell_type": "raw",
   "source": [
    "\n",
    "score=int(input('Please input your score: \\n'))\n",
    "if score>=90:\n",
    "   print('Congradulation, you get an A')\n",
    "elif score >=80:\n",
    "    print('You get a B')\n",
    "elif score >=70:\n",
    "    print('You get a C')\n",
    "elif score >=60:\n",
    "    print('You get a D')\n",
    "else:\n",
    "    print('Sorry, You are failed ')\n"
   ],
   "metadata": {
    "collapsed": false,
    "pycharm": {
     "name": "#%% raw\n"
    }
   }
  },
  {
   "cell_type": "markdown",
   "source": [
    "# 元组, 列表, 字典"
   ],
   "metadata": {
    "collapsed": false
   }
  },
  {
   "cell_type": "markdown",
   "source": [
    "#### Tuple"
   ],
   "metadata": {
    "collapsed": false
   }
  },
  {
   "cell_type": "code",
   "execution_count": 330,
   "outputs": [],
   "source": [
    "a_tuple = (12, 3, 5, 15 , 6)\n",
    "another_tuple = 12, 3, 5, 15 , 6"
   ],
   "metadata": {
    "collapsed": false,
    "pycharm": {
     "name": "#%%\n"
    }
   }
  },
  {
   "cell_type": "markdown",
   "source": [
    "#### List"
   ],
   "metadata": {
    "collapsed": false
   }
  },
  {
   "cell_type": "code",
   "execution_count": 331,
   "outputs": [],
   "source": [
    "a_list = [12, 3, 67, 7, 82]"
   ],
   "metadata": {
    "collapsed": false,
    "pycharm": {
     "name": "#%%\n"
    }
   }
  },
  {
   "cell_type": "markdown",
   "source": [
    "#### 两者对比"
   ],
   "metadata": {
    "collapsed": false
   }
  },
  {
   "cell_type": "code",
   "execution_count": 332,
   "outputs": [
    {
     "name": "stdout",
     "output_type": "stream",
     "text": [
      "12\n",
      "3\n",
      "67\n",
      "7\n",
      "82\n"
     ]
    }
   ],
   "source": [
    "for content in a_list:\n",
    "    print(content)"
   ],
   "metadata": {
    "collapsed": false,
    "pycharm": {
     "name": "#%%\n"
    }
   }
  },
  {
   "cell_type": "code",
   "execution_count": 333,
   "outputs": [
    {
     "name": "stdout",
     "output_type": "stream",
     "text": [
      "12\n",
      "3\n",
      "5\n",
      "15\n",
      "6\n"
     ]
    }
   ],
   "source": [
    "for content_tuple in a_tuple:\n",
    "    print(content_tuple)"
   ],
   "metadata": {
    "collapsed": false,
    "pycharm": {
     "name": "#%%\n"
    }
   }
  },
  {
   "cell_type": "code",
   "execution_count": 334,
   "outputs": [
    {
     "name": "stdout",
     "output_type": "stream",
     "text": [
      "index =  0 , number in list =  12\n",
      "index =  1 , number in list =  3\n",
      "index =  2 , number in list =  67\n",
      "index =  3 , number in list =  7\n",
      "index =  4 , number in list =  82\n"
     ]
    }
   ],
   "source": [
    "for index in range(len(a_list)):\n",
    "    print(\"index = \", index, \", number in list = \", a_list[index])"
   ],
   "metadata": {
    "collapsed": false,
    "pycharm": {
     "name": "#%%\n"
    }
   }
  },
  {
   "cell_type": "code",
   "execution_count": 335,
   "outputs": [
    {
     "name": "stdout",
     "output_type": "stream",
     "text": [
      "index =  0 , number in tuple =  12\n",
      "index =  1 , number in tuple =  3\n",
      "index =  2 , number in tuple =  5\n",
      "index =  3 , number in tuple =  15\n",
      "index =  4 , number in tuple =  6\n"
     ]
    }
   ],
   "source": [
    "for index in range(len(a_tuple)):\n",
    "    print(\"index = \", index, \", number in tuple = \", a_tuple[index])"
   ],
   "metadata": {
    "collapsed": false,
    "pycharm": {
     "name": "#%%\n"
    }
   }
  },
  {
   "cell_type": "markdown",
   "source": [
    "## 11.1 元组 列表"
   ],
   "metadata": {
    "collapsed": false
   }
  },
  {
   "cell_type": "markdown",
   "source": [
    "#### List 添加"
   ],
   "metadata": {
    "collapsed": false
   }
  },
  {
   "cell_type": "code",
   "execution_count": 336,
   "outputs": [
    {
     "name": "stdout",
     "output_type": "stream",
     "text": [
      "[1, 2, 3, 4, 1, 1, -1, 0]\n"
     ]
    }
   ],
   "source": [
    "a = [1,2,3,4,1,1,-1]\n",
    "a.append(0)  # 在a的最后面追加一个0\n",
    "print(a)\n",
    "# [1, 2, 3, 4, 1, 1, -1, 0]"
   ],
   "metadata": {
    "collapsed": false,
    "pycharm": {
     "name": "#%%\n"
    }
   }
  },
  {
   "cell_type": "code",
   "execution_count": 337,
   "outputs": [
    {
     "name": "stdout",
     "output_type": "stream",
     "text": [
      "[1, 0, 2, 3, 4, 1, 1, -1]\n"
     ]
    }
   ],
   "source": [
    "a = [1,2,3,4,1,1,-1]\n",
    "a.insert(1,0) # 在位置1处添加0\n",
    "print(a)\n",
    "# [1, 0, 2, 3, 4, 1, 1, -1]"
   ],
   "metadata": {
    "collapsed": false,
    "pycharm": {
     "name": "#%%\n"
    }
   }
  },
  {
   "cell_type": "markdown",
   "source": [
    "#### List 移除"
   ],
   "metadata": {
    "collapsed": false
   }
  },
  {
   "cell_type": "code",
   "execution_count": 338,
   "outputs": [
    {
     "name": "stdout",
     "output_type": "stream",
     "text": [
      "[1, 3, 4, 1, 1, -1]\n"
     ]
    }
   ],
   "source": [
    "a = [1,2,3,4,1,1,-1]\n",
    "a.remove(2) # 删除列表中第一个出现的值为2的项\n",
    "print(a)\n",
    "# [1, 3, 4, 1, 1, -1]"
   ],
   "metadata": {
    "collapsed": false,
    "pycharm": {
     "name": "#%%\n"
    }
   }
  },
  {
   "cell_type": "markdown",
   "source": [
    "#### List 索引"
   ],
   "metadata": {
    "collapsed": false
   }
  },
  {
   "cell_type": "code",
   "execution_count": 339,
   "outputs": [
    {
     "name": "stdout",
     "output_type": "stream",
     "text": [
      "1\n",
      "-1\n",
      "[1, 2, 3]\n",
      "[1, -1]\n",
      "[1, 1, -1]\n"
     ]
    }
   ],
   "source": [
    "a = [1,2,3,4,1,1,-1]\n",
    "print(a[0])  # 显示列表a的第0位的值\n",
    "# 1\n",
    "\n",
    "print(a[-1]) # 显示列表a的最末位的值\n",
    "# -1\n",
    "\n",
    "print(a[0:3]) # 显示列表a的从第0位 到 第2位(第3位之前) 的所有项的值\n",
    "# [1, 2, 3]\n",
    "\n",
    "print(a[5:])  # 显示列表a的第5位及以后的所有项的值\n",
    "# [1, -1]\n",
    "\n",
    "print(a[-3:]) # 显示列表a的倒数第3位及以后的所有项的值\n",
    "# [1, 1, -1]"
   ],
   "metadata": {
    "collapsed": false,
    "pycharm": {
     "name": "#%%\n"
    }
   }
  },
  {
   "cell_type": "code",
   "execution_count": 340,
   "outputs": [
    {
     "name": "stdout",
     "output_type": "stream",
     "text": [
      "1\n"
     ]
    }
   ],
   "source": [
    "a = [1,2,3,4,1,1,-1]\n",
    "print(a.index(2)) # 显示列表a中第一次出现的值为2的项的索引\n",
    "# 1"
   ],
   "metadata": {
    "collapsed": false,
    "pycharm": {
     "name": "#%% 打印列表中的某个值的索引(index):\n"
    }
   }
  },
  {
   "cell_type": "code",
   "execution_count": 341,
   "outputs": [
    {
     "name": "stdout",
     "output_type": "stream",
     "text": [
      "1\n"
     ]
    }
   ],
   "source": [
    "a = [4,1,2,3,4,1,1,-1]\n",
    "print(a.count(-1))\n",
    "# 1"
   ],
   "metadata": {
    "collapsed": false,
    "pycharm": {
     "name": "#%% 统计列表中某值出现的次数：\n"
    }
   }
  },
  {
   "cell_type": "markdown",
   "source": [
    "#### List 排序"
   ],
   "metadata": {
    "collapsed": false
   }
  },
  {
   "cell_type": "code",
   "execution_count": 342,
   "outputs": [
    {
     "name": "stdout",
     "output_type": "stream",
     "text": [
      "[-1, 1, 1, 1, 2, 3, 4, 4]\n",
      "[4, 4, 3, 2, 1, 1, 1, -1]\n"
     ]
    }
   ],
   "source": [
    "a = [4,1,2,3,4,1,1,-1]\n",
    "a.sort() # 默认从小到大排序\n",
    "print(a)\n",
    "# [-1, 1, 1, 1, 2, 3, 4, 4]\n",
    "\n",
    "a.sort(reverse=True) # 从大到小排序\n",
    "print(a)\n",
    "# [4, 4, 3, 2, 1, 1, 1, -1]"
   ],
   "metadata": {
    "collapsed": false,
    "pycharm": {
     "name": "#%%\n"
    }
   }
  },
  {
   "cell_type": "markdown",
   "source": [
    "## 11.3 多维列表\n",
    "#### 创建二维列表"
   ],
   "metadata": {
    "collapsed": false
   }
  },
  {
   "cell_type": "code",
   "execution_count": 343,
   "outputs": [],
   "source": [
    "a = [1,2,3,4,5] # 一行五列\n",
    "\n",
    "multi_dim_a = [[1,2,3],\n",
    "               [2,3,4],\n",
    "               [3,4,5]] # 三行三列"
   ],
   "metadata": {
    "collapsed": false,
    "pycharm": {
     "name": "#%%\n"
    }
   }
  },
  {
   "cell_type": "markdown",
   "source": [
    "#### 索引"
   ],
   "metadata": {
    "collapsed": false
   }
  },
  {
   "cell_type": "code",
   "execution_count": 344,
   "outputs": [
    {
     "name": "stdout",
     "output_type": "stream",
     "text": [
      "2\n",
      "2\n"
     ]
    }
   ],
   "source": [
    "print(a[1])\n",
    "# 2\n",
    "\n",
    "print(multi_dim_a[0][1])\n",
    "# 2"
   ],
   "metadata": {
    "collapsed": false,
    "pycharm": {
     "name": "#%%\n"
    }
   }
  },
  {
   "cell_type": "markdown",
   "source": [
    "## 11.4 dictionary 字典"
   ],
   "metadata": {
    "collapsed": false
   }
  },
  {
   "cell_type": "markdown",
   "source": [
    "#### 创建字典"
   ],
   "metadata": {
    "collapsed": false
   }
  },
  {
   "cell_type": "code",
   "execution_count": 345,
   "outputs": [
    {
     "name": "stdout",
     "output_type": "stream",
     "text": [
      "1\n",
      "1\n",
      "{'apple': 1, 'orange': 3}\n",
      "{'apple': 1, 'orange': 3, 'b': 20}\n"
     ]
    }
   ],
   "source": [
    "a_list = [1,2,3,4,5,6,7,8]\n",
    "\n",
    "d1 = {'apple':1, 'pear':2, 'orange':3}\n",
    "d2 = {1:'a', 2:'b', 3:'c'}\n",
    "d3 = {1:'a', 'b':2, 'c':3}\n",
    "\n",
    "print(d1['apple'])  # 1\n",
    "print(a_list[0])    # 1\n",
    "\n",
    "del d1['pear']\n",
    "print(d1)   # {'orange': 3, 'apple': 1}\n",
    "\n",
    "d1['b'] = 20\n",
    "print(d1)   # {'orange': 3, 'b': 20, 'apple': 1}"
   ],
   "metadata": {
    "collapsed": false,
    "pycharm": {
     "name": "#%%\n"
    }
   }
  },
  {
   "cell_type": "markdown",
   "source": [
    "#### 字典存储类型"
   ],
   "metadata": {
    "collapsed": false
   }
  },
  {
   "cell_type": "code",
   "execution_count": 346,
   "outputs": [
    {
     "name": "stdout",
     "output_type": "stream",
     "text": [
      "a\n"
     ]
    }
   ],
   "source": [
    "def func():\n",
    "    return 0\n",
    "\n",
    "d4 = {'apple':[1,2,3], 'pear':{1:3, 3:'a'}, 'orange':func}\n",
    "print(d4['pear'][3])    # a"
   ],
   "metadata": {
    "collapsed": false,
    "pycharm": {
     "name": "#%%\n"
    }
   }
  },
  {
   "cell_type": "markdown",
   "source": [
    "# 模块\n",
    "## 12.1 import 模块\n",
    "#### import 的各种方法"
   ],
   "metadata": {
    "collapsed": false
   }
  },
  {
   "cell_type": "code",
   "execution_count": 347,
   "outputs": [
    {
     "name": "stdout",
     "output_type": "stream",
     "text": [
      "time.struct_time(tm_year=2021, tm_mon=10, tm_mday=19, tm_hour=17, tm_min=4, tm_sec=35, tm_wday=1, tm_yday=292, tm_isdst=0)\n"
     ]
    }
   ],
   "source": [
    "import time\n",
    "print(time.localtime())  #这样就可以print 当地时间了"
   ],
   "metadata": {
    "collapsed": false,
    "pycharm": {
     "name": "#%%\n"
    }
   }
  },
  {
   "cell_type": "code",
   "execution_count": 348,
   "outputs": [
    {
     "name": "stdout",
     "output_type": "stream",
     "text": [
      "time.struct_time(tm_year=2021, tm_mon=10, tm_mday=19, tm_hour=17, tm_min=4, tm_sec=35, tm_wday=1, tm_yday=292, tm_isdst=0)\n"
     ]
    }
   ],
   "source": [
    "import time as t\n",
    "print(t.localtime()) # 需要加t.前缀来引出功能"
   ],
   "metadata": {
    "collapsed": false,
    "pycharm": {
     "name": "#%%\n"
    }
   }
  },
  {
   "cell_type": "code",
   "execution_count": 349,
   "outputs": [
    {
     "name": "stdout",
     "output_type": "stream",
     "text": [
      "time.struct_time(tm_year=2021, tm_mon=10, tm_mday=19, tm_hour=17, tm_min=4, tm_sec=35, tm_wday=1, tm_yday=292, tm_isdst=0)\n",
      "1634634275.821673\n"
     ]
    }
   ],
   "source": [
    "from time import time, localtime\n",
    "print(localtime())\n",
    "print(time())"
   ],
   "metadata": {
    "collapsed": false,
    "pycharm": {
     "name": "#%%\n"
    }
   }
  },
  {
   "cell_type": "code",
   "execution_count": 350,
   "outputs": [
    {
     "name": "stdout",
     "output_type": "stream",
     "text": [
      "time.struct_time(tm_year=2021, tm_mon=10, tm_mday=19, tm_hour=17, tm_min=4, tm_sec=35, tm_wday=1, tm_yday=292, tm_isdst=0)\n"
     ]
    }
   ],
   "source": [
    "from time import *\n",
    "print(localtime())"
   ],
   "metadata": {
    "collapsed": false,
    "pycharm": {
     "name": "#%%\n"
    }
   }
  },
  {
   "cell_type": "markdown",
   "source": [
    "## 12.2 自己的模块"
   ],
   "metadata": {
    "collapsed": false
   }
  },
  {
   "cell_type": "markdown",
   "source": [
    "#### 自建一个模块"
   ],
   "metadata": {
    "collapsed": false
   }
  },
  {
   "cell_type": "raw",
   "source": [
    "\n",
    "d=float(input('Please enter what is your initial balance: \\n'))\n",
    "p=float(input('Please input what is the interest rate (as a number): \\n'))\n",
    "d=float(d+d*(p/100))\n",
    "year=1\n",
    "while year<=5:\n",
    "    d=float(d+d*p/100)\n",
    "    print('Your new balance after year:',year,'is',d)\n",
    "    year=year+1\n",
    "print('your final year is',d)\n"
   ],
   "metadata": {
    "collapsed": false,
    "pycharm": {
     "name": "#%% raw\n"
    }
   }
  },
  {
   "cell_type": "markdown",
   "source": [
    "#### 调用自己的模块"
   ],
   "metadata": {
    "collapsed": false
   }
  },
  {
   "cell_type": "markdown",
   "source": [],
   "metadata": {
    "collapsed": false,
    "pycharm": {
     "name": "#%% md\n"
    }
   }
  },
  {
   "cell_type": "markdown",
   "source": [
    "#### 模块存储路径说明"
   ],
   "metadata": {
    "collapsed": false
   }
  },
  {
   "cell_type": "markdown",
   "source": [
    "# 其他\n",
    "## 13.1 continue & break"
   ],
   "metadata": {
    "collapsed": false
   }
  },
  {
   "cell_type": "markdown",
   "source": [
    "#### 跳出循环"
   ],
   "metadata": {
    "collapsed": false
   }
  },
  {
   "cell_type": "raw",
   "source": [
    "\n",
    "a=True\n",
    "while a:\n",
    "    b= input('type somesthing')\n",
    "    if b=='1':\n",
    "        a= False\n",
    "    else:\n",
    "        pass\n",
    "    print(\"still in while\")\n",
    "print ('finish run')\n"
   ],
   "metadata": {
    "collapsed": false
   }
  },
  {
   "cell_type": "markdown",
   "source": [
    "#### break"
   ],
   "metadata": {
    "collapsed": false
   }
  },
  {
   "cell_type": "raw",
   "source": [
    "while True:\n",
    "    b= input('type somesthing:')\n",
    "    if b=='1':\n",
    "        break\n",
    "    else:\n",
    "        pass\n",
    "    print('still in while')\n",
    "print ('finish run')\n"
   ],
   "metadata": {
    "collapsed": false
   }
  },
  {
   "cell_type": "markdown",
   "source": [
    "#### continue"
   ],
   "metadata": {
    "collapsed": false
   }
  },
  {
   "cell_type": "raw",
   "source": [
    "while True:\n",
    "    b=input('input somesthing:')\n",
    "    if b=='1':\n",
    "       continue\n",
    "    else:\n",
    "        pass\n",
    "    print('still in while' )\n",
    "\n",
    "print ('finish run')\n",
    "\n"
   ],
   "metadata": {
    "collapsed": false
   }
  },
  {
   "cell_type": "code",
   "execution_count": 351,
   "outputs": [],
   "source": [
    "## 13.2 try 错误处理"
   ],
   "metadata": {
    "collapsed": false,
    "pycharm": {
     "name": "#%%\n"
    }
   }
  },
  {
   "cell_type": "raw",
   "source": [
    "try:\n",
    "    file=open('eeee.txt','r')  #会报错的代码\n",
    "except Exception as e:  # 将报错存储在 e 中\n",
    "    print(e)"
   ],
   "metadata": {
    "collapsed": false,
    "pycharm": {
     "name": "#%% raw\n"
    }
   }
  },
  {
   "cell_type": "code",
   "source": [
    "try:\n",
    "    file=open('eeee.txt','r+')\n",
    "except Exception as e:\n",
    "    print(e)\n",
    "    response = input('do you want to create a new file:')\n",
    "    if response=='y':\n",
    "        file=open('eeee.txt','w')\n",
    "    else:\n",
    "        pass\n",
    "else:\n",
    "    file.write('ssss')\n",
    "    file.close()"
   ],
   "metadata": {
    "collapsed": false,
    "pycharm": {
     "name": "#%%\n"
    }
   },
   "execution_count": 352,
   "outputs": []
  },
  {
   "cell_type": "markdown",
   "source": [
    "## 13.3 zip lambda map\n",
    "#### zip"
   ],
   "metadata": {
    "collapsed": false
   }
  },
  {
   "cell_type": "code",
   "execution_count": 353,
   "outputs": [
    {
     "name": "stdout",
     "output_type": "stream",
     "text": [
      "[(1, 4), (2, 5), (3, 6)]\n"
     ]
    }
   ],
   "source": [
    "a=[1,2,3]\n",
    "b=[4,5,6]\n",
    "ab=zip(a,b)\n",
    "print(list(ab))  #需要加list来可视化这个功能"
   ],
   "metadata": {
    "collapsed": false,
    "pycharm": {
     "name": "#%%\n"
    }
   }
  },
  {
   "cell_type": "code",
   "execution_count": 354,
   "outputs": [
    {
     "name": "stdout",
     "output_type": "stream",
     "text": [
      "[(1, 4), (2, 5), (3, 6)]\n",
      "0.5 8\n",
      "1.0 10\n",
      "1.5 12\n"
     ]
    }
   ],
   "source": [
    "a=[1,2,3]\n",
    "b=[4,5,6]\n",
    "ab=zip(a,b)\n",
    "print(list(ab))\n",
    "for i,j in zip(a,b):\n",
    "     print(i/2,j*2)"
   ],
   "metadata": {
    "collapsed": false,
    "pycharm": {
     "name": "#%%\n"
    }
   }
  },
  {
   "cell_type": "markdown",
   "source": [
    "#### lambda"
   ],
   "metadata": {
    "collapsed": false
   }
  },
  {
   "cell_type": "code",
   "execution_count": 355,
   "outputs": [
    {
     "ename": "ValueError",
     "evalue": "invalid literal for int() with base 10: ''",
     "output_type": "error",
     "traceback": [
      "\u001B[1;31m---------------------------------------------------------------------------\u001B[0m",
      "\u001B[1;31mValueError\u001B[0m                                Traceback (most recent call last)",
      "\u001B[1;32mC:\\Users\\ADMINI~1\\AppData\\Local\\Temp/ipykernel_21756/885616355.py\u001B[0m in \u001B[0;36m<module>\u001B[1;34m\u001B[0m\n\u001B[0;32m      1\u001B[0m \u001B[0mfun\u001B[0m\u001B[1;33m=\u001B[0m \u001B[1;32mlambda\u001B[0m \u001B[0mx\u001B[0m\u001B[1;33m,\u001B[0m\u001B[0my\u001B[0m\u001B[1;33m:\u001B[0m\u001B[0mx\u001B[0m\u001B[1;33m+\u001B[0m\u001B[0my\u001B[0m\u001B[1;33m\u001B[0m\u001B[1;33m\u001B[0m\u001B[0m\n\u001B[1;32m----> 2\u001B[1;33m \u001B[0mx\u001B[0m\u001B[1;33m=\u001B[0m\u001B[0mint\u001B[0m\u001B[1;33m(\u001B[0m\u001B[0minput\u001B[0m\u001B[1;33m(\u001B[0m\u001B[1;34m'x='\u001B[0m\u001B[1;33m)\u001B[0m\u001B[1;33m)\u001B[0m    \u001B[1;31m#这里要定义int整数，否则会默认为字符串\u001B[0m\u001B[1;33m\u001B[0m\u001B[1;33m\u001B[0m\u001B[0m\n\u001B[0m\u001B[0;32m      3\u001B[0m \u001B[0my\u001B[0m\u001B[1;33m=\u001B[0m\u001B[0mint\u001B[0m\u001B[1;33m(\u001B[0m\u001B[0minput\u001B[0m\u001B[1;33m(\u001B[0m\u001B[1;34m'y='\u001B[0m\u001B[1;33m)\u001B[0m\u001B[1;33m)\u001B[0m\u001B[1;33m\u001B[0m\u001B[1;33m\u001B[0m\u001B[0m\n\u001B[0;32m      4\u001B[0m \u001B[0mprint\u001B[0m\u001B[1;33m(\u001B[0m\u001B[0mfun\u001B[0m\u001B[1;33m(\u001B[0m\u001B[0mx\u001B[0m\u001B[1;33m,\u001B[0m\u001B[0my\u001B[0m\u001B[1;33m)\u001B[0m\u001B[1;33m)\u001B[0m\u001B[1;33m\u001B[0m\u001B[1;33m\u001B[0m\u001B[0m\n\u001B[0;32m      5\u001B[0m \u001B[1;33m\u001B[0m\u001B[0m\n",
      "\u001B[1;31mValueError\u001B[0m: invalid literal for int() with base 10: ''"
     ]
    }
   ],
   "source": [
    "fun= lambda x,y:x+y\n",
    "x=int(input('x='))    #这里要定义int整数，否则会默认为字符串\n",
    "y=int(input('y='))\n",
    "print(fun(x,y))"
   ],
   "metadata": {
    "collapsed": false,
    "pycharm": {
     "name": "#%%\n"
    }
   }
  },
  {
   "cell_type": "markdown",
   "source": [
    "#### map"
   ],
   "metadata": {
    "collapsed": false,
    "pycharm": {
     "name": "#%% md\n"
    }
   }
  },
  {
   "cell_type": "code",
   "execution_count": null,
   "outputs": [],
   "source": [
    "def fun(x,y):\n",
    "    return (x+y)\n",
    "list(map(fun,[1],[2]))"
   ],
   "metadata": {
    "collapsed": false,
    "pycharm": {
     "name": "#%%\n"
    }
   }
  },
  {
   "cell_type": "code",
   "execution_count": null,
   "outputs": [],
   "source": [
    "list(map(fun,[1,2],[3,4]))"
   ],
   "metadata": {
    "collapsed": false,
    "pycharm": {
     "name": "#%%\n"
    }
   }
  },
  {
   "cell_type": "markdown",
   "source": [
    "## 13.4 copy & deepcopy 浅复制 & 深复制\n",
    "#### id"
   ],
   "metadata": {
    "collapsed": false
   }
  },
  {
   "cell_type": "code",
   "execution_count": null,
   "outputs": [],
   "source": [
    "import copy\n",
    "a=[1,2,3]\n",
    "b=a\n",
    "id(a)"
   ],
   "metadata": {
    "collapsed": false,
    "pycharm": {
     "name": "#%%\n"
    }
   }
  },
  {
   "cell_type": "code",
   "execution_count": null,
   "outputs": [],
   "source": [
    "id(b)"
   ],
   "metadata": {
    "collapsed": false,
    "pycharm": {
     "name": "#%%\n"
    }
   }
  },
  {
   "cell_type": "code",
   "execution_count": null,
   "outputs": [],
   "source": [
    "id(a)==id(b)    #附值后，两者的id相同，为true。"
   ],
   "metadata": {
    "collapsed": false,
    "pycharm": {
     "name": "#%%\n"
    }
   }
  },
  {
   "cell_type": "code",
   "execution_count": null,
   "outputs": [],
   "source": [
    "b[0]=222222  #此时，改变b的第一个值，也会导致a值改变。\n",
    "print(a,b)"
   ],
   "metadata": {
    "collapsed": false,
    "pycharm": {
     "name": "#%%\n"
    }
   }
  },
  {
   "cell_type": "markdown",
   "source": [
    "#### 浅拷贝"
   ],
   "metadata": {
    "collapsed": false
   }
  },
  {
   "cell_type": "code",
   "execution_count": null,
   "outputs": [],
   "source": [
    "import copy\n",
    "a=[1,2,3]\n",
    "c=copy.copy(a)  #拷贝了a的外围对象本身,\n",
    "id(c)"
   ],
   "metadata": {
    "collapsed": false,
    "pycharm": {
     "name": "#%%\n"
    }
   }
  },
  {
   "cell_type": "code",
   "execution_count": null,
   "outputs": [],
   "source": [
    "print(id(a)==id(c))  #id 改变 为false"
   ],
   "metadata": {
    "collapsed": false,
    "pycharm": {
     "name": "#%%\n"
    }
   }
  },
  {
   "cell_type": "code",
   "execution_count": null,
   "outputs": [],
   "source": [
    "c[1]=22222   #此时，我去改变c的第二个值时，a不会被改变。\n",
    "print(a,c)"
   ],
   "metadata": {
    "collapsed": false,
    "pycharm": {
     "name": "#%%\n"
    }
   }
  },
  {
   "cell_type": "markdown",
   "source": [
    "#### 深拷贝"
   ],
   "metadata": {
    "collapsed": false
   }
  },
  {
   "cell_type": "code",
   "execution_count": null,
   "outputs": [],
   "source": [
    "#copy.copy()\n",
    "\n",
    "a=[1,2,[3,4]]  #第三个值为列表[3,4],即内部元素\n",
    "d=copy.copy(a) #浅拷贝a中的[3，4]内部元素的引用，非内部元素对象的本身\n",
    "id(a)==id(d)"
   ],
   "metadata": {
    "collapsed": false,
    "pycharm": {
     "name": "#%%\n"
    }
   }
  },
  {
   "cell_type": "code",
   "execution_count": null,
   "outputs": [],
   "source": [
    "id(a[2])==id(d[2])"
   ],
   "metadata": {
    "collapsed": false,
    "pycharm": {
     "name": "#%%\n"
    }
   }
  },
  {
   "cell_type": "code",
   "execution_count": null,
   "outputs": [],
   "source": [
    "a[2][0]=3333  #改变a中内部原属列表中的第一个值\n",
    "d             #这时d中的列表元素也会被改变"
   ],
   "metadata": {
    "collapsed": false,
    "pycharm": {
     "name": "#%%\n"
    }
   }
  },
  {
   "cell_type": "code",
   "execution_count": null,
   "outputs": [],
   "source": [
    "#copy.deepcopy()\n",
    "\n",
    "e=copy.deepcopy(a) #e为深拷贝了a\n",
    "a[2][0]=333 #改变a中内部元素列表第一个的值\n",
    "e\n",
    "#因为时深拷贝，这时e中内部元素[]列表的值不会因为a中的值改变而改变"
   ],
   "metadata": {
    "collapsed": false,
    "pycharm": {
     "name": "#%%\n"
    }
   }
  },
  {
   "cell_type": "markdown",
   "source": [
    "## 13.5 threading 什么是多线程"
   ],
   "metadata": {
    "collapsed": false
   }
  },
  {
   "cell_type": "markdown",
   "source": [
    "## 13.6 multiprocessing 什么是多进程"
   ],
   "metadata": {
    "collapsed": false
   }
  },
  {
   "cell_type": "markdown",
   "source": [
    "## 13.7 什么是 tkinter 窗口"
   ],
   "metadata": {
    "collapsed": false
   }
  },
  {
   "cell_type": "markdown",
   "source": [
    "## 13.8 pickle 保存数据"
   ],
   "metadata": {
    "collapsed": false
   }
  },
  {
   "cell_type": "markdown",
   "source": [
    "#### pickle 保存"
   ],
   "metadata": {
    "collapsed": false
   }
  },
  {
   "cell_type": "code",
   "execution_count": null,
   "outputs": [],
   "source": [
    "import pickle\n",
    "\n",
    "a_dict = {'da': 111, 2: [23,1,4], '23': {1:2,'d':'sad'}}\n",
    "\n",
    "# pickle a variable to a file\n",
    "file = open('pickle_example.pickle', 'wb')\n",
    "pickle.dump(a_dict, file)\n",
    "file.close()"
   ],
   "metadata": {
    "collapsed": false,
    "pycharm": {
     "name": "#%%\n"
    }
   }
  },
  {
   "cell_type": "markdown",
   "source": [
    "#### pickle 提取"
   ],
   "metadata": {
    "collapsed": false
   }
  },
  {
   "cell_type": "code",
   "execution_count": null,
   "outputs": [],
   "source": [
    "# reload a file to a variable\n",
    "with open('pickle_example.pickle', 'rb') as file:\n",
    "    a_dict1 =pickle.load(file)\n",
    "print(a_dict1)"
   ],
   "metadata": {
    "collapsed": false,
    "pycharm": {
     "name": "#%%\n"
    }
   }
  },
  {
   "cell_type": "markdown",
   "source": [
    "## 13.9 set 找不同"
   ],
   "metadata": {
    "collapsed": false
   }
  },
  {
   "cell_type": "markdown",
   "source": [
    "#### set 基本"
   ],
   "metadata": {
    "collapsed": false
   }
  },
  {
   "cell_type": "code",
   "execution_count": null,
   "outputs": [],
   "source": [
    "char_list = ['a', 'b', 'c', 'c', 'd', 'd', 'd']\n",
    "\n",
    "sentence = 'Welcome Back to This Tutorial'\n",
    "\n",
    "print(set(char_list))\n",
    "# {'b', 'd', 'a', 'c'}\n",
    "\n",
    "print(set(sentence))\n",
    "# {'l', 'm', 'a', 'c', 't', 'r', 's', ' ', 'o', 'W', 'T', 'B', 'i', 'e', 'u', 'h', 'k'}\n",
    "\n",
    "print(set(char_list+ list(sentence)))\n",
    "# {'l', 'm', 'a', 'c', 't', 'r', 's', ' ', 'd', 'o', 'W', 'T', 'B', 'i', 'e', 'k', 'h', 'u', 'b'}"
   ],
   "metadata": {
    "collapsed": false,
    "pycharm": {
     "name": "#%%\n"
    }
   }
  },
  {
   "cell_type": "markdown",
   "source": [
    "#### 添加元素"
   ],
   "metadata": {
    "collapsed": false
   }
  },
  {
   "cell_type": "code",
   "execution_count": null,
   "outputs": [],
   "source": [
    "unique_char = set(char_list)\n",
    "unique_char.add('x')\n",
    "# unique_char.add(['y', 'z']) this is wrong\n",
    "print(unique_char)\n",
    "\n",
    "# {'x', 'b', 'd', 'c', 'a'}"
   ],
   "metadata": {
    "collapsed": false,
    "pycharm": {
     "name": "#%%\n"
    }
   }
  },
  {
   "cell_type": "markdown",
   "source": [
    "#### 清除元素或 set"
   ],
   "metadata": {
    "collapsed": false
   }
  },
  {
   "cell_type": "code",
   "execution_count": null,
   "outputs": [],
   "source": [
    "unique_char.remove('x')\n",
    "print(unique_char)\n",
    "# {'b', 'd', 'c', 'a'}\n",
    "\n",
    "unique_char.discard('d')\n",
    "print(unique_char)\n",
    "# {'b', 'c', 'a'}\n",
    "\n",
    "unique_char.clear()\n",
    "print(unique_char)\n",
    "# set()"
   ],
   "metadata": {
    "collapsed": false,
    "pycharm": {
     "name": "#%%\n"
    }
   }
  },
  {
   "cell_type": "markdown",
   "source": [
    "#### 筛选操作"
   ],
   "metadata": {
    "collapsed": false
   }
  },
  {
   "cell_type": "code",
   "execution_count": null,
   "outputs": [],
   "source": [
    "unique_char = set(char_list)\n",
    "print(unique_char.difference({'a', 'e', 'i'}))\n",
    "# {'b', 'd', 'c'}\n",
    "\n",
    "print(unique_char.intersection({'a', 'e', 'i'}))\n",
    "# {'a'}"
   ],
   "metadata": {
    "collapsed": false,
    "pycharm": {
     "name": "#%%\n"
    }
   }
  },
  {
   "cell_type": "markdown",
   "source": [
    "## 13.10 正则表达式"
   ],
   "metadata": {
    "collapsed": false
   }
  },
  {
   "cell_type": "markdown",
   "source": [
    "#### 简单的匹配"
   ],
   "metadata": {
    "collapsed": false
   }
  },
  {
   "cell_type": "code",
   "execution_count": null,
   "outputs": [],
   "source": [
    "# matching string\n",
    "pattern1 = \"cat\"\n",
    "pattern2 = \"bird\"\n",
    "string = \"dog runs to cat\"\n",
    "print(pattern1 in string)    # True\n",
    "print(pattern2 in string)    # False"
   ],
   "metadata": {
    "collapsed": false,
    "pycharm": {
     "name": "#%%\n"
    }
   }
  },
  {
   "cell_type": "code",
   "execution_count": null,
   "outputs": [],
   "source": [
    "import re\n",
    "\n",
    "# regular expression\n",
    "pattern1 = \"cat\"\n",
    "pattern2 = \"bird\"\n",
    "string = \"dog runs to cat\"\n",
    "print(re.search(pattern1, string))  # <_sre.SRE_Match object; span=(12, 15), match='cat'>\n",
    "print(re.search(pattern2, string))  # None"
   ],
   "metadata": {
    "collapsed": false,
    "pycharm": {
     "name": "#%%\n"
    }
   }
  },
  {
   "cell_type": "markdown",
   "source": [
    "#### 灵活匹配"
   ],
   "metadata": {
    "collapsed": false
   }
  },
  {
   "cell_type": "code",
   "execution_count": null,
   "outputs": [],
   "source": [
    "# multiple patterns (\"run\" or \"ran\")\n",
    "ptn = r\"r[au]n\"       # start with \"r\" means raw string\n",
    "print(re.search(ptn, \"dog runs to cat\"))    # <_sre.SRE_Match object; span=(4, 7), match='run'>"
   ],
   "metadata": {
    "collapsed": false,
    "pycharm": {
     "name": "#%%\n"
    }
   }
  },
  {
   "cell_type": "code",
   "execution_count": null,
   "outputs": [],
   "source": [
    "print(re.search(r\"r[A-Z]n\", \"dog runs to cat\"))     # None\n",
    "print(re.search(r\"r[a-z]n\", \"dog runs to cat\"))     # <_sre.SRE_Match object; span=(4, 7), match='run'>\n",
    "print(re.search(r\"r[0-9]n\", \"dog r2ns to cat\"))     # <_sre.SRE_Match object; span=(4, 7), match='r2n'>\n",
    "print(re.search(r\"r[0-9a-z]n\", \"dog runs to cat\"))  # <_sre.SRE_Match object; span=(4, 7), match='run'>"
   ],
   "metadata": {
    "collapsed": false,
    "pycharm": {
     "name": "#%%\n"
    }
   }
  },
  {
   "cell_type": "markdown",
   "source": [
    "#### 按类型匹配"
   ],
   "metadata": {
    "collapsed": false
   }
  },
  {
   "cell_type": "code",
   "execution_count": null,
   "outputs": [],
   "source": [
    "# \\d : decimal digit\n",
    "print(re.search(r\"r\\dn\", \"run r4n\"))           # <_sre.SRE_Match object; span=(4, 7), match='r4n'>\n",
    "# \\D : any non-decimal digit\n",
    "print(re.search(r\"r\\Dn\", \"run r4n\"))           # <_sre.SRE_Match object; span=(0, 3), match='run'>\n",
    "# \\s : any white space [\\t\\n\\r\\f\\v]\n",
    "print(re.search(r\"r\\sn\", \"r\\nn r4n\"))          # <_sre.SRE_Match object; span=(0, 3), match='r\\nn'>\n",
    "# \\S : opposite to \\s, any non-white space\n",
    "print(re.search(r\"r\\Sn\", \"r\\nn r4n\"))          # <_sre.SRE_Match object; span=(4, 7), match='r4n'>\n",
    "# \\w : [a-zA-Z0-9_]\n",
    "print(re.search(r\"r\\wn\", \"r\\nn r4n\"))          # <_sre.SRE_Match object; span=(4, 7), match='r4n'>\n",
    "# \\W : opposite to \\w\n",
    "print(re.search(r\"r\\Wn\", \"r\\nn r4n\"))          # <_sre.SRE_Match object; span=(0, 3), match='r\\nn'>\n",
    "# \\b : empty string (only at the start or end of the word)\n",
    "print(re.search(r\"\\bruns\\b\", \"dog runs to cat\"))    # <_sre.SRE_Match object; span=(4, 8), match='runs'>\n",
    "# \\B : empty string (but not at the start or end of a word)\n",
    "print(re.search(r\"\\B runs \\B\", \"dog   runs  to cat\"))  # <_sre.SRE_Match object; span=(8, 14), match=' runs '>\n",
    "# \\\\ : match \\\n",
    "print(re.search(r\"runs\\\\\", \"runs\\ to me\"))     # <_sre.SRE_Match object; span=(0, 5), match='runs\\\\'>\n",
    "# . : match anything (except \\n)\n",
    "print(re.search(r\"r.n\", \"r[ns to me\"))         # <_sre.SRE_Match object; span=(0, 3), match='r[n'>\n",
    "# ^ : match line beginning\n",
    "print(re.search(r\"^dog\", \"dog runs to cat\"))   # <_sre.SRE_Match object; span=(0, 3), match='dog'>\n",
    "# $ : match line ending\n",
    "print(re.search(r\"cat$\", \"dog runs to cat\"))   # <_sre.SRE_Match object; span=(12, 15), match='cat'>\n",
    "# ? : may or may not occur\n",
    "print(re.search(r\"Mon(day)?\", \"Monday\"))       # <_sre.SRE_Match object; span=(0, 6), match='Monday'>\n",
    "print(re.search(r\"Mon(day)?\", \"Mon\"))          # <_sre.SRE_Match object; span=(0, 3), match='Mon'>"
   ],
   "metadata": {
    "collapsed": false,
    "pycharm": {
     "name": "#%%\n"
    }
   }
  },
  {
   "cell_type": "markdown",
   "source": [
    "#### 重复匹配"
   ],
   "metadata": {
    "collapsed": false
   }
  },
  {
   "cell_type": "code",
   "execution_count": null,
   "outputs": [],
   "source": [
    "# * : occur 0 or more times\n",
    "print(re.search(r\"ab*\", \"a\"))             # <_sre.SRE_Match object; span=(0, 1), match='a'>\n",
    "print(re.search(r\"ab*\", \"abbbbb\"))        # <_sre.SRE_Match object; span=(0, 6), match='abbbbb'>\n",
    "\n",
    "# + : occur 1 or more times\n",
    "print(re.search(r\"ab+\", \"a\"))             # None\n",
    "print(re.search(r\"ab+\", \"abbbbb\"))        # <_sre.SRE_Match object; span=(0, 6), match='abbbbb'>\n",
    "\n",
    "# {n, m} : occur n to m times\n",
    "print(re.search(r\"ab{2,10}\", \"a\"))        # None\n",
    "print(re.search(r\"ab{2,10}\", \"abbbbb\"))   # <_sre.SRE_Match object; span=(0, 6), match='abbbbb'>"
   ],
   "metadata": {
    "collapsed": false,
    "pycharm": {
     "name": "#%%\n"
    }
   }
  },
  {
   "cell_type": "markdown",
   "source": [
    "#### 分组"
   ],
   "metadata": {
    "collapsed": false
   }
  },
  {
   "cell_type": "code",
   "execution_count": null,
   "outputs": [],
   "source": [
    "match = re.search(r\"(\\d+), Date: (.+)\", \"ID: 021523, Date: Feb/12/2017\")\n",
    "print(match.group())                   # 021523, Date: Feb/12/2017\n",
    "print(match.group(1))                  # 021523\n",
    "print(match.group(2))                  # Date: Feb/12/2017"
   ],
   "metadata": {
    "collapsed": false,
    "pycharm": {
     "name": "#%%\n"
    }
   }
  },
  {
   "cell_type": "code",
   "execution_count": null,
   "outputs": [],
   "source": [
    "match = re.search(r\"(?P<id>\\d+), Date: (?P<date>.+)\", \"ID: 021523, Date: Feb/12/2017\")\n",
    "print(match.group('id'))                # 021523\n",
    "print(match.group('date'))              # Date: Feb/12/2017"
   ],
   "metadata": {
    "collapsed": false,
    "pycharm": {
     "name": "#%%\n"
    }
   }
  },
  {
   "cell_type": "markdown",
   "source": [
    "#### findall"
   ],
   "metadata": {
    "collapsed": false
   }
  },
  {
   "cell_type": "code",
   "execution_count": null,
   "outputs": [],
   "source": [
    "# findall\n",
    "print(re.findall(r\"r[ua]n\", \"run ran ren\"))    # ['run', 'ran']\n",
    "\n",
    "# | : or\n",
    "print(re.findall(r\"(run|ran)\", \"run ran ren\")) # ['run', 'ran']"
   ],
   "metadata": {
    "collapsed": false,
    "pycharm": {
     "name": "#%%\n"
    }
   }
  },
  {
   "cell_type": "markdown",
   "source": [
    "#### replace"
   ],
   "metadata": {
    "collapsed": false
   }
  },
  {
   "cell_type": "code",
   "execution_count": null,
   "outputs": [],
   "source": [
    "print(re.sub(r\"r[au]ns\", \"catches\", \"dog runs to cat\"))     # dog catches to cat"
   ],
   "metadata": {
    "collapsed": false,
    "pycharm": {
     "name": "#%%\n"
    }
   }
  },
  {
   "cell_type": "markdown",
   "source": [
    "#### split"
   ],
   "metadata": {
    "collapsed": false
   }
  },
  {
   "cell_type": "code",
   "execution_count": null,
   "outputs": [],
   "source": [
    "print(re.split(r\"[,;\\.]\", \"a;b,c.d;e\"))             # ['a', 'b', 'c', 'd', 'e']"
   ],
   "metadata": {
    "collapsed": false,
    "pycharm": {
     "name": "#%%\n"
    }
   }
  },
  {
   "cell_type": "markdown",
   "source": [
    "#### compile"
   ],
   "metadata": {
    "collapsed": false
   }
  },
  {
   "cell_type": "code",
   "execution_count": null,
   "outputs": [],
   "source": [
    "compiled_re = re.compile(r\"r[ua]n\")\n",
    "print(compiled_re.search(\"dog ran to cat\"))  # <_sre.SRE_Match object; span=(4, 7), match='ran'>"
   ],
   "metadata": {
    "collapsed": false,
    "pycharm": {
     "name": "#%%\n"
    }
   }
  }
 ],
 "metadata": {
  "kernelspec": {
   "name": "python3",
   "language": "python",
   "display_name": "Python 3 (ipykernel)"
  },
  "language_info": {
   "codemirror_mode": {
    "name": "ipython",
    "version": 2
   },
   "file_extension": ".py",
   "mimetype": "text/x-python",
   "name": "python",
   "nbconvert_exporter": "python",
   "pygments_lexer": "ipython2",
   "version": "2.7.6"
  }
 },
 "nbformat": 4,
 "nbformat_minor": 0
}