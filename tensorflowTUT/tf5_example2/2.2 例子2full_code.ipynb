{
 "cells": [
  {
   "cell_type": "markdown",
   "metadata": {
    "collapsed": true,
    "pycharm": {
     "name": "#%% md\n"
    }
   },
   "source": [
    "# 例子2\n",
    "## 创建数据\n",
    "首先, 我们这次需要加载 tensorflow 和 numpy 两个模块, 并且使用 numpy 来创建我们的数据.\n",
    "接着, 我们用 tf.Variable 来创建描述 y 的参数. 我们可以把 y_data = x_data*0.1 + 0.3 想象成 y=Weights * x + biases, 然后神经网络也就是学着把 Weights 变成 0.1, biases 变成 0.3."
   ]
  },
  {
   "cell_type": "code",
   "execution_count": 33,
   "outputs": [],
   "source": [
    "from __future__ import print_function\n",
    "import tensorflow as tf\n",
    "import numpy as np\n",
    "import tensorflow.compat.v1 as tf\n",
    "tf.disable_v2_behavior()"
   ],
   "metadata": {
    "collapsed": false,
    "pycharm": {
     "name": "#%%\n"
    }
   }
  },
  {
   "cell_type": "markdown",
   "source": [
    "## 创建数据"
   ],
   "metadata": {
    "collapsed": false,
    "pycharm": {
     "name": "#%% md\n"
    }
   }
  },
  {
   "cell_type": "code",
   "execution_count": 34,
   "outputs": [
    {
     "name": "stdout",
     "output_type": "stream",
     "text": [
      "[0.13709915 0.2761993  0.15135808 0.39995122 0.04206159 0.14150977\n",
      " 0.43032196 0.14369787 0.11203944 0.55975777 0.6330029  0.8195959\n",
      " 0.4523258  0.5160833  0.52585924 0.16127373 0.68622607 0.42367938\n",
      " 0.2567813  0.1241303  0.83183247 0.7757853  0.46369135 0.86171657\n",
      " 0.7113639  0.7048741  0.35546955 0.6953929  0.06966015 0.81725174\n",
      " 0.6621566  0.65142536 0.09537178 0.20135693 0.8715065  0.7732221\n",
      " 0.11118939 0.71336055 0.02720907 0.18432587 0.75598687 0.4023006\n",
      " 0.04016216 0.97518164 0.8456046  0.32573387 0.45770472 0.84325844\n",
      " 0.24625011 0.5407064  0.9003848  0.88120455 0.7262169  0.10258815\n",
      " 0.05184269 0.13605326 0.7278371  0.68559617 0.6559746  0.8709819\n",
      " 0.6543764  0.2644318  0.1994136  0.86090076 0.26347214 0.76860917\n",
      " 0.16629171 0.6284886  0.31301975 0.31894636 0.1994409  0.6805679\n",
      " 0.37682232 0.6903399  0.3397499  0.97772413 0.5567452  0.74747473\n",
      " 0.70884687 0.27857402 0.3667524  0.7922676  0.5095368  0.06429959\n",
      " 0.9495029  0.4348286  0.5279392  0.25217307 0.14282824 0.10191809\n",
      " 0.3372927  0.9385762  0.7397896  0.27274832 0.6371876  0.6420132\n",
      " 0.9970827  0.93843746 0.84345543 0.03355028]\n",
      "[0.3137099  0.32761994 0.3151358  0.33999515 0.30420616 0.314151\n",
      " 0.3430322  0.3143698  0.31120396 0.35597578 0.3633003  0.38195962\n",
      " 0.3452326  0.35160834 0.35258594 0.3161274  0.36862263 0.34236795\n",
      " 0.32567814 0.31241304 0.38318327 0.37757856 0.34636915 0.38617167\n",
      " 0.3711364  0.37048742 0.33554697 0.36953932 0.30696604 0.3817252\n",
      " 0.36621568 0.36514255 0.3095372  0.3201357  0.38715068 0.37732223\n",
      " 0.31111896 0.37133607 0.3027209  0.3184326  0.3755987  0.34023008\n",
      " 0.30401623 0.3975182  0.38456047 0.3325734  0.34577048 0.38432586\n",
      " 0.32462502 0.35407066 0.3900385  0.38812047 0.37262172 0.31025884\n",
      " 0.30518427 0.31360534 0.37278372 0.36855963 0.3655975  0.3870982\n",
      " 0.36543766 0.3264432  0.31994137 0.3860901  0.32634723 0.37686092\n",
      " 0.31662917 0.36284888 0.331302   0.33189464 0.3199441  0.3680568\n",
      " 0.33768225 0.369034   0.33397502 0.39777243 0.35567454 0.37474748\n",
      " 0.37088472 0.3278574  0.33667526 0.37922677 0.3509537  0.30642998\n",
      " 0.3949503  0.34348288 0.35279393 0.3252173  0.31428283 0.3101918\n",
      " 0.33372927 0.39385763 0.37397897 0.32727486 0.36371878 0.36420134\n",
      " 0.39970827 0.39384377 0.38434556 0.30335504]\n"
     ]
    }
   ],
   "source": [
    "# create data\n",
    "x_data = np.random.rand(100).astype(np.float32)\n",
    "y_data = x_data*0.1 + 0.3\n",
    "print(x_data)\n",
    "print(y_data)"
   ],
   "metadata": {
    "collapsed": false,
    "pycharm": {
     "name": "#%%\n"
    }
   }
  },
  {
   "cell_type": "markdown",
   "source": [
    "## 搭建模型"
   ],
   "metadata": {
    "collapsed": false,
    "pycharm": {
     "name": "#%% md\n"
    }
   }
  },
  {
   "cell_type": "code",
   "execution_count": 35,
   "outputs": [
    {
     "name": "stdout",
     "output_type": "stream",
     "text": [
      "<tf.Variable 'Variable_12:0' shape=(1,) dtype=float32_ref>\n",
      "<tf.Variable 'Variable_13:0' shape=(1,) dtype=float32_ref>\n",
      "Tensor(\"add_5:0\", shape=(100,), dtype=float32)\n"
     ]
    }
   ],
   "source": [
    "### create tensorflow structure start ###\n",
    "Weights = tf.Variable(tf.random.uniform([1], -1.0, 1.0))\n",
    "biases = tf.Variable(tf.zeros([1]))\n",
    "y = Weights*x_data + biases\n",
    "print(Weights)\n",
    "print(biases)\n",
    "print(y)"
   ],
   "metadata": {
    "collapsed": false,
    "pycharm": {
     "name": "#%%\n"
    }
   }
  },
  {
   "cell_type": "markdown",
   "source": [
    "#### 计算误差"
   ],
   "metadata": {
    "collapsed": false,
    "pycharm": {
     "name": "#%% md\n"
    }
   }
  },
  {
   "cell_type": "code",
   "execution_count": 36,
   "outputs": [
    {
     "name": "stdout",
     "output_type": "stream",
     "text": [
      "Tensor(\"Mean_4:0\", shape=(), dtype=float32)\n"
     ]
    }
   ],
   "source": [
    "loss = tf.reduce_mean(tf.square(y-y_data))\n",
    "print(loss)"
   ],
   "metadata": {
    "collapsed": false,
    "pycharm": {
     "name": "#%%\n"
    }
   }
  },
  {
   "cell_type": "markdown",
   "source": [
    "#### 传播误差"
   ],
   "metadata": {
    "collapsed": false
   }
  },
  {
   "cell_type": "code",
   "execution_count": 37,
   "outputs": [
    {
     "name": "stdout",
     "output_type": "stream",
     "text": [
      "<tensorflow.python.training.gradient_descent.GradientDescentOptimizer object at 0x000002114AB941D0>\n",
      "name: \"GradientDescent_3\"\n",
      "op: \"NoOp\"\n",
      "input: \"^GradientDescent_3/update_Variable_12/ApplyGradientDescent\"\n",
      "input: \"^GradientDescent_3/update_Variable_13/ApplyGradientDescent\"\n",
      "\n"
     ]
    }
   ],
   "source": [
    "optimizer = tf.train.GradientDescentOptimizer(0.5)\n",
    "train = optimizer.minimize(loss)\n",
    "print(optimizer)\n",
    "print(train)"
   ],
   "metadata": {
    "collapsed": false,
    "pycharm": {
     "name": "#%%\n"
    }
   }
  },
  {
   "cell_type": "markdown",
   "source": [
    "## 训练"
   ],
   "metadata": {
    "collapsed": false
   }
  },
  {
   "cell_type": "code",
   "execution_count": 38,
   "outputs": [
    {
     "name": "stdout",
     "output_type": "stream",
     "text": [
      "0 [0.4079347] [0.18294524]\n",
      "20 [0.173529] [0.26121333]\n",
      "40 [0.11869429] [0.29013875]\n",
      "60 [0.10475292] [0.29749283]\n",
      "80 [0.10120841] [0.29936257]\n",
      "100 [0.10030723] [0.29983795]\n",
      "120 [0.10007811] [0.29995883]\n",
      "140 [0.10001986] [0.29998952]\n",
      "160 [0.10000507] [0.29999733]\n",
      "180 [0.10000128] [0.29999933]\n",
      "200 [0.10000033] [0.29999983]\n"
     ]
    }
   ],
   "source": [
    "sess = tf.Session()\n",
    "# tf.initialize_all_variables() no long valid from\n",
    "# 2017-03-02 if using tensorflow >= 0.12\n",
    "if int((tf.__version__).split('.')[1]) < 12 and int((tf.__version__).split('.')[0]) < 1:\n",
    "    init = tf.initialize_all_variables()\n",
    "else:\n",
    "    init = tf.global_variables_initializer()\n",
    "sess.run(init)\n",
    "\n",
    "for step in range(201):\n",
    "    sess.run(train)\n",
    "    if step % 20 == 0:\n",
    "        print(step, sess.run(Weights), sess.run(biases))\n",
    "\n",
    "\n"
   ],
   "metadata": {
    "collapsed": false,
    "pycharm": {
     "name": "#%%\n"
    }
   }
  }
 ],
 "metadata": {
  "kernelspec": {
   "name": "pycharm-b3dbf60",
   "language": "python",
   "display_name": "PyCharm (tensorflowTUT)"
  },
  "language_info": {
   "codemirror_mode": {
    "name": "ipython",
    "version": 2
   },
   "file_extension": ".py",
   "mimetype": "text/x-python",
   "name": "python",
   "nbconvert_exporter": "python",
   "pygments_lexer": "ipython2",
   "version": "2.7.6"
  }
 },
 "nbformat": 4,
 "nbformat_minor": 0
}