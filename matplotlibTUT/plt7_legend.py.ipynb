{
 "cells": [
  {
   "cell_type": "code",
   "execution_count": 1,
   "metadata": {
    "collapsed": true
   },
   "outputs": [
    {
     "data": {
      "text/plain": "<Figure size 432x288 with 1 Axes>",
      "image/png": "[encoded data removed]"
     },
     "metadata": {
      "needs_background": "light"
     },
     "output_type": "display_data"
    }
   ],
   "source": [
    "# View more python tutorials on my Youtube and Youku channel!!!\n",
    "\n",
    "# Youtube video tutorial: https://www.youtube.com/channel/UCdyjiB5H8Pu7aDTNVXTTpcg\n",
    "# Youku video tutorial: http://i.youku.com/pythontutorial\n",
    "\n",
    "# 7 - legend\n",
    "\"\"\"\n",
    "Please note, this script is for python3+.\n",
    "If you are using python2+, please modify it accordingly.\n",
    "Tutorial reference:\n",
    "http://www.scipy-lectures.org/intro/matplotlib/matplotlib.html\n",
    "\"\"\"\n",
    "\n",
    "import matplotlib.pyplot as plt\n",
    "import numpy as np\n",
    "\n",
    "x = np.linspace(-3, 3, 50)\n",
    "y1 = 2*x + 1\n",
    "y2 = x**2\n",
    "\n",
    "plt.figure()\n",
    "# set x limits\n",
    "plt.xlim((-1, 2))\n",
    "plt.ylim((-2, 3))\n",
    "\n",
    "# set new sticks\n",
    "new_sticks = np.linspace(-1, 2, 5)\n",
    "plt.xticks(new_sticks)\n",
    "# set tick labels\n",
    "plt.yticks([-2, -1.8, -1, 1.22, 3],\n",
    "           [r'$really\\ bad$', r'$bad$', r'$normal$', r'$good$', r'$really\\ good$'])\n",
    "\n",
    "l1, = plt.plot(x, y1, label='linear line')\n",
    "l2, = plt.plot(x, y2, color='red', linewidth=1.0, linestyle='--', label='square line')\n",
    "\n",
    "plt.legend(loc='upper right')\n",
    "# plt.legend(handles=[l1, l2], labels=['up', 'down'],  loc='best')\n",
    "# the \",\" is very important in here l1, = plt... and l2, = plt... for this step\n",
    "\"\"\"legend( handles=(line1, line2, line3),\n",
    "           labels=('label1', 'label2', 'label3'),\n",
    "           'upper right')\n",
    "    The *loc* location codes are::\n",
    "\n",
    "          'best' : 0,          (currently not supported for figure legends)\n",
    "          'upper right'  : 1,\n",
    "          'upper left'   : 2,\n",
    "          'lower left'   : 3,\n",
    "          'lower right'  : 4,\n",
    "          'right'        : 5,\n",
    "          'center left'  : 6,\n",
    "          'center right' : 7,\n",
    "          'lower center' : 8,\n",
    "          'upper center' : 9,\n",
    "          'center'       : 10,\"\"\"\n",
    "\n",
    "plt.show()"
   ]
  },
  {
   "cell_type": "code",
   "execution_count": null,
   "outputs": [],
   "source": [],
   "metadata": {
    "collapsed": false,
    "pycharm": {
     "name": "#%%\n"
    }
   }
  }
 ],
 "metadata": {
  "kernelspec": {
   "display_name": "Python 3",
   "language": "python",
   "name": "python3"
  },
  "language_info": {
   "codemirror_mode": {
    "name": "ipython",
    "version": 2
   },
   "file_extension": ".py",
   "mimetype": "text/x-python",
   "name": "python",
   "nbconvert_exporter": "python",
   "pygments_lexer": "ipython2",
   "version": "2.7.6"
  }
 },
 "nbformat": 4,
 "nbformat_minor": 0
}