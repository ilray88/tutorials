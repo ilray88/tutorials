{
 "cells": [
  {
   "cell_type": "markdown",
   "source": [
    "# Numpy 属性\n",
    "这次我们会介绍几种 numpy 的属性:\n",
    "ndim：维度\n",
    "shape：行数和列数\n",
    "size：元素个数"
   ],
   "metadata": {
    "collapsed": false,
    "pycharm": {
     "name": "#%% md\n"
    }
   }
  },
  {
   "cell_type": "code",
   "execution_count": 1,
   "outputs": [
    {
     "name": "stdout",
     "output_type": "stream",
     "text": [
      "[[1 2 3]\n",
      " [2 3 4]]\n"
     ]
    }
   ],
   "source": [
    "import numpy as np #为了方便使用numpy 采用np简写\n",
    "array = np.array([[1,2,3],[2,3,4]])  #列表转化为矩阵\n",
    "print(array)"
   ],
   "metadata": {
    "collapsed": false,
    "pycharm": {
     "name": "#%%\n"
    }
   }
  },
  {
   "cell_type": "markdown",
   "source": [
    "## numpy 的几种属性"
   ],
   "metadata": {
    "collapsed": false,
    "pycharm": {
     "name": "#%% md\n"
    }
   }
  },
  {
   "cell_type": "code",
   "execution_count": 2,
   "outputs": [
    {
     "name": "stdout",
     "output_type": "stream",
     "text": [
      "number of dim: 2\n",
      "shape : (2, 3)\n",
      "size: 6\n"
     ]
    }
   ],
   "source": [
    "print('number of dim:',array.ndim)  # 维度\n",
    "# number of dim: 2\n",
    "\n",
    "print('shape :',array.shape)    # 行数和列数\n",
    "# shape : (2, 3)\n",
    "\n",
    "print('size:',array.size)   # 元素个数\n",
    "# size: 6"
   ],
   "metadata": {
    "collapsed": false,
    "pycharm": {
     "name": "#%%numpy 的几种属性\n"
    }
   }
  },
  {
   "cell_type": "markdown",
   "source": [
    "# Numpy 的创建 array\n",
    "## 关键字\n",
    "array：创建数组\n",
    "dtype：指定数据类型\n",
    "zeros：创建数据全为0\n",
    "ones：创建数据全为1\n",
    "empty：创建数据接近0\n",
    "arrange：按指定范围创建数据\n",
    "linspace：创建线段\n",
    "## 创建数组"
   ],
   "metadata": {
    "collapsed": false,
    "pycharm": {
     "name": "#%% md\n"
    }
   }
  },
  {
   "cell_type": "code",
   "execution_count": 3,
   "outputs": [
    {
     "name": "stdout",
     "output_type": "stream",
     "text": [
      "[ 2 23  4]\n"
     ]
    }
   ],
   "source": [
    "a = np.array([2,23,4])  # list 1d\n",
    "print(a)\n",
    "# [2 23 4]"
   ],
   "metadata": {
    "collapsed": false,
    "pycharm": {
     "name": "#%%\n"
    }
   }
  },
  {
   "cell_type": "markdown",
   "source": [
    "## 指定数据 dtype"
   ],
   "metadata": {
    "collapsed": false,
    "pycharm": {
     "name": "#%% md\n"
    }
   }
  },
  {
   "cell_type": "code",
   "execution_count": 4,
   "outputs": [
    {
     "name": "stdout",
     "output_type": "stream",
     "text": [
      "int64\n",
      "int32\n",
      "float64\n",
      "float32\n"
     ]
    },
    {
     "name": "stderr",
     "output_type": "stream",
     "text": [
      "D:\\0ilraypan\\python_work\\env\\pyqt5\\lib\\site-packages\\ipykernel_launcher.py:7: DeprecationWarning: `np.float` is a deprecated alias for the builtin `float`. To silence this warning, use `float` by itself. Doing this will not modify any behavior and is safe. If you specifically wanted the numpy scalar type, use `np.float64` here.\n",
      "Deprecated in NumPy 1.20; for more details and guidance: https://numpy.org/devdocs/release/1.20.0-notes.html#deprecations\n",
      "  import sys\n"
     ]
    }
   ],
   "source": [
    "a = np.array([2,23,4],dtype=np.int64)\n",
    "print(a.dtype)\n",
    "# int 64\n",
    "a = np.array([2,23,4],dtype=np.int32)\n",
    "print(a.dtype)\n",
    "# int32\n",
    "a = np.array([2,23,4],dtype=np.float)\n",
    "print(a.dtype)\n",
    "# float64\n",
    "a = np.array([2,23,4],dtype=np.float32)\n",
    "print(a.dtype)\n",
    "# float32"
   ],
   "metadata": {
    "collapsed": false,
    "pycharm": {
     "name": "#%%\n"
    }
   }
  },
  {
   "cell_type": "markdown",
   "source": [
    "## 创建特定数据"
   ],
   "metadata": {
    "collapsed": false,
    "pycharm": {
     "name": "#%% md\n"
    }
   }
  },
  {
   "cell_type": "code",
   "execution_count": 5,
   "outputs": [
    {
     "name": "stdout",
     "output_type": "stream",
     "text": [
      "[[ 2 23  4]\n",
      " [ 2 32  4]]\n"
     ]
    },
    {
     "data": {
      "text/plain": "'\\n[[ 2 23  4]\\n [ 2 32  4]]\\n'"
     },
     "execution_count": 5,
     "metadata": {},
     "output_type": "execute_result"
    }
   ],
   "source": [
    "a = np.array([[2,23,4],[2,32,4]])  # 2d 矩阵 2行3列\n",
    "print(a)\n",
    "\"\"\"\n",
    "[[ 2 23  4]\n",
    " [ 2 32  4]]\n",
    "\"\"\""
   ],
   "metadata": {
    "collapsed": false,
    "pycharm": {
     "name": "#%%\n"
    }
   }
  },
  {
   "cell_type": "markdown",
   "source": [
    "### 创建全零数组"
   ],
   "metadata": {
    "collapsed": false,
    "pycharm": {
     "name": "#%% md\n"
    }
   }
  },
  {
   "cell_type": "code",
   "execution_count": 6,
   "outputs": [
    {
     "data": {
      "text/plain": "'\\narray([[ 0.,  0.,  0.,  0.],\\n       [ 0.,  0.,  0.,  0.],\\n       [ 0.,  0.,  0.,  0.]])\\n'"
     },
     "execution_count": 6,
     "metadata": {},
     "output_type": "execute_result"
    }
   ],
   "source": [
    "a = np.zeros((3,4)) # 数据全为0，3行4列\n",
    "\"\"\"\n",
    "array([[ 0.,  0.,  0.,  0.],\n",
    "       [ 0.,  0.,  0.,  0.],\n",
    "       [ 0.,  0.,  0.,  0.]])\n",
    "\"\"\"\n",
    "\n",
    "\n"
   ],
   "metadata": {
    "collapsed": false,
    "pycharm": {
     "name": "#%%\n"
    }
   }
  },
  {
   "cell_type": "markdown",
   "source": [
    "### 创建全一数组, 同时也能指定这些特定数据的 dtype:"
   ],
   "metadata": {
    "collapsed": false
   }
  },
  {
   "cell_type": "code",
   "execution_count": 7,
   "outputs": [
    {
     "name": "stderr",
     "output_type": "stream",
     "text": [
      "D:\\0ilraypan\\python_work\\env\\pyqt5\\lib\\site-packages\\ipykernel_launcher.py:1: DeprecationWarning: `np.int` is a deprecated alias for the builtin `int`. To silence this warning, use `int` by itself. Doing this will not modify any behavior and is safe. When replacing `np.int`, you may wish to use e.g. `np.int64` or `np.int32` to specify the precision. If you wish to review your current use, check the release note link for additional information.\n",
      "Deprecated in NumPy 1.20; for more details and guidance: https://numpy.org/devdocs/release/1.20.0-notes.html#deprecations\n",
      "  \"\"\"Entry point for launching an IPython kernel.\n"
     ]
    },
    {
     "data": {
      "text/plain": "'\\narray([[1, 1, 1, 1],\\n       [1, 1, 1, 1],\\n       [1, 1, 1, 1]])\\n'"
     },
     "execution_count": 7,
     "metadata": {},
     "output_type": "execute_result"
    }
   ],
   "source": [
    "a = np.ones((3,4),dtype = np.int)   # 数据为1，3行4列\n",
    "\"\"\"\n",
    "array([[1, 1, 1, 1],\n",
    "       [1, 1, 1, 1],\n",
    "       [1, 1, 1, 1]])\n",
    "\"\"\""
   ],
   "metadata": {
    "collapsed": false,
    "pycharm": {
     "name": "#%%\n"
    }
   }
  },
  {
   "cell_type": "markdown",
   "source": [
    "### 创建全空数组, 其实每个值都是接近于零的数:"
   ],
   "metadata": {
    "collapsed": false
   }
  },
  {
   "cell_type": "code",
   "execution_count": 8,
   "outputs": [
    {
     "data": {
      "text/plain": "'\\narray([[  0.00000000e+000,   4.94065646e-324,   9.88131292e-324,\\n          1.48219694e-323],\\n       [  1.97626258e-323,   2.47032823e-323,   2.96439388e-323,\\n          3.45845952e-323],\\n       [  3.95252517e-323,   4.44659081e-323,   4.94065646e-323,\\n          5.43472210e-323]])\\n'"
     },
     "execution_count": 8,
     "metadata": {},
     "output_type": "execute_result"
    }
   ],
   "source": [
    "a = np.empty((3,4)) # 数据为empty，3行4列\n",
    "\"\"\"\n",
    "array([[  0.00000000e+000,   4.94065646e-324,   9.88131292e-324,\n",
    "          1.48219694e-323],\n",
    "       [  1.97626258e-323,   2.47032823e-323,   2.96439388e-323,\n",
    "          3.45845952e-323],\n",
    "       [  3.95252517e-323,   4.44659081e-323,   4.94065646e-323,\n",
    "          5.43472210e-323]])\n",
    "\"\"\""
   ],
   "metadata": {
    "collapsed": false,
    "pycharm": {
     "name": "#%%\n"
    }
   }
  },
  {
   "cell_type": "markdown",
   "source": [
    "### 用arange 创建连续数组:"
   ],
   "metadata": {
    "collapsed": false,
    "pycharm": {
     "name": "#%% md\n"
    }
   }
  },
  {
   "cell_type": "code",
   "execution_count": 9,
   "outputs": [
    {
     "data": {
      "text/plain": "'\\narray([10, 12, 14, 16, 18])\\n'"
     },
     "execution_count": 9,
     "metadata": {},
     "output_type": "execute_result"
    }
   ],
   "source": [
    "a = np.arange(10,20,2) # 10-19 的数据，2步长\n",
    "\"\"\"\n",
    "array([10, 12, 14, 16, 18])\n",
    "\"\"\"\n"
   ],
   "metadata": {
    "collapsed": false,
    "pycharm": {
     "name": "#%%\n"
    }
   }
  },
  {
   "cell_type": "markdown",
   "source": [
    "### 使用 reshape 改变数据的形状"
   ],
   "metadata": {
    "collapsed": false,
    "pycharm": {
     "name": "#%% md\n"
    }
   }
  },
  {
   "cell_type": "code",
   "execution_count": 10,
   "outputs": [
    {
     "data": {
      "text/plain": "'\\narray([[ 0,  1,  2,  3],\\n       [ 4,  5,  6,  7],\\n       [ 8,  9, 10, 11]])\\n'"
     },
     "execution_count": 10,
     "metadata": {},
     "output_type": "execute_result"
    }
   ],
   "source": [
    "a = np.arange(12).reshape((3,4))    # 3行4列，0到11\n",
    "\"\"\"\n",
    "array([[ 0,  1,  2,  3],\n",
    "       [ 4,  5,  6,  7],\n",
    "       [ 8,  9, 10, 11]])\n",
    "\"\"\"\n"
   ],
   "metadata": {
    "collapsed": false,
    "pycharm": {
     "name": "#%%\n"
    }
   }
  },
  {
   "cell_type": "markdown",
   "source": [
    "### 用 linspace 创建线段型数据:"
   ],
   "metadata": {
    "collapsed": false,
    "pycharm": {
     "name": "#%% md\n"
    }
   }
  },
  {
   "cell_type": "code",
   "execution_count": 11,
   "outputs": [
    {
     "data": {
      "text/plain": "'\\narray([  1.        ,   1.47368421,   1.94736842,   2.42105263,\\n         2.89473684,   3.36842105,   3.84210526,   4.31578947,\\n         4.78947368,   5.26315789,   5.73684211,   6.21052632,\\n         6.68421053,   7.15789474,   7.63157895,   8.10526316,\\n         8.57894737,   9.05263158,   9.52631579,  10.        ])\\n'"
     },
     "execution_count": 11,
     "metadata": {},
     "output_type": "execute_result"
    }
   ],
   "source": [
    "a = np.linspace(1,10,20)    # 开始端1，结束端10，且分割成20个数据，生成线段\n",
    "\"\"\"\n",
    "array([  1.        ,   1.47368421,   1.94736842,   2.42105263,\n",
    "         2.89473684,   3.36842105,   3.84210526,   4.31578947,\n",
    "         4.78947368,   5.26315789,   5.73684211,   6.21052632,\n",
    "         6.68421053,   7.15789474,   7.63157895,   8.10526316,\n",
    "         8.57894737,   9.05263158,   9.52631579,  10.        ])\n",
    "\"\"\"\n"
   ],
   "metadata": {
    "collapsed": false,
    "pycharm": {
     "name": "#%%\n"
    }
   }
  },
  {
   "cell_type": "markdown",
   "source": [
    "### 同样也能进行 reshape 工作:"
   ],
   "metadata": {
    "collapsed": false,
    "pycharm": {
     "name": "#%% md\n"
    }
   }
  },
  {
   "cell_type": "code",
   "execution_count": 12,
   "outputs": [
    {
     "data": {
      "text/plain": "'\\narray([[  1.        ,   1.47368421,   1.94736842,   2.42105263],\\n       [  2.89473684,   3.36842105,   3.84210526,   4.31578947],\\n       [  4.78947368,   5.26315789,   5.73684211,   6.21052632],\\n       [  6.68421053,   7.15789474,   7.63157895,   8.10526316],\\n       [  8.57894737,   9.05263158,   9.52631579,  10.        ]])\\n'"
     },
     "execution_count": 12,
     "metadata": {},
     "output_type": "execute_result"
    }
   ],
   "source": [
    "a = np.linspace(1,10,20).reshape((5,4)) # 更改shape\n",
    "\"\"\"\n",
    "array([[  1.        ,   1.47368421,   1.94736842,   2.42105263],\n",
    "       [  2.89473684,   3.36842105,   3.84210526,   4.31578947],\n",
    "       [  4.78947368,   5.26315789,   5.73684211,   6.21052632],\n",
    "       [  6.68421053,   7.15789474,   7.63157895,   8.10526316],\n",
    "       [  8.57894737,   9.05263158,   9.52631579,  10.        ]])\n",
    "\"\"\""
   ],
   "metadata": {
    "collapsed": false,
    "pycharm": {
     "name": "#%%\n"
    }
   }
  },
  {
   "cell_type": "markdown",
   "source": [
    "# Numpy 基础运算1\n",
    "### numpy 的几种基本运算"
   ],
   "metadata": {
    "collapsed": false,
    "pycharm": {
     "name": "#%% md\n"
    }
   }
  },
  {
   "cell_type": "code",
   "execution_count": 13,
   "outputs": [],
   "source": [
    "import numpy as np\n",
    "a=np.array([10,20,30,40])   # array([10, 20, 30, 40])\n",
    "b=np.arange(4)              # array([0, 1, 2, 3])"
   ],
   "metadata": {
    "collapsed": false,
    "pycharm": {
     "name": "#%%\n"
    }
   }
  },
  {
   "cell_type": "markdown",
   "source": [
    "### 减"
   ],
   "metadata": {
    "collapsed": false,
    "pycharm": {
     "name": "#%% md\n"
    }
   }
  },
  {
   "cell_type": "code",
   "execution_count": 14,
   "outputs": [
    {
     "name": "stdout",
     "output_type": "stream",
     "text": [
      "[10 19 28 37]\n"
     ]
    }
   ],
   "source": [
    "c=a-b  # array([10, 19, 28, 37])\n",
    "print(c)"
   ],
   "metadata": {
    "collapsed": false,
    "pycharm": {
     "name": "#%%\n"
    }
   }
  },
  {
   "cell_type": "markdown",
   "source": [
    "### 加"
   ],
   "metadata": {
    "collapsed": false,
    "pycharm": {
     "name": "#%% md\n"
    }
   }
  },
  {
   "cell_type": "code",
   "execution_count": 15,
   "outputs": [
    {
     "name": "stdout",
     "output_type": "stream",
     "text": [
      "[10 21 32 43]\n"
     ]
    }
   ],
   "source": [
    "c=a+b   # array([10, 21, 32, 43])\n",
    "print(c)"
   ],
   "metadata": {
    "collapsed": false,
    "pycharm": {
     "name": "#%%\n"
    }
   }
  },
  {
   "cell_type": "markdown",
   "source": [
    "### 乘"
   ],
   "metadata": {
    "collapsed": false,
    "pycharm": {
     "name": "#%% md\n"
    }
   }
  },
  {
   "cell_type": "code",
   "execution_count": 16,
   "outputs": [
    {
     "name": "stdout",
     "output_type": "stream",
     "text": [
      "[  0  20  60 120]\n"
     ]
    }
   ],
   "source": [
    "c=a*b   # array([  0,  20,  60, 120])\n",
    "print(c)"
   ],
   "metadata": {
    "collapsed": false,
    "pycharm": {
     "name": "#%%\n"
    }
   }
  },
  {
   "cell_type": "markdown",
   "source": [
    "### 二次方"
   ],
   "metadata": {
    "collapsed": false,
    "pycharm": {
     "name": "#%% md\n"
    }
   }
  },
  {
   "cell_type": "code",
   "execution_count": 17,
   "outputs": [
    {
     "name": "stdout",
     "output_type": "stream",
     "text": [
      "[0 1 4 9]\n"
     ]
    }
   ],
   "source": [
    "c=b**2  # array([0, 1, 4, 9])\n",
    "print(c)"
   ],
   "metadata": {
    "collapsed": false,
    "pycharm": {
     "name": "#%%\n"
    }
   }
  },
  {
   "cell_type": "markdown",
   "source": [
    "### sin()"
   ],
   "metadata": {
    "collapsed": false,
    "pycharm": {
     "name": "#%% md\n"
    }
   }
  },
  {
   "cell_type": "code",
   "execution_count": 18,
   "outputs": [
    {
     "name": "stdout",
     "output_type": "stream",
     "text": [
      "[-5.44021111  9.12945251 -9.88031624  7.4511316 ]\n"
     ]
    }
   ],
   "source": [
    "c=10*np.sin(a)\n",
    "print(c)"
   ],
   "metadata": {
    "collapsed": false,
    "pycharm": {
     "name": "#%%\n"
    }
   }
  },
  {
   "cell_type": "markdown",
   "source": [
    "### 逻辑判断"
   ],
   "metadata": {
    "collapsed": false,
    "pycharm": {
     "name": "#%% md\n"
    }
   }
  },
  {
   "cell_type": "code",
   "execution_count": 19,
   "outputs": [
    {
     "name": "stdout",
     "output_type": "stream",
     "text": [
      "[ True  True  True False]\n"
     ]
    }
   ],
   "source": [
    "print(b<3)"
   ],
   "metadata": {
    "collapsed": false,
    "pycharm": {
     "name": "#%%\n"
    }
   }
  },
  {
   "cell_type": "markdown",
   "source": [
    "### 二维矩阵"
   ],
   "metadata": {
    "collapsed": false,
    "pycharm": {
     "name": "#%% md\n"
    }
   }
  },
  {
   "cell_type": "code",
   "execution_count": 20,
   "outputs": [
    {
     "name": "stdout",
     "output_type": "stream",
     "text": [
      "[[1 1]\n",
      " [0 1]]\n",
      "[[0 1]\n",
      " [2 3]]\n"
     ]
    }
   ],
   "source": [
    "a=np.array([[1,1],[0,1]])\n",
    "b=np.arange(4).reshape((2,2))\n",
    "print(a)\n",
    "# array([[1, 1],\n",
    "#       [0, 1]])\n",
    "print(b)\n",
    "# array([[0, 1],\n",
    "#       [2, 3]])"
   ],
   "metadata": {
    "collapsed": false,
    "pycharm": {
     "name": "#%%\n"
    }
   }
  },
  {
   "cell_type": "markdown",
   "source": [
    "### 矩阵相乘"
   ],
   "metadata": {
    "collapsed": false,
    "pycharm": {
     "name": "#%% md\n"
    }
   }
  },
  {
   "cell_type": "code",
   "execution_count": 21,
   "outputs": [
    {
     "name": "stdout",
     "output_type": "stream",
     "text": [
      "[[2 4]\n",
      " [2 3]]\n"
     ]
    }
   ],
   "source": [
    "c_dot = np.dot(a,b)\n",
    "# array([[2, 4],\n",
    "#       [2, 3]])\n",
    "print(c_dot)"
   ],
   "metadata": {
    "collapsed": false,
    "pycharm": {
     "name": "#%%\n"
    }
   }
  },
  {
   "cell_type": "markdown",
   "source": [
    "### 矩阵相乘2"
   ],
   "metadata": {
    "collapsed": false,
    "pycharm": {
     "name": "#%% md\n"
    }
   }
  },
  {
   "cell_type": "code",
   "execution_count": 22,
   "outputs": [
    {
     "name": "stdout",
     "output_type": "stream",
     "text": [
      "[[2 4]\n",
      " [2 3]]\n"
     ]
    }
   ],
   "source": [
    "c_dot_2 = a.dot(b)\n",
    "# array([[2, 4],\n",
    "#       [2, 3]])\n",
    "print(c_dot_2)"
   ],
   "metadata": {
    "collapsed": false,
    "pycharm": {
     "name": "#%%\n"
    }
   }
  },
  {
   "cell_type": "markdown",
   "source": [
    "### 数组sum(), min(), max()的使用"
   ],
   "metadata": {
    "collapsed": false,
    "pycharm": {
     "name": "#%% md\n"
    }
   }
  },
  {
   "cell_type": "code",
   "execution_count": 23,
   "outputs": [
    {
     "name": "stdout",
     "output_type": "stream",
     "text": [
      "[[0.19894422 0.92486149 0.45573008 0.89098198]\n",
      " [0.784036   0.23991976 0.3508115  0.9568856 ]]\n"
     ]
    }
   ],
   "source": [
    "import numpy as np\n",
    "a=np.random.random((2,4))\n",
    "print(a)\n",
    "# array([[ 0.94692159,  0.20821798,  0.35339414,  0.2805278 ],\n",
    "#       [ 0.04836775,  0.04023552,  0.44091941,  0.21665268]])"
   ],
   "metadata": {
    "collapsed": false,
    "pycharm": {
     "name": "#%%\n"
    }
   }
  },
  {
   "cell_type": "code",
   "execution_count": 24,
   "outputs": [
    {
     "data": {
      "text/plain": "4.802170634922998"
     },
     "execution_count": 24,
     "metadata": {},
     "output_type": "execute_result"
    }
   ],
   "source": [
    "np.sum(a)   # 4.4043622002745959"
   ],
   "metadata": {
    "collapsed": false,
    "pycharm": {
     "name": "#%%\n"
    }
   }
  },
  {
   "cell_type": "code",
   "execution_count": 25,
   "outputs": [
    {
     "data": {
      "text/plain": "0.19894421515215666"
     },
     "execution_count": 25,
     "metadata": {},
     "output_type": "execute_result"
    }
   ],
   "source": [
    "np.min(a)   # 0.23651223533671784"
   ],
   "metadata": {
    "collapsed": false,
    "pycharm": {
     "name": "#%%\n"
    }
   }
  },
  {
   "cell_type": "code",
   "execution_count": 26,
   "outputs": [
    {
     "data": {
      "text/plain": "0.9568856048120911"
     },
     "execution_count": 26,
     "metadata": {},
     "output_type": "execute_result"
    }
   ],
   "source": [
    "np.max(a)   # 0.90438450240606416"
   ],
   "metadata": {
    "collapsed": false,
    "pycharm": {
     "name": "#%%\n"
    }
   }
  },
  {
   "cell_type": "code",
   "execution_count": 27,
   "outputs": [
    {
     "name": "stdout",
     "output_type": "stream",
     "text": [
      "a = [[0.19894422 0.92486149 0.45573008 0.89098198]\n",
      " [0.784036   0.23991976 0.3508115  0.9568856 ]]\n"
     ]
    }
   ],
   "source": [
    "print(\"a =\",a)\n",
    "# a = [[ 0.23651224  0.41900661  0.84869417  0.46456022]\n",
    "# [ 0.60771087  0.9043845   0.36603285  0.55746074]]"
   ],
   "metadata": {
    "collapsed": false,
    "pycharm": {
     "name": "#%%\n"
    }
   }
  },
  {
   "cell_type": "code",
   "execution_count": 28,
   "outputs": [
    {
     "name": "stdout",
     "output_type": "stream",
     "text": [
      "sum = [2.47051777 2.33165287]\n"
     ]
    }
   ],
   "source": [
    "print(\"sum =\",np.sum(a,axis=1))\n",
    "# sum = [ 1.96877324  2.43558896]"
   ],
   "metadata": {
    "collapsed": false,
    "pycharm": {
     "name": "#%%\n"
    }
   }
  },
  {
   "cell_type": "code",
   "execution_count": 29,
   "outputs": [
    {
     "name": "stdout",
     "output_type": "stream",
     "text": [
      "min = [0.19894422 0.23991976 0.3508115  0.89098198]\n"
     ]
    }
   ],
   "source": [
    "print(\"min =\",np.min(a,axis=0))\n",
    "# min = [ 0.23651224  0.41900661  0.36603285  0.46456022]"
   ],
   "metadata": {
    "collapsed": false,
    "pycharm": {
     "name": "#%%\n"
    }
   }
  },
  {
   "cell_type": "code",
   "execution_count": 30,
   "outputs": [
    {
     "name": "stdout",
     "output_type": "stream",
     "text": [
      "max = [0.92486149 0.9568856 ]\n"
     ]
    }
   ],
   "source": [
    "print(\"max =\",np.max(a,axis=1))\n",
    "# max = [ 0.84869417  0.9043845 ]"
   ],
   "metadata": {
    "collapsed": false,
    "pycharm": {
     "name": "#%%\n"
    }
   }
  },
  {
   "cell_type": "markdown",
   "source": [
    "# Numpy 基础运算2"
   ],
   "metadata": {
    "collapsed": false,
    "pycharm": {
     "name": "#%% md\n"
    }
   }
  },
  {
   "cell_type": "code",
   "execution_count": 31,
   "outputs": [
    {
     "name": "stdout",
     "output_type": "stream",
     "text": [
      "0\n",
      "11\n"
     ]
    }
   ],
   "source": [
    "import numpy as np\n",
    "A = np.arange(2,14).reshape((3,4))\n",
    "\n",
    "# array([[ 2, 3, 4, 5]\n",
    "#        [ 6, 7, 8, 9]\n",
    "#        [10,11,12,13]])\n",
    "\n",
    "print(np.argmin(A))    # 0\n",
    "print(np.argmax(A))    # 11"
   ],
   "metadata": {
    "collapsed": false,
    "pycharm": {
     "name": "#%%\n"
    }
   }
  },
  {
   "cell_type": "markdown",
   "source": [
    "## numpy 的几种基本运算\n",
    "### 计算统计中的均值"
   ],
   "metadata": {
    "collapsed": false,
    "pycharm": {
     "name": "#%% md\n"
    }
   }
  },
  {
   "cell_type": "code",
   "execution_count": 32,
   "outputs": [
    {
     "name": "stdout",
     "output_type": "stream",
     "text": [
      "7.5\n",
      "7.5\n"
     ]
    }
   ],
   "source": [
    "print(np.mean(A))        # 7.5\n",
    "print(np.average(A))     # 7.5"
   ],
   "metadata": {
    "collapsed": false,
    "pycharm": {
     "name": "#%%\n"
    }
   }
  },
  {
   "cell_type": "markdown",
   "source": [
    "mean()函数还有另外一种写法："
   ],
   "metadata": {
    "collapsed": false,
    "pycharm": {
     "name": "#%% md\n"
    }
   }
  },
  {
   "cell_type": "code",
   "execution_count": 33,
   "outputs": [
    {
     "name": "stdout",
     "output_type": "stream",
     "text": [
      "7.5\n"
     ]
    }
   ],
   "source": [
    "print(A.mean())          # 7.5\n"
   ],
   "metadata": {
    "collapsed": false,
    "pycharm": {
     "name": "#%%\n"
    }
   }
  },
  {
   "cell_type": "markdown",
   "source": [
    "求解中位数的函数"
   ],
   "metadata": {
    "collapsed": false
   }
  },
  {
   "cell_type": "code",
   "execution_count": 34,
   "outputs": [],
   "source": [
    "#print(A.median())       # 7.5"
   ],
   "metadata": {
    "collapsed": false,
    "pycharm": {
     "name": "#%%\n"
    }
   }
  },
  {
   "cell_type": "markdown",
   "source": [
    "### 累加函数"
   ],
   "metadata": {
    "collapsed": false,
    "pycharm": {
     "name": "#%% md\n"
    }
   }
  },
  {
   "cell_type": "code",
   "execution_count": 35,
   "outputs": [
    {
     "name": "stdout",
     "output_type": "stream",
     "text": [
      "[ 2  5  9 14 20 27 35 44 54 65 77 90]\n"
     ]
    }
   ],
   "source": [
    "print(np.cumsum(A))\n",
    "\n",
    "# [2 5 9 14 20 27 35 44 54 65 77 90]"
   ],
   "metadata": {
    "collapsed": false,
    "pycharm": {
     "name": "#%%\n"
    }
   }
  },
  {
   "cell_type": "markdown",
   "source": [
    "### 累差运算函数"
   ],
   "metadata": {
    "collapsed": false,
    "pycharm": {
     "name": "#%% md\n"
    }
   }
  },
  {
   "cell_type": "code",
   "execution_count": 36,
   "outputs": [
    {
     "name": "stdout",
     "output_type": "stream",
     "text": [
      "[[1 1 1]\n",
      " [1 1 1]\n",
      " [1 1 1]]\n"
     ]
    }
   ],
   "source": [
    "print(np.diff(A))\n",
    "\n",
    "# [[1 1 1]\n",
    "#  [1 1 1]\n",
    "#  [1 1 1]]"
   ],
   "metadata": {
    "collapsed": false,
    "pycharm": {
     "name": "#%%\n"
    }
   }
  },
  {
   "cell_type": "markdown",
   "source": [
    "## nonzero()函数"
   ],
   "metadata": {
    "collapsed": false,
    "pycharm": {
     "name": "#%% md\n"
    }
   }
  },
  {
   "cell_type": "code",
   "execution_count": 37,
   "outputs": [
    {
     "name": "stdout",
     "output_type": "stream",
     "text": [
      "(array([0, 0, 0, 0, 1, 1, 1, 1, 2, 2, 2, 2], dtype=int64), array([0, 1, 2, 3, 0, 1, 2, 3, 0, 1, 2, 3], dtype=int64))\n"
     ]
    }
   ],
   "source": [
    "print(np.nonzero(A))\n",
    "\n",
    "# (array([0,0,0,0,1,1,1,1,2,2,2,2]),array([0,1,2,3,0,1,2,3,0,1,2,3]))"
   ],
   "metadata": {
    "collapsed": false,
    "pycharm": {
     "name": "#%%\n"
    }
   }
  },
  {
   "cell_type": "markdown",
   "source": [
    "## 从小到大排序操作"
   ],
   "metadata": {
    "collapsed": false,
    "pycharm": {
     "name": "#%% md\n"
    }
   }
  },
  {
   "cell_type": "code",
   "execution_count": 38,
   "outputs": [
    {
     "name": "stdout",
     "output_type": "stream",
     "text": [
      "[[14 13 12 11]\n",
      " [10  9  8  7]\n",
      " [ 6  5  4  3]]\n"
     ]
    }
   ],
   "source": [
    "import numpy as np\n",
    "A = np.arange(14,2, -1).reshape((3,4))\n",
    "print(A)\n",
    "# array([[14, 13, 12, 11],\n",
    "#       [10,  9,  8,  7],\n",
    "#       [ 6,  5,  4,  3]])"
   ],
   "metadata": {
    "collapsed": false,
    "pycharm": {
     "name": "#%%\n"
    }
   }
  },
  {
   "cell_type": "code",
   "execution_count": 39,
   "outputs": [
    {
     "name": "stdout",
     "output_type": "stream",
     "text": [
      "[[11 12 13 14]\n",
      " [ 7  8  9 10]\n",
      " [ 3  4  5  6]]\n"
     ]
    }
   ],
   "source": [
    "print(np.sort(A))\n",
    "# array([[11,12,13,14]\n",
    "#        [ 7, 8, 9,10]\n",
    "#        [ 3, 4, 5, 6]])"
   ],
   "metadata": {
    "collapsed": false,
    "pycharm": {
     "name": "#%%\n"
    }
   }
  },
  {
   "cell_type": "markdown",
   "source": [
    "### 矩阵的转置有两种表示方法："
   ],
   "metadata": {
    "collapsed": false,
    "pycharm": {
     "name": "#%% md\n"
    }
   }
  },
  {
   "cell_type": "code",
   "execution_count": 40,
   "outputs": [
    {
     "name": "stdout",
     "output_type": "stream",
     "text": [
      "[[14 10  6]\n",
      " [13  9  5]\n",
      " [12  8  4]\n",
      " [11  7  3]]\n",
      "[[14 10  6]\n",
      " [13  9  5]\n",
      " [12  8  4]\n",
      " [11  7  3]]\n"
     ]
    }
   ],
   "source": [
    "print(np.transpose(A))\n",
    "print(A.T)\n",
    "\n",
    "# array([[14,10, 6]\n",
    "#        [13, 9, 5]\n",
    "#        [12, 8, 4]\n",
    "#        [11, 7, 3]])\n",
    "# array([[14,10, 6]\n",
    "#        [13, 9, 5]\n",
    "#        [12, 8, 4]\n",
    "#        [11, 7, 3]])"
   ],
   "metadata": {
    "collapsed": false,
    "pycharm": {
     "name": "#%%\n"
    }
   }
  },
  {
   "cell_type": "markdown",
   "source": [
    "### clip()函数"
   ],
   "metadata": {
    "collapsed": false,
    "pycharm": {
     "name": "#%% md\n"
    }
   }
  },
  {
   "cell_type": "code",
   "execution_count": 41,
   "outputs": [
    {
     "name": "stdout",
     "output_type": "stream",
     "text": [
      "[[14 13 12 11]\n",
      " [10  9  8  7]\n",
      " [ 6  5  4  3]]\n"
     ]
    }
   ],
   "source": [
    "print(A)\n",
    "# array([[14,13,12,11]\n",
    "#        [10, 9, 8, 7]\n",
    "#        [ 6, 5, 4, 3]])"
   ],
   "metadata": {
    "collapsed": false,
    "pycharm": {
     "name": "#%%\n"
    }
   }
  },
  {
   "cell_type": "code",
   "execution_count": 42,
   "outputs": [
    {
     "name": "stdout",
     "output_type": "stream",
     "text": [
      "[[9 9 9 9]\n",
      " [9 9 8 7]\n",
      " [6 5 5 5]]\n"
     ]
    }
   ],
   "source": [
    "print(np.clip(A,5,9))\n",
    "# array([[ 9, 9, 9, 9]\n",
    "#        [ 9, 9, 8, 7]\n",
    "#        [ 6, 5, 5, 5]])"
   ],
   "metadata": {
    "collapsed": false,
    "pycharm": {
     "name": "#%%\n"
    }
   }
  },
  {
   "cell_type": "markdown",
   "source": [
    "# Numpy 索引\n",
    "## 一维索引"
   ],
   "metadata": {
    "collapsed": false,
    "pycharm": {
     "name": "#%% md\n"
    }
   }
  },
  {
   "cell_type": "code",
   "execution_count": 43,
   "outputs": [
    {
     "name": "stdout",
     "output_type": "stream",
     "text": [
      "6\n"
     ]
    }
   ],
   "source": [
    "import numpy as np\n",
    "A = np.arange(3,15)\n",
    "\n",
    "# array([3, 4, 5, 6, 7, 8, 9, 10, 11, 12, 13, 14])\n",
    "\n",
    "print(A[3])    # 6"
   ],
   "metadata": {
    "collapsed": false,
    "pycharm": {
     "name": "#%%\n"
    }
   }
  },
  {
   "cell_type": "markdown",
   "source": [
    "### 矩阵转换为二维的"
   ],
   "metadata": {
    "collapsed": false,
    "pycharm": {
     "name": "#%% md\n"
    }
   }
  },
  {
   "cell_type": "code",
   "execution_count": 44,
   "outputs": [
    {
     "name": "stdout",
     "output_type": "stream",
     "text": [
      "[11 12 13 14]\n"
     ]
    }
   ],
   "source": [
    "A = np.arange(3,15).reshape((3,4))\n",
    "\"\"\"\n",
    "array([[ 3,  4,  5,  6]\n",
    "       [ 7,  8,  9, 10]\n",
    "       [11, 12, 13, 14]])\n",
    "\"\"\"\n",
    "\n",
    "print(A[2])\n",
    "# [11 12 13 14]"
   ],
   "metadata": {
    "collapsed": false,
    "pycharm": {
     "name": "#%%\n"
    }
   }
  },
  {
   "cell_type": "markdown",
   "source": [
    "## 二维索引"
   ],
   "metadata": {
    "collapsed": false,
    "pycharm": {
     "name": "#%% md\n"
    }
   }
  },
  {
   "cell_type": "code",
   "execution_count": 45,
   "outputs": [
    {
     "name": "stdout",
     "output_type": "stream",
     "text": [
      "8\n",
      "8\n",
      "[8 9]\n"
     ]
    }
   ],
   "source": [
    "print(A[1][1])      # 8\n",
    "print(A[1, 1])      # 8\n",
    "print(A[1, 1:3])    # [8 9]"
   ],
   "metadata": {
    "collapsed": false,
    "pycharm": {
     "name": "#%%\n"
    }
   }
  },
  {
   "cell_type": "code",
   "execution_count": 46,
   "outputs": [
    {
     "name": "stdout",
     "output_type": "stream",
     "text": [
      "[3 4 5 6]\n",
      "[ 7  8  9 10]\n",
      "[11 12 13 14]\n"
     ]
    },
    {
     "data": {
      "text/plain": "'\\n[ 3,  4,  5, 6]\\n[ 7,  8,  9, 10]\\n[11, 12, 13, 14]\\n'"
     },
     "execution_count": 46,
     "metadata": {},
     "output_type": "execute_result"
    }
   ],
   "source": [
    "for row in A:\n",
    "    print(row)\n",
    "\"\"\"\n",
    "[ 3,  4,  5, 6]\n",
    "[ 7,  8,  9, 10]\n",
    "[11, 12, 13, 14]\n",
    "\"\"\""
   ],
   "metadata": {
    "collapsed": false,
    "pycharm": {
     "name": "#%%\n"
    }
   }
  },
  {
   "cell_type": "code",
   "execution_count": 47,
   "outputs": [
    {
     "name": "stdout",
     "output_type": "stream",
     "text": [
      "[ 3  7 11]\n",
      "[ 4  8 12]\n",
      "[ 5  9 13]\n",
      "[ 6 10 14]\n"
     ]
    },
    {
     "data": {
      "text/plain": "'\\n[ 3,  7,  11]\\n[ 4,  8,  12]\\n[ 5,  9,  13]\\n[ 6, 10,  14]\\n'"
     },
     "execution_count": 47,
     "metadata": {},
     "output_type": "execute_result"
    }
   ],
   "source": [
    "for column in A.T:\n",
    "    print(column)\n",
    "\"\"\"\n",
    "[ 3,  7,  11]\n",
    "[ 4,  8,  12]\n",
    "[ 5,  9,  13]\n",
    "[ 6, 10,  14]\n",
    "\"\"\""
   ],
   "metadata": {
    "collapsed": false,
    "pycharm": {
     "name": "#%%\n"
    }
   }
  },
  {
   "cell_type": "code",
   "execution_count": 48,
   "outputs": [
    {
     "name": "stdout",
     "output_type": "stream",
     "text": [
      "[ 3  4  5  6  7  8  9 10 11 12 13 14]\n",
      "3\n",
      "4\n",
      "5\n",
      "6\n",
      "7\n",
      "8\n",
      "9\n",
      "10\n",
      "11\n",
      "12\n",
      "13\n",
      "14\n"
     ]
    }
   ],
   "source": [
    "import numpy as np\n",
    "A = np.arange(3,15).reshape((3,4))\n",
    "\n",
    "print(A.flatten())\n",
    "# array([3, 4, 5, 6, 7, 8, 9, 10, 11, 12, 13, 14])\n",
    "\n",
    "for item in A.flat:\n",
    "    print(item)"
   ],
   "metadata": {
    "collapsed": false,
    "pycharm": {
     "name": "#%%\n"
    }
   }
  },
  {
   "cell_type": "markdown",
   "source": [
    "# Numpy array 合并\n",
    "## np.vstack()"
   ],
   "metadata": {
    "collapsed": false,
    "pycharm": {
     "name": "#%% md\n"
    }
   }
  },
  {
   "cell_type": "code",
   "execution_count": 49,
   "outputs": [
    {
     "name": "stdout",
     "output_type": "stream",
     "text": [
      "[[1 1 1]\n",
      " [2 2 2]]\n"
     ]
    },
    {
     "data": {
      "text/plain": "'\\n[[1,1,1]\\n [2,2,2]]\\n'"
     },
     "execution_count": 49,
     "metadata": {},
     "output_type": "execute_result"
    }
   ],
   "source": [
    "import numpy as np\n",
    "A = np.array([1,1,1])\n",
    "B = np.array([2,2,2])\n",
    "\n",
    "print(np.vstack((A,B)))    # vertical stack\n",
    "\"\"\"\n",
    "[[1,1,1]\n",
    " [2,2,2]]\n",
    "\"\"\"\n"
   ],
   "metadata": {
    "collapsed": false,
    "pycharm": {
     "name": "#%%\n"
    }
   }
  },
  {
   "cell_type": "code",
   "execution_count": 50,
   "outputs": [
    {
     "name": "stdout",
     "output_type": "stream",
     "text": [
      "(3,) (2, 3)\n"
     ]
    }
   ],
   "source": [
    "C = np.vstack((A,B))\n",
    "print(A.shape,C.shape)\n",
    "\n",
    "# (3,) (2,3)\n"
   ],
   "metadata": {
    "collapsed": false,
    "pycharm": {
     "name": "#%%\n"
    }
   }
  },
  {
   "cell_type": "markdown",
   "source": [
    "## np.hstack()"
   ],
   "metadata": {
    "collapsed": false,
    "pycharm": {
     "name": "#%% md\n"
    }
   }
  },
  {
   "cell_type": "code",
   "execution_count": 51,
   "outputs": [
    {
     "name": "stdout",
     "output_type": "stream",
     "text": [
      "[1 1 1 2 2 2]\n",
      "(3,) (6,)\n"
     ]
    }
   ],
   "source": [
    "D = np.hstack((A,B))       # horizontal stack\n",
    "\n",
    "print(D)\n",
    "# [1,1,1,2,2,2]\n",
    "\n",
    "print(A.shape,D.shape)\n",
    "# (3,) (6,)"
   ],
   "metadata": {
    "collapsed": false,
    "pycharm": {
     "name": "#%%\n"
    }
   }
  },
  {
   "cell_type": "markdown",
   "source": [
    "## np.newaxis()"
   ],
   "metadata": {
    "collapsed": false,
    "pycharm": {
     "name": "#%% md\n"
    }
   }
  },
  {
   "cell_type": "code",
   "execution_count": 52,
   "outputs": [
    {
     "name": "stdout",
     "output_type": "stream",
     "text": [
      "[[1 1 1]]\n",
      "(1, 3)\n",
      "[[1]\n",
      " [1]\n",
      " [1]]\n",
      "(3, 1)\n"
     ]
    }
   ],
   "source": [
    "print(A[np.newaxis,:])\n",
    "# [[1 1 1]]\n",
    "\n",
    "print(A[np.newaxis,:].shape)\n",
    "# (1,3)\n",
    "\n",
    "print(A[:,np.newaxis])\n",
    "\"\"\"\n",
    "[[1]\n",
    "[1]\n",
    "[1]]\n",
    "\"\"\"\n",
    "\n",
    "print(A[:,np.newaxis].shape)\n",
    "# (3,1)\n",
    "\n"
   ],
   "metadata": {
    "collapsed": false,
    "pycharm": {
     "name": "#%%\n"
    }
   }
  },
  {
   "cell_type": "code",
   "execution_count": 53,
   "outputs": [
    {
     "name": "stdout",
     "output_type": "stream",
     "text": [
      "[[1 2]\n",
      " [1 2]\n",
      " [1 2]]\n",
      "(3, 1) (3, 2)\n"
     ]
    }
   ],
   "source": [
    "import numpy as np\n",
    "A = np.array([1,1,1])[:,np.newaxis]\n",
    "B = np.array([2,2,2])[:,np.newaxis]\n",
    "\n",
    "C = np.vstack((A,B))   # vertical stack\n",
    "D = np.hstack((A,B))   # horizontal stack\n",
    "\n",
    "print(D)\n",
    "\"\"\"\n",
    "[[1 2]\n",
    "[1 2]\n",
    "[1 2]]\n",
    "\"\"\"\n",
    "\n",
    "print(A.shape,D.shape)\n",
    "# (3,1) (3,2)\n"
   ],
   "metadata": {
    "collapsed": false,
    "pycharm": {
     "name": "#%%\n"
    }
   }
  },
  {
   "cell_type": "markdown",
   "source": [
    "## np.concatenate()"
   ],
   "metadata": {
    "collapsed": false,
    "pycharm": {
     "name": "#%% md\n"
    }
   }
  },
  {
   "cell_type": "code",
   "execution_count": 54,
   "outputs": [
    {
     "name": "stdout",
     "output_type": "stream",
     "text": [
      "[[1]\n",
      " [1]\n",
      " [1]\n",
      " [2]\n",
      " [2]\n",
      " [2]\n",
      " [2]\n",
      " [2]\n",
      " [2]\n",
      " [1]\n",
      " [1]\n",
      " [1]]\n",
      "[[1 2 2 1]\n",
      " [1 2 2 1]\n",
      " [1 2 2 1]]\n"
     ]
    },
    {
     "data": {
      "text/plain": "'\\narray([[1, 2, 2, 1],\\n       [1, 2, 2, 1],\\n       [1, 2, 2, 1]])\\n'"
     },
     "execution_count": 54,
     "metadata": {},
     "output_type": "execute_result"
    }
   ],
   "source": [
    "C = np.concatenate((A,B,B,A),axis=0)\n",
    "\n",
    "print(C)\n",
    "\"\"\"\n",
    "array([[1],\n",
    "       [1],\n",
    "       [1],\n",
    "       [2],\n",
    "       [2],\n",
    "       [2],\n",
    "       [2],\n",
    "       [2],\n",
    "       [2],\n",
    "       [1],\n",
    "       [1],\n",
    "       [1]])\n",
    "\"\"\"\n",
    "\n",
    "D = np.concatenate((A,B,B,A),axis=1)\n",
    "\n",
    "print(D)\n",
    "\"\"\"\n",
    "array([[1, 2, 2, 1],\n",
    "       [1, 2, 2, 1],\n",
    "       [1, 2, 2, 1]])\n",
    "\"\"\"\n",
    "\n",
    "\n"
   ],
   "metadata": {
    "collapsed": false,
    "pycharm": {
     "name": "#%%\n"
    }
   }
  },
  {
   "cell_type": "markdown",
   "source": [
    "# Numpy array 分割\n",
    "## 创建数据"
   ],
   "metadata": {
    "collapsed": false,
    "pycharm": {
     "name": "#%% md\n"
    }
   }
  },
  {
   "cell_type": "code",
   "execution_count": 55,
   "outputs": [
    {
     "name": "stdout",
     "output_type": "stream",
     "text": [
      "[[ 0  1  2  3]\n",
      " [ 4  5  6  7]\n",
      " [ 8  9 10 11]]\n"
     ]
    },
    {
     "data": {
      "text/plain": "'\\narray([[ 0,  1,  2,  3],\\n    [ 4,  5,  6,  7],\\n    [ 8,  9, 10, 11]])\\n'"
     },
     "execution_count": 55,
     "metadata": {},
     "output_type": "execute_result"
    }
   ],
   "source": [
    "import numpy as np\n",
    "A = np.arange(12).reshape((3, 4))\n",
    "print(A)\n",
    "\"\"\"\n",
    "array([[ 0,  1,  2,  3],\n",
    "    [ 4,  5,  6,  7],\n",
    "    [ 8,  9, 10, 11]])\n",
    "\"\"\""
   ],
   "metadata": {
    "collapsed": false,
    "pycharm": {
     "name": "#%%\n"
    }
   }
  },
  {
   "cell_type": "markdown",
   "source": [
    "## 纵向分割"
   ],
   "metadata": {
    "collapsed": false,
    "pycharm": {
     "name": "#%% md\n"
    }
   }
  },
  {
   "cell_type": "code",
   "execution_count": 56,
   "outputs": [
    {
     "name": "stdout",
     "output_type": "stream",
     "text": [
      "[array([[0, 1],\n",
      "       [4, 5],\n",
      "       [8, 9]]), array([[ 2,  3],\n",
      "       [ 6,  7],\n",
      "       [10, 11]])]\n"
     ]
    },
    {
     "data": {
      "text/plain": "'\\n[array([[0, 1],\\n        [4, 5],\\n        [8, 9]]), array([[ 2,  3],\\n        [ 6,  7],\\n        [10, 11]])]\\n'"
     },
     "execution_count": 56,
     "metadata": {},
     "output_type": "execute_result"
    }
   ],
   "source": [
    "print(np.split(A, 2, axis=1))\n",
    "\"\"\"\n",
    "[array([[0, 1],\n",
    "        [4, 5],\n",
    "        [8, 9]]), array([[ 2,  3],\n",
    "        [ 6,  7],\n",
    "        [10, 11]])]\n",
    "\"\"\""
   ],
   "metadata": {
    "collapsed": false,
    "pycharm": {
     "name": "#%%\n"
    }
   }
  },
  {
   "cell_type": "markdown",
   "source": [
    "## 横向分割"
   ],
   "metadata": {
    "collapsed": false,
    "pycharm": {
     "name": "#%% md\n"
    }
   }
  },
  {
   "cell_type": "code",
   "execution_count": 57,
   "outputs": [
    {
     "name": "stdout",
     "output_type": "stream",
     "text": [
      "[array([[0, 1, 2, 3]]), array([[4, 5, 6, 7]]), array([[ 8,  9, 10, 11]])]\n"
     ]
    }
   ],
   "source": [
    "print(np.split(A, 3, axis=0))\n",
    "\n",
    "# [array([[0, 1, 2, 3]]), array([[4, 5, 6, 7]]), array([[ 8,  9, 10, 11]])]\n",
    "\n",
    "\n"
   ],
   "metadata": {
    "collapsed": false,
    "pycharm": {
     "name": "#%%\n"
    }
   }
  },
  {
   "cell_type": "markdown",
   "source": [
    "# 错误分割"
   ],
   "metadata": {
    "collapsed": false,
    "pycharm": {
     "name": "#%% md\n"
    }
   }
  },
  {
   "cell_type": "code",
   "execution_count": 58,
   "outputs": [],
   "source": [
    "#print(np.split(A, 3, axis=1))\n",
    "\n",
    "# ValueError: array split does not result in an equal division"
   ],
   "metadata": {
    "collapsed": false,
    "pycharm": {
     "name": "#%%\n"
    }
   }
  },
  {
   "cell_type": "markdown",
   "source": [
    "## 不等量的分割"
   ],
   "metadata": {
    "collapsed": false,
    "pycharm": {
     "name": "#%% md\n"
    }
   }
  },
  {
   "cell_type": "code",
   "execution_count": 59,
   "outputs": [
    {
     "name": "stdout",
     "output_type": "stream",
     "text": [
      "[array([[0, 1],\n",
      "       [4, 5],\n",
      "       [8, 9]]), array([[ 2],\n",
      "       [ 6],\n",
      "       [10]]), array([[ 3],\n",
      "       [ 7],\n",
      "       [11]])]\n"
     ]
    },
    {
     "data": {
      "text/plain": "'\\n[array([[0, 1],\\n        [4, 5],\\n        [8, 9]]), array([[ 2],\\n        [ 6],\\n        [10]]), array([[ 3],\\n        [ 7],\\n        [11]])]\\n'"
     },
     "execution_count": 59,
     "metadata": {},
     "output_type": "execute_result"
    }
   ],
   "source": [
    "print(np.array_split(A, 3, axis=1))\n",
    "\"\"\"\n",
    "[array([[0, 1],\n",
    "        [4, 5],\n",
    "        [8, 9]]), array([[ 2],\n",
    "        [ 6],\n",
    "        [10]]), array([[ 3],\n",
    "        [ 7],\n",
    "        [11]])]\n",
    "\"\"\"\n"
   ],
   "metadata": {
    "collapsed": false,
    "pycharm": {
     "name": "#%%\n"
    }
   }
  },
  {
   "cell_type": "markdown",
   "source": [
    "## 其他的分割方式\n",
    "\n"
   ],
   "metadata": {
    "collapsed": false,
    "pycharm": {
     "name": "#%% md\n"
    }
   }
  },
  {
   "cell_type": "code",
   "execution_count": 60,
   "outputs": [
    {
     "name": "stdout",
     "output_type": "stream",
     "text": [
      "[array([[0, 1, 2, 3]]), array([[4, 5, 6, 7]]), array([[ 8,  9, 10, 11]])]\n"
     ]
    }
   ],
   "source": [
    "print(np.vsplit(A, 3)) #等于 print(np.split(A, 3, axis=0))\n",
    "\n",
    "# [array([[0, 1, 2, 3]]), array([[4, 5, 6, 7]]), array([[ 8,  9, 10, 11]])]"
   ],
   "metadata": {
    "collapsed": false,
    "pycharm": {
     "name": "#%%\n"
    }
   }
  },
  {
   "cell_type": "code",
   "execution_count": 61,
   "outputs": [
    {
     "name": "stdout",
     "output_type": "stream",
     "text": [
      "[array([[0, 1],\n",
      "       [4, 5],\n",
      "       [8, 9]]), array([[ 2,  3],\n",
      "       [ 6,  7],\n",
      "       [10, 11]])]\n"
     ]
    },
    {
     "data": {
      "text/plain": "'\\n[array([[0, 1],\\n       [4, 5],\\n       [8, 9]]), array([[ 2,  3],\\n        [ 6,  7],\\n        [10, 11]])]\\n'"
     },
     "execution_count": 61,
     "metadata": {},
     "output_type": "execute_result"
    }
   ],
   "source": [
    "print(np.hsplit(A, 2)) #等于 print(np.split(A, 2, axis=1))\n",
    "\"\"\"\n",
    "[array([[0, 1],\n",
    "       [4, 5],\n",
    "       [8, 9]]), array([[ 2,  3],\n",
    "        [ 6,  7],\n",
    "        [10, 11]])]\n",
    "\"\"\""
   ],
   "metadata": {
    "collapsed": false,
    "pycharm": {
     "name": "#%%\n"
    }
   }
  },
  {
   "cell_type": "markdown",
   "source": [
    "# Numpy copy & deep copy\n",
    "## = 的赋值方式会带有关联性"
   ],
   "metadata": {
    "collapsed": false,
    "pycharm": {
     "name": "#%% md\n"
    }
   }
  },
  {
   "cell_type": "code",
   "execution_count": 62,
   "outputs": [],
   "source": [
    "import numpy as np\n",
    "\n",
    "a = np.arange(4)\n",
    "# array([0, 1, 2, 3])\n",
    "\n",
    "b = a\n",
    "c = a\n",
    "d = b\n"
   ],
   "metadata": {
    "collapsed": false,
    "pycharm": {
     "name": "#%%\n"
    }
   }
  },
  {
   "cell_type": "code",
   "execution_count": 63,
   "outputs": [
    {
     "name": "stdout",
     "output_type": "stream",
     "text": [
      "[11  1  2  3]\n"
     ]
    }
   ],
   "source": [
    "a[0] = 11\n",
    "print(a)\n",
    "# array([11,  1,  2,  3])"
   ],
   "metadata": {
    "collapsed": false,
    "pycharm": {
     "name": "#%%\n"
    }
   }
  },
  {
   "cell_type": "code",
   "execution_count": 64,
   "outputs": [
    {
     "data": {
      "text/plain": "True"
     },
     "execution_count": 64,
     "metadata": {},
     "output_type": "execute_result"
    }
   ],
   "source": [
    "b is a  # True"
   ],
   "metadata": {
    "collapsed": false,
    "pycharm": {
     "name": "#%%\n"
    }
   }
  },
  {
   "cell_type": "code",
   "execution_count": 65,
   "outputs": [
    {
     "data": {
      "text/plain": "True"
     },
     "execution_count": 65,
     "metadata": {},
     "output_type": "execute_result"
    }
   ],
   "source": [
    "c is a  # True"
   ],
   "metadata": {
    "collapsed": false,
    "pycharm": {
     "name": "#%%\n"
    }
   }
  },
  {
   "cell_type": "code",
   "execution_count": 66,
   "outputs": [
    {
     "data": {
      "text/plain": "True"
     },
     "execution_count": 66,
     "metadata": {},
     "output_type": "execute_result"
    }
   ],
   "source": [
    "d is a  # True"
   ],
   "metadata": {
    "collapsed": false,
    "pycharm": {
     "name": "#%%\n"
    }
   }
  },
  {
   "cell_type": "code",
   "execution_count": 67,
   "outputs": [
    {
     "name": "stdout",
     "output_type": "stream",
     "text": [
      "[11 22 33  3]\n",
      "[11 22 33  3]\n",
      "[11 22 33  3]\n"
     ]
    }
   ],
   "source": [
    "d[1:3] = [22, 33]   # array([11, 22, 33,  3])\n",
    "print(a)            # array([11, 22, 33,  3])\n",
    "print(b)            # array([11, 22, 33,  3])\n",
    "print(c)            # array([11, 22, 33,  3])\n"
   ],
   "metadata": {
    "collapsed": false,
    "pycharm": {
     "name": "#%%\n"
    }
   }
  },
  {
   "cell_type": "markdown",
   "source": [
    "## copy() 的赋值方式没有关联性\n"
   ],
   "metadata": {
    "collapsed": false,
    "pycharm": {
     "name": "#%% md\n"
    }
   }
  },
  {
   "cell_type": "code",
   "execution_count": 68,
   "outputs": [
    {
     "name": "stdout",
     "output_type": "stream",
     "text": [
      "[11 22 33  3]\n",
      "[11 22 33 44]\n",
      "[11 22 33  3]\n"
     ]
    }
   ],
   "source": [
    "b = a.copy()    # deep copy\n",
    "print(b)        # array([11, 22, 33,  3])\n",
    "a[3] = 44\n",
    "print(a)        # array([11, 22, 33, 44])\n",
    "print(b)        # array([11, 22, 33,  3])"
   ],
   "metadata": {
    "collapsed": false,
    "pycharm": {
     "name": "#%%\n"
    }
   }
  },
  {
   "cell_type": "code",
   "execution_count": 68,
   "outputs": [],
   "source": [],
   "metadata": {
    "collapsed": false,
    "pycharm": {
     "name": "#%%\n"
    }
   }
  }
 ],
 "metadata": {
  "kernelspec": {
   "name": "pycharm-64147ca0",
   "language": "python",
   "display_name": "PyCharm (pycharm)"
  },
  "language_info": {
   "codemirror_mode": {
    "name": "ipython",
    "version": 2
   },
   "file_extension": ".py",
   "mimetype": "text/x-python",
   "name": "python",
   "nbconvert_exporter": "python",
   "pygments_lexer": "ipython2",
   "version": "2.7.6"
  }
 },
 "nbformat": 4,
 "nbformat_minor": 0
}