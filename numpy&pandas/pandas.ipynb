{
 "cells": [
  {
   "cell_type": "markdown",
   "metadata": {
    "collapsed": true,
    "pycharm": {
     "name": "#%% md\n"
    }
   },
   "source": [
    "# Pandas 基本介绍\n",
    "## Numpy 和 Pandas 有什么不同\n",
    "如果用 python 的列表和字典来作比较, 那么可以说 Numpy 是列表形式的，没有数值标签，而 Pandas 就是字典形式。Pandas是基于Numpy构建的，让Numpy为中心的应用变得更加简单。\n",
    "要使用pandas，首先需要了解他主要两个数据结构：Series和DataFrame。\n",
    "## Series"
   ]
  },
  {
   "cell_type": "code",
   "execution_count": 3,
   "outputs": [
    {
     "name": "stdout",
     "output_type": "stream",
     "text": [
      "324\n"
     ]
    }
   ],
   "source": [
    "print('324')"
   ],
   "metadata": {
    "collapsed": false,
    "pycharm": {
     "name": "#%%\n"
    }
   }
  },
  {
   "cell_type": "code",
   "execution_count": 4,
   "outputs": [
    {
     "name": "stdout",
     "output_type": "stream",
     "text": [
      "0     1.0\n",
      "1     3.0\n",
      "2     6.0\n",
      "3     NaN\n",
      "4    44.0\n",
      "5     1.0\n",
      "dtype: float64\n"
     ]
    },
    {
     "data": {
      "text/plain": "'\\n0     1.0\\n1     3.0\\n2     6.0\\n3     NaN\\n4    44.0\\n5     1.0\\ndtype: float64\\n'"
     },
     "execution_count": 4,
     "metadata": {},
     "output_type": "execute_result"
    }
   ],
   "source": [
    "import pandas as pd\n",
    "import numpy as np\n",
    "s = pd.Series([1,3,6,np.nan,44,1])\n",
    "\n",
    "print(s)\n",
    "\"\"\"\n",
    "0     1.0\n",
    "1     3.0\n",
    "2     6.0\n",
    "3     NaN\n",
    "4    44.0\n",
    "5     1.0\n",
    "dtype: float64\n",
    "\"\"\""
   ],
   "metadata": {
    "collapsed": false,
    "pycharm": {
     "name": "#%%\n"
    }
   }
  },
  {
   "cell_type": "markdown",
   "source": [
    "## DataFrame"
   ],
   "metadata": {
    "collapsed": false,
    "pycharm": {
     "name": "#%% md\n"
    }
   }
  },
  {
   "cell_type": "code",
   "execution_count": 5,
   "outputs": [
    {
     "name": "stdout",
     "output_type": "stream",
     "text": [
      "                   a         b         c         d\n",
      "2016-01-01  2.002860  1.187294 -1.082091 -2.570219\n",
      "2016-01-02  0.176424  1.663585  0.136243  0.032905\n",
      "2016-01-03  0.271189  0.603125  0.237546 -0.270530\n",
      "2016-01-04 -2.170872  0.186156  2.712015 -0.905945\n",
      "2016-01-05 -0.876006 -0.506293  2.003870 -0.729463\n",
      "2016-01-06 -0.074672 -1.609478  0.090971 -0.850126\n"
     ]
    },
    {
     "data": {
      "text/plain": "'\\n                   a         b         c         d\\n2016-01-01 -0.253065 -2.071051 -0.640515  0.613663\\n2016-01-02 -1.147178  1.532470  0.989255 -0.499761\\n2016-01-03  1.221656 -2.390171  1.862914  0.778070\\n2016-01-04  1.473877 -0.046419  0.610046  0.204672\\n2016-01-05 -1.584752 -0.700592  1.487264 -1.778293\\n2016-01-06  0.633675 -1.414157 -0.277066 -0.442545\\n'"
     },
     "execution_count": 5,
     "metadata": {},
     "output_type": "execute_result"
    }
   ],
   "source": [
    "dates = pd.date_range('20160101',periods=6)\n",
    "df = pd.DataFrame(np.random.randn(6,4),index=dates,columns=['a','b','c','d'])\n",
    "\n",
    "print(df)\n",
    "\"\"\"\n",
    "                   a         b         c         d\n",
    "2016-01-01 -0.253065 -2.071051 -0.640515  0.613663\n",
    "2016-01-02 -1.147178  1.532470  0.989255 -0.499761\n",
    "2016-01-03  1.221656 -2.390171  1.862914  0.778070\n",
    "2016-01-04  1.473877 -0.046419  0.610046  0.204672\n",
    "2016-01-05 -1.584752 -0.700592  1.487264 -1.778293\n",
    "2016-01-06  0.633675 -1.414157 -0.277066 -0.442545\n",
    "\"\"\""
   ],
   "metadata": {
    "collapsed": false,
    "pycharm": {
     "name": "#%%\n"
    }
   }
  },
  {
   "cell_type": "markdown",
   "source": [
    "## DataFrame 的一些简单运用"
   ],
   "metadata": {
    "collapsed": false,
    "pycharm": {
     "name": "#%% md\n"
    }
   }
  },
  {
   "cell_type": "code",
   "execution_count": 6,
   "outputs": [
    {
     "name": "stdout",
     "output_type": "stream",
     "text": [
      "2016-01-01    1.187294\n",
      "2016-01-02    1.663585\n",
      "2016-01-03    0.603125\n",
      "2016-01-04    0.186156\n",
      "2016-01-05   -0.506293\n",
      "2016-01-06   -1.609478\n",
      "Freq: D, Name: b, dtype: float64\n"
     ]
    },
    {
     "data": {
      "text/plain": "'\\n2016-01-01   -2.071051\\n2016-01-02    1.532470\\n2016-01-03   -2.390171\\n2016-01-04   -0.046419\\n2016-01-05   -0.700592\\n2016-01-06   -1.414157\\nFreq: D, Name: b, dtype: float64\\n'"
     },
     "execution_count": 6,
     "metadata": {},
     "output_type": "execute_result"
    }
   ],
   "source": [
    "print(df['b'])\n",
    "\n",
    "\"\"\"\n",
    "2016-01-01   -2.071051\n",
    "2016-01-02    1.532470\n",
    "2016-01-03   -2.390171\n",
    "2016-01-04   -0.046419\n",
    "2016-01-05   -0.700592\n",
    "2016-01-06   -1.414157\n",
    "Freq: D, Name: b, dtype: float64\n",
    "\"\"\"\n"
   ],
   "metadata": {
    "collapsed": false,
    "pycharm": {
     "name": "#%%\n"
    }
   }
  },
  {
   "cell_type": "markdown",
   "source": [
    "#### 默认的从0开始 index."
   ],
   "metadata": {
    "collapsed": false,
    "pycharm": {
     "name": "#%% md\n"
    }
   }
  },
  {
   "cell_type": "code",
   "execution_count": 7,
   "outputs": [
    {
     "name": "stdout",
     "output_type": "stream",
     "text": [
      "   0  1   2   3\n",
      "0  0  1   2   3\n",
      "1  4  5   6   7\n",
      "2  8  9  10  11\n"
     ]
    },
    {
     "data": {
      "text/plain": "'\\n   0  1   2   3\\n0  0  1   2   3\\n1  4  5   6   7\\n2  8  9  10  11\\n'"
     },
     "execution_count": 7,
     "metadata": {},
     "output_type": "execute_result"
    }
   ],
   "source": [
    "df1 = pd.DataFrame(np.arange(12).reshape((3,4)))\n",
    "print(df1)\n",
    "\n",
    "\"\"\"\n",
    "   0  1   2   3\n",
    "0  0  1   2   3\n",
    "1  4  5   6   7\n",
    "2  8  9  10  11\n",
    "\"\"\""
   ],
   "metadata": {
    "collapsed": false,
    "pycharm": {
     "name": "#%%\n"
    }
   }
  },
  {
   "cell_type": "markdown",
   "source": [
    "#### 另外一种生成 df 的方法"
   ],
   "metadata": {
    "collapsed": false,
    "pycharm": {
     "name": "#%% md\n"
    }
   }
  },
  {
   "cell_type": "code",
   "execution_count": 8,
   "outputs": [
    {
     "name": "stdout",
     "output_type": "stream",
     "text": [
      "     A          B    C  D      E    F\n",
      "0  1.0 2013-01-02  1.0  3   test  foo\n",
      "1  1.0 2013-01-02  1.0  3  train  foo\n",
      "2  1.0 2013-01-02  1.0  3   test  foo\n",
      "3  1.0 2013-01-02  1.0  3  train  foo\n"
     ]
    },
    {
     "data": {
      "text/plain": "'\\n     A          B    C  D      E    F\\n0  1.0 2013-01-02  1.0  3   test  foo\\n1  1.0 2013-01-02  1.0  3  train  foo\\n2  1.0 2013-01-02  1.0  3   test  foo\\n3  1.0 2013-01-02  1.0  3  train  foo\\n'"
     },
     "execution_count": 8,
     "metadata": {},
     "output_type": "execute_result"
    }
   ],
   "source": [
    "df2 = pd.DataFrame({'A' : 1.,\n",
    "                    'B' : pd.Timestamp('20130102'),\n",
    "                    'C' : pd.Series(1,index=list(range(4)),dtype='float32'),\n",
    "                    'D' : np.array([3] * 4,dtype='int32'),\n",
    "                    'E' : pd.Categorical([\"test\",\"train\",\"test\",\"train\"]),\n",
    "                    'F' : 'foo'})\n",
    "\n",
    "print(df2)\n",
    "\n",
    "\"\"\"\n",
    "     A          B    C  D      E    F\n",
    "0  1.0 2013-01-02  1.0  3   test  foo\n",
    "1  1.0 2013-01-02  1.0  3  train  foo\n",
    "2  1.0 2013-01-02  1.0  3   test  foo\n",
    "3  1.0 2013-01-02  1.0  3  train  foo\n",
    "\"\"\""
   ],
   "metadata": {
    "collapsed": false,
    "pycharm": {
     "name": "#%%\n"
    }
   }
  },
  {
   "cell_type": "markdown",
   "source": [
    "#### dtype"
   ],
   "metadata": {
    "collapsed": false,
    "pycharm": {
     "name": "#%% md\n"
    }
   }
  },
  {
   "cell_type": "code",
   "source": [
    "print(df2.dtypes)\n",
    "\n",
    "\"\"\"\n",
    "df2.dtypes\n",
    "A           float64\n",
    "B    datetime64[ns]\n",
    "C           float32\n",
    "D             int32\n",
    "E          category\n",
    "F            object\n",
    "dtype: object\n",
    "\"\"\""
   ],
   "metadata": {
    "collapsed": false,
    "pycharm": {
     "name": "#%%\n"
    }
   },
   "execution_count": 9,
   "outputs": [
    {
     "name": "stdout",
     "output_type": "stream",
     "text": [
      "A           float64\n",
      "B    datetime64[ns]\n",
      "C           float32\n",
      "D             int32\n",
      "E          category\n",
      "F            object\n",
      "dtype: object\n"
     ]
    },
    {
     "data": {
      "text/plain": "'\\ndf2.dtypes\\nA           float64\\nB    datetime64[ns]\\nC           float32\\nD             int32\\nE          category\\nF            object\\ndtype: object\\n'"
     },
     "execution_count": 9,
     "metadata": {},
     "output_type": "execute_result"
    }
   ]
  },
  {
   "cell_type": "markdown",
   "source": [
    "#### index"
   ],
   "metadata": {
    "collapsed": false,
    "pycharm": {
     "name": "#%% md\n"
    }
   }
  },
  {
   "cell_type": "code",
   "source": [
    "print(df2.index)\n",
    "\n",
    "# Int64Index([0, 1, 2, 3], dtype='int64')"
   ],
   "metadata": {
    "collapsed": false,
    "pycharm": {
     "name": "#%%\n"
    }
   },
   "execution_count": 10,
   "outputs": [
    {
     "name": "stdout",
     "output_type": "stream",
     "text": [
      "Int64Index([0, 1, 2, 3], dtype='int64')\n"
     ]
    }
   ]
  },
  {
   "cell_type": "markdown",
   "source": [
    "#### columns"
   ],
   "metadata": {
    "collapsed": false,
    "pycharm": {
     "name": "#%% md\n"
    }
   }
  },
  {
   "cell_type": "code",
   "execution_count": 11,
   "outputs": [
    {
     "name": "stdout",
     "output_type": "stream",
     "text": [
      "Index(['A', 'B', 'C', 'D', 'E', 'F'], dtype='object')\n"
     ]
    }
   ],
   "source": [
    "print(df2.columns)\n",
    "\n",
    "# Index(['A', 'B', 'C', 'D', 'E', 'F'], dtype='object')"
   ],
   "metadata": {
    "collapsed": false,
    "pycharm": {
     "name": "#%%\n"
    }
   }
  },
  {
   "cell_type": "markdown",
   "source": [
    "#### values"
   ],
   "metadata": {
    "collapsed": false,
    "pycharm": {
     "name": "#%% md\n"
    }
   }
  },
  {
   "cell_type": "code",
   "execution_count": 12,
   "outputs": [
    {
     "name": "stdout",
     "output_type": "stream",
     "text": [
      "[[1.0 Timestamp('2013-01-02 00:00:00') 1.0 3 'test' 'foo']\n",
      " [1.0 Timestamp('2013-01-02 00:00:00') 1.0 3 'train' 'foo']\n",
      " [1.0 Timestamp('2013-01-02 00:00:00') 1.0 3 'test' 'foo']\n",
      " [1.0 Timestamp('2013-01-02 00:00:00') 1.0 3 'train' 'foo']]\n"
     ]
    },
    {
     "data": {
      "text/plain": "\"\\narray([[1.0, Timestamp('2013-01-02 00:00:00'), 1.0, 3, 'test', 'foo'],\\n       [1.0, Timestamp('2013-01-02 00:00:00'), 1.0, 3, 'train', 'foo'],\\n       [1.0, Timestamp('2013-01-02 00:00:00'), 1.0, 3, 'test', 'foo'],\\n       [1.0, Timestamp('2013-01-02 00:00:00'), 1.0, 3, 'train', 'foo']], dtype=object)\\n\""
     },
     "execution_count": 12,
     "metadata": {},
     "output_type": "execute_result"
    }
   ],
   "source": [
    "print(df2.values)\n",
    "\n",
    "\"\"\"\n",
    "array([[1.0, Timestamp('2013-01-02 00:00:00'), 1.0, 3, 'test', 'foo'],\n",
    "       [1.0, Timestamp('2013-01-02 00:00:00'), 1.0, 3, 'train', 'foo'],\n",
    "       [1.0, Timestamp('2013-01-02 00:00:00'), 1.0, 3, 'test', 'foo'],\n",
    "       [1.0, Timestamp('2013-01-02 00:00:00'), 1.0, 3, 'train', 'foo']], dtype=object)\n",
    "\"\"\""
   ],
   "metadata": {
    "collapsed": false,
    "pycharm": {
     "name": "#%%\n"
    }
   }
  },
  {
   "cell_type": "markdown",
   "source": [
    "#### 数据的总结describe()"
   ],
   "metadata": {
    "collapsed": false,
    "pycharm": {
     "name": "#%% md\n"
    }
   }
  },
  {
   "cell_type": "code",
   "execution_count": 13,
   "outputs": [
    {
     "data": {
      "text/plain": "'\\n         A    C    D\\ncount  4.0  4.0  4.0\\nmean   1.0  1.0  3.0\\nstd    0.0  0.0  0.0\\nmin    1.0  1.0  3.0\\n25%    1.0  1.0  3.0\\n50%    1.0  1.0  3.0\\n75%    1.0  1.0  3.0\\nmax    1.0  1.0  3.0\\n'"
     },
     "execution_count": 13,
     "metadata": {},
     "output_type": "execute_result"
    }
   ],
   "source": [
    "df2.describe()\n",
    "\n",
    "\"\"\"\n",
    "         A    C    D\n",
    "count  4.0  4.0  4.0\n",
    "mean   1.0  1.0  3.0\n",
    "std    0.0  0.0  0.0\n",
    "min    1.0  1.0  3.0\n",
    "25%    1.0  1.0  3.0\n",
    "50%    1.0  1.0  3.0\n",
    "75%    1.0  1.0  3.0\n",
    "max    1.0  1.0  3.0\n",
    "\"\"\""
   ],
   "metadata": {
    "collapsed": false,
    "pycharm": {
     "name": "#%%\n"
    }
   }
  },
  {
   "cell_type": "markdown",
   "source": [
    "#### 翻转数据, transpose:"
   ],
   "metadata": {
    "collapsed": false,
    "pycharm": {
     "name": "#%% md\n"
    }
   }
  },
  {
   "cell_type": "code",
   "execution_count": 14,
   "outputs": [
    {
     "name": "stdout",
     "output_type": "stream",
     "text": [
      "                     0                    1                    2  \\\n",
      "A                  1.0                  1.0                  1.0   \n",
      "B  2013-01-02 00:00:00  2013-01-02 00:00:00  2013-01-02 00:00:00   \n",
      "C                  1.0                  1.0                  1.0   \n",
      "D                    3                    3                    3   \n",
      "E                 test                train                 test   \n",
      "F                  foo                  foo                  foo   \n",
      "\n",
      "                     3  \n",
      "A                  1.0  \n",
      "B  2013-01-02 00:00:00  \n",
      "C                  1.0  \n",
      "D                    3  \n",
      "E                train  \n",
      "F                  foo  \n"
     ]
    },
    {
     "data": {
      "text/plain": "'\\n0                    1                    2  A                    1                    1                    1\\nB  2013-01-02 00:00:00  2013-01-02 00:00:00  2013-01-02 00:00:00\\nC                    1                    1                    1\\nD                    3                    3                    3\\nE                 test                train                 test\\nF                  foo                  foo                  foo\\n\\n                     3\\nA                    1\\nB  2013-01-02 00:00:00\\nC                    1\\nD                    3\\nE                train\\nF                  foo\\n\\n'"
     },
     "execution_count": 14,
     "metadata": {},
     "output_type": "execute_result"
    }
   ],
   "source": [
    "print(df2.T)\n",
    "\n",
    "\"\"\"\n",
    "0                    1                    2  \\\n",
    "A                    1                    1                    1\n",
    "B  2013-01-02 00:00:00  2013-01-02 00:00:00  2013-01-02 00:00:00\n",
    "C                    1                    1                    1\n",
    "D                    3                    3                    3\n",
    "E                 test                train                 test\n",
    "F                  foo                  foo                  foo\n",
    "\n",
    "                     3\n",
    "A                    1\n",
    "B  2013-01-02 00:00:00\n",
    "C                    1\n",
    "D                    3\n",
    "E                train\n",
    "F                  foo\n",
    "\n",
    "\"\"\""
   ],
   "metadata": {
    "collapsed": false,
    "pycharm": {
     "name": "#%%\n"
    }
   }
  },
  {
   "cell_type": "markdown",
   "source": [
    "#### index排序"
   ],
   "metadata": {
    "collapsed": false,
    "pycharm": {
     "name": "#%% md\n"
    }
   }
  },
  {
   "cell_type": "code",
   "execution_count": 15,
   "outputs": [
    {
     "name": "stdout",
     "output_type": "stream",
     "text": [
      "     F      E  D    C          B    A\n",
      "0  foo   test  3  1.0 2013-01-02  1.0\n",
      "1  foo  train  3  1.0 2013-01-02  1.0\n",
      "2  foo   test  3  1.0 2013-01-02  1.0\n",
      "3  foo  train  3  1.0 2013-01-02  1.0\n"
     ]
    },
    {
     "data": {
      "text/plain": "'\\n     F      E  D    C          B    A\\n0  foo   test  3  1.0 2013-01-02  1.0\\n1  foo  train  3  1.0 2013-01-02  1.0\\n2  foo   test  3  1.0 2013-01-02  1.0\\n3  foo  train  3  1.0 2013-01-02  1.0\\n'"
     },
     "execution_count": 15,
     "metadata": {},
     "output_type": "execute_result"
    }
   ],
   "source": [
    "print(df2.sort_index(axis=1, ascending=False))\n",
    "\n",
    "\"\"\"\n",
    "     F      E  D    C          B    A\n",
    "0  foo   test  3  1.0 2013-01-02  1.0\n",
    "1  foo  train  3  1.0 2013-01-02  1.0\n",
    "2  foo   test  3  1.0 2013-01-02  1.0\n",
    "3  foo  train  3  1.0 2013-01-02  1.0\n",
    "\"\"\""
   ],
   "metadata": {
    "collapsed": false,
    "pycharm": {
     "name": "#%%\n"
    }
   }
  },
  {
   "cell_type": "markdown",
   "source": [
    "#### 值 排序"
   ],
   "metadata": {
    "collapsed": false,
    "pycharm": {
     "name": "#%% md\n"
    }
   }
  },
  {
   "cell_type": "code",
   "execution_count": 16,
   "outputs": [
    {
     "name": "stdout",
     "output_type": "stream",
     "text": [
      "     A          B    C  D      E    F\n",
      "0  1.0 2013-01-02  1.0  3   test  foo\n",
      "1  1.0 2013-01-02  1.0  3  train  foo\n",
      "2  1.0 2013-01-02  1.0  3   test  foo\n",
      "3  1.0 2013-01-02  1.0  3  train  foo\n"
     ]
    },
    {
     "data": {
      "text/plain": "'\\n     A          B    C  D      E    F\\n0  1.0 2013-01-02  1.0  3   test  foo\\n1  1.0 2013-01-02  1.0  3  train  foo\\n2  1.0 2013-01-02  1.0  3   test  foo\\n3  1.0 2013-01-02  1.0  3  train  foo\\n'"
     },
     "execution_count": 16,
     "metadata": {},
     "output_type": "execute_result"
    }
   ],
   "source": [
    "print(df2.sort_values(by='B'))\n",
    "\n",
    "\"\"\"\n",
    "     A          B    C  D      E    F\n",
    "0  1.0 2013-01-02  1.0  3   test  foo\n",
    "1  1.0 2013-01-02  1.0  3  train  foo\n",
    "2  1.0 2013-01-02  1.0  3   test  foo\n",
    "3  1.0 2013-01-02  1.0  3  train  foo\n",
    "\"\"\""
   ],
   "metadata": {
    "collapsed": false,
    "pycharm": {
     "name": "#%%\n"
    }
   }
  },
  {
   "cell_type": "markdown",
   "source": [
    "# Pandas 选择数据\n",
    "## 简单的筛选"
   ],
   "metadata": {
    "collapsed": false,
    "pycharm": {
     "name": "#%% md\n"
    }
   }
  },
  {
   "cell_type": "code",
   "execution_count": 17,
   "outputs": [
    {
     "name": "stdout",
     "output_type": "stream",
     "text": [
      "2013-01-01   -1.747644\n",
      "2013-01-02    0.422457\n",
      "2013-01-03   -0.677969\n",
      "2013-01-04    1.024338\n",
      "2013-01-05    2.339040\n",
      "2013-01-06   -0.723500\n",
      "Freq: D, Name: A, dtype: float64\n",
      "2013-01-01   -1.747644\n",
      "2013-01-02    0.422457\n",
      "2013-01-03   -0.677969\n",
      "2013-01-04    1.024338\n",
      "2013-01-05    2.339040\n",
      "2013-01-06   -0.723500\n",
      "Freq: D, Name: A, dtype: float64\n"
     ]
    },
    {
     "data": {
      "text/plain": "'\\n2013-01-01     0\\n2013-01-02     4\\n2013-01-03     8\\n2013-01-04    12\\n2013-01-05    16\\n2013-01-06    20\\nFreq: D, Name: A, dtype: int64\\n'"
     },
     "execution_count": 17,
     "metadata": {},
     "output_type": "execute_result"
    }
   ],
   "source": [
    "from __future__ import print_function\n",
    "import pandas as pd\n",
    "import numpy as np\n",
    "\n",
    "dates = pd.date_range('20130101', periods=6)\n",
    "df = pd.DataFrame(np.random.randn(6,4), index=dates, columns=['A', 'B', 'C', 'D'])\n",
    "\n",
    "print(df['A'])\n",
    "print(df.A)\n",
    "\n",
    "\"\"\"\n",
    "2013-01-01     0\n",
    "2013-01-02     4\n",
    "2013-01-03     8\n",
    "2013-01-04    12\n",
    "2013-01-05    16\n",
    "2013-01-06    20\n",
    "Freq: D, Name: A, dtype: int64\n",
    "\"\"\"\n"
   ],
   "metadata": {
    "collapsed": false,
    "pycharm": {
     "name": "#%%\n"
    }
   }
  },
  {
   "cell_type": "markdown",
   "source": [
    "选择跨越多行或多列:"
   ],
   "metadata": {
    "collapsed": false,
    "pycharm": {
     "name": "#%% md\n"
    }
   }
  },
  {
   "cell_type": "code",
   "execution_count": 18,
   "outputs": [
    {
     "name": "stdout",
     "output_type": "stream",
     "text": [
      "                   A         B         C         D\n",
      "2013-01-01 -1.747644  1.055264 -1.130511  0.793134\n",
      "2013-01-02  0.422457  0.388683  0.230232  0.550293\n",
      "2013-01-03 -0.677969  1.394970 -0.902652  0.067974\n",
      "                   A         B         C         D\n",
      "2013-01-02  0.422457  0.388683  0.230232  0.550293\n",
      "2013-01-03 -0.677969  1.394970 -0.902652  0.067974\n",
      "2013-01-04  1.024338 -1.042699 -0.565196 -0.287939\n"
     ]
    },
    {
     "data": {
      "text/plain": "'\\nA   B   C   D\\n2013-01-02   4   5   6   7\\n2013-01-03   8   9  10  11\\n2013-01-04  12  13  14  15\\n'"
     },
     "execution_count": 18,
     "metadata": {},
     "output_type": "execute_result"
    }
   ],
   "source": [
    "print(df[0:3])\n",
    "\n",
    "\"\"\"\n",
    "            A  B   C   D\n",
    "2013-01-01  0  1   2   3\n",
    "2013-01-02  4  5   6   7\n",
    "2013-01-03  8  9  10  11\n",
    "\"\"\"\n",
    "\n",
    "print(df['20130102':'20130104'])\n",
    "\n",
    "\"\"\"\n",
    "A   B   C   D\n",
    "2013-01-02   4   5   6   7\n",
    "2013-01-03   8   9  10  11\n",
    "2013-01-04  12  13  14  15\n",
    "\"\"\""
   ],
   "metadata": {
    "collapsed": false,
    "pycharm": {
     "name": "#%%\n"
    }
   }
  },
  {
   "cell_type": "markdown",
   "source": [
    "## 根据标签 loc"
   ],
   "metadata": {
    "collapsed": false,
    "pycharm": {
     "name": "#%% md\n"
    }
   }
  },
  {
   "cell_type": "code",
   "execution_count": 19,
   "outputs": [
    {
     "name": "stdout",
     "output_type": "stream",
     "text": [
      "A    0.422457\n",
      "B    0.388683\n",
      "C    0.230232\n",
      "D    0.550293\n",
      "Name: 2013-01-02 00:00:00, dtype: float64\n"
     ]
    },
    {
     "data": {
      "text/plain": "'\\nA    4\\nB    5\\nC    6\\nD    7\\nName: 2013-01-02 00:00:00, dtype: int64\\n'"
     },
     "execution_count": 19,
     "metadata": {},
     "output_type": "execute_result"
    }
   ],
   "source": [
    "print(df.loc['20130102'])\n",
    "\"\"\"\n",
    "A    4\n",
    "B    5\n",
    "C    6\n",
    "D    7\n",
    "Name: 2013-01-02 00:00:00, dtype: int64\n",
    "\"\"\""
   ],
   "metadata": {
    "collapsed": false,
    "pycharm": {
     "name": "#%%\n"
    }
   }
  },
  {
   "cell_type": "code",
   "execution_count": 20,
   "outputs": [
    {
     "name": "stdout",
     "output_type": "stream",
     "text": [
      "                   A         B\n",
      "2013-01-01 -1.747644  1.055264\n",
      "2013-01-02  0.422457  0.388683\n",
      "2013-01-03 -0.677969  1.394970\n",
      "2013-01-04  1.024338 -1.042699\n",
      "2013-01-05  2.339040  0.287440\n",
      "2013-01-06 -0.723500 -1.323457\n"
     ]
    },
    {
     "data": {
      "text/plain": "'\\n             A   B\\n2013-01-01   0   1\\n2013-01-02   4   5\\n2013-01-03   8   9\\n2013-01-04  12  13\\n2013-01-05  16  17\\n2013-01-06  20  21\\n'"
     },
     "execution_count": 20,
     "metadata": {},
     "output_type": "execute_result"
    }
   ],
   "source": [
    "print(df.loc[:,['A','B']])\n",
    "\"\"\"\n",
    "             A   B\n",
    "2013-01-01   0   1\n",
    "2013-01-02   4   5\n",
    "2013-01-03   8   9\n",
    "2013-01-04  12  13\n",
    "2013-01-05  16  17\n",
    "2013-01-06  20  21\n",
    "\"\"\""
   ],
   "metadata": {
    "collapsed": false,
    "pycharm": {
     "name": "#%%\n"
    }
   }
  },
  {
   "cell_type": "code",
   "execution_count": 21,
   "outputs": [
    {
     "name": "stdout",
     "output_type": "stream",
     "text": [
      "A    0.422457\n",
      "B    0.388683\n",
      "Name: 2013-01-02 00:00:00, dtype: float64\n"
     ]
    },
    {
     "data": {
      "text/plain": "'\\nA    4\\nB    5\\nName: 2013-01-02 00:00:00, dtype: int64\\n'"
     },
     "execution_count": 21,
     "metadata": {},
     "output_type": "execute_result"
    }
   ],
   "source": [
    "print(df.loc['20130102',['A','B']])\n",
    "\"\"\"\n",
    "A    4\n",
    "B    5\n",
    "Name: 2013-01-02 00:00:00, dtype: int64\n",
    "\"\"\""
   ],
   "metadata": {
    "collapsed": false,
    "pycharm": {
     "name": "#%%\n"
    }
   }
  },
  {
   "cell_type": "markdown",
   "source": [
    "## 根据序列 iloc"
   ],
   "metadata": {
    "collapsed": false,
    "pycharm": {
     "name": "#%% md\n"
    }
   }
  },
  {
   "cell_type": "code",
   "execution_count": 22,
   "outputs": [
    {
     "name": "stdout",
     "output_type": "stream",
     "text": [
      "-1.0426994211482914\n"
     ]
    }
   ],
   "source": [
    "print(df.iloc[3,1])\n",
    "# 13"
   ],
   "metadata": {
    "collapsed": false,
    "pycharm": {
     "name": "#%%\n"
    }
   }
  },
  {
   "cell_type": "code",
   "execution_count": 23,
   "outputs": [
    {
     "name": "stdout",
     "output_type": "stream",
     "text": [
      "                   B         C\n",
      "2013-01-04 -1.042699 -0.565196\n",
      "2013-01-05  0.287440  0.873388\n"
     ]
    },
    {
     "data": {
      "text/plain": "'\\n             B   C\\n2013-01-04  13  14\\n2013-01-05  17  18\\n'"
     },
     "execution_count": 23,
     "metadata": {},
     "output_type": "execute_result"
    }
   ],
   "source": [
    "print(df.iloc[3:5,1:3])\n",
    "\"\"\"\n",
    "             B   C\n",
    "2013-01-04  13  14\n",
    "2013-01-05  17  18\n",
    "\"\"\""
   ],
   "metadata": {
    "collapsed": false,
    "pycharm": {
     "name": "#%%\n"
    }
   }
  },
  {
   "cell_type": "code",
   "execution_count": 24,
   "outputs": [
    {
     "name": "stdout",
     "output_type": "stream",
     "text": [
      "                   B         C\n",
      "2013-01-02  0.388683  0.230232\n",
      "2013-01-04 -1.042699 -0.565196\n",
      "2013-01-06 -1.323457 -0.616118\n"
     ]
    },
    {
     "data": {
      "text/plain": "'\\n             B   C\\n2013-01-02   5   6\\n2013-01-04  13  14\\n2013-01-06  21  22\\n\\n'"
     },
     "execution_count": 24,
     "metadata": {},
     "output_type": "execute_result"
    }
   ],
   "source": [
    "print(df.iloc[[1,3,5],1:3])\n",
    "\"\"\"\n",
    "             B   C\n",
    "2013-01-02   5   6\n",
    "2013-01-04  13  14\n",
    "2013-01-06  21  22\n",
    "\n",
    "\"\"\""
   ],
   "metadata": {
    "collapsed": false,
    "pycharm": {
     "name": "#%%\n"
    }
   }
  },
  {
   "cell_type": "markdown",
   "source": [
    "## 根据混合的这两种 ix"
   ],
   "metadata": {
    "collapsed": false,
    "pycharm": {
     "name": "#%% md\n"
    }
   }
  },
  {
   "cell_type": "code",
   "execution_count": 25,
   "outputs": [
    {
     "data": {
      "text/plain": "'\\n            A   C\\n2013-01-01  0   2\\n2013-01-02  4   6\\n2013-01-03  8  10\\n'"
     },
     "execution_count": 25,
     "metadata": {},
     "output_type": "execute_result"
    }
   ],
   "source": [
    "#print(df.ix[:3,['A','C']])\n",
    "\"\"\"\n",
    "            A   C\n",
    "2013-01-01  0   2\n",
    "2013-01-02  4   6\n",
    "2013-01-03  8  10\n",
    "\"\"\""
   ],
   "metadata": {
    "collapsed": false,
    "pycharm": {
     "name": "#%%\n"
    }
   }
  },
  {
   "cell_type": "markdown",
   "source": [
    "## 通过判断的筛选"
   ],
   "metadata": {
    "collapsed": false,
    "pycharm": {
     "name": "#%% md\n"
    }
   }
  },
  {
   "cell_type": "code",
   "execution_count": 26,
   "outputs": [
    {
     "name": "stdout",
     "output_type": "stream",
     "text": [
      "Empty DataFrame\n",
      "Columns: [A, B, C, D]\n",
      "Index: []\n"
     ]
    },
    {
     "data": {
      "text/plain": "'\\n             A   B   C   D\\n2013-01-04  12  13  14  15\\n2013-01-05  16  17  18  19\\n2013-01-06  20  21  22  23\\n'"
     },
     "execution_count": 26,
     "metadata": {},
     "output_type": "execute_result"
    }
   ],
   "source": [
    "print(df[df.A>8])\n",
    "\"\"\"\n",
    "             A   B   C   D\n",
    "2013-01-04  12  13  14  15\n",
    "2013-01-05  16  17  18  19\n",
    "2013-01-06  20  21  22  23\n",
    "\"\"\""
   ],
   "metadata": {
    "collapsed": false,
    "pycharm": {
     "name": "#%%\n"
    }
   }
  },
  {
   "cell_type": "markdown",
   "source": [
    "# Pandas 设置值\n",
    "## 创建数据"
   ],
   "metadata": {
    "collapsed": false,
    "pycharm": {
     "name": "#%% md\n"
    }
   }
  },
  {
   "cell_type": "code",
   "execution_count": 27,
   "outputs": [
    {
     "name": "stdout",
     "output_type": "stream",
     "text": [
      "             A   B   C   D\n",
      "2013-01-01   0   1   2   3\n",
      "2013-01-02   4   5   6   7\n",
      "2013-01-03   8   9  10  11\n",
      "2013-01-04  12  13  14  15\n",
      "2013-01-05  16  17  18  19\n",
      "2013-01-06  20  21  22  23\n"
     ]
    },
    {
     "data": {
      "text/plain": "'\\n             A   B   C   D\\n2013-01-01   0   1   2   3\\n2013-01-02   4   5   6   7\\n2013-01-03   8   9  10  11\\n2013-01-04  12  13  14  15\\n2013-01-05  16  17  18  19\\n2013-01-06  20  21  22  23\\n'"
     },
     "execution_count": 27,
     "metadata": {},
     "output_type": "execute_result"
    }
   ],
   "source": [
    "dates = pd.date_range('20130101', periods=6)\n",
    "df = pd.DataFrame(np.arange(24).reshape((6,4)),index=dates, columns=['A','B','C','D'])\n",
    "print(df)\n",
    "\"\"\"\n",
    "             A   B   C   D\n",
    "2013-01-01   0   1   2   3\n",
    "2013-01-02   4   5   6   7\n",
    "2013-01-03   8   9  10  11\n",
    "2013-01-04  12  13  14  15\n",
    "2013-01-05  16  17  18  19\n",
    "2013-01-06  20  21  22  23\n",
    "\"\"\""
   ],
   "metadata": {
    "collapsed": false,
    "pycharm": {
     "name": "#%%\n"
    }
   }
  },
  {
   "cell_type": "markdown",
   "source": [
    "## 根据位置设置 loc 和 iloc"
   ],
   "metadata": {
    "collapsed": false,
    "pycharm": {
     "name": "#%% md\n"
    }
   }
  },
  {
   "cell_type": "code",
   "execution_count": 28,
   "outputs": [
    {
     "name": "stdout",
     "output_type": "stream",
     "text": [
      "             A     B     C   D\n",
      "2013-01-01   0  2222     2   3\n",
      "2013-01-02   4     5     6   7\n",
      "2013-01-03   8     9  1111  11\n",
      "2013-01-04  12    13    14  15\n",
      "2013-01-05  16    17    18  19\n",
      "2013-01-06  20    21    22  23\n"
     ]
    },
    {
     "data": {
      "text/plain": "'\\n             A     B     C   D\\n2013-01-01   0  2222     2   3\\n2013-01-02   4     5     6   7\\n2013-01-03   8     9  1111  11\\n2013-01-04  12    13    14  15\\n2013-01-05  16    17    18  19\\n2013-01-06  20    21    22  23\\n'"
     },
     "execution_count": 28,
     "metadata": {},
     "output_type": "execute_result"
    }
   ],
   "source": [
    "df.iloc[2,2] = 1111\n",
    "df.loc['20130101','B'] = 2222\n",
    "print(df)\n",
    "\"\"\"\n",
    "             A     B     C   D\n",
    "2013-01-01   0  2222     2   3\n",
    "2013-01-02   4     5     6   7\n",
    "2013-01-03   8     9  1111  11\n",
    "2013-01-04  12    13    14  15\n",
    "2013-01-05  16    17    18  19\n",
    "2013-01-06  20    21    22  23\n",
    "\"\"\""
   ],
   "metadata": {
    "collapsed": false,
    "pycharm": {
     "name": "#%%\n"
    }
   }
  },
  {
   "cell_type": "markdown",
   "source": [
    "## 根据条件设置"
   ],
   "metadata": {
    "collapsed": false,
    "pycharm": {
     "name": "#%% md\n"
    }
   }
  },
  {
   "cell_type": "code",
   "execution_count": 29,
   "outputs": [
    {
     "name": "stdout",
     "output_type": "stream",
     "text": [
      "             A     B     C   D\n",
      "2013-01-01   0  2222     2   3\n",
      "2013-01-02   4     5     6   7\n",
      "2013-01-03   8     0  1111  11\n",
      "2013-01-04  12     0    14  15\n",
      "2013-01-05  16     0    18  19\n",
      "2013-01-06  20     0    22  23\n"
     ]
    }
   ],
   "source": [
    "df.B[df.A>4] = 0\n",
    "\"\"\"\n",
    "                A     B     C   D\n",
    "2013-01-01   0  2222     2   3\n",
    "2013-01-02   4     5     6   7\n",
    "2013-01-03   8     0  1111  11\n",
    "2013-01-04  12     0    14  15\n",
    "2013-01-05  16     0    18  19\n",
    "2013-01-06  20     0    22  23\n",
    "\"\"\"\n",
    "print(df)"
   ],
   "metadata": {
    "collapsed": false,
    "pycharm": {
     "name": "#%%\n"
    }
   }
  },
  {
   "cell_type": "markdown",
   "source": [
    "## 按行或列设置"
   ],
   "metadata": {
    "collapsed": false,
    "pycharm": {
     "name": "#%% md\n"
    }
   }
  },
  {
   "cell_type": "code",
   "execution_count": 30,
   "outputs": [
    {
     "name": "stdout",
     "output_type": "stream",
     "text": [
      "             A     B     C   D   F\n",
      "2013-01-01   0  2222     2   3 NaN\n",
      "2013-01-02   4     5     6   7 NaN\n",
      "2013-01-03   8     0  1111  11 NaN\n",
      "2013-01-04  12     0    14  15 NaN\n",
      "2013-01-05  16     0    18  19 NaN\n",
      "2013-01-06  20     0    22  23 NaN\n"
     ]
    },
    {
     "data": {
      "text/plain": "'\\n             A     B     C   D   F\\n2013-01-01   0  2222     2   3 NaN\\n2013-01-02   4     5     6   7 NaN\\n2013-01-03   8     0  1111  11 NaN\\n2013-01-04  12     0    14  15 NaN\\n2013-01-05  16     0    18  19 NaN\\n2013-01-06  20     0    22  23 NaN\\n'"
     },
     "execution_count": 30,
     "metadata": {},
     "output_type": "execute_result"
    }
   ],
   "source": [
    "df['F'] = np.nan\n",
    "print(df)\n",
    "\"\"\"\n",
    "             A     B     C   D   F\n",
    "2013-01-01   0  2222     2   3 NaN\n",
    "2013-01-02   4     5     6   7 NaN\n",
    "2013-01-03   8     0  1111  11 NaN\n",
    "2013-01-04  12     0    14  15 NaN\n",
    "2013-01-05  16     0    18  19 NaN\n",
    "2013-01-06  20     0    22  23 NaN\n",
    "\"\"\""
   ],
   "metadata": {
    "collapsed": false,
    "pycharm": {
     "name": "#%%\n"
    }
   }
  },
  {
   "cell_type": "markdown",
   "source": [
    "## 添加数据"
   ],
   "metadata": {
    "collapsed": false,
    "pycharm": {
     "name": "#%% md\n"
    }
   }
  },
  {
   "cell_type": "code",
   "execution_count": 31,
   "outputs": [
    {
     "name": "stdout",
     "output_type": "stream",
     "text": [
      "             A     B     C   D   F  E\n",
      "2013-01-01   0  2222     2   3 NaN  1\n",
      "2013-01-02   4     5     6   7 NaN  2\n",
      "2013-01-03   8     0  1111  11 NaN  3\n",
      "2013-01-04  12     0    14  15 NaN  4\n",
      "2013-01-05  16     0    18  19 NaN  5\n",
      "2013-01-06  20     0    22  23 NaN  6\n"
     ]
    },
    {
     "data": {
      "text/plain": "'\\n             A     B     C   D   F  E\\n2013-01-01   0  2222     2   3 NaN  1\\n2013-01-02   4     5     6   7 NaN  2\\n2013-01-03   8     0  1111  11 NaN  3\\n2013-01-04  12     0    14  15 NaN  4\\n2013-01-05  16     0    18  19 NaN  5\\n2013-01-06  20     0    22  23 NaN  6\\n'"
     },
     "execution_count": 31,
     "metadata": {},
     "output_type": "execute_result"
    }
   ],
   "source": [
    "df['E'] = pd.Series([1,2,3,4,5,6], index=pd.date_range('20130101',periods=6))\n",
    "print(df)\n",
    "\"\"\"\n",
    "             A     B     C   D   F  E\n",
    "2013-01-01   0  2222     2   3 NaN  1\n",
    "2013-01-02   4     5     6   7 NaN  2\n",
    "2013-01-03   8     0  1111  11 NaN  3\n",
    "2013-01-04  12     0    14  15 NaN  4\n",
    "2013-01-05  16     0    18  19 NaN  5\n",
    "2013-01-06  20     0    22  23 NaN  6\n",
    "\"\"\""
   ],
   "metadata": {
    "collapsed": false,
    "pycharm": {
     "name": "#%%\n"
    }
   }
  },
  {
   "cell_type": "markdown",
   "source": [
    "# Pandas 处理丢失数据\n",
    "## 创建含 NaN 的矩阵\n"
   ],
   "metadata": {
    "collapsed": false,
    "pycharm": {
     "name": "#%% md\n"
    }
   }
  },
  {
   "cell_type": "code",
   "execution_count": 32,
   "outputs": [
    {
     "name": "stdout",
     "output_type": "stream",
     "text": [
      "             A     B     C   D\n",
      "2013-01-01   0   NaN   2.0   3\n",
      "2013-01-02   4   5.0   NaN   7\n",
      "2013-01-03   8   9.0  10.0  11\n",
      "2013-01-04  12  13.0  14.0  15\n",
      "2013-01-05  16  17.0  18.0  19\n",
      "2013-01-06  20  21.0  22.0  23\n"
     ]
    },
    {
     "data": {
      "text/plain": "'\\n             A     B     C   D\\n2013-01-01   0   NaN   2.0   3\\n2013-01-02   4   5.0   NaN   7\\n2013-01-03   8   9.0  10.0  11\\n2013-01-04  12  13.0  14.0  15\\n2013-01-05  16  17.0  18.0  19\\n2013-01-06  20  21.0  22.0  23\\n'"
     },
     "execution_count": 32,
     "metadata": {},
     "output_type": "execute_result"
    }
   ],
   "source": [
    "dates = pd.date_range('20130101', periods=6)\n",
    "df = pd.DataFrame(np.arange(24).reshape((6,4)),index=dates, columns=['A','B','C','D'])\n",
    "df.iloc[0,1] = np.nan\n",
    "df.iloc[1,2] = np.nan\n",
    "print(df)\n",
    "\"\"\"\n",
    "             A     B     C   D\n",
    "2013-01-01   0   NaN   2.0   3\n",
    "2013-01-02   4   5.0   NaN   7\n",
    "2013-01-03   8   9.0  10.0  11\n",
    "2013-01-04  12  13.0  14.0  15\n",
    "2013-01-05  16  17.0  18.0  19\n",
    "2013-01-06  20  21.0  22.0  23\n",
    "\"\"\""
   ],
   "metadata": {
    "collapsed": false,
    "pycharm": {
     "name": "#%%\n"
    }
   }
  },
  {
   "cell_type": "markdown",
   "source": [
    "## pd.dropna()"
   ],
   "metadata": {
    "collapsed": false,
    "pycharm": {
     "name": "#%% md\n"
    }
   }
  },
  {
   "cell_type": "code",
   "execution_count": 33,
   "outputs": [
    {
     "name": "stdout",
     "output_type": "stream",
     "text": [
      "             A     B     C   D\n",
      "2013-01-01   0   NaN   2.0   3\n",
      "2013-01-02   4   5.0   NaN   7\n",
      "2013-01-03   8   9.0  10.0  11\n",
      "2013-01-04  12  13.0  14.0  15\n",
      "2013-01-05  16  17.0  18.0  19\n",
      "2013-01-06  20  21.0  22.0  23\n"
     ]
    },
    {
     "data": {
      "text/plain": "'\\n             A     B     C   D\\n2013-01-03   8   9.0  10.0  11\\n2013-01-04  12  13.0  14.0  15\\n2013-01-05  16  17.0  18.0  19\\n2013-01-06  20  21.0  22.0  23\\n'"
     },
     "execution_count": 33,
     "metadata": {},
     "output_type": "execute_result"
    }
   ],
   "source": [
    "df.dropna(\n",
    "    axis=0,     # 0: 对行进行操作; 1: 对列进行操作\n",
    "    how='any'   # 'any': 只要存在 NaN 就 drop 掉; 'all': 必须全部是 NaN 才 drop\n",
    "    )\n",
    "print(df)\n",
    "\"\"\"\n",
    "             A     B     C   D\n",
    "2013-01-03   8   9.0  10.0  11\n",
    "2013-01-04  12  13.0  14.0  15\n",
    "2013-01-05  16  17.0  18.0  19\n",
    "2013-01-06  20  21.0  22.0  23\n",
    "\"\"\""
   ],
   "metadata": {
    "collapsed": false,
    "pycharm": {
     "name": "#%%\n"
    }
   }
  },
  {
   "cell_type": "markdown",
   "source": [
    "## pd.fillna()"
   ],
   "metadata": {
    "collapsed": false,
    "pycharm": {
     "name": "#%% md\n"
    }
   }
  },
  {
   "cell_type": "code",
   "execution_count": 34,
   "outputs": [
    {
     "name": "stdout",
     "output_type": "stream",
     "text": [
      "             A     B     C   D\n",
      "2013-01-01   0   NaN   2.0   3\n",
      "2013-01-02   4   5.0   NaN   7\n",
      "2013-01-03   8   9.0  10.0  11\n",
      "2013-01-04  12  13.0  14.0  15\n",
      "2013-01-05  16  17.0  18.0  19\n",
      "2013-01-06  20  21.0  22.0  23\n"
     ]
    },
    {
     "data": {
      "text/plain": "'\\n             A     B     C   D\\n2013-01-01   0   0.0   2.0   3\\n2013-01-02   4   5.0   0.0   7\\n2013-01-03   8   9.0  10.0  11\\n2013-01-04  12  13.0  14.0  15\\n2013-01-05  16  17.0  18.0  19\\n2013-01-06  20  21.0  22.0  23\\n'"
     },
     "execution_count": 34,
     "metadata": {},
     "output_type": "execute_result"
    }
   ],
   "source": [
    "df.fillna(value=0)\n",
    "print(df)\n",
    "\"\"\"\n",
    "             A     B     C   D\n",
    "2013-01-01   0   0.0   2.0   3\n",
    "2013-01-02   4   5.0   0.0   7\n",
    "2013-01-03   8   9.0  10.0  11\n",
    "2013-01-04  12  13.0  14.0  15\n",
    "2013-01-05  16  17.0  18.0  19\n",
    "2013-01-06  20  21.0  22.0  23\n",
    "\"\"\""
   ],
   "metadata": {
    "collapsed": false,
    "pycharm": {
     "name": "#%%\n"
    }
   }
  },
  {
   "cell_type": "markdown",
   "source": [
    "## pd.isnull()"
   ],
   "metadata": {
    "collapsed": false,
    "pycharm": {
     "name": "#%% md\n"
    }
   }
  },
  {
   "cell_type": "code",
   "execution_count": 35,
   "outputs": [
    {
     "name": "stdout",
     "output_type": "stream",
     "text": [
      "                A      B      C      D\n",
      "2013-01-01  False   True  False  False\n",
      "2013-01-02  False  False   True  False\n",
      "2013-01-03  False  False  False  False\n",
      "2013-01-04  False  False  False  False\n",
      "2013-01-05  False  False  False  False\n",
      "2013-01-06  False  False  False  False\n"
     ]
    },
    {
     "data": {
      "text/plain": "'\\n                A      B      C      D\\n2013-01-01  False   True  False  False\\n2013-01-02  False  False   True  False\\n2013-01-03  False  False  False  False\\n2013-01-04  False  False  False  False\\n2013-01-05  False  False  False  False\\n2013-01-06  False  False  False  False\\n'"
     },
     "execution_count": 35,
     "metadata": {},
     "output_type": "execute_result"
    }
   ],
   "source": [
    "df.isnull()\n",
    "print(df.isnull())\n",
    "\"\"\"\n",
    "                A      B      C      D\n",
    "2013-01-01  False   True  False  False\n",
    "2013-01-02  False  False   True  False\n",
    "2013-01-03  False  False  False  False\n",
    "2013-01-04  False  False  False  False\n",
    "2013-01-05  False  False  False  False\n",
    "2013-01-06  False  False  False  False\n",
    "\"\"\""
   ],
   "metadata": {
    "collapsed": false,
    "pycharm": {
     "name": "#%%\n"
    }
   }
  },
  {
   "cell_type": "code",
   "execution_count": 36,
   "outputs": [
    {
     "name": "stdout",
     "output_type": "stream",
     "text": [
      "True\n"
     ]
    }
   ],
   "source": [
    "np.any(df.isnull()) == True\n",
    "print(np.any(df.isnull()))\n",
    "# True"
   ],
   "metadata": {
    "collapsed": false,
    "pycharm": {
     "name": "#%%\n"
    }
   }
  },
  {
   "cell_type": "markdown",
   "source": [
    "# Pandas 导入导出\n",
    "## 读取csv"
   ],
   "metadata": {
    "collapsed": false,
    "pycharm": {
     "name": "#%% md\n"
    }
   }
  },
  {
   "cell_type": "code",
   "execution_count": 37,
   "outputs": [
    {
     "name": "stdout",
     "output_type": "stream",
     "text": [
      "    Student ID  name   age  gender\n",
      "0         1100  Kelly   22  Female\n",
      "1         1101    Clo   21  Female\n",
      "2         1102  Tilly   22  Female\n",
      "3         1103   Tony   24    Male\n",
      "4         1104  David   20    Male\n",
      "5         1105  Catty   22  Female\n",
      "6         1106      M    3  Female\n",
      "7         1107      N   43    Male\n",
      "8         1108      A   13    Male\n",
      "9         1109      S   12    Male\n",
      "10        1110  David   33    Male\n",
      "11        1111     Dw    3  Female\n",
      "12        1112      Q   23    Male\n",
      "13        1113      W   21  Female\n"
     ]
    }
   ],
   "source": [
    "import pandas as pd #加载模块\n",
    "\n",
    "#读取csv\n",
    "data = pd.read_csv(r'15_read_to/student.csv')\n",
    "\n",
    "#打印出data\n",
    "print(data)"
   ],
   "metadata": {
    "collapsed": false,
    "pycharm": {
     "name": "#%%\n"
    }
   }
  },
  {
   "cell_type": "markdown",
   "source": [
    "## 将资料存取成pickle"
   ],
   "metadata": {
    "collapsed": false,
    "pycharm": {
     "name": "#%% md\n"
    }
   }
  },
  {
   "cell_type": "code",
   "execution_count": 38,
   "outputs": [],
   "source": [
    "data.to_pickle('15_read_to/student.pickle')"
   ],
   "metadata": {
    "collapsed": false,
    "pycharm": {
     "name": "#%%\n"
    }
   }
  },
  {
   "cell_type": "markdown",
   "source": [
    "# Pandas 合并 concat"
   ],
   "metadata": {
    "collapsed": false,
    "pycharm": {
     "name": "#%% md\n"
    }
   }
  },
  {
   "cell_type": "markdown",
   "source": [
    "## axis (合并方向)\n",
    "axis=0是预设值，因此未设定任何参数时，函数默认axis=0。"
   ],
   "metadata": {
    "collapsed": false,
    "pycharm": {
     "name": "#%% md\n"
    }
   }
  },
  {
   "cell_type": "code",
   "execution_count": 39,
   "outputs": [
    {
     "name": "stdout",
     "output_type": "stream",
     "text": [
      "     a    b    c    d\n",
      "0  0.0  0.0  0.0  0.0\n",
      "1  0.0  0.0  0.0  0.0\n",
      "2  0.0  0.0  0.0  0.0\n",
      "     a    b    c    d\n",
      "0  1.0  1.0  1.0  1.0\n",
      "1  1.0  1.0  1.0  1.0\n",
      "2  1.0  1.0  1.0  1.0\n",
      "     a    b    c    d\n",
      "0  2.0  2.0  2.0  2.0\n",
      "1  2.0  2.0  2.0  2.0\n",
      "2  2.0  2.0  2.0  2.0\n"
     ]
    }
   ],
   "source": [
    "import pandas as pd\n",
    "import numpy as np\n",
    "\n",
    "#定义资料集\n",
    "df1 = pd.DataFrame(np.ones((3,4))*0, columns=['a','b','c','d'])\n",
    "df2 = pd.DataFrame(np.ones((3,4))*1, columns=['a','b','c','d'])\n",
    "df3 = pd.DataFrame(np.ones((3,4))*2, columns=['a','b','c','d'])\n",
    "print(df1)\n",
    "print(df2)\n",
    "print(df3)"
   ],
   "metadata": {
    "collapsed": false,
    "pycharm": {
     "name": "#%%\n"
    }
   }
  },
  {
   "cell_type": "markdown",
   "source": [
    "#### concat纵向合并"
   ],
   "metadata": {
    "collapsed": false,
    "pycharm": {
     "name": "#%% md\n"
    }
   }
  },
  {
   "cell_type": "code",
   "execution_count": 40,
   "outputs": [
    {
     "name": "stdout",
     "output_type": "stream",
     "text": [
      "     a    b    c    d\n",
      "0  0.0  0.0  0.0  0.0\n",
      "1  0.0  0.0  0.0  0.0\n",
      "2  0.0  0.0  0.0  0.0\n",
      "0  1.0  1.0  1.0  1.0\n",
      "1  1.0  1.0  1.0  1.0\n",
      "2  1.0  1.0  1.0  1.0\n",
      "0  2.0  2.0  2.0  2.0\n",
      "1  2.0  2.0  2.0  2.0\n",
      "2  2.0  2.0  2.0  2.0\n"
     ]
    }
   ],
   "source": [
    "res = pd.concat([df1, df2, df3], axis=0)\n",
    "\n",
    "#打印结果\n",
    "print(res)\n",
    "#     a    b    c    d\n",
    "# 0  0.0  0.0  0.0  0.0\n",
    "# 1  0.0  0.0  0.0  0.0\n",
    "# 2  0.0  0.0  0.0  0.0\n",
    "# 0  1.0  1.0  1.0  1.0\n",
    "# 1  1.0  1.0  1.0  1.0\n",
    "# 2  1.0  1.0  1.0  1.0\n",
    "# 0  2.0  2.0  2.0  2.0\n",
    "# 1  2.0  2.0  2.0  2.0\n",
    "# 2  2.0  2.0  2.0  2.0"
   ],
   "metadata": {
    "collapsed": false,
    "pycharm": {
     "name": "#%%\n"
    }
   }
  },
  {
   "cell_type": "markdown",
   "source": [
    "## ignore_index (重置 index)"
   ],
   "metadata": {
    "collapsed": false,
    "pycharm": {
     "name": "#%% md\n"
    }
   }
  },
  {
   "cell_type": "code",
   "execution_count": 41,
   "outputs": [
    {
     "name": "stdout",
     "output_type": "stream",
     "text": [
      "     a    b    c    d\n",
      "0  0.0  0.0  0.0  0.0\n",
      "1  0.0  0.0  0.0  0.0\n",
      "2  0.0  0.0  0.0  0.0\n",
      "3  1.0  1.0  1.0  1.0\n",
      "4  1.0  1.0  1.0  1.0\n",
      "5  1.0  1.0  1.0  1.0\n",
      "6  2.0  2.0  2.0  2.0\n",
      "7  2.0  2.0  2.0  2.0\n",
      "8  2.0  2.0  2.0  2.0\n"
     ]
    }
   ],
   "source": [
    "#承上一个例子，并将index_ignore设定为True\n",
    "res = pd.concat([df1, df2, df3], axis=0, ignore_index=True)\n",
    "\n",
    "#打印结果\n",
    "print(res)\n",
    "#     a    b    c    d\n",
    "# 0  0.0  0.0  0.0  0.0\n",
    "# 1  0.0  0.0  0.0  0.0\n",
    "# 2  0.0  0.0  0.0  0.0\n",
    "# 3  1.0  1.0  1.0  1.0\n",
    "# 4  1.0  1.0  1.0  1.0\n",
    "# 5  1.0  1.0  1.0  1.0\n",
    "# 6  2.0  2.0  2.0  2.0\n",
    "# 7  2.0  2.0  2.0  2.0\n",
    "# 8  2.0  2.0  2.0  2.0"
   ],
   "metadata": {
    "collapsed": false,
    "pycharm": {
     "name": "#%%\n"
    }
   }
  },
  {
   "cell_type": "markdown",
   "source": [
    "## join (合并方式)"
   ],
   "metadata": {
    "collapsed": false,
    "pycharm": {
     "name": "#%% md\n"
    }
   }
  },
  {
   "cell_type": "code",
   "execution_count": 42,
   "outputs": [
    {
     "name": "stdout",
     "output_type": "stream",
     "text": [
      "     a    b    c    d\n",
      "1  0.0  0.0  0.0  0.0\n",
      "2  0.0  0.0  0.0  0.0\n",
      "3  0.0  0.0  0.0  0.0\n",
      "     b    c    d    e\n",
      "2  1.0  1.0  1.0  1.0\n",
      "3  1.0  1.0  1.0  1.0\n",
      "4  1.0  1.0  1.0  1.0\n"
     ]
    }
   ],
   "source": [
    "import pandas as pd\n",
    "import numpy as np\n",
    "\n",
    "#定义资料集\n",
    "df1 = pd.DataFrame(np.ones((3,4))*0, columns=['a','b','c','d'], index=[1,2,3])\n",
    "df2 = pd.DataFrame(np.ones((3,4))*1, columns=['b','c','d','e'], index=[2,3,4])\n",
    "print(df1)\n",
    "print(df2)"
   ],
   "metadata": {
    "collapsed": false,
    "pycharm": {
     "name": "#%%\n"
    }
   }
  },
  {
   "cell_type": "markdown",
   "source": [
    "#### 纵向\"外\"合并df1与df2"
   ],
   "metadata": {
    "collapsed": false,
    "pycharm": {
     "name": "#%% md\n"
    }
   }
  },
  {
   "cell_type": "code",
   "execution_count": 43,
   "outputs": [
    {
     "name": "stdout",
     "output_type": "stream",
     "text": [
      "     a    b    c    d    e\n",
      "1  0.0  0.0  0.0  0.0  NaN\n",
      "2  0.0  0.0  0.0  0.0  NaN\n",
      "3  0.0  0.0  0.0  0.0  NaN\n",
      "2  NaN  1.0  1.0  1.0  1.0\n",
      "3  NaN  1.0  1.0  1.0  1.0\n",
      "4  NaN  1.0  1.0  1.0  1.0\n"
     ]
    }
   ],
   "source": [
    "res = pd.concat([df1, df2], axis=0, join='outer')\n",
    "\n",
    "print(res)\n",
    "#     a    b    c    d    e\n",
    "# 1  0.0  0.0  0.0  0.0  NaN\n",
    "# 2  0.0  0.0  0.0  0.0  NaN\n",
    "# 3  0.0  0.0  0.0  0.0  NaN\n",
    "# 2  NaN  1.0  1.0  1.0  1.0\n",
    "# 3  NaN  1.0  1.0  1.0  1.0\n",
    "# 4  NaN  1.0  1.0  1.0  1.0"
   ],
   "metadata": {
    "collapsed": false,
    "pycharm": {
     "name": "#%%\n"
    }
   }
  },
  {
   "cell_type": "markdown",
   "source": [
    "## 纵向\"内\"合并df1与df2"
   ],
   "metadata": {
    "collapsed": false,
    "pycharm": {
     "name": "#%% md\n"
    }
   }
  },
  {
   "cell_type": "code",
   "execution_count": 44,
   "outputs": [
    {
     "name": "stdout",
     "output_type": "stream",
     "text": [
      "     b    c    d\n",
      "1  0.0  0.0  0.0\n",
      "2  0.0  0.0  0.0\n",
      "3  0.0  0.0  0.0\n",
      "2  1.0  1.0  1.0\n",
      "3  1.0  1.0  1.0\n",
      "4  1.0  1.0  1.0\n",
      "     b    c    d\n",
      "0  0.0  0.0  0.0\n",
      "1  0.0  0.0  0.0\n",
      "2  0.0  0.0  0.0\n",
      "3  1.0  1.0  1.0\n",
      "4  1.0  1.0  1.0\n",
      "5  1.0  1.0  1.0\n"
     ]
    }
   ],
   "source": [
    "res = pd.concat([df1, df2], axis=0, join='inner')\n",
    "\n",
    "#打印结果\n",
    "print(res)\n",
    "#     b    c    d\n",
    "# 1  0.0  0.0  0.0\n",
    "# 2  0.0  0.0  0.0\n",
    "# 3  0.0  0.0  0.0\n",
    "# 2  1.0  1.0  1.0\n",
    "# 3  1.0  1.0  1.0\n",
    "# 4  1.0  1.0  1.0\n",
    "\n",
    "#重置index并打印结果\n",
    "res = pd.concat([df1, df2], axis=0, join='inner', ignore_index=True)\n",
    "print(res)\n",
    "#     b    c    d\n",
    "# 0  0.0  0.0  0.0\n",
    "# 1  0.0  0.0  0.0\n",
    "# 2  0.0  0.0  0.0\n",
    "# 3  1.0  1.0  1.0\n",
    "# 4  1.0  1.0  1.0\n",
    "# 5  1.0  1.0  1.0"
   ],
   "metadata": {
    "collapsed": false,
    "pycharm": {
     "name": "#%%\n"
    }
   }
  },
  {
   "cell_type": "markdown",
   "source": [
    "## join_axes (依照 axes 合并)\n",
    "新版本pandas已经删除了join_axes"
   ],
   "metadata": {
    "collapsed": false,
    "pycharm": {
     "name": "#%% md\n"
    }
   }
  },
  {
   "cell_type": "code",
   "execution_count": 45,
   "outputs": [
    {
     "name": "stdout",
     "output_type": "stream",
     "text": [
      "     a    b    c    d\n",
      "1  0.0  0.0  0.0  0.0\n",
      "2  0.0  0.0  0.0  0.0\n",
      "3  0.0  0.0  0.0  0.0\n",
      "     b    c    d    e\n",
      "2  1.0  1.0  1.0  1.0\n",
      "3  1.0  1.0  1.0  1.0\n",
      "4  1.0  1.0  1.0  1.0\n"
     ]
    }
   ],
   "source": [
    "import pandas as pd\n",
    "import numpy as np\n",
    "\n",
    "#定义资料集\n",
    "df1 = pd.DataFrame(np.ones((3,4))*0, columns=['a','b','c','d'], index=[1,2,3])\n",
    "df2 = pd.DataFrame(np.ones((3,4))*1, columns=['b','c','d','e'], index=[2,3,4])\n",
    "print(df1)\n",
    "print(df2)"
   ],
   "metadata": {
    "collapsed": false,
    "pycharm": {
     "name": "#%%\n"
    }
   }
  },
  {
   "cell_type": "markdown",
   "source": [
    "#### 依照`df1.index`进行横向合并"
   ],
   "metadata": {
    "collapsed": false,
    "pycharm": {
     "name": "#%% md\n"
    }
   }
  },
  {
   "cell_type": "code",
   "execution_count": 46,
   "outputs": [
    {
     "name": "stdout",
     "output_type": "stream",
     "text": [
      "     a  b_x  c_x  d_x  b_y  c_y  d_y    e\n",
      "1  0.0  0.0  0.0  0.0  NaN  NaN  NaN  NaN\n",
      "2  0.0  0.0  0.0  0.0  1.0  1.0  1.0  1.0\n",
      "3  0.0  0.0  0.0  0.0  1.0  1.0  1.0  1.0\n",
      "     a    b    c    d    b    c    d    e\n",
      "1  0.0  0.0  0.0  0.0  NaN  NaN  NaN  NaN\n",
      "2  0.0  0.0  0.0  0.0  1.0  1.0  1.0  1.0\n",
      "3  0.0  0.0  0.0  0.0  1.0  1.0  1.0  1.0\n",
      "4  NaN  NaN  NaN  NaN  1.0  1.0  1.0  1.0\n"
     ]
    }
   ],
   "source": [
    "res=pd.merge(df1, df2, how='left', left_index=True, right_index=True)\n",
    "#打印结果\n",
    "print(res)\n",
    "#     a    b    c    d    b    c    d    e\n",
    "# 1  0.0  0.0  0.0  0.0  NaN  NaN  NaN  NaN\n",
    "# 2  0.0  0.0  0.0  0.0  1.0  1.0  1.0  1.0\n",
    "# 3  0.0  0.0  0.0  0.0  1.0  1.0  1.0  1.0\n",
    "\n",
    "#移除join_axes，并打印结果\n",
    "res = pd.concat([df1, df2], axis=1)\n",
    "print(res)\n",
    "#     a    b    c    d    b    c    d    e\n",
    "# 1  0.0  0.0  0.0  0.0  NaN  NaN  NaN  NaN\n",
    "# 2  0.0  0.0  0.0  0.0  1.0  1.0  1.0  1.0\n",
    "# 3  0.0  0.0  0.0  0.0  1.0  1.0  1.0  1.0\n",
    "# 4  NaN  NaN  NaN  NaN  1.0  1.0  1.0  1.0"
   ],
   "metadata": {
    "collapsed": false,
    "pycharm": {
     "name": "#%%\n"
    }
   }
  },
  {
   "cell_type": "markdown",
   "source": [
    "## append (添加数据)\n",
    "append只有纵向合并，没有横向合并。"
   ],
   "metadata": {
    "collapsed": false,
    "pycharm": {
     "name": "#%% md\n"
    }
   }
  },
  {
   "cell_type": "code",
   "execution_count": 47,
   "outputs": [
    {
     "name": "stdout",
     "output_type": "stream",
     "text": [
      "     a    b    c    d\n",
      "0  0.0  0.0  0.0  0.0\n",
      "1  0.0  0.0  0.0  0.0\n",
      "2  0.0  0.0  0.0  0.0\n",
      "     a    b    c    d\n",
      "0  1.0  1.0  1.0  1.0\n",
      "1  1.0  1.0  1.0  1.0\n",
      "2  1.0  1.0  1.0  1.0\n",
      "     a    b    c    d\n",
      "0  1.0  1.0  1.0  1.0\n",
      "1  1.0  1.0  1.0  1.0\n",
      "2  1.0  1.0  1.0  1.0\n"
     ]
    }
   ],
   "source": [
    "import pandas as pd\n",
    "import numpy as np\n",
    "\n",
    "#定义资料集\n",
    "df1 = pd.DataFrame(np.ones((3,4))*0, columns=['a','b','c','d'])\n",
    "df2 = pd.DataFrame(np.ones((3,4))*1, columns=['a','b','c','d'])\n",
    "df3 = pd.DataFrame(np.ones((3,4))*1, columns=['a','b','c','d'])\n",
    "s1 = pd.Series([1,2,3,4], index=['a','b','c','d'])\n",
    "print(df1)\n",
    "print(df2)\n",
    "print(df3)"
   ],
   "metadata": {
    "collapsed": false,
    "pycharm": {
     "name": "#%%\n"
    }
   }
  },
  {
   "cell_type": "code",
   "execution_count": 48,
   "outputs": [
    {
     "name": "stdout",
     "output_type": "stream",
     "text": [
      "     a    b    c    d\n",
      "0  0.0  0.0  0.0  0.0\n",
      "1  0.0  0.0  0.0  0.0\n",
      "2  0.0  0.0  0.0  0.0\n",
      "3  1.0  1.0  1.0  1.0\n",
      "4  1.0  1.0  1.0  1.0\n",
      "5  1.0  1.0  1.0  1.0\n"
     ]
    }
   ],
   "source": [
    "#将df2合并到df1的下面，以及重置index，并打印出结果\n",
    "res = df1.append(df2, ignore_index=True)\n",
    "print(res)\n",
    "#     a    b    c    d\n",
    "# 0  0.0  0.0  0.0  0.0\n",
    "# 1  0.0  0.0  0.0  0.0\n",
    "# 2  0.0  0.0  0.0  0.0\n",
    "# 3  1.0  1.0  1.0  1.0\n",
    "# 4  1.0  1.0  1.0  1.0\n",
    "# 5  1.0  1.0  1.0  1.0"
   ],
   "metadata": {
    "collapsed": false,
    "pycharm": {
     "name": "#%%\n"
    }
   }
  },
  {
   "cell_type": "code",
   "execution_count": 49,
   "outputs": [
    {
     "name": "stdout",
     "output_type": "stream",
     "text": [
      "     a    b    c    d\n",
      "0  0.0  0.0  0.0  0.0\n",
      "1  0.0  0.0  0.0  0.0\n",
      "2  0.0  0.0  0.0  0.0\n",
      "3  1.0  1.0  1.0  1.0\n",
      "4  1.0  1.0  1.0  1.0\n",
      "5  1.0  1.0  1.0  1.0\n",
      "6  1.0  1.0  1.0  1.0\n",
      "7  1.0  1.0  1.0  1.0\n",
      "8  1.0  1.0  1.0  1.0\n"
     ]
    }
   ],
   "source": [
    "#合并多个df，将df2与df3合并至df1的下面，以及重置index，并打印出结果\n",
    "res = df1.append([df2, df3], ignore_index=True)\n",
    "print(res)\n",
    "#     a    b    c    d\n",
    "# 0  0.0  0.0  0.0  0.0\n",
    "# 1  0.0  0.0  0.0  0.0\n",
    "# 2  0.0  0.0  0.0  0.0\n",
    "# 3  1.0  1.0  1.0  1.0\n",
    "# 4  1.0  1.0  1.0  1.0\n",
    "# 5  1.0  1.0  1.0  1.0\n",
    "# 6  1.0  1.0  1.0  1.0\n",
    "# 7  1.0  1.0  1.0  1.0\n",
    "# 8  1.0  1.0  1.0  1.0"
   ],
   "metadata": {
    "collapsed": false,
    "pycharm": {
     "name": "#%%\n"
    }
   }
  },
  {
   "cell_type": "code",
   "execution_count": 50,
   "outputs": [
    {
     "name": "stdout",
     "output_type": "stream",
     "text": [
      "     a    b    c    d\n",
      "0  0.0  0.0  0.0  0.0\n",
      "1  0.0  0.0  0.0  0.0\n",
      "2  0.0  0.0  0.0  0.0\n",
      "3  1.0  2.0  3.0  4.0\n"
     ]
    }
   ],
   "source": [
    "#合并series，将s1合并至df1，以及重置index，并打印出结果\n",
    "res = df1.append(s1, ignore_index=True)\n",
    "print(res)\n",
    "#     a    b    c    d\n",
    "# 0  0.0  0.0  0.0  0.0\n",
    "# 1  0.0  0.0  0.0  0.0\n",
    "# 2  0.0  0.0  0.0  0.0\n",
    "# 3  1.0  2.0  3.0  4.0"
   ],
   "metadata": {
    "collapsed": false,
    "pycharm": {
     "name": "#%%\n"
    }
   }
  },
  {
   "cell_type": "markdown",
   "source": [
    "# Pandas 合并 merge\n",
    "## 依据一组key合并"
   ],
   "metadata": {
    "collapsed": false,
    "pycharm": {
     "name": "#%% md\n"
    }
   }
  },
  {
   "cell_type": "code",
   "execution_count": 51,
   "outputs": [
    {
     "name": "stdout",
     "output_type": "stream",
     "text": [
      "  key   A   B\n",
      "0  K0  A0  B0\n",
      "1  K1  A1  B1\n",
      "2  K2  A2  B2\n",
      "3  K3  A3  B3\n",
      "  key   C   D\n",
      "0  K0  C0  D0\n",
      "1  K1  C1  D1\n",
      "2  K2  C2  D2\n",
      "3  K3  C3  D3\n",
      "  key   A   B   C   D\n",
      "0  K0  A0  B0  C0  D0\n",
      "1  K1  A1  B1  C1  D1\n",
      "2  K2  A2  B2  C2  D2\n",
      "3  K3  A3  B3  C3  D3\n"
     ]
    }
   ],
   "source": [
    "import pandas as pd\n",
    "\n",
    "#定义资料集并打印出\n",
    "left = pd.DataFrame({'key': ['K0', 'K1', 'K2', 'K3'],\n",
    "                             'A': ['A0', 'A1', 'A2', 'A3'],\n",
    "                             'B': ['B0', 'B1', 'B2', 'B3']})\n",
    "right = pd.DataFrame({'key': ['K0', 'K1', 'K2', 'K3'],\n",
    "                              'C': ['C0', 'C1', 'C2', 'C3'],\n",
    "                              'D': ['D0', 'D1', 'D2', 'D3']})\n",
    "\n",
    "print(left)\n",
    "#    A   B key\n",
    "# 0  A0  B0  K0\n",
    "# 1  A1  B1  K1\n",
    "# 2  A2  B2  K2\n",
    "# 3  A3  B3  K3\n",
    "\n",
    "print(right)\n",
    "#    C   D key\n",
    "# 0  C0  D0  K0\n",
    "# 1  C1  D1  K1\n",
    "# 2  C2  D2  K2\n",
    "# 3  C3  D3  K3\n",
    "\n",
    "#依据key column合并，并打印出\n",
    "res = pd.merge(left, right, on='key')\n",
    "\n",
    "print(res)\n"
   ],
   "metadata": {
    "collapsed": false,
    "pycharm": {
     "name": "#%%\n"
    }
   }
  },
  {
   "cell_type": "markdown",
   "source": [
    "## 依据两组key合并\n",
    "#### 合并时有4种方法how = ['left', 'right', 'outer', 'inner']，预设值how='inner'。"
   ],
   "metadata": {
    "collapsed": false,
    "pycharm": {
     "name": "#%% md\n"
    }
   }
  },
  {
   "cell_type": "code",
   "execution_count": 52,
   "outputs": [
    {
     "name": "stdout",
     "output_type": "stream",
     "text": [
      "  key1 key2   A   B\n",
      "0   K0   K0  A0  B0\n",
      "1   K0   K1  A1  B1\n",
      "2   K1   K0  A2  B2\n",
      "3   K2   K1  A3  B3\n",
      "  key1 key2   C   D\n",
      "0   K0   K0  C0  D0\n",
      "1   K1   K0  C1  D1\n",
      "2   K1   K0  C2  D2\n",
      "3   K2   K0  C3  D3\n"
     ]
    }
   ],
   "source": [
    "import pandas as pd\n",
    "\n",
    "#定义资料集并打印出\n",
    "left = pd.DataFrame({'key1': ['K0', 'K0', 'K1', 'K2'],\n",
    "                      'key2': ['K0', 'K1', 'K0', 'K1'],\n",
    "                      'A': ['A0', 'A1', 'A2', 'A3'],\n",
    "                      'B': ['B0', 'B1', 'B2', 'B3']})\n",
    "right = pd.DataFrame({'key1': ['K0', 'K1', 'K1', 'K2'],\n",
    "                       'key2': ['K0', 'K0', 'K0', 'K0'],\n",
    "                       'C': ['C0', 'C1', 'C2', 'C3'],\n",
    "                       'D': ['D0', 'D1', 'D2', 'D3']})\n",
    "\n",
    "print(left)\n",
    "#    A   B key1 key2\n",
    "# 0  A0  B0   K0   K0\n",
    "# 1  A1  B1   K0   K1\n",
    "# 2  A2  B2   K1   K0\n",
    "# 3  A3  B3   K2   K1\n",
    "\n",
    "print(right)\n",
    "#    C   D key1 key2\n",
    "# 0  C0  D0   K0   K0\n",
    "# 1  C1  D1   K1   K0\n",
    "# 2  C2  D2   K1   K0\n",
    "# 3  C3  D3   K2   K0"
   ],
   "metadata": {
    "collapsed": false,
    "pycharm": {
     "name": "#%%\n"
    }
   }
  },
  {
   "cell_type": "markdown",
   "source": [
    "#### 依据key1与key2 columns进行合并，并打印出四种结果['left', 'right', 'outer', 'inner']"
   ],
   "metadata": {
    "collapsed": false,
    "pycharm": {
     "name": "#%% md\n"
    }
   }
  },
  {
   "cell_type": "code",
   "execution_count": 53,
   "outputs": [
    {
     "name": "stdout",
     "output_type": "stream",
     "text": [
      "  key1 key2   A   B   C   D\n",
      "0   K0   K0  A0  B0  C0  D0\n",
      "1   K1   K0  A2  B2  C1  D1\n",
      "2   K1   K0  A2  B2  C2  D2\n"
     ]
    }
   ],
   "source": [
    "res = pd.merge(left, right, on=['key1', 'key2'], how='inner')\n",
    "print(res)\n",
    "#    A   B key1 key2   C   D\n",
    "# 0  A0  B0   K0   K0  C0  D0\n",
    "# 1  A2  B2   K1   K0  C1  D1\n",
    "# 2  A2  B2   K1   K0  C2  D2"
   ],
   "metadata": {
    "collapsed": false,
    "pycharm": {
     "name": "#%%\n"
    }
   }
  },
  {
   "cell_type": "code",
   "execution_count": 54,
   "outputs": [
    {
     "name": "stdout",
     "output_type": "stream",
     "text": [
      "  key1 key2    A    B    C    D\n",
      "0   K0   K0   A0   B0   C0   D0\n",
      "1   K0   K1   A1   B1  NaN  NaN\n",
      "2   K1   K0   A2   B2   C1   D1\n",
      "3   K1   K0   A2   B2   C2   D2\n",
      "4   K2   K1   A3   B3  NaN  NaN\n",
      "5   K2   K0  NaN  NaN   C3   D3\n"
     ]
    }
   ],
   "source": [
    "res = pd.merge(left, right, on=['key1', 'key2'], how='outer')\n",
    "print(res)\n",
    "#     A    B key1 key2    C    D\n",
    "# 0   A0   B0   K0   K0   C0   D0\n",
    "# 1   A1   B1   K0   K1  NaN  NaN\n",
    "# 2   A2   B2   K1   K0   C1   D1\n",
    "# 3   A2   B2   K1   K0   C2   D2\n",
    "# 4   A3   B3   K2   K1  NaN  NaN\n",
    "# 5  NaN  NaN   K2   K0   C3   D3"
   ],
   "metadata": {
    "collapsed": false,
    "pycharm": {
     "name": "#%%\n"
    }
   }
  },
  {
   "cell_type": "code",
   "execution_count": 55,
   "outputs": [
    {
     "name": "stdout",
     "output_type": "stream",
     "text": [
      "  key1 key2   A   B    C    D\n",
      "0   K0   K0  A0  B0   C0   D0\n",
      "1   K0   K1  A1  B1  NaN  NaN\n",
      "2   K1   K0  A2  B2   C1   D1\n",
      "3   K1   K0  A2  B2   C2   D2\n",
      "4   K2   K1  A3  B3  NaN  NaN\n"
     ]
    }
   ],
   "source": [
    "res = pd.merge(left, right, on=['key1', 'key2'], how='left')\n",
    "print(res)\n",
    "#    A   B key1 key2    C    D\n",
    "# 0  A0  B0   K0   K0   C0   D0\n",
    "# 1  A1  B1   K0   K1  NaN  NaN\n",
    "# 2  A2  B2   K1   K0   C1   D1\n",
    "# 3  A2  B2   K1   K0   C2   D2\n",
    "# 4  A3  B3   K2   K1  NaN  NaN"
   ],
   "metadata": {
    "collapsed": false,
    "pycharm": {
     "name": "#%%\n"
    }
   }
  },
  {
   "cell_type": "code",
   "execution_count": 56,
   "outputs": [
    {
     "name": "stdout",
     "output_type": "stream",
     "text": [
      "  key1 key2    A    B   C   D\n",
      "0   K0   K0   A0   B0  C0  D0\n",
      "1   K1   K0   A2   B2  C1  D1\n",
      "2   K1   K0   A2   B2  C2  D2\n",
      "3   K2   K0  NaN  NaN  C3  D3\n"
     ]
    }
   ],
   "source": [
    "res = pd.merge(left, right, on=['key1', 'key2'], how='right')\n",
    "print(res)\n",
    "#     A    B key1 key2   C   D\n",
    "# 0   A0   B0   K0   K0  C0  D0\n",
    "# 1   A2   B2   K1   K0  C1  D1\n",
    "# 2   A2   B2   K1   K0  C2  D2\n",
    "# 3  NaN  NaN   K2   K0  C3  D3"
   ],
   "metadata": {
    "collapsed": false,
    "pycharm": {
     "name": "#%%\n"
    }
   }
  },
  {
   "cell_type": "markdown",
   "source": [
    "## Indicator\n",
    "indicator=True会将合并的记录放在新的一列"
   ],
   "metadata": {
    "collapsed": false,
    "pycharm": {
     "name": "#%% md\n"
    }
   }
  },
  {
   "cell_type": "code",
   "execution_count": 57,
   "outputs": [
    {
     "name": "stdout",
     "output_type": "stream",
     "text": [
      "   col1 col_left\n",
      "0     0        a\n",
      "1     1        b\n"
     ]
    }
   ],
   "source": [
    "import pandas as pd\n",
    "\n",
    "#定义资料集并打印出\n",
    "df1 = pd.DataFrame({'col1':[0,1], 'col_left':['a','b']})\n",
    "df2 = pd.DataFrame({'col1':[1,2,2],'col_right':[2,2,2]})\n",
    "\n",
    "print(df1)\n",
    "#   col1 col_left\n",
    "# 0     0        a\n",
    "# 1     1        b"
   ],
   "metadata": {
    "collapsed": false,
    "pycharm": {
     "name": "#%%\n"
    }
   }
  },
  {
   "cell_type": "code",
   "execution_count": 58,
   "outputs": [
    {
     "name": "stdout",
     "output_type": "stream",
     "text": [
      "   col1  col_right\n",
      "0     1          2\n",
      "1     2          2\n",
      "2     2          2\n"
     ]
    }
   ],
   "source": [
    "print(df2)\n",
    "#   col1  col_right\n",
    "# 0     1          2\n",
    "# 1     2          2\n",
    "# 2     2          2"
   ],
   "metadata": {
    "collapsed": false,
    "pycharm": {
     "name": "#%%\n"
    }
   }
  },
  {
   "cell_type": "markdown",
   "source": [
    "#### 依据col1进行合并，并启用indicator=True，最后打印出"
   ],
   "metadata": {
    "collapsed": false,
    "pycharm": {
     "name": "#%% md\n"
    }
   }
  },
  {
   "cell_type": "code",
   "execution_count": 59,
   "outputs": [
    {
     "name": "stdout",
     "output_type": "stream",
     "text": [
      "   col1 col_left  col_right      _merge\n",
      "0     0        a        NaN   left_only\n",
      "1     1        b        2.0        both\n",
      "2     2      NaN        2.0  right_only\n",
      "3     2      NaN        2.0  right_only\n"
     ]
    }
   ],
   "source": [
    "res = pd.merge(df1, df2, on='col1', how='outer', indicator=True)\n",
    "print(res)\n",
    "#   col1 col_left  col_right      _merge\n",
    "# 0   0.0        a        NaN   left_only\n",
    "# 1   1.0        b        2.0        both\n",
    "# 2   2.0      NaN        2.0  right_only\n",
    "# 3   2.0      NaN        2.0  right_only"
   ],
   "metadata": {
    "collapsed": false,
    "pycharm": {
     "name": "#%%\n"
    }
   }
  },
  {
   "cell_type": "markdown",
   "source": [
    "#### 自定indicator column的名称，并打印出"
   ],
   "metadata": {
    "collapsed": false,
    "pycharm": {
     "name": "#%% md\n"
    }
   }
  },
  {
   "cell_type": "code",
   "execution_count": 60,
   "outputs": [
    {
     "name": "stdout",
     "output_type": "stream",
     "text": [
      "   col1 col_left  col_right indicator_column\n",
      "0     0        a        NaN        left_only\n",
      "1     1        b        2.0             both\n",
      "2     2      NaN        2.0       right_only\n",
      "3     2      NaN        2.0       right_only\n"
     ]
    }
   ],
   "source": [
    "res = pd.merge(df1, df2, on='col1', how='outer', indicator='indicator_column')\n",
    "print(res)\n",
    "#   col1 col_left  col_right indicator_column\n",
    "# 0   0.0        a        NaN        left_only\n",
    "# 1   1.0        b        2.0             both\n",
    "# 2   2.0      NaN        2.0       right_only\n",
    "# 3   2.0      NaN        2.0       right_only"
   ],
   "metadata": {
    "collapsed": false,
    "pycharm": {
     "name": "#%%\n"
    }
   }
  },
  {
   "cell_type": "markdown",
   "source": [
    "## 依据index合并"
   ],
   "metadata": {
    "collapsed": false,
    "pycharm": {
     "name": "#%% md\n"
    }
   }
  },
  {
   "cell_type": "code",
   "execution_count": 61,
   "outputs": [
    {
     "name": "stdout",
     "output_type": "stream",
     "text": [
      "     A   B\n",
      "K0  A0  B0\n",
      "K1  A1  B1\n",
      "K2  A2  B2\n",
      "     C   D\n",
      "K0  C0  D0\n",
      "K2  C2  D2\n",
      "K3  C3  D3\n"
     ]
    }
   ],
   "source": [
    "import pandas as pd\n",
    "\n",
    "#定义资料集并打印出\n",
    "left = pd.DataFrame({'A': ['A0', 'A1', 'A2'],\n",
    "                     'B': ['B0', 'B1', 'B2']},\n",
    "                     index=['K0', 'K1', 'K2'])\n",
    "right = pd.DataFrame({'C': ['C0', 'C2', 'C3'],\n",
    "                      'D': ['D0', 'D2', 'D3']},\n",
    "                     index=['K0', 'K2', 'K3'])\n",
    "\n",
    "print(left)\n",
    "#     A   B\n",
    "# K0  A0  B0\n",
    "# K1  A1  B1\n",
    "# K2  A2  B2\n",
    "\n",
    "print(right)\n",
    "#     C   D\n",
    "# K0  C0  D0\n",
    "# K2  C2  D2\n",
    "# K3  C3  D3"
   ],
   "metadata": {
    "collapsed": false,
    "pycharm": {
     "name": "#%%\n"
    }
   }
  },
  {
   "cell_type": "markdown",
   "source": [
    "#### 依据左右资料集的index进行合并，how='outer',并打印出\n",
    "res = pd.merge(left, right, left_index=True, right_index=True, how='outer')\n",
    "print(res)"
   ],
   "metadata": {
    "collapsed": false,
    "pycharm": {
     "name": "#%% md\n"
    }
   }
  },
  {
   "cell_type": "code",
   "execution_count": 62,
   "outputs": [],
   "source": [
    "#      A    B    C    D\n",
    "# K0   A0   B0   C0   D0\n",
    "# K1   A1   B1  NaN  NaN\n",
    "# K2   A2   B2   C2   D2\n",
    "# K3  NaN  NaN   C3   D3"
   ],
   "metadata": {
    "collapsed": false,
    "pycharm": {
     "name": "#%%\n"
    }
   }
  },
  {
   "cell_type": "markdown",
   "source": [
    "#### 依据左右资料集的index进行合并，how='inner',并打印出"
   ],
   "metadata": {
    "collapsed": false,
    "pycharm": {
     "name": "#%% md\n"
    }
   }
  },
  {
   "cell_type": "code",
   "execution_count": 63,
   "outputs": [
    {
     "name": "stdout",
     "output_type": "stream",
     "text": [
      "     A   B   C   D\n",
      "K0  A0  B0  C0  D0\n",
      "K2  A2  B2  C2  D2\n"
     ]
    }
   ],
   "source": [
    "res = pd.merge(left, right, left_index=True, right_index=True, how='inner')\n",
    "print(res)\n",
    "#     A   B   C   D\n",
    "# K0  A0  B0  C0  D0\n",
    "# K2  A2  B2  C2  D2"
   ],
   "metadata": {
    "collapsed": false,
    "pycharm": {
     "name": "#%%\n"
    }
   }
  },
  {
   "cell_type": "markdown",
   "source": [
    "## 解决overlapping的问题"
   ],
   "metadata": {
    "collapsed": false,
    "pycharm": {
     "name": "#%% md\n"
    }
   }
  },
  {
   "cell_type": "code",
   "execution_count": 64,
   "outputs": [],
   "source": [
    "import pandas as pd"
   ],
   "metadata": {
    "collapsed": false,
    "pycharm": {
     "name": "#%%\n"
    }
   }
  },
  {
   "cell_type": "markdown",
   "source": [
    "#### 定义资料集"
   ],
   "metadata": {
    "collapsed": false,
    "pycharm": {
     "name": "#%% md\n"
    }
   }
  },
  {
   "cell_type": "code",
   "execution_count": 65,
   "outputs": [],
   "source": [
    "boys = pd.DataFrame({'k': ['K0', 'K1', 'K2'], 'age': [1, 2, 3]})\n",
    "girls = pd.DataFrame({'k': ['K0', 'K0', 'K3'], 'age': [4, 5, 6]})"
   ],
   "metadata": {
    "collapsed": false,
    "pycharm": {
     "name": "#%%\n"
    }
   }
  },
  {
   "cell_type": "markdown",
   "source": [
    "#### 使用suffixes解决overlapping的问题"
   ],
   "metadata": {
    "collapsed": false,
    "pycharm": {
     "name": "#%% md\n"
    }
   }
  },
  {
   "cell_type": "code",
   "execution_count": 66,
   "outputs": [
    {
     "name": "stdout",
     "output_type": "stream",
     "text": [
      "    k  age_boy  age_girl\n",
      "0  K0        1         4\n",
      "1  K0        1         5\n"
     ]
    }
   ],
   "source": [
    "res = pd.merge(boys, girls, on='k', suffixes=['_boy', '_girl'], how='inner')\n",
    "print(res)\n",
    "#    age_boy   k  age_girl\n",
    "# 0        1  K0         4\n",
    "# 1        1  K0         5"
   ],
   "metadata": {
    "collapsed": false,
    "pycharm": {
     "name": "#%%\n"
    }
   }
  },
  {
   "cell_type": "markdown",
   "source": [
    "# Pandas plot 出图"
   ],
   "metadata": {
    "collapsed": false,
    "pycharm": {
     "name": "#%% md\n"
    }
   }
  },
  {
   "cell_type": "code",
   "execution_count": 67,
   "outputs": [],
   "source": [
    "import pandas as pd\n",
    "import numpy as np\n",
    "import matplotlib.pyplot as plt"
   ],
   "metadata": {
    "collapsed": false,
    "pycharm": {
     "name": "#%%\n"
    }
   }
  },
  {
   "cell_type": "markdown",
   "source": [
    "## 创建一个Series"
   ],
   "metadata": {
    "collapsed": false,
    "pycharm": {
     "name": "#%% md\n"
    }
   }
  },
  {
   "cell_type": "code",
   "execution_count": 68,
   "outputs": [
    {
     "name": "stdout",
     "output_type": "stream",
     "text": [
      "0      0.063012\n",
      "1     -0.621274\n",
      "2     -2.800291\n",
      "3      1.171374\n",
      "4     -0.119600\n",
      "         ...   \n",
      "995   -0.231055\n",
      "996   -0.723059\n",
      "997    1.546669\n",
      "998    1.059029\n",
      "999   -0.712328\n",
      "Length: 1000, dtype: float64\n"
     ]
    }
   ],
   "source": [
    "# 随机生成1000个数据\n",
    "data = pd.Series(np.random.randn(1000),index=np.arange(1000))\n",
    "print(data)"
   ],
   "metadata": {
    "collapsed": false,
    "pycharm": {
     "name": "#%%\n"
    }
   }
  },
  {
   "cell_type": "code",
   "execution_count": 69,
   "outputs": [],
   "source": [
    "#np.arange(1000)"
   ],
   "metadata": {
    "collapsed": false,
    "pycharm": {
     "name": "#%%\n"
    }
   }
  },
  {
   "cell_type": "code",
   "execution_count": 70,
   "outputs": [],
   "source": [
    "#np.random.randn(1000)"
   ],
   "metadata": {
    "collapsed": false,
    "pycharm": {
     "name": "#%%\n"
    }
   }
  },
  {
   "cell_type": "code",
   "execution_count": 71,
   "outputs": [
    {
     "data": {
      "text/plain": "0       0.063012\n1      -0.558262\n2      -3.358553\n3      -2.187179\n4      -2.306780\n         ...    \n995    10.100862\n996     9.377803\n997    10.924472\n998    11.983501\n999    11.271173\nLength: 1000, dtype: float64"
     },
     "execution_count": 71,
     "metadata": {},
     "output_type": "execute_result"
    }
   ],
   "source": [
    "# 为了方便观看效果, 我们累加这个数据\n",
    "data.cumsum()"
   ],
   "metadata": {
    "collapsed": false,
    "pycharm": {
     "name": "#%%\n"
    }
   }
  },
  {
   "cell_type": "code",
   "execution_count": 72,
   "outputs": [
    {
     "data": {
      "text/plain": "<Figure size 432x288 with 1 Axes>",
      "image/png": "[encoded data removed]"
     },
     "metadata": {
      "needs_background": "light"
     },
     "output_type": "display_data"
    }
   ],
   "source": [
    "# pandas 数据可以直接观看其可视化形式\n",
    "data.cumsum().plot()\n",
    "plt.show()"
   ],
   "metadata": {
    "collapsed": false,
    "pycharm": {
     "name": "#%%\n"
    }
   }
  },
  {
   "cell_type": "markdown",
   "source": [
    "## Dataframe 可视化"
   ],
   "metadata": {
    "collapsed": false,
    "pycharm": {
     "name": "#%% md\n"
    }
   }
  },
  {
   "cell_type": "code",
   "execution_count": 73,
   "outputs": [
    {
     "name": "stdout",
     "output_type": "stream",
     "text": [
      "            A         B         C         D\n",
      "0   -2.051578  1.275101 -0.954034  0.343495\n",
      "1   -1.526803  1.259907 -0.560357 -0.905565\n",
      "2   -0.708099 -0.203612 -0.910524 -0.475422\n",
      "3    0.860034  0.299243  0.164775  0.383696\n",
      "4    0.069686 -0.589071 -0.161609  0.196848\n",
      "..        ...       ...       ...       ...\n",
      "995 -0.751412  0.837399  0.002405 -1.246339\n",
      "996  0.419631  0.953854  0.022564  0.123526\n",
      "997 -0.614594  1.468999  1.190541 -0.618402\n",
      "998  0.372589 -0.128871  1.812449 -1.286958\n",
      "999 -0.897597  1.488794 -0.695324 -0.604171\n",
      "\n",
      "[1000 rows x 4 columns]\n"
     ]
    }
   ],
   "source": [
    "data = pd.DataFrame(\n",
    "    np.random.randn(1000,4),\n",
    "    index=np.arange(1000),\n",
    "    columns=list(\"ABCD\")\n",
    "    )\n",
    "print(data)"
   ],
   "metadata": {
    "collapsed": false,
    "pycharm": {
     "name": "#%%\n"
    }
   }
  },
  {
   "cell_type": "code",
   "execution_count": 74,
   "outputs": [
    {
     "data": {
      "text/plain": "<Figure size 432x288 with 1 Axes>",
      "image/png": "[encoded data removed]"
     },
     "metadata": {
      "needs_background": "light"
     },
     "output_type": "display_data"
    }
   ],
   "source": [
    "data.cumsum()\n",
    "data.cumsum().plot()\n",
    "plt.show()"
   ],
   "metadata": {
    "collapsed": false,
    "pycharm": {
     "name": "#%%\n"
    }
   }
  },
  {
   "cell_type": "markdown",
   "source": [
    "#### 分别给x, y指定数据"
   ],
   "metadata": {
    "collapsed": false,
    "pycharm": {
     "name": "#%% md\n"
    }
   }
  },
  {
   "cell_type": "code",
   "execution_count": 75,
   "outputs": [
    {
     "data": {
      "text/plain": "<Figure size 432x288 with 1 Axes>",
      "image/png": "[encoded data removed]"
     },
     "metadata": {
      "needs_background": "light"
     },
     "output_type": "display_data"
    }
   ],
   "source": [
    "ax = data.cumsum().plot.scatter(x='A',y='B',color='DarkBlue',label='Class1')\n",
    "#将之下这个 data 画在上一个 ax 上面\n",
    "data.cumsum().plot.scatter(x='A',y='C',color='LightGreen',label='Class2',ax=ax)\n",
    "plt.show()"
   ],
   "metadata": {
    "collapsed": false,
    "pycharm": {
     "name": "#%%\n"
    }
   }
  },
  {
   "cell_type": "markdown",
   "source": [
    "# 为什么用 Numpy 还是慢, 你用对了吗?\n",
    "## 为什么用 Numpy?\n",
    "## 创建 Numpy Array 的结构\n",
    "## 在 Axis 上的动作"
   ],
   "metadata": {
    "collapsed": false,
    "pycharm": {
     "name": "#%% md\n"
    }
   }
  },
  {
   "cell_type": "code",
   "source": [
    "import time\n",
    "import pandas as pd\n",
    "import numpy as np\n",
    "import matplotlib.pyplot as plt\n",
    "\n",
    "a = np.zeros((200, 200), order='C')\n",
    "b = np.zeros((200, 200), order='F')\n",
    "N = 9999\n",
    "\n",
    "def f1(a):\n",
    "    for _ in range(N):\n",
    "        np.concatenate((a, a), axis=0)\n",
    "def f2(b):\n",
    "    for _ in range(N):\n",
    "        np.concatenate((b, b), axis=0)\n",
    "\n",
    "t0 = time.time()\n",
    "f1(a)\n",
    "t1 = time.time()\n",
    "f2(b)\n",
    "t2 = time.time()\n",
    "\n",
    "print((t1-t0)/N)     # 0.000040\n",
    "print((t2-t1)/N)     # 0.000070"
   ],
   "metadata": {
    "collapsed": false,
    "pycharm": {
     "name": "#%%\n"
    }
   },
   "execution_count": 76,
   "outputs": [
    {
     "name": "stdout",
     "output_type": "stream",
     "text": [
      "2.3169331055114787e-05\n",
      "5.165571355261747e-05\n"
     ]
    }
   ]
  },
  {
   "cell_type": "markdown",
   "source": [
    "np.vstack((a,a))\n",
    "np.concatenate((a,a), axis=0)"
   ],
   "metadata": {
    "collapsed": false,
    "pycharm": {
     "name": "#%% md\n"
    }
   }
  },
  {
   "cell_type": "code",
   "execution_count": 77,
   "outputs": [
    {
     "name": "stdout",
     "output_type": "stream",
     "text": [
      "2.5558071096416282e-05\n",
      "2.746665962983017e-05\n"
     ]
    }
   ],
   "source": [
    "a = np.zeros((200, 200), order='C')\n",
    "N = 9999\n",
    "\n",
    "def f1(a):\n",
    "    for _ in range(N):\n",
    "        np.vstack((a,a))\n",
    "\n",
    "def f2(b):\n",
    "    for _ in range(N):\n",
    "        np.concatenate((a, a), axis=0)\n",
    "\n",
    "t0 = time.time()\n",
    "f1(a)\n",
    "t1 = time.time()\n",
    "f2(b)\n",
    "t2 = time.time()\n",
    "\n",
    "print((t1-t0)/N)\n",
    "print((t2-t1)/N)\n"
   ],
   "metadata": {
    "collapsed": false,
    "pycharm": {
     "name": "#%%\n"
    }
   }
  },
  {
   "cell_type": "code",
   "execution_count": 78,
   "outputs": [
    {
     "data": {
      "text/plain": "array([[0., 0., 0., ..., 0., 0., 0.],\n       [0., 0., 0., ..., 0., 0., 0.],\n       [0., 0., 0., ..., 0., 0., 0.],\n       ...,\n       [0., 0., 0., ..., 0., 0., 0.],\n       [0., 0., 0., ..., 0., 0., 0.],\n       [0., 0., 0., ..., 0., 0., 0.]])"
     },
     "execution_count": 78,
     "metadata": {},
     "output_type": "execute_result"
    }
   ],
   "source": [
    "indices = np.random.randint(0, 100, size=10, dtype=np.int32)\n",
    "a[indices, :]     # 0.000003\n",
    "a[:, indices]     # 0.000006\n"
   ],
   "metadata": {
    "collapsed": false,
    "pycharm": {
     "name": "#%%\n"
    }
   }
  },
  {
   "cell_type": "markdown",
   "source": [
    "## copy慢 view快"
   ],
   "metadata": {
    "collapsed": false,
    "pycharm": {
     "name": "#%% md\n"
    }
   }
  },
  {
   "cell_type": "code",
   "execution_count": 79,
   "outputs": [
    {
     "name": "stdout",
     "output_type": "stream",
     "text": [
      "[[1 2]\n",
      " [3 4]\n",
      " [5 6]]\n",
      "[[1 2]\n",
      " [3 0]\n",
      " [5 6]]\n"
     ]
    }
   ],
   "source": [
    "a = np.arange(1, 7).reshape((3,2))\n",
    "a_view = a[:2]\n",
    "a_copy = a[:2].copy()\n",
    "\n",
    "a_copy[1,1] = 0\n",
    "print(a)\n",
    "a_view[1,1] = 0\n",
    "print(a)\n",
    "\n"
   ],
   "metadata": {
    "collapsed": false,
    "pycharm": {
     "name": "#%%\n"
    }
   }
  },
  {
   "cell_type": "markdown",
   "source": [
    "#### 测速 copy与view"
   ],
   "metadata": {
    "collapsed": false,
    "pycharm": {
     "name": "#%% md\n"
    }
   }
  },
  {
   "cell_type": "code",
   "execution_count": 86,
   "outputs": [
    {
     "name": "stdout",
     "output_type": "stream",
     "text": [
      "0.000636\n",
      "0.005308\n"
     ]
    }
   ],
   "source": [
    "a = np.zeros((1000, 1000))\n",
    "b = np.zeros((1000, 1000))\n",
    "N = 99\n",
    "\n",
    "def f1(a):\n",
    "    for _ in range(N):\n",
    "        a *= 2           # same as a[:] *= 2\n",
    "\n",
    "def f2(b):\n",
    "    for _ in range(N):\n",
    "        b = 2*b\n",
    "t0 = time.time()\n",
    "f1(a)\n",
    "t1 = time.time()\n",
    "f2(b)\n",
    "t2 = time.time()\n",
    "print('%f' % ((t1-t0)/N))     # f1: 0.000837\n",
    "print('%f' % ((t2-t1)/N))     # f2: 0.001346"
   ],
   "metadata": {
    "collapsed": false,
    "pycharm": {
     "name": "#%%\n"
    }
   }
  },
  {
   "cell_type": "markdown",
   "source": [
    "####  相比于 flatten, ravel 是神速"
   ],
   "metadata": {
    "collapsed": false,
    "pycharm": {
     "name": "#%% md\n"
    }
   }
  },
  {
   "cell_type": "code",
   "execution_count": null,
   "outputs": [],
   "source": [
    "def f1(a):\n",
    "    for _ in range(N):\n",
    "        a.flatten()\n",
    "\n",
    "def f2(b):\n",
    "    for _ in range(N):\n",
    "        b.ravel()\n",
    "t0 = time.time()\n",
    "f1(a)\n",
    "t1 = time.time()\n",
    "f2(b)\n",
    "t2 = time.time()\n",
    "print('%f' % ((t1-t0)/N))    # 0.001059\n",
    "print('%f' % ((t2-t1)/N))    # 0.000000"
   ],
   "metadata": {
    "collapsed": false,
    "pycharm": {
     "name": "#%%\n"
    }
   }
  },
  {
   "cell_type": "markdown",
   "source": [
    "## 选择数据"
   ],
   "metadata": {
    "collapsed": false,
    "pycharm": {
     "name": "#%% md\n"
    }
   }
  },
  {
   "cell_type": "code",
   "execution_count": 88,
   "outputs": [],
   "source": [
    "a_view1 = a[1:2, 3:6]    # 切片 slice\n",
    "a_view2 = a[:100]        # 同上\n",
    "a_view3 = a[::2]         # 跳步\n",
    "a_view4 = a.ravel()      # 上面提到了"
   ],
   "metadata": {
    "collapsed": false,
    "pycharm": {
     "name": "#%%\n"
    }
   }
  },
  {
   "cell_type": "code",
   "execution_count": 95,
   "outputs": [
    {
     "ename": "IndexError",
     "evalue": "boolean index did not match indexed array along dimension 0; dimension is 1000000 but corresponding boolean dimension is 2",
     "output_type": "error",
     "traceback": [
      "\u001B[1;31m---------------------------------------------------------------------------\u001B[0m",
      "\u001B[1;31mIndexError\u001B[0m                                Traceback (most recent call last)",
      "\u001B[1;32mC:\\Users\\ADMINI~1\\AppData\\Local\\Temp/ipykernel_20632/424065999.py\u001B[0m in \u001B[0;36m<module>\u001B[1;34m\u001B[0m\n\u001B[0;32m      1\u001B[0m \u001B[0ma_copy1\u001B[0m \u001B[1;33m=\u001B[0m \u001B[0ma\u001B[0m\u001B[1;33m[\u001B[0m\u001B[1;33m[\u001B[0m\u001B[1;36m1\u001B[0m\u001B[1;33m,\u001B[0m\u001B[1;36m4\u001B[0m\u001B[1;33m,\u001B[0m\u001B[1;36m6\u001B[0m\u001B[1;33m]\u001B[0m\u001B[1;33m,\u001B[0m \u001B[1;33m[\u001B[0m\u001B[1;36m2\u001B[0m\u001B[1;33m,\u001B[0m\u001B[1;36m4\u001B[0m\u001B[1;33m,\u001B[0m\u001B[1;36m6\u001B[0m\u001B[1;33m]\u001B[0m\u001B[1;33m]\u001B[0m   \u001B[1;31m# 用 index 选\u001B[0m\u001B[1;33m\u001B[0m\u001B[1;33m\u001B[0m\u001B[0m\n\u001B[1;32m----> 2\u001B[1;33m \u001B[0ma_copy2\u001B[0m \u001B[1;33m=\u001B[0m \u001B[0ma\u001B[0m\u001B[1;33m[\u001B[0m\u001B[1;33m[\u001B[0m\u001B[1;32mTrue\u001B[0m\u001B[1;33m,\u001B[0m \u001B[1;32mTrue\u001B[0m\u001B[1;33m]\u001B[0m\u001B[1;33m,\u001B[0m \u001B[1;33m[\u001B[0m\u001B[1;32mFalse\u001B[0m\u001B[1;33m,\u001B[0m \u001B[1;32mTrue\u001B[0m\u001B[1;33m]\u001B[0m\u001B[1;33m]\u001B[0m  \u001B[1;31m# 用 mask\u001B[0m\u001B[1;33m\u001B[0m\u001B[1;33m\u001B[0m\u001B[0m\n\u001B[0m\u001B[0;32m      3\u001B[0m \u001B[0ma_copy3\u001B[0m \u001B[1;33m=\u001B[0m \u001B[0ma\u001B[0m\u001B[1;33m[\u001B[0m\u001B[1;33m[\u001B[0m\u001B[1;36m1\u001B[0m\u001B[1;33m,\u001B[0m\u001B[1;36m2\u001B[0m\u001B[1;33m]\u001B[0m\u001B[1;33m,\u001B[0m \u001B[1;33m:\u001B[0m\u001B[1;33m]\u001B[0m        \u001B[1;31m# 虽然 1,2 的确连在一起了, 但是他们确实是 copy\u001B[0m\u001B[1;33m\u001B[0m\u001B[1;33m\u001B[0m\u001B[0m\n\u001B[0;32m      4\u001B[0m \u001B[0ma_copy4\u001B[0m \u001B[1;33m=\u001B[0m \u001B[0ma\u001B[0m\u001B[1;33m[\u001B[0m\u001B[0ma\u001B[0m\u001B[1;33m[\u001B[0m\u001B[1;36m1\u001B[0m\u001B[1;33m,\u001B[0m\u001B[1;33m:\u001B[0m\u001B[1;33m]\u001B[0m \u001B[1;33m!=\u001B[0m \u001B[1;36m0\u001B[0m\u001B[1;33m,\u001B[0m \u001B[1;33m:\u001B[0m\u001B[1;33m]\u001B[0m  \u001B[1;31m# fancy indexing\u001B[0m\u001B[1;33m\u001B[0m\u001B[1;33m\u001B[0m\u001B[0m\n\u001B[0;32m      5\u001B[0m \u001B[0ma_copy5\u001B[0m \u001B[1;33m=\u001B[0m \u001B[0ma\u001B[0m\u001B[1;33m[\u001B[0m\u001B[0mnp\u001B[0m\u001B[1;33m.\u001B[0m\u001B[0misnan\u001B[0m\u001B[1;33m(\u001B[0m\u001B[0ma\u001B[0m\u001B[1;33m)\u001B[0m\u001B[1;33m,\u001B[0m \u001B[1;33m:\u001B[0m\u001B[1;33m]\u001B[0m  \u001B[1;31m# fancy indexing\u001B[0m\u001B[1;33m\u001B[0m\u001B[1;33m\u001B[0m\u001B[0m\n",
      "\u001B[1;31mIndexError\u001B[0m: boolean index did not match indexed array along dimension 0; dimension is 1000000 but corresponding boolean dimension is 2"
     ]
    }
   ],
   "source": [
    "a_copy1 = a[[1,4,6], [2,4,6]]   # 用 index 选\n",
    "a_copy2 = a[[True, True], [False, True]]  # 用 mask\n",
    "a_copy3 = a[[1,2], :]        # 虽然 1,2 的确连在一起了, 但是他们确实是 copy\n",
    "a_copy4 = a[a[1,:] != 0, :]  # fancy indexing\n",
    "a_copy5 = a[np.isnan(a), :]  # fancy indexing"
   ],
   "metadata": {
    "collapsed": false,
    "pycharm": {
     "name": "#%%\n"
    }
   }
  },
  {
   "cell_type": "markdown",
   "source": [
    "#### 1.使用 np.take(), 替代用 index 选数据的方法."
   ],
   "metadata": {
    "collapsed": false,
    "pycharm": {
     "name": "#%% md\n"
    }
   }
  },
  {
   "cell_type": "code",
   "execution_count": 99,
   "outputs": [
    {
     "name": "stdout",
     "output_type": "stream",
     "text": [
      "0.000020\n",
      "0.000010\n"
     ]
    }
   ],
   "source": [
    "a = np.random.rand(100, 10)\n",
    "N = 99\n",
    "indices = np.random.randint(0, 100, size=1)\n",
    "\n",
    "def f1(a):\n",
    "    for _ in range(N):\n",
    "        _ = np.take(a, indices, axis=0)\n",
    "\n",
    "def f2(b):\n",
    "    for _ in range(N):\n",
    "        _ = b[indices]\n",
    "t0 = time.time()\n",
    "f1(a)\n",
    "t1 = time.time()\n",
    "f2(b)\n",
    "t2 = time.time()\n",
    "print('%f' % ((t1-t0)/N))    # 0.000393\n",
    "print('%f' % ((t2-t1)/N))    # 0.000569"
   ],
   "metadata": {
    "collapsed": false,
    "pycharm": {
     "name": "#%%\n"
    }
   }
  },
  {
   "cell_type": "markdown",
   "source": [
    "#### 2.使用 np.compress(), 替代用 mask 选数据的方法."
   ],
   "metadata": {
    "collapsed": false,
    "pycharm": {
     "name": "#%% md\n"
    }
   }
  },
  {
   "cell_type": "code",
   "execution_count": 101,
   "outputs": [
    {
     "ename": "IndexError",
     "evalue": "boolean index did not match indexed array along dimension 0; dimension is 1000 but corresponding boolean dimension is 100",
     "output_type": "error",
     "traceback": [
      "\u001B[1;31m---------------------------------------------------------------------------\u001B[0m",
      "\u001B[1;31mIndexError\u001B[0m                                Traceback (most recent call last)",
      "\u001B[1;32mC:\\Users\\ADMINI~1\\AppData\\Local\\Temp/ipykernel_20632/3541181691.py\u001B[0m in \u001B[0;36m<module>\u001B[1;34m\u001B[0m\n\u001B[0;32m     10\u001B[0m \u001B[0mf1\u001B[0m\u001B[1;33m(\u001B[0m\u001B[0ma\u001B[0m\u001B[1;33m)\u001B[0m\u001B[1;33m\u001B[0m\u001B[1;33m\u001B[0m\u001B[0m\n\u001B[0;32m     11\u001B[0m \u001B[0mt1\u001B[0m \u001B[1;33m=\u001B[0m \u001B[0mtime\u001B[0m\u001B[1;33m.\u001B[0m\u001B[0mtime\u001B[0m\u001B[1;33m(\u001B[0m\u001B[1;33m)\u001B[0m\u001B[1;33m\u001B[0m\u001B[1;33m\u001B[0m\u001B[0m\n\u001B[1;32m---> 12\u001B[1;33m \u001B[0mf2\u001B[0m\u001B[1;33m(\u001B[0m\u001B[0mb\u001B[0m\u001B[1;33m)\u001B[0m\u001B[1;33m\u001B[0m\u001B[1;33m\u001B[0m\u001B[0m\n\u001B[0m\u001B[0;32m     13\u001B[0m \u001B[0mt2\u001B[0m \u001B[1;33m=\u001B[0m \u001B[0mtime\u001B[0m\u001B[1;33m.\u001B[0m\u001B[0mtime\u001B[0m\u001B[1;33m(\u001B[0m\u001B[1;33m)\u001B[0m\u001B[1;33m\u001B[0m\u001B[1;33m\u001B[0m\u001B[0m\n\u001B[0;32m     14\u001B[0m \u001B[0mprint\u001B[0m\u001B[1;33m(\u001B[0m\u001B[1;34m'%f'\u001B[0m \u001B[1;33m%\u001B[0m \u001B[1;33m(\u001B[0m\u001B[1;33m(\u001B[0m\u001B[0mt1\u001B[0m\u001B[1;33m-\u001B[0m\u001B[0mt0\u001B[0m\u001B[1;33m)\u001B[0m\u001B[1;33m/\u001B[0m\u001B[0mN\u001B[0m\u001B[1;33m)\u001B[0m\u001B[1;33m)\u001B[0m    \u001B[1;31m# 0.028109\u001B[0m\u001B[1;33m\u001B[0m\u001B[1;33m\u001B[0m\u001B[0m\n",
      "\u001B[1;32mC:\\Users\\ADMINI~1\\AppData\\Local\\Temp/ipykernel_20632/3541181691.py\u001B[0m in \u001B[0;36mf2\u001B[1;34m(b)\u001B[0m\n\u001B[0;32m      6\u001B[0m \u001B[1;32mdef\u001B[0m \u001B[0mf2\u001B[0m\u001B[1;33m(\u001B[0m\u001B[0mb\u001B[0m\u001B[1;33m)\u001B[0m\u001B[1;33m:\u001B[0m\u001B[1;33m\u001B[0m\u001B[1;33m\u001B[0m\u001B[0m\n\u001B[0;32m      7\u001B[0m     \u001B[1;32mfor\u001B[0m \u001B[0m_\u001B[0m \u001B[1;32min\u001B[0m \u001B[0mrange\u001B[0m\u001B[1;33m(\u001B[0m\u001B[0mN\u001B[0m\u001B[1;33m)\u001B[0m\u001B[1;33m:\u001B[0m\u001B[1;33m\u001B[0m\u001B[1;33m\u001B[0m\u001B[0m\n\u001B[1;32m----> 8\u001B[1;33m         \u001B[0m_\u001B[0m \u001B[1;33m=\u001B[0m \u001B[0mb\u001B[0m\u001B[1;33m[\u001B[0m\u001B[0mmask\u001B[0m\u001B[1;33m]\u001B[0m\u001B[1;33m\u001B[0m\u001B[1;33m\u001B[0m\u001B[0m\n\u001B[0m\u001B[0;32m      9\u001B[0m \u001B[0mt0\u001B[0m \u001B[1;33m=\u001B[0m \u001B[0mtime\u001B[0m\u001B[1;33m.\u001B[0m\u001B[0mtime\u001B[0m\u001B[1;33m(\u001B[0m\u001B[1;33m)\u001B[0m\u001B[1;33m\u001B[0m\u001B[1;33m\u001B[0m\u001B[0m\n\u001B[0;32m     10\u001B[0m \u001B[0mf1\u001B[0m\u001B[1;33m(\u001B[0m\u001B[0ma\u001B[0m\u001B[1;33m)\u001B[0m\u001B[1;33m\u001B[0m\u001B[1;33m\u001B[0m\u001B[0m\n",
      "\u001B[1;31mIndexError\u001B[0m: boolean index did not match indexed array along dimension 0; dimension is 1000 but corresponding boolean dimension is 100"
     ]
    }
   ],
   "source": [
    "mask = a[:, 0] < 0.5\n",
    "def f1(a):\n",
    "    for _ in range(N):\n",
    "        _ = np.compress(mask, a, axis=0)\n",
    "\n",
    "def f2(b):\n",
    "    for _ in range(N):\n",
    "        _ = b[mask]\n",
    "t0 = time.time()\n",
    "f1(a)\n",
    "t1 = time.time()\n",
    "f2(b)\n",
    "t2 = time.time()\n",
    "print('%f' % ((t1-t0)/N))    # 0.028109\n",
    "print('%f' % ((t2-t1)/N))    # 0.031013\n"
   ],
   "metadata": {
    "collapsed": false,
    "pycharm": {
     "name": "#%%\n"
    }
   }
  },
  {
   "cell_type": "markdown",
   "source": [
    "## 非常有用的 out 参数"
   ],
   "metadata": {
    "collapsed": false,
    "pycharm": {
     "name": "#%% md\n"
    }
   }
  },
  {
   "cell_type": "code",
   "execution_count": 102,
   "outputs": [
    {
     "data": {
      "text/plain": "array([[4.84570764, 4.86722857, 4.10683174, 4.73246082, 4.1094831 ,\n        4.72258155, 4.76882668, 4.43497164, 4.90991171, 4.94815656],\n       [4.86713181, 4.66651716, 4.54295212, 4.87189011, 4.24980783,\n        4.65321994, 4.74006878, 4.12880086, 4.31646782, 4.5775402 ],\n       [4.68999426, 4.9843994 , 4.22034168, 4.49218879, 4.00374756,\n        4.25507977, 4.43955679, 4.91054634, 4.08774369, 4.79980632],\n       [4.07206635, 4.52841104, 4.70930745, 4.31402991, 4.21960816,\n        4.27735482, 4.44604291, 4.32923736, 4.42143846, 4.81573231],\n       [4.39420468, 4.21503772, 4.30289076, 4.92246824, 4.43070326,\n        4.18178549, 4.86594722, 4.33199753, 4.79869659, 4.51194209],\n       [4.9589512 , 4.58839146, 4.32059244, 4.67941321, 4.31510949,\n        4.40658663, 4.27334444, 4.73873898, 4.02435173, 4.27253276],\n       [4.8676024 , 4.37479109, 4.19064521, 4.12482535, 4.99484313,\n        4.59440161, 4.61341643, 4.68035592, 4.84732736, 4.5803195 ],\n       [4.44809691, 4.49920233, 4.8359351 , 4.43650846, 4.5833134 ,\n        4.83437612, 4.0700205 , 4.653953  , 4.44539051, 4.12711429],\n       [4.54511144, 4.83020222, 4.87564238, 4.18673546, 4.10930618,\n        4.30500671, 4.55632823, 4.05186827, 4.53945337, 4.64766485],\n       [4.847457  , 4.78314945, 4.29190719, 4.36454335, 4.17744049,\n        4.99943277, 4.32145046, 4.38680844, 4.4552229 , 4.94745896],\n       [4.08489802, 4.04785775, 4.47826844, 4.78343345, 4.94806799,\n        4.3639003 , 4.02866807, 4.88097002, 4.30170929, 4.75135854],\n       [4.59306211, 4.54060227, 4.69821833, 4.62395981, 4.1748833 ,\n        4.54417075, 4.68563543, 4.76091279, 4.55479388, 4.27128984],\n       [4.4471318 , 4.62843692, 4.69443148, 4.38294334, 4.6306518 ,\n        4.66707615, 4.24066571, 4.64476533, 4.09654829, 4.88446743],\n       [4.75915936, 4.81928248, 4.50123745, 4.10099612, 4.20847604,\n        4.30284907, 4.59696894, 4.46013949, 4.16645738, 4.26368628],\n       [4.71762478, 4.94928585, 4.47689791, 4.29412798, 4.13691094,\n        4.08087024, 4.96250626, 4.84927207, 4.19124194, 4.39312989],\n       [4.61671419, 4.13787795, 4.17535087, 4.52082169, 4.15132939,\n        4.35631019, 4.54657626, 4.71465853, 4.92582121, 4.51930574],\n       [4.23993876, 4.45608327, 4.98515854, 4.28021207, 4.23183536,\n        4.5710834 , 4.26537218, 4.6528717 , 4.01635702, 4.49363757],\n       [4.11105418, 4.30759435, 4.39922845, 4.22545304, 4.93417218,\n        4.9174157 , 4.02072355, 4.99003437, 4.2633222 , 4.04621571],\n       [4.17920525, 4.94279635, 4.86567768, 4.65870807, 4.48157939,\n        4.62065795, 4.63217284, 4.15814284, 4.41868716, 4.94255858],\n       [4.52822221, 4.19157118, 4.70542203, 4.94725756, 4.9769314 ,\n        4.74413825, 4.06431241, 4.99146093, 4.910246  , 4.06186615],\n       [4.64154503, 4.5648184 , 4.77108712, 4.88465648, 4.37583185,\n        4.52870256, 4.7370946 , 4.59386425, 4.01524141, 4.25366174],\n       [4.97719316, 4.71660568, 4.65908248, 4.86790917, 4.15975461,\n        4.93180787, 4.13906726, 4.74983064, 4.09084478, 4.51480313],\n       [4.04835112, 4.23591017, 4.80275389, 4.91843607, 4.01176558,\n        4.97608375, 4.58175154, 4.43400888, 4.0453656 , 4.31940345],\n       [4.02041382, 4.29586315, 4.28914939, 4.29525434, 4.66261242,\n        4.45757146, 4.32700367, 4.32002433, 4.22845943, 4.04926836],\n       [4.59991061, 4.02661386, 4.3047701 , 4.3019286 , 4.11847491,\n        4.36474697, 4.55438003, 4.08744861, 4.64095323, 4.05073947],\n       [4.72486132, 4.07994349, 4.70177258, 4.89876672, 4.12136596,\n        4.44510507, 4.37296386, 4.25768699, 4.65112026, 4.62282919],\n       [4.01972314, 4.95972599, 4.05261093, 4.40640792, 4.19521897,\n        4.2568837 , 4.30566117, 4.51773522, 4.01812303, 4.81385813],\n       [4.83475239, 4.80201707, 4.54195987, 4.94201166, 4.42681621,\n        4.64791048, 4.92544336, 4.17322805, 4.24582926, 4.58451399],\n       [4.03781779, 4.10398002, 4.1358505 , 4.87095234, 4.09015322,\n        4.80685365, 4.0356516 , 4.68354306, 4.02250778, 4.74387086],\n       [4.0244567 , 4.39518415, 4.74058051, 4.71792028, 4.17257512,\n        4.71211788, 4.48325353, 4.78175932, 4.41434395, 4.4447384 ],\n       [4.18760925, 4.39594554, 4.30073928, 4.35033049, 4.00926342,\n        4.43341689, 4.99498569, 4.25842037, 4.89297845, 4.05755029],\n       [4.08209898, 4.85511424, 4.43176786, 4.56965919, 4.37153448,\n        4.89567831, 4.40534655, 4.83729488, 4.78059871, 4.05021211],\n       [4.61663176, 4.25252496, 4.56274203, 4.02545439, 4.48951338,\n        4.13329975, 4.27610527, 4.33245066, 4.29282735, 4.42297378],\n       [4.90968466, 4.08072886, 4.43812485, 4.00752328, 4.56264398,\n        4.40172882, 4.86677277, 4.92160029, 4.23208272, 4.93337889],\n       [4.61962493, 4.06825784, 4.15349738, 4.21875217, 4.532066  ,\n        4.67757975, 4.72706428, 4.89107465, 4.74629743, 4.98815959],\n       [4.32378979, 4.20627035, 4.88473482, 4.03328783, 4.35457847,\n        4.94212153, 4.04663179, 4.49984414, 4.32565154, 4.27672741],\n       [4.00965922, 4.60607229, 4.04389617, 4.75183866, 4.58229811,\n        4.18472818, 4.6273106 , 4.88601771, 4.43484973, 4.18504482],\n       [4.8580554 , 4.65022577, 4.35816102, 4.33850898, 4.51381023,\n        4.88374552, 4.34816098, 4.44057217, 4.47265451, 4.11820748],\n       [4.98667997, 4.70185335, 4.83275821, 4.31123219, 4.13956239,\n        4.68340133, 4.58081259, 4.64087512, 4.10629082, 4.50809007],\n       [4.49100108, 4.41959847, 4.09393366, 4.38945738, 4.90187648,\n        4.82582409, 4.48128745, 4.67125519, 4.03985142, 4.79776871],\n       [4.41530694, 4.55548007, 4.74902107, 4.66593829, 4.61034502,\n        4.70472947, 4.920496  , 4.3678765 , 4.27741651, 4.41428605],\n       [4.57930029, 4.06729191, 4.40631664, 4.58408926, 4.26891792,\n        4.72397044, 4.65431653, 4.27686614, 4.11133761, 4.72340895],\n       [4.30181793, 4.53234902, 4.43095712, 4.63700721, 4.15827653,\n        4.21917981, 4.26181992, 4.3566936 , 4.96119221, 4.72111367],\n       [4.83608599, 4.29291857, 4.51083438, 4.73790019, 4.4404839 ,\n        4.1751796 , 4.91122634, 4.87995164, 4.57584871, 4.80094378],\n       [4.42706138, 4.15290224, 4.39803833, 4.05651009, 4.04443592,\n        4.29294635, 4.7881478 , 4.11987475, 4.18274439, 4.64782972],\n       [4.91007192, 4.61724258, 4.6823396 , 4.87815456, 4.07524896,\n        4.35819019, 4.82216083, 4.42740575, 4.78983906, 4.52470339],\n       [4.80101872, 4.54246925, 4.57406913, 4.80829628, 4.70098658,\n        4.77166174, 4.23326281, 4.33203412, 4.61140072, 4.35894224],\n       [4.78116463, 4.82168519, 4.11348547, 4.53229214, 4.08044926,\n        4.01624425, 4.10920896, 4.98063803, 4.95725706, 4.98770673],\n       [4.10356653, 4.88237149, 4.77880901, 4.21374479, 4.45974222,\n        4.24338204, 4.76962912, 4.28089552, 4.45733365, 4.24223017],\n       [4.69493624, 4.66941398, 4.59649538, 4.28471054, 4.26956357,\n        4.71328775, 4.49238998, 4.08939501, 4.86563862, 4.1348689 ],\n       [4.49910472, 4.55780826, 4.78689563, 4.27887774, 4.89197244,\n        4.17938186, 4.23665602, 4.93929747, 4.09379899, 4.62154519],\n       [4.14768706, 4.81698184, 4.63857524, 4.92185159, 4.72179623,\n        4.27660572, 4.60867177, 4.40442383, 4.48049507, 4.52854549],\n       [4.79708493, 4.90483168, 4.96243635, 4.38887025, 4.14110084,\n        4.35752115, 4.89919918, 4.31675356, 4.69648011, 4.41787979],\n       [4.8723709 , 4.55250576, 4.23944331, 4.6015383 , 4.21205101,\n        4.86218198, 4.20945977, 4.32805357, 4.9828576 , 4.91990543],\n       [4.25459416, 4.509346  , 4.6200625 , 4.79619256, 4.49396603,\n        4.97687173, 4.67250992, 4.9093981 , 4.41428241, 4.60728311],\n       [4.2666911 , 4.43597965, 4.86755237, 4.15719445, 4.02632607,\n        4.14340232, 4.70019328, 4.51081099, 4.18892646, 4.83740668],\n       [4.45194773, 4.77164201, 4.83634422, 4.78989509, 4.42634103,\n        4.87764879, 4.20019849, 4.86506589, 4.05970819, 4.90318776],\n       [4.76036848, 4.00661161, 4.4486684 , 4.45209811, 4.17542707,\n        4.11519111, 4.37101005, 4.45852306, 4.99342146, 4.53468255],\n       [4.99580666, 4.50595878, 4.45917956, 4.74080116, 4.64146459,\n        4.10582937, 4.39189082, 4.12064571, 4.5598512 , 4.96010651],\n       [4.92217436, 4.96740093, 4.87589855, 4.48194173, 4.27001814,\n        4.9527093 , 4.12238338, 4.60882927, 4.33257308, 4.84547144],\n       [4.66376975, 4.90366232, 4.50864301, 4.57332675, 4.25119041,\n        4.47720921, 4.98789077, 4.96044843, 4.31851336, 4.65080516],\n       [4.6365196 , 4.89730991, 4.96544726, 4.67618128, 4.00687579,\n        4.81519469, 4.27967005, 4.10878631, 4.36145128, 4.80610972],\n       [4.96126527, 4.96366561, 4.24173281, 4.86845196, 4.99899454,\n        4.24784713, 4.73008183, 4.14659509, 4.04931699, 4.24944395],\n       [4.94913005, 4.25667353, 4.63653879, 4.5794707 , 4.61368044,\n        4.55405906, 4.18027051, 4.89626459, 4.86459197, 4.01972758],\n       [4.73399472, 4.00761567, 4.07348124, 4.20157206, 4.78587534,\n        4.22534659, 4.76065114, 4.60847446, 4.4956251 , 4.89000136],\n       [4.26339657, 4.04887955, 4.09192576, 4.52754546, 4.12195174,\n        4.13686429, 4.23905279, 4.59767793, 4.18301581, 4.34684373],\n       [4.75534656, 4.76977785, 4.97450707, 4.49053949, 4.99521865,\n        4.72441151, 4.88240887, 4.58488024, 4.75323851, 4.1427986 ],\n       [4.74257639, 4.45019474, 4.8670771 , 4.05495259, 4.56366047,\n        4.61140303, 4.13480005, 4.30654298, 4.37432026, 4.42698305],\n       [4.06330824, 4.73622977, 4.78086947, 4.32256865, 4.28371335,\n        4.77961312, 4.30520091, 4.2662575 , 4.15348217, 4.96758674],\n       [4.33843287, 4.23552964, 4.15703971, 4.82892449, 4.31667042,\n        4.58374355, 4.63841638, 4.44118662, 4.20699173, 4.87409508],\n       [4.39915365, 4.83611582, 4.70401911, 4.1228791 , 4.21676469,\n        4.61156872, 4.03277684, 4.6410281 , 4.91061013, 4.07617695],\n       [4.97275204, 4.06111614, 4.45921061, 4.67267003, 4.16546338,\n        4.89635386, 4.81430521, 4.77726597, 4.59361272, 4.74890598],\n       [4.75167942, 4.55578955, 4.24352272, 4.58828788, 4.83364485,\n        4.8943188 , 4.99746216, 4.58414473, 4.72077862, 4.91877159],\n       [4.32945045, 4.90747069, 4.60711308, 4.73369167, 4.5480721 ,\n        4.42895783, 4.68947884, 4.318707  , 4.59499152, 4.96587805],\n       [4.29439171, 4.26889254, 4.96161027, 4.4267695 , 4.56283044,\n        4.48707131, 4.6584458 , 4.8742952 , 4.73168163, 4.09027159],\n       [4.040623  , 4.75046293, 4.28404625, 4.70740854, 4.22621194,\n        4.55644324, 4.75051769, 4.60792577, 4.45671199, 4.13604104],\n       [4.7664504 , 4.61346402, 4.50801988, 4.06651653, 4.74404761,\n        4.82958857, 4.00001046, 4.68330175, 4.23181003, 4.03473502],\n       [4.84043314, 4.25820305, 4.90933241, 4.63847263, 4.5395046 ,\n        4.67224758, 4.71507736, 4.19081822, 4.51631528, 4.56945671],\n       [4.34270665, 4.51319186, 4.26006117, 4.69050168, 4.82614126,\n        4.9997675 , 4.02747841, 4.20090729, 4.61463018, 4.78433489],\n       [4.79987256, 4.72630682, 4.0712619 , 4.67079347, 4.98581702,\n        4.73809909, 4.86747484, 4.30730454, 4.79816841, 4.12784559],\n       [4.901392  , 4.32064978, 4.69436569, 4.09214964, 4.88817455,\n        4.47990721, 4.10002958, 4.3795952 , 4.10103981, 4.51453352],\n       [4.79339538, 4.85917678, 4.0343174 , 4.5461141 , 4.92852978,\n        4.03145942, 4.90467877, 4.42500897, 4.86984068, 4.68074038],\n       [4.08515614, 4.07189276, 4.94050274, 4.80832506, 4.13490589,\n        4.86472439, 4.12371988, 4.23861497, 4.12110248, 4.25603945],\n       [4.27556828, 4.12842825, 4.97825441, 4.51326312, 4.08010929,\n        4.95214518, 4.95683112, 4.63882144, 4.60588384, 4.14397833],\n       [4.63618198, 4.66003477, 4.55769363, 4.90172049, 4.39283094,\n        4.12532469, 4.95777238, 4.63425322, 4.49020026, 4.55882944],\n       [4.78582934, 4.59708464, 4.6427159 , 4.84071391, 4.02158727,\n        4.51744219, 4.85231796, 4.87942692, 4.40248269, 4.3266394 ],\n       [4.41123723, 4.12408565, 4.27003998, 4.78530098, 4.72280192,\n        4.31999289, 4.12339837, 4.64648176, 4.77726313, 4.04224803],\n       [4.76019311, 4.9386793 , 4.85675755, 4.98184917, 4.31879191,\n        4.08358916, 4.50305627, 4.38827959, 4.17948579, 4.32037003],\n       [4.36553539, 4.25387616, 4.74739952, 4.30307688, 4.41047908,\n        4.79276704, 4.86945204, 4.06693896, 4.36538098, 4.93857574],\n       [4.50690082, 4.82801591, 4.87057531, 4.72437361, 4.94312856,\n        4.07936677, 4.7601544 , 4.83104848, 4.57961283, 4.18275252],\n       [4.16992803, 4.36085281, 4.98786298, 4.52116641, 4.51126007,\n        4.32708296, 4.68320116, 4.91521984, 4.30114494, 4.54769917],\n       [4.78355517, 4.46975917, 4.4738819 , 4.62021213, 4.1179051 ,\n        4.93883533, 4.54969627, 4.72233645, 4.1552771 , 4.16813572],\n       [4.7887479 , 4.88583698, 4.92520723, 4.11547009, 4.12088293,\n        4.94371859, 4.85028056, 4.88040259, 4.36047021, 4.63540821],\n       [4.57667221, 4.55218267, 4.73635341, 4.97024027, 4.42938533,\n        4.82316557, 4.9701724 , 4.85270679, 4.93849138, 4.04221236],\n       [4.18773674, 4.44790741, 4.55192603, 4.32072189, 4.12421472,\n        4.08583951, 4.81944719, 4.83977063, 4.56802774, 4.31368097],\n       [4.56723855, 4.97050272, 4.05697522, 4.59571054, 4.8611942 ,\n        4.39699912, 4.05594855, 4.29944332, 4.84144225, 4.94469418],\n       [4.42991615, 4.95322499, 4.54456973, 4.10970883, 4.05330827,\n        4.14968879, 4.48976096, 4.54323952, 4.63576412, 4.89207031],\n       [4.36841599, 4.16345367, 4.77187808, 4.15873311, 4.37017661,\n        4.2342664 , 4.50368958, 4.25422629, 4.69633349, 4.35527919],\n       [4.30216511, 4.62580227, 4.2923248 , 4.42080104, 4.61573312,\n        4.52896604, 4.38177615, 4.40276581, 4.20613535, 4.45245293],\n       [4.76900178, 4.31221475, 4.87602808, 4.70037342, 4.9197101 ,\n        4.10245834, 4.12207844, 4.87393904, 4.00691306, 4.40112646]])"
     },
     "execution_count": 102,
     "metadata": {},
     "output_type": "execute_result"
    }
   ],
   "source": [
    "a = a + 1         # 0.035230\n",
    "a = np.add(a, 1)  # 0.032738\n",
    "a += 1                 # 0.011219\n",
    "np.add(a, 1, out=a)    # 0.008843"
   ],
   "metadata": {
    "collapsed": false,
    "pycharm": {
     "name": "#%%\n"
    }
   }
  },
  {
   "cell_type": "markdown",
   "source": [
    "## 给数据一个名字"
   ],
   "metadata": {
    "collapsed": false,
    "pycharm": {
     "name": "#%% md\n"
    }
   }
  },
  {
   "cell_type": "code",
   "execution_count": 105,
   "outputs": [
    {
     "name": "stdout",
     "output_type": "stream",
     "text": [
      "0.000010\n",
      "0.000263\n"
     ]
    }
   ],
   "source": [
    "a = np.zeros(3, dtype=[('foo', np.int32), ('bar', np.float16)])\n",
    "b = pd.DataFrame(np.zeros((3, 2), dtype=np.int32), columns=['foo', 'bar'])\n",
    "b['bar'] = b['bar'].astype(np.float16)\n",
    "\"\"\"\n",
    "# a\n",
    "array([(0,  0.), (0,  0.), (0,  0.)],\n",
    "      dtype=[('foo', '<i4'), ('bar', '<f2')])\n",
    "\n",
    "# b\n",
    "   foo  bar\n",
    "0    0  0.0\n",
    "1    0  0.0\n",
    "2    0  0.0\n",
    "\"\"\"\n",
    "\n",
    "def f1(a):\n",
    "    for _ in range(N):\n",
    "        a['bar'] *= a['foo']\n",
    "\n",
    "def f2(b):\n",
    "    for _ in range(N):\n",
    "        b['bar'] *= b['foo']\n",
    "t0 = time.time()\n",
    "f1(a)\n",
    "t1 = time.time()\n",
    "f2(b)\n",
    "t2 = time.time()\n",
    "print('%f' % ((t1-t0)/N))    # 0.000003\n",
    "print('%f' % ((t2-t1)/N))    # 0.000508"
   ],
   "metadata": {
    "collapsed": false,
    "pycharm": {
     "name": "#%%\n"
    }
   }
  },
  {
   "cell_type": "code",
   "execution_count": null,
   "outputs": [],
   "source": [],
   "metadata": {
    "collapsed": false,
    "pycharm": {
     "name": "#%%\n"
    }
   }
  },
  {
   "cell_type": "code",
   "execution_count": null,
   "outputs": [],
   "source": [],
   "metadata": {
    "collapsed": false,
    "pycharm": {
     "name": "#%%\n"
    }
   }
  },
  {
   "cell_type": "code",
   "execution_count": null,
   "outputs": [],
   "source": [],
   "metadata": {
    "collapsed": false,
    "pycharm": {
     "name": "#%%\n"
    }
   }
  },
  {
   "cell_type": "code",
   "execution_count": null,
   "outputs": [],
   "source": [],
   "metadata": {
    "collapsed": false,
    "pycharm": {
     "name": "#%%\n"
    }
   }
  },
  {
   "cell_type": "code",
   "execution_count": null,
   "outputs": [],
   "source": [],
   "metadata": {
    "collapsed": false,
    "pycharm": {
     "name": "#%%\n"
    }
   }
  },
  {
   "cell_type": "code",
   "execution_count": null,
   "outputs": [],
   "source": [],
   "metadata": {
    "collapsed": false,
    "pycharm": {
     "name": "#%%\n"
    }
   }
  },
  {
   "cell_type": "code",
   "execution_count": null,
   "outputs": [],
   "source": [],
   "metadata": {
    "collapsed": false,
    "pycharm": {
     "name": "#%%\n"
    }
   }
  },
  {
   "cell_type": "code",
   "execution_count": null,
   "outputs": [],
   "source": [],
   "metadata": {
    "collapsed": false,
    "pycharm": {
     "name": "#%%\n"
    }
   }
  },
  {
   "cell_type": "code",
   "execution_count": null,
   "outputs": [],
   "source": [],
   "metadata": {
    "collapsed": false,
    "pycharm": {
     "name": "#%%\n"
    }
   }
  },
  {
   "cell_type": "code",
   "execution_count": null,
   "outputs": [],
   "source": [],
   "metadata": {
    "collapsed": false,
    "pycharm": {
     "name": "#%%\n"
    }
   }
  },
  {
   "cell_type": "code",
   "execution_count": null,
   "outputs": [],
   "source": [],
   "metadata": {
    "collapsed": false,
    "pycharm": {
     "name": "#%%\n"
    }
   }
  },
  {
   "cell_type": "code",
   "execution_count": null,
   "outputs": [],
   "source": [],
   "metadata": {
    "collapsed": false,
    "pycharm": {
     "name": "#%%\n"
    }
   }
  },
  {
   "cell_type": "code",
   "execution_count": null,
   "outputs": [],
   "source": [],
   "metadata": {
    "collapsed": false,
    "pycharm": {
     "name": "#%%\n"
    }
   }
  },
  {
   "cell_type": "code",
   "execution_count": null,
   "outputs": [],
   "source": [],
   "metadata": {
    "collapsed": false,
    "pycharm": {
     "name": "#%%\n"
    }
   }
  },
  {
   "cell_type": "code",
   "execution_count": null,
   "outputs": [],
   "source": [],
   "metadata": {
    "collapsed": false,
    "pycharm": {
     "name": "#%%\n"
    }
   }
  },
  {
   "cell_type": "code",
   "execution_count": null,
   "outputs": [],
   "source": [],
   "metadata": {
    "collapsed": false,
    "pycharm": {
     "name": "#%%\n"
    }
   }
  },
  {
   "cell_type": "code",
   "execution_count": null,
   "outputs": [],
   "source": [],
   "metadata": {
    "collapsed": false,
    "pycharm": {
     "name": "#%%\n"
    }
   }
  }
 ],
 "metadata": {
  "kernelspec": {
   "name": "pycharm-5d4c1c6c",
   "language": "python",
   "display_name": "PyCharm (tutorials)"
  },
  "language_info": {
   "codemirror_mode": {
    "name": "ipython",
    "version": 2
   },
   "file_extension": ".py",
   "mimetype": "text/x-python",
   "name": "python",
   "nbconvert_exporter": "python",
   "pygments_lexer": "ipython2",
   "version": "2.7.6"
  }
 },
 "nbformat": 4,
 "nbformat_minor": 0
}