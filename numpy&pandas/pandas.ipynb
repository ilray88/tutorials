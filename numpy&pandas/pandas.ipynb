{
 "cells": [
  {
   "cell_type": "markdown",
   "metadata": {
    "collapsed": true,
    "pycharm": {
     "name": "#%% md\n"
    }
   },
   "source": [
    "# Pandas 基本介绍\n",
    "## Numpy 和 Pandas 有什么不同\n",
    "如果用 python 的列表和字典来作比较, 那么可以说 Numpy 是列表形式的，没有数值标签，而 Pandas 就是字典形式。Pandas是基于Numpy构建的，让Numpy为中心的应用变得更加简单。\n",
    "要使用pandas，首先需要了解他主要两个数据结构：Series和DataFrame。\n",
    "## Series"
   ]
  },
  {
   "cell_type": "code",
   "execution_count": 1,
   "outputs": [
    {
     "name": "stdout",
     "output_type": "stream",
     "text": [
      "324\n"
     ]
    }
   ],
   "source": [
    "print('324')"
   ],
   "metadata": {
    "collapsed": false,
    "pycharm": {
     "name": "#%%\n"
    }
   }
  },
  {
   "cell_type": "code",
   "execution_count": 2,
   "outputs": [
    {
     "name": "stdout",
     "output_type": "stream",
     "text": [
      "0     1.0\n",
      "1     3.0\n",
      "2     6.0\n",
      "3     NaN\n",
      "4    44.0\n",
      "5     1.0\n",
      "dtype: float64\n"
     ]
    },
    {
     "data": {
      "text/plain": "'\\n0     1.0\\n1     3.0\\n2     6.0\\n3     NaN\\n4    44.0\\n5     1.0\\ndtype: float64\\n'"
     },
     "execution_count": 2,
     "metadata": {},
     "output_type": "execute_result"
    }
   ],
   "source": [
    "import pandas as pd\n",
    "import numpy as np\n",
    "s = pd.Series([1,3,6,np.nan,44,1])\n",
    "\n",
    "print(s)\n",
    "\"\"\"\n",
    "0     1.0\n",
    "1     3.0\n",
    "2     6.0\n",
    "3     NaN\n",
    "4    44.0\n",
    "5     1.0\n",
    "dtype: float64\n",
    "\"\"\""
   ],
   "metadata": {
    "collapsed": false,
    "pycharm": {
     "name": "#%%\n"
    }
   }
  },
  {
   "cell_type": "markdown",
   "source": [
    "## DataFrame"
   ],
   "metadata": {
    "collapsed": false,
    "pycharm": {
     "name": "#%% md\n"
    }
   }
  },
  {
   "cell_type": "code",
   "execution_count": 3,
   "outputs": [
    {
     "name": "stdout",
     "output_type": "stream",
     "text": [
      "                   a         b         c         d\n",
      "2016-01-01 -0.176243  1.694125  0.076133 -0.703860\n",
      "2016-01-02 -1.801578  1.061072  0.295402  0.878098\n",
      "2016-01-03 -0.924738 -0.403711  0.427988 -1.037882\n",
      "2016-01-04  0.745730  0.030696  1.547726 -0.804503\n",
      "2016-01-05 -1.766756  0.412856 -0.735159 -0.685782\n",
      "2016-01-06 -1.724514  0.961357  0.946366 -0.341638\n"
     ]
    },
    {
     "data": {
      "text/plain": "'\\n                   a         b         c         d\\n2016-01-01 -0.253065 -2.071051 -0.640515  0.613663\\n2016-01-02 -1.147178  1.532470  0.989255 -0.499761\\n2016-01-03  1.221656 -2.390171  1.862914  0.778070\\n2016-01-04  1.473877 -0.046419  0.610046  0.204672\\n2016-01-05 -1.584752 -0.700592  1.487264 -1.778293\\n2016-01-06  0.633675 -1.414157 -0.277066 -0.442545\\n'"
     },
     "execution_count": 3,
     "metadata": {},
     "output_type": "execute_result"
    }
   ],
   "source": [
    "dates = pd.date_range('20160101',periods=6)\n",
    "df = pd.DataFrame(np.random.randn(6,4),index=dates,columns=['a','b','c','d'])\n",
    "\n",
    "print(df)\n",
    "\"\"\"\n",
    "                   a         b         c         d\n",
    "2016-01-01 -0.253065 -2.071051 -0.640515  0.613663\n",
    "2016-01-02 -1.147178  1.532470  0.989255 -0.499761\n",
    "2016-01-03  1.221656 -2.390171  1.862914  0.778070\n",
    "2016-01-04  1.473877 -0.046419  0.610046  0.204672\n",
    "2016-01-05 -1.584752 -0.700592  1.487264 -1.778293\n",
    "2016-01-06  0.633675 -1.414157 -0.277066 -0.442545\n",
    "\"\"\""
   ],
   "metadata": {
    "collapsed": false,
    "pycharm": {
     "name": "#%%\n"
    }
   }
  },
  {
   "cell_type": "markdown",
   "source": [
    "## DataFrame 的一些简单运用"
   ],
   "metadata": {
    "collapsed": false,
    "pycharm": {
     "name": "#%% md\n"
    }
   }
  },
  {
   "cell_type": "code",
   "execution_count": 4,
   "outputs": [
    {
     "name": "stdout",
     "output_type": "stream",
     "text": [
      "2016-01-01    1.694125\n",
      "2016-01-02    1.061072\n",
      "2016-01-03   -0.403711\n",
      "2016-01-04    0.030696\n",
      "2016-01-05    0.412856\n",
      "2016-01-06    0.961357\n",
      "Freq: D, Name: b, dtype: float64\n"
     ]
    },
    {
     "data": {
      "text/plain": "'\\n2016-01-01   -2.071051\\n2016-01-02    1.532470\\n2016-01-03   -2.390171\\n2016-01-04   -0.046419\\n2016-01-05   -0.700592\\n2016-01-06   -1.414157\\nFreq: D, Name: b, dtype: float64\\n'"
     },
     "execution_count": 4,
     "metadata": {},
     "output_type": "execute_result"
    }
   ],
   "source": [
    "print(df['b'])\n",
    "\n",
    "\"\"\"\n",
    "2016-01-01   -2.071051\n",
    "2016-01-02    1.532470\n",
    "2016-01-03   -2.390171\n",
    "2016-01-04   -0.046419\n",
    "2016-01-05   -0.700592\n",
    "2016-01-06   -1.414157\n",
    "Freq: D, Name: b, dtype: float64\n",
    "\"\"\"\n"
   ],
   "metadata": {
    "collapsed": false,
    "pycharm": {
     "name": "#%%\n"
    }
   }
  },
  {
   "cell_type": "markdown",
   "source": [
    "#### 默认的从0开始 index."
   ],
   "metadata": {
    "collapsed": false,
    "pycharm": {
     "name": "#%% md\n"
    }
   }
  },
  {
   "cell_type": "code",
   "execution_count": 5,
   "outputs": [
    {
     "name": "stdout",
     "output_type": "stream",
     "text": [
      "   0  1   2   3\n",
      "0  0  1   2   3\n",
      "1  4  5   6   7\n",
      "2  8  9  10  11\n"
     ]
    },
    {
     "data": {
      "text/plain": "'\\n   0  1   2   3\\n0  0  1   2   3\\n1  4  5   6   7\\n2  8  9  10  11\\n'"
     },
     "execution_count": 5,
     "metadata": {},
     "output_type": "execute_result"
    }
   ],
   "source": [
    "df1 = pd.DataFrame(np.arange(12).reshape((3,4)))\n",
    "print(df1)\n",
    "\n",
    "\"\"\"\n",
    "   0  1   2   3\n",
    "0  0  1   2   3\n",
    "1  4  5   6   7\n",
    "2  8  9  10  11\n",
    "\"\"\""
   ],
   "metadata": {
    "collapsed": false,
    "pycharm": {
     "name": "#%%\n"
    }
   }
  },
  {
   "cell_type": "markdown",
   "source": [
    "#### 另外一种生成 df 的方法"
   ],
   "metadata": {
    "collapsed": false,
    "pycharm": {
     "name": "#%% md\n"
    }
   }
  },
  {
   "cell_type": "code",
   "execution_count": 6,
   "outputs": [
    {
     "name": "stdout",
     "output_type": "stream",
     "text": [
      "     A          B    C  D      E    F\n",
      "0  1.0 2013-01-02  1.0  3   test  foo\n",
      "1  1.0 2013-01-02  1.0  3  train  foo\n",
      "2  1.0 2013-01-02  1.0  3   test  foo\n",
      "3  1.0 2013-01-02  1.0  3  train  foo\n"
     ]
    },
    {
     "data": {
      "text/plain": "'\\n     A          B    C  D      E    F\\n0  1.0 2013-01-02  1.0  3   test  foo\\n1  1.0 2013-01-02  1.0  3  train  foo\\n2  1.0 2013-01-02  1.0  3   test  foo\\n3  1.0 2013-01-02  1.0  3  train  foo\\n'"
     },
     "execution_count": 6,
     "metadata": {},
     "output_type": "execute_result"
    }
   ],
   "source": [
    "df2 = pd.DataFrame({'A' : 1.,\n",
    "                    'B' : pd.Timestamp('20130102'),\n",
    "                    'C' : pd.Series(1,index=list(range(4)),dtype='float32'),\n",
    "                    'D' : np.array([3] * 4,dtype='int32'),\n",
    "                    'E' : pd.Categorical([\"test\",\"train\",\"test\",\"train\"]),\n",
    "                    'F' : 'foo'})\n",
    "\n",
    "print(df2)\n",
    "\n",
    "\"\"\"\n",
    "     A          B    C  D      E    F\n",
    "0  1.0 2013-01-02  1.0  3   test  foo\n",
    "1  1.0 2013-01-02  1.0  3  train  foo\n",
    "2  1.0 2013-01-02  1.0  3   test  foo\n",
    "3  1.0 2013-01-02  1.0  3  train  foo\n",
    "\"\"\""
   ],
   "metadata": {
    "collapsed": false,
    "pycharm": {
     "name": "#%%\n"
    }
   }
  },
  {
   "cell_type": "markdown",
   "source": [
    "#### dtype"
   ],
   "metadata": {
    "collapsed": false,
    "pycharm": {
     "name": "#%% md\n"
    }
   }
  },
  {
   "cell_type": "code",
   "source": [
    "print(df2.dtypes)\n",
    "\n",
    "\"\"\"\n",
    "df2.dtypes\n",
    "A           float64\n",
    "B    datetime64[ns]\n",
    "C           float32\n",
    "D             int32\n",
    "E          category\n",
    "F            object\n",
    "dtype: object\n",
    "\"\"\""
   ],
   "metadata": {
    "collapsed": false,
    "pycharm": {
     "name": "#%%\n"
    }
   },
   "execution_count": 7,
   "outputs": [
    {
     "name": "stdout",
     "output_type": "stream",
     "text": [
      "A           float64\n",
      "B    datetime64[ns]\n",
      "C           float32\n",
      "D             int32\n",
      "E          category\n",
      "F            object\n",
      "dtype: object\n"
     ]
    },
    {
     "data": {
      "text/plain": "'\\ndf2.dtypes\\nA           float64\\nB    datetime64[ns]\\nC           float32\\nD             int32\\nE          category\\nF            object\\ndtype: object\\n'"
     },
     "execution_count": 7,
     "metadata": {},
     "output_type": "execute_result"
    }
   ]
  },
  {
   "cell_type": "markdown",
   "source": [
    "#### index"
   ],
   "metadata": {
    "collapsed": false,
    "pycharm": {
     "name": "#%% md\n"
    }
   }
  },
  {
   "cell_type": "code",
   "source": [
    "print(df2.index)\n",
    "\n",
    "# Int64Index([0, 1, 2, 3], dtype='int64')"
   ],
   "metadata": {
    "collapsed": false,
    "pycharm": {
     "name": "#%%\n"
    }
   },
   "execution_count": 8,
   "outputs": [
    {
     "name": "stdout",
     "output_type": "stream",
     "text": [
      "Int64Index([0, 1, 2, 3], dtype='int64')\n"
     ]
    }
   ]
  },
  {
   "cell_type": "markdown",
   "source": [
    "#### columns"
   ],
   "metadata": {
    "collapsed": false,
    "pycharm": {
     "name": "#%% md\n"
    }
   }
  },
  {
   "cell_type": "code",
   "execution_count": 9,
   "outputs": [
    {
     "name": "stdout",
     "output_type": "stream",
     "text": [
      "Index(['A', 'B', 'C', 'D', 'E', 'F'], dtype='object')\n"
     ]
    }
   ],
   "source": [
    "print(df2.columns)\n",
    "\n",
    "# Index(['A', 'B', 'C', 'D', 'E', 'F'], dtype='object')"
   ],
   "metadata": {
    "collapsed": false,
    "pycharm": {
     "name": "#%%\n"
    }
   }
  },
  {
   "cell_type": "markdown",
   "source": [
    "#### values"
   ],
   "metadata": {
    "collapsed": false,
    "pycharm": {
     "name": "#%% md\n"
    }
   }
  },
  {
   "cell_type": "code",
   "execution_count": 10,
   "outputs": [
    {
     "name": "stdout",
     "output_type": "stream",
     "text": [
      "[[1.0 Timestamp('2013-01-02 00:00:00') 1.0 3 'test' 'foo']\n",
      " [1.0 Timestamp('2013-01-02 00:00:00') 1.0 3 'train' 'foo']\n",
      " [1.0 Timestamp('2013-01-02 00:00:00') 1.0 3 'test' 'foo']\n",
      " [1.0 Timestamp('2013-01-02 00:00:00') 1.0 3 'train' 'foo']]\n"
     ]
    },
    {
     "data": {
      "text/plain": "\"\\narray([[1.0, Timestamp('2013-01-02 00:00:00'), 1.0, 3, 'test', 'foo'],\\n       [1.0, Timestamp('2013-01-02 00:00:00'), 1.0, 3, 'train', 'foo'],\\n       [1.0, Timestamp('2013-01-02 00:00:00'), 1.0, 3, 'test', 'foo'],\\n       [1.0, Timestamp('2013-01-02 00:00:00'), 1.0, 3, 'train', 'foo']], dtype=object)\\n\""
     },
     "execution_count": 10,
     "metadata": {},
     "output_type": "execute_result"
    }
   ],
   "source": [
    "print(df2.values)\n",
    "\n",
    "\"\"\"\n",
    "array([[1.0, Timestamp('2013-01-02 00:00:00'), 1.0, 3, 'test', 'foo'],\n",
    "       [1.0, Timestamp('2013-01-02 00:00:00'), 1.0, 3, 'train', 'foo'],\n",
    "       [1.0, Timestamp('2013-01-02 00:00:00'), 1.0, 3, 'test', 'foo'],\n",
    "       [1.0, Timestamp('2013-01-02 00:00:00'), 1.0, 3, 'train', 'foo']], dtype=object)\n",
    "\"\"\""
   ],
   "metadata": {
    "collapsed": false,
    "pycharm": {
     "name": "#%%\n"
    }
   }
  },
  {
   "cell_type": "markdown",
   "source": [
    "#### 数据的总结describe()"
   ],
   "metadata": {
    "collapsed": false,
    "pycharm": {
     "name": "#%% md\n"
    }
   }
  },
  {
   "cell_type": "code",
   "execution_count": 11,
   "outputs": [
    {
     "data": {
      "text/plain": "'\\n         A    C    D\\ncount  4.0  4.0  4.0\\nmean   1.0  1.0  3.0\\nstd    0.0  0.0  0.0\\nmin    1.0  1.0  3.0\\n25%    1.0  1.0  3.0\\n50%    1.0  1.0  3.0\\n75%    1.0  1.0  3.0\\nmax    1.0  1.0  3.0\\n'"
     },
     "execution_count": 11,
     "metadata": {},
     "output_type": "execute_result"
    }
   ],
   "source": [
    "df2.describe()\n",
    "\n",
    "\"\"\"\n",
    "         A    C    D\n",
    "count  4.0  4.0  4.0\n",
    "mean   1.0  1.0  3.0\n",
    "std    0.0  0.0  0.0\n",
    "min    1.0  1.0  3.0\n",
    "25%    1.0  1.0  3.0\n",
    "50%    1.0  1.0  3.0\n",
    "75%    1.0  1.0  3.0\n",
    "max    1.0  1.0  3.0\n",
    "\"\"\""
   ],
   "metadata": {
    "collapsed": false,
    "pycharm": {
     "name": "#%%\n"
    }
   }
  },
  {
   "cell_type": "markdown",
   "source": [
    "#### 翻转数据, transpose:"
   ],
   "metadata": {
    "collapsed": false,
    "pycharm": {
     "name": "#%% md\n"
    }
   }
  },
  {
   "cell_type": "code",
   "execution_count": 12,
   "outputs": [
    {
     "name": "stdout",
     "output_type": "stream",
     "text": [
      "                     0                    1                    2  \\\n",
      "A                  1.0                  1.0                  1.0   \n",
      "B  2013-01-02 00:00:00  2013-01-02 00:00:00  2013-01-02 00:00:00   \n",
      "C                  1.0                  1.0                  1.0   \n",
      "D                    3                    3                    3   \n",
      "E                 test                train                 test   \n",
      "F                  foo                  foo                  foo   \n",
      "\n",
      "                     3  \n",
      "A                  1.0  \n",
      "B  2013-01-02 00:00:00  \n",
      "C                  1.0  \n",
      "D                    3  \n",
      "E                train  \n",
      "F                  foo  \n"
     ]
    },
    {
     "data": {
      "text/plain": "'\\n0                    1                    2  A                    1                    1                    1\\nB  2013-01-02 00:00:00  2013-01-02 00:00:00  2013-01-02 00:00:00\\nC                    1                    1                    1\\nD                    3                    3                    3\\nE                 test                train                 test\\nF                  foo                  foo                  foo\\n\\n                     3\\nA                    1\\nB  2013-01-02 00:00:00\\nC                    1\\nD                    3\\nE                train\\nF                  foo\\n\\n'"
     },
     "execution_count": 12,
     "metadata": {},
     "output_type": "execute_result"
    }
   ],
   "source": [
    "print(df2.T)\n",
    "\n",
    "\"\"\"\n",
    "0                    1                    2  \\\n",
    "A                    1                    1                    1\n",
    "B  2013-01-02 00:00:00  2013-01-02 00:00:00  2013-01-02 00:00:00\n",
    "C                    1                    1                    1\n",
    "D                    3                    3                    3\n",
    "E                 test                train                 test\n",
    "F                  foo                  foo                  foo\n",
    "\n",
    "                     3\n",
    "A                    1\n",
    "B  2013-01-02 00:00:00\n",
    "C                    1\n",
    "D                    3\n",
    "E                train\n",
    "F                  foo\n",
    "\n",
    "\"\"\""
   ],
   "metadata": {
    "collapsed": false,
    "pycharm": {
     "name": "#%%\n"
    }
   }
  },
  {
   "cell_type": "markdown",
   "source": [
    "#### index排序"
   ],
   "metadata": {
    "collapsed": false,
    "pycharm": {
     "name": "#%% md\n"
    }
   }
  },
  {
   "cell_type": "code",
   "execution_count": 13,
   "outputs": [
    {
     "name": "stdout",
     "output_type": "stream",
     "text": [
      "     F      E  D    C          B    A\n",
      "0  foo   test  3  1.0 2013-01-02  1.0\n",
      "1  foo  train  3  1.0 2013-01-02  1.0\n",
      "2  foo   test  3  1.0 2013-01-02  1.0\n",
      "3  foo  train  3  1.0 2013-01-02  1.0\n"
     ]
    },
    {
     "data": {
      "text/plain": "'\\n     F      E  D    C          B    A\\n0  foo   test  3  1.0 2013-01-02  1.0\\n1  foo  train  3  1.0 2013-01-02  1.0\\n2  foo   test  3  1.0 2013-01-02  1.0\\n3  foo  train  3  1.0 2013-01-02  1.0\\n'"
     },
     "execution_count": 13,
     "metadata": {},
     "output_type": "execute_result"
    }
   ],
   "source": [
    "print(df2.sort_index(axis=1, ascending=False))\n",
    "\n",
    "\"\"\"\n",
    "     F      E  D    C          B    A\n",
    "0  foo   test  3  1.0 2013-01-02  1.0\n",
    "1  foo  train  3  1.0 2013-01-02  1.0\n",
    "2  foo   test  3  1.0 2013-01-02  1.0\n",
    "3  foo  train  3  1.0 2013-01-02  1.0\n",
    "\"\"\""
   ],
   "metadata": {
    "collapsed": false,
    "pycharm": {
     "name": "#%%\n"
    }
   }
  },
  {
   "cell_type": "markdown",
   "source": [
    "#### 值 排序"
   ],
   "metadata": {
    "collapsed": false,
    "pycharm": {
     "name": "#%% md\n"
    }
   }
  },
  {
   "cell_type": "code",
   "execution_count": 14,
   "outputs": [
    {
     "name": "stdout",
     "output_type": "stream",
     "text": [
      "     A          B    C  D      E    F\n",
      "0  1.0 2013-01-02  1.0  3   test  foo\n",
      "1  1.0 2013-01-02  1.0  3  train  foo\n",
      "2  1.0 2013-01-02  1.0  3   test  foo\n",
      "3  1.0 2013-01-02  1.0  3  train  foo\n"
     ]
    },
    {
     "data": {
      "text/plain": "'\\n     A          B    C  D      E    F\\n0  1.0 2013-01-02  1.0  3   test  foo\\n1  1.0 2013-01-02  1.0  3  train  foo\\n2  1.0 2013-01-02  1.0  3   test  foo\\n3  1.0 2013-01-02  1.0  3  train  foo\\n'"
     },
     "execution_count": 14,
     "metadata": {},
     "output_type": "execute_result"
    }
   ],
   "source": [
    "print(df2.sort_values(by='B'))\n",
    "\n",
    "\"\"\"\n",
    "     A          B    C  D      E    F\n",
    "0  1.0 2013-01-02  1.0  3   test  foo\n",
    "1  1.0 2013-01-02  1.0  3  train  foo\n",
    "2  1.0 2013-01-02  1.0  3   test  foo\n",
    "3  1.0 2013-01-02  1.0  3  train  foo\n",
    "\"\"\""
   ],
   "metadata": {
    "collapsed": false,
    "pycharm": {
     "name": "#%%\n"
    }
   }
  },
  {
   "cell_type": "markdown",
   "source": [
    "# Pandas 选择数据\n",
    "## 简单的筛选"
   ],
   "metadata": {
    "collapsed": false,
    "pycharm": {
     "name": "#%% md\n"
    }
   }
  },
  {
   "cell_type": "code",
   "execution_count": 15,
   "outputs": [
    {
     "name": "stdout",
     "output_type": "stream",
     "text": [
      "2013-01-01    1.670673\n",
      "2013-01-02    0.567693\n",
      "2013-01-03    0.500973\n",
      "2013-01-04    1.261191\n",
      "2013-01-05    1.603577\n",
      "2013-01-06   -1.943361\n",
      "Freq: D, Name: A, dtype: float64\n",
      "2013-01-01    1.670673\n",
      "2013-01-02    0.567693\n",
      "2013-01-03    0.500973\n",
      "2013-01-04    1.261191\n",
      "2013-01-05    1.603577\n",
      "2013-01-06   -1.943361\n",
      "Freq: D, Name: A, dtype: float64\n"
     ]
    },
    {
     "data": {
      "text/plain": "'\\n2013-01-01     0\\n2013-01-02     4\\n2013-01-03     8\\n2013-01-04    12\\n2013-01-05    16\\n2013-01-06    20\\nFreq: D, Name: A, dtype: int64\\n'"
     },
     "execution_count": 15,
     "metadata": {},
     "output_type": "execute_result"
    }
   ],
   "source": [
    "from __future__ import print_function\n",
    "import pandas as pd\n",
    "import numpy as np\n",
    "\n",
    "dates = pd.date_range('20130101', periods=6)\n",
    "df = pd.DataFrame(np.random.randn(6,4), index=dates, columns=['A', 'B', 'C', 'D'])\n",
    "\n",
    "print(df['A'])\n",
    "print(df.A)\n",
    "\n",
    "\"\"\"\n",
    "2013-01-01     0\n",
    "2013-01-02     4\n",
    "2013-01-03     8\n",
    "2013-01-04    12\n",
    "2013-01-05    16\n",
    "2013-01-06    20\n",
    "Freq: D, Name: A, dtype: int64\n",
    "\"\"\"\n"
   ],
   "metadata": {
    "collapsed": false,
    "pycharm": {
     "name": "#%%\n"
    }
   }
  },
  {
   "cell_type": "markdown",
   "source": [
    "选择跨越多行或多列:"
   ],
   "metadata": {
    "collapsed": false,
    "pycharm": {
     "name": "#%% md\n"
    }
   }
  },
  {
   "cell_type": "code",
   "execution_count": 16,
   "outputs": [
    {
     "name": "stdout",
     "output_type": "stream",
     "text": [
      "                   A         B         C         D\n",
      "2013-01-01  1.670673 -0.596555 -0.624101  2.234825\n",
      "2013-01-02  0.567693 -0.170074 -0.351064 -0.955851\n",
      "2013-01-03  0.500973 -0.228459  0.814576  0.898518\n",
      "                   A         B         C         D\n",
      "2013-01-02  0.567693 -0.170074 -0.351064 -0.955851\n",
      "2013-01-03  0.500973 -0.228459  0.814576  0.898518\n",
      "2013-01-04  1.261191  0.396923 -0.545144 -0.101536\n"
     ]
    },
    {
     "data": {
      "text/plain": "'\\nA   B   C   D\\n2013-01-02   4   5   6   7\\n2013-01-03   8   9  10  11\\n2013-01-04  12  13  14  15\\n'"
     },
     "execution_count": 16,
     "metadata": {},
     "output_type": "execute_result"
    }
   ],
   "source": [
    "print(df[0:3])\n",
    "\n",
    "\"\"\"\n",
    "            A  B   C   D\n",
    "2013-01-01  0  1   2   3\n",
    "2013-01-02  4  5   6   7\n",
    "2013-01-03  8  9  10  11\n",
    "\"\"\"\n",
    "\n",
    "print(df['20130102':'20130104'])\n",
    "\n",
    "\"\"\"\n",
    "A   B   C   D\n",
    "2013-01-02   4   5   6   7\n",
    "2013-01-03   8   9  10  11\n",
    "2013-01-04  12  13  14  15\n",
    "\"\"\""
   ],
   "metadata": {
    "collapsed": false,
    "pycharm": {
     "name": "#%%\n"
    }
   }
  },
  {
   "cell_type": "markdown",
   "source": [
    "## 根据标签 loc"
   ],
   "metadata": {
    "collapsed": false,
    "pycharm": {
     "name": "#%% md\n"
    }
   }
  },
  {
   "cell_type": "code",
   "execution_count": 17,
   "outputs": [
    {
     "name": "stdout",
     "output_type": "stream",
     "text": [
      "A    0.567693\n",
      "B   -0.170074\n",
      "C   -0.351064\n",
      "D   -0.955851\n",
      "Name: 2013-01-02 00:00:00, dtype: float64\n"
     ]
    },
    {
     "data": {
      "text/plain": "'\\nA    4\\nB    5\\nC    6\\nD    7\\nName: 2013-01-02 00:00:00, dtype: int64\\n'"
     },
     "execution_count": 17,
     "metadata": {},
     "output_type": "execute_result"
    }
   ],
   "source": [
    "print(df.loc['20130102'])\n",
    "\"\"\"\n",
    "A    4\n",
    "B    5\n",
    "C    6\n",
    "D    7\n",
    "Name: 2013-01-02 00:00:00, dtype: int64\n",
    "\"\"\""
   ],
   "metadata": {
    "collapsed": false,
    "pycharm": {
     "name": "#%%\n"
    }
   }
  },
  {
   "cell_type": "code",
   "execution_count": 18,
   "outputs": [
    {
     "name": "stdout",
     "output_type": "stream",
     "text": [
      "                   A         B\n",
      "2013-01-01  1.670673 -0.596555\n",
      "2013-01-02  0.567693 -0.170074\n",
      "2013-01-03  0.500973 -0.228459\n",
      "2013-01-04  1.261191  0.396923\n",
      "2013-01-05  1.603577 -1.205724\n",
      "2013-01-06 -1.943361 -0.930696\n"
     ]
    },
    {
     "data": {
      "text/plain": "'\\n             A   B\\n2013-01-01   0   1\\n2013-01-02   4   5\\n2013-01-03   8   9\\n2013-01-04  12  13\\n2013-01-05  16  17\\n2013-01-06  20  21\\n'"
     },
     "execution_count": 18,
     "metadata": {},
     "output_type": "execute_result"
    }
   ],
   "source": [
    "print(df.loc[:,['A','B']])\n",
    "\"\"\"\n",
    "             A   B\n",
    "2013-01-01   0   1\n",
    "2013-01-02   4   5\n",
    "2013-01-03   8   9\n",
    "2013-01-04  12  13\n",
    "2013-01-05  16  17\n",
    "2013-01-06  20  21\n",
    "\"\"\""
   ],
   "metadata": {
    "collapsed": false,
    "pycharm": {
     "name": "#%%\n"
    }
   }
  },
  {
   "cell_type": "code",
   "execution_count": 19,
   "outputs": [
    {
     "name": "stdout",
     "output_type": "stream",
     "text": [
      "A    0.567693\n",
      "B   -0.170074\n",
      "Name: 2013-01-02 00:00:00, dtype: float64\n"
     ]
    },
    {
     "data": {
      "text/plain": "'\\nA    4\\nB    5\\nName: 2013-01-02 00:00:00, dtype: int64\\n'"
     },
     "execution_count": 19,
     "metadata": {},
     "output_type": "execute_result"
    }
   ],
   "source": [
    "print(df.loc['20130102',['A','B']])\n",
    "\"\"\"\n",
    "A    4\n",
    "B    5\n",
    "Name: 2013-01-02 00:00:00, dtype: int64\n",
    "\"\"\""
   ],
   "metadata": {
    "collapsed": false,
    "pycharm": {
     "name": "#%%\n"
    }
   }
  },
  {
   "cell_type": "markdown",
   "source": [
    "## 根据序列 iloc"
   ],
   "metadata": {
    "collapsed": false,
    "pycharm": {
     "name": "#%% md\n"
    }
   }
  },
  {
   "cell_type": "code",
   "execution_count": 20,
   "outputs": [
    {
     "name": "stdout",
     "output_type": "stream",
     "text": [
      "0.39692251592987987\n"
     ]
    }
   ],
   "source": [
    "print(df.iloc[3,1])\n",
    "# 13"
   ],
   "metadata": {
    "collapsed": false,
    "pycharm": {
     "name": "#%%\n"
    }
   }
  },
  {
   "cell_type": "code",
   "execution_count": 21,
   "outputs": [
    {
     "name": "stdout",
     "output_type": "stream",
     "text": [
      "                   B         C\n",
      "2013-01-04  0.396923 -0.545144\n",
      "2013-01-05 -1.205724 -0.399800\n"
     ]
    },
    {
     "data": {
      "text/plain": "'\\n             B   C\\n2013-01-04  13  14\\n2013-01-05  17  18\\n'"
     },
     "execution_count": 21,
     "metadata": {},
     "output_type": "execute_result"
    }
   ],
   "source": [
    "print(df.iloc[3:5,1:3])\n",
    "\"\"\"\n",
    "             B   C\n",
    "2013-01-04  13  14\n",
    "2013-01-05  17  18\n",
    "\"\"\""
   ],
   "metadata": {
    "collapsed": false,
    "pycharm": {
     "name": "#%%\n"
    }
   }
  },
  {
   "cell_type": "code",
   "execution_count": 22,
   "outputs": [
    {
     "name": "stdout",
     "output_type": "stream",
     "text": [
      "                   B         C\n",
      "2013-01-02 -0.170074 -0.351064\n",
      "2013-01-04  0.396923 -0.545144\n",
      "2013-01-06 -0.930696  1.016060\n"
     ]
    },
    {
     "data": {
      "text/plain": "'\\n             B   C\\n2013-01-02   5   6\\n2013-01-04  13  14\\n2013-01-06  21  22\\n\\n'"
     },
     "execution_count": 22,
     "metadata": {},
     "output_type": "execute_result"
    }
   ],
   "source": [
    "print(df.iloc[[1,3,5],1:3])\n",
    "\"\"\"\n",
    "             B   C\n",
    "2013-01-02   5   6\n",
    "2013-01-04  13  14\n",
    "2013-01-06  21  22\n",
    "\n",
    "\"\"\""
   ],
   "metadata": {
    "collapsed": false,
    "pycharm": {
     "name": "#%%\n"
    }
   }
  },
  {
   "cell_type": "markdown",
   "source": [
    "## 根据混合的这两种 ix"
   ],
   "metadata": {
    "collapsed": false,
    "pycharm": {
     "name": "#%% md\n"
    }
   }
  },
  {
   "cell_type": "code",
   "execution_count": 23,
   "outputs": [
    {
     "data": {
      "text/plain": "'\\n            A   C\\n2013-01-01  0   2\\n2013-01-02  4   6\\n2013-01-03  8  10\\n'"
     },
     "execution_count": 23,
     "metadata": {},
     "output_type": "execute_result"
    }
   ],
   "source": [
    "#print(df.ix[:3,['A','C']])\n",
    "\"\"\"\n",
    "            A   C\n",
    "2013-01-01  0   2\n",
    "2013-01-02  4   6\n",
    "2013-01-03  8  10\n",
    "\"\"\""
   ],
   "metadata": {
    "collapsed": false,
    "pycharm": {
     "name": "#%%\n"
    }
   }
  },
  {
   "cell_type": "markdown",
   "source": [
    "## 通过判断的筛选"
   ],
   "metadata": {
    "collapsed": false,
    "pycharm": {
     "name": "#%% md\n"
    }
   }
  },
  {
   "cell_type": "code",
   "execution_count": 24,
   "outputs": [
    {
     "name": "stdout",
     "output_type": "stream",
     "text": [
      "Empty DataFrame\n",
      "Columns: [A, B, C, D]\n",
      "Index: []\n"
     ]
    },
    {
     "data": {
      "text/plain": "'\\n             A   B   C   D\\n2013-01-04  12  13  14  15\\n2013-01-05  16  17  18  19\\n2013-01-06  20  21  22  23\\n'"
     },
     "execution_count": 24,
     "metadata": {},
     "output_type": "execute_result"
    }
   ],
   "source": [
    "print(df[df.A>8])\n",
    "\"\"\"\n",
    "             A   B   C   D\n",
    "2013-01-04  12  13  14  15\n",
    "2013-01-05  16  17  18  19\n",
    "2013-01-06  20  21  22  23\n",
    "\"\"\""
   ],
   "metadata": {
    "collapsed": false,
    "pycharm": {
     "name": "#%%\n"
    }
   }
  },
  {
   "cell_type": "markdown",
   "source": [
    "# Pandas 设置值\n",
    "## 创建数据"
   ],
   "metadata": {
    "collapsed": false,
    "pycharm": {
     "name": "#%% md\n"
    }
   }
  },
  {
   "cell_type": "code",
   "execution_count": 25,
   "outputs": [
    {
     "name": "stdout",
     "output_type": "stream",
     "text": [
      "             A   B   C   D\n",
      "2013-01-01   0   1   2   3\n",
      "2013-01-02   4   5   6   7\n",
      "2013-01-03   8   9  10  11\n",
      "2013-01-04  12  13  14  15\n",
      "2013-01-05  16  17  18  19\n",
      "2013-01-06  20  21  22  23\n"
     ]
    },
    {
     "data": {
      "text/plain": "'\\n             A   B   C   D\\n2013-01-01   0   1   2   3\\n2013-01-02   4   5   6   7\\n2013-01-03   8   9  10  11\\n2013-01-04  12  13  14  15\\n2013-01-05  16  17  18  19\\n2013-01-06  20  21  22  23\\n'"
     },
     "execution_count": 25,
     "metadata": {},
     "output_type": "execute_result"
    }
   ],
   "source": [
    "dates = pd.date_range('20130101', periods=6)\n",
    "df = pd.DataFrame(np.arange(24).reshape((6,4)),index=dates, columns=['A','B','C','D'])\n",
    "print(df)\n",
    "\"\"\"\n",
    "             A   B   C   D\n",
    "2013-01-01   0   1   2   3\n",
    "2013-01-02   4   5   6   7\n",
    "2013-01-03   8   9  10  11\n",
    "2013-01-04  12  13  14  15\n",
    "2013-01-05  16  17  18  19\n",
    "2013-01-06  20  21  22  23\n",
    "\"\"\""
   ],
   "metadata": {
    "collapsed": false,
    "pycharm": {
     "name": "#%%\n"
    }
   }
  },
  {
   "cell_type": "markdown",
   "source": [
    "## 根据位置设置 loc 和 iloc"
   ],
   "metadata": {
    "collapsed": false,
    "pycharm": {
     "name": "#%% md\n"
    }
   }
  },
  {
   "cell_type": "code",
   "execution_count": 26,
   "outputs": [
    {
     "name": "stdout",
     "output_type": "stream",
     "text": [
      "             A     B     C   D\n",
      "2013-01-01   0  2222     2   3\n",
      "2013-01-02   4     5     6   7\n",
      "2013-01-03   8     9  1111  11\n",
      "2013-01-04  12    13    14  15\n",
      "2013-01-05  16    17    18  19\n",
      "2013-01-06  20    21    22  23\n"
     ]
    },
    {
     "data": {
      "text/plain": "'\\n             A     B     C   D\\n2013-01-01   0  2222     2   3\\n2013-01-02   4     5     6   7\\n2013-01-03   8     9  1111  11\\n2013-01-04  12    13    14  15\\n2013-01-05  16    17    18  19\\n2013-01-06  20    21    22  23\\n'"
     },
     "execution_count": 26,
     "metadata": {},
     "output_type": "execute_result"
    }
   ],
   "source": [
    "df.iloc[2,2] = 1111\n",
    "df.loc['20130101','B'] = 2222\n",
    "print(df)\n",
    "\"\"\"\n",
    "             A     B     C   D\n",
    "2013-01-01   0  2222     2   3\n",
    "2013-01-02   4     5     6   7\n",
    "2013-01-03   8     9  1111  11\n",
    "2013-01-04  12    13    14  15\n",
    "2013-01-05  16    17    18  19\n",
    "2013-01-06  20    21    22  23\n",
    "\"\"\""
   ],
   "metadata": {
    "collapsed": false,
    "pycharm": {
     "name": "#%%\n"
    }
   }
  },
  {
   "cell_type": "markdown",
   "source": [
    "## 根据条件设置"
   ],
   "metadata": {
    "collapsed": false,
    "pycharm": {
     "name": "#%% md\n"
    }
   }
  },
  {
   "cell_type": "code",
   "execution_count": 27,
   "outputs": [
    {
     "name": "stdout",
     "output_type": "stream",
     "text": [
      "             A     B     C   D\n",
      "2013-01-01   0  2222     2   3\n",
      "2013-01-02   4     5     6   7\n",
      "2013-01-03   8     0  1111  11\n",
      "2013-01-04  12     0    14  15\n",
      "2013-01-05  16     0    18  19\n",
      "2013-01-06  20     0    22  23\n"
     ]
    }
   ],
   "source": [
    "df.B[df.A>4] = 0\n",
    "\"\"\"\n",
    "                A     B     C   D\n",
    "2013-01-01   0  2222     2   3\n",
    "2013-01-02   4     5     6   7\n",
    "2013-01-03   8     0  1111  11\n",
    "2013-01-04  12     0    14  15\n",
    "2013-01-05  16     0    18  19\n",
    "2013-01-06  20     0    22  23\n",
    "\"\"\"\n",
    "print(df)"
   ],
   "metadata": {
    "collapsed": false,
    "pycharm": {
     "name": "#%%\n"
    }
   }
  },
  {
   "cell_type": "markdown",
   "source": [
    "## 按行或列设置"
   ],
   "metadata": {
    "collapsed": false,
    "pycharm": {
     "name": "#%% md\n"
    }
   }
  },
  {
   "cell_type": "code",
   "execution_count": 28,
   "outputs": [
    {
     "name": "stdout",
     "output_type": "stream",
     "text": [
      "             A     B     C   D   F\n",
      "2013-01-01   0  2222     2   3 NaN\n",
      "2013-01-02   4     5     6   7 NaN\n",
      "2013-01-03   8     0  1111  11 NaN\n",
      "2013-01-04  12     0    14  15 NaN\n",
      "2013-01-05  16     0    18  19 NaN\n",
      "2013-01-06  20     0    22  23 NaN\n"
     ]
    },
    {
     "data": {
      "text/plain": "'\\n             A     B     C   D   F\\n2013-01-01   0  2222     2   3 NaN\\n2013-01-02   4     5     6   7 NaN\\n2013-01-03   8     0  1111  11 NaN\\n2013-01-04  12     0    14  15 NaN\\n2013-01-05  16     0    18  19 NaN\\n2013-01-06  20     0    22  23 NaN\\n'"
     },
     "execution_count": 28,
     "metadata": {},
     "output_type": "execute_result"
    }
   ],
   "source": [
    "df['F'] = np.nan\n",
    "print(df)\n",
    "\"\"\"\n",
    "             A     B     C   D   F\n",
    "2013-01-01   0  2222     2   3 NaN\n",
    "2013-01-02   4     5     6   7 NaN\n",
    "2013-01-03   8     0  1111  11 NaN\n",
    "2013-01-04  12     0    14  15 NaN\n",
    "2013-01-05  16     0    18  19 NaN\n",
    "2013-01-06  20     0    22  23 NaN\n",
    "\"\"\""
   ],
   "metadata": {
    "collapsed": false,
    "pycharm": {
     "name": "#%%\n"
    }
   }
  },
  {
   "cell_type": "markdown",
   "source": [
    "## 添加数据"
   ],
   "metadata": {
    "collapsed": false,
    "pycharm": {
     "name": "#%% md\n"
    }
   }
  },
  {
   "cell_type": "code",
   "execution_count": 29,
   "outputs": [
    {
     "name": "stdout",
     "output_type": "stream",
     "text": [
      "             A     B     C   D   F  E\n",
      "2013-01-01   0  2222     2   3 NaN  1\n",
      "2013-01-02   4     5     6   7 NaN  2\n",
      "2013-01-03   8     0  1111  11 NaN  3\n",
      "2013-01-04  12     0    14  15 NaN  4\n",
      "2013-01-05  16     0    18  19 NaN  5\n",
      "2013-01-06  20     0    22  23 NaN  6\n"
     ]
    },
    {
     "data": {
      "text/plain": "'\\n             A     B     C   D   F  E\\n2013-01-01   0  2222     2   3 NaN  1\\n2013-01-02   4     5     6   7 NaN  2\\n2013-01-03   8     0  1111  11 NaN  3\\n2013-01-04  12     0    14  15 NaN  4\\n2013-01-05  16     0    18  19 NaN  5\\n2013-01-06  20     0    22  23 NaN  6\\n'"
     },
     "execution_count": 29,
     "metadata": {},
     "output_type": "execute_result"
    }
   ],
   "source": [
    "df['E'] = pd.Series([1,2,3,4,5,6], index=pd.date_range('20130101',periods=6))\n",
    "print(df)\n",
    "\"\"\"\n",
    "             A     B     C   D   F  E\n",
    "2013-01-01   0  2222     2   3 NaN  1\n",
    "2013-01-02   4     5     6   7 NaN  2\n",
    "2013-01-03   8     0  1111  11 NaN  3\n",
    "2013-01-04  12     0    14  15 NaN  4\n",
    "2013-01-05  16     0    18  19 NaN  5\n",
    "2013-01-06  20     0    22  23 NaN  6\n",
    "\"\"\""
   ],
   "metadata": {
    "collapsed": false,
    "pycharm": {
     "name": "#%%\n"
    }
   }
  },
  {
   "cell_type": "markdown",
   "source": [
    "# Pandas 处理丢失数据\n",
    "## 创建含 NaN 的矩阵\n"
   ],
   "metadata": {
    "collapsed": false,
    "pycharm": {
     "name": "#%% md\n"
    }
   }
  },
  {
   "cell_type": "code",
   "execution_count": 30,
   "outputs": [
    {
     "name": "stdout",
     "output_type": "stream",
     "text": [
      "             A     B     C   D\n",
      "2013-01-01   0   NaN   2.0   3\n",
      "2013-01-02   4   5.0   NaN   7\n",
      "2013-01-03   8   9.0  10.0  11\n",
      "2013-01-04  12  13.0  14.0  15\n",
      "2013-01-05  16  17.0  18.0  19\n",
      "2013-01-06  20  21.0  22.0  23\n"
     ]
    },
    {
     "data": {
      "text/plain": "'\\n             A     B     C   D\\n2013-01-01   0   NaN   2.0   3\\n2013-01-02   4   5.0   NaN   7\\n2013-01-03   8   9.0  10.0  11\\n2013-01-04  12  13.0  14.0  15\\n2013-01-05  16  17.0  18.0  19\\n2013-01-06  20  21.0  22.0  23\\n'"
     },
     "execution_count": 30,
     "metadata": {},
     "output_type": "execute_result"
    }
   ],
   "source": [
    "dates = pd.date_range('20130101', periods=6)\n",
    "df = pd.DataFrame(np.arange(24).reshape((6,4)),index=dates, columns=['A','B','C','D'])\n",
    "df.iloc[0,1] = np.nan\n",
    "df.iloc[1,2] = np.nan\n",
    "print(df)\n",
    "\"\"\"\n",
    "             A     B     C   D\n",
    "2013-01-01   0   NaN   2.0   3\n",
    "2013-01-02   4   5.0   NaN   7\n",
    "2013-01-03   8   9.0  10.0  11\n",
    "2013-01-04  12  13.0  14.0  15\n",
    "2013-01-05  16  17.0  18.0  19\n",
    "2013-01-06  20  21.0  22.0  23\n",
    "\"\"\""
   ],
   "metadata": {
    "collapsed": false,
    "pycharm": {
     "name": "#%%\n"
    }
   }
  },
  {
   "cell_type": "markdown",
   "source": [
    "## pd.dropna()"
   ],
   "metadata": {
    "collapsed": false,
    "pycharm": {
     "name": "#%% md\n"
    }
   }
  },
  {
   "cell_type": "code",
   "execution_count": 31,
   "outputs": [
    {
     "name": "stdout",
     "output_type": "stream",
     "text": [
      "             A     B     C   D\n",
      "2013-01-01   0   NaN   2.0   3\n",
      "2013-01-02   4   5.0   NaN   7\n",
      "2013-01-03   8   9.0  10.0  11\n",
      "2013-01-04  12  13.0  14.0  15\n",
      "2013-01-05  16  17.0  18.0  19\n",
      "2013-01-06  20  21.0  22.0  23\n"
     ]
    },
    {
     "data": {
      "text/plain": "'\\n             A     B     C   D\\n2013-01-03   8   9.0  10.0  11\\n2013-01-04  12  13.0  14.0  15\\n2013-01-05  16  17.0  18.0  19\\n2013-01-06  20  21.0  22.0  23\\n'"
     },
     "execution_count": 31,
     "metadata": {},
     "output_type": "execute_result"
    }
   ],
   "source": [
    "df.dropna(\n",
    "    axis=0,     # 0: 对行进行操作; 1: 对列进行操作\n",
    "    how='any'   # 'any': 只要存在 NaN 就 drop 掉; 'all': 必须全部是 NaN 才 drop\n",
    "    )\n",
    "print(df)\n",
    "\"\"\"\n",
    "             A     B     C   D\n",
    "2013-01-03   8   9.0  10.0  11\n",
    "2013-01-04  12  13.0  14.0  15\n",
    "2013-01-05  16  17.0  18.0  19\n",
    "2013-01-06  20  21.0  22.0  23\n",
    "\"\"\""
   ],
   "metadata": {
    "collapsed": false,
    "pycharm": {
     "name": "#%%\n"
    }
   }
  },
  {
   "cell_type": "markdown",
   "source": [
    "## pd.fillna()"
   ],
   "metadata": {
    "collapsed": false,
    "pycharm": {
     "name": "#%% md\n"
    }
   }
  },
  {
   "cell_type": "code",
   "execution_count": 32,
   "outputs": [
    {
     "name": "stdout",
     "output_type": "stream",
     "text": [
      "             A     B     C   D\n",
      "2013-01-01   0   NaN   2.0   3\n",
      "2013-01-02   4   5.0   NaN   7\n",
      "2013-01-03   8   9.0  10.0  11\n",
      "2013-01-04  12  13.0  14.0  15\n",
      "2013-01-05  16  17.0  18.0  19\n",
      "2013-01-06  20  21.0  22.0  23\n"
     ]
    },
    {
     "data": {
      "text/plain": "'\\n             A     B     C   D\\n2013-01-01   0   0.0   2.0   3\\n2013-01-02   4   5.0   0.0   7\\n2013-01-03   8   9.0  10.0  11\\n2013-01-04  12  13.0  14.0  15\\n2013-01-05  16  17.0  18.0  19\\n2013-01-06  20  21.0  22.0  23\\n'"
     },
     "execution_count": 32,
     "metadata": {},
     "output_type": "execute_result"
    }
   ],
   "source": [
    "df.fillna(value=0)\n",
    "print(df)\n",
    "\"\"\"\n",
    "             A     B     C   D\n",
    "2013-01-01   0   0.0   2.0   3\n",
    "2013-01-02   4   5.0   0.0   7\n",
    "2013-01-03   8   9.0  10.0  11\n",
    "2013-01-04  12  13.0  14.0  15\n",
    "2013-01-05  16  17.0  18.0  19\n",
    "2013-01-06  20  21.0  22.0  23\n",
    "\"\"\""
   ],
   "metadata": {
    "collapsed": false,
    "pycharm": {
     "name": "#%%\n"
    }
   }
  },
  {
   "cell_type": "markdown",
   "source": [
    "## pd.isnull()"
   ],
   "metadata": {
    "collapsed": false,
    "pycharm": {
     "name": "#%% md\n"
    }
   }
  },
  {
   "cell_type": "code",
   "execution_count": 33,
   "outputs": [
    {
     "name": "stdout",
     "output_type": "stream",
     "text": [
      "                A      B      C      D\n",
      "2013-01-01  False   True  False  False\n",
      "2013-01-02  False  False   True  False\n",
      "2013-01-03  False  False  False  False\n",
      "2013-01-04  False  False  False  False\n",
      "2013-01-05  False  False  False  False\n",
      "2013-01-06  False  False  False  False\n"
     ]
    },
    {
     "data": {
      "text/plain": "'\\n                A      B      C      D\\n2013-01-01  False   True  False  False\\n2013-01-02  False  False   True  False\\n2013-01-03  False  False  False  False\\n2013-01-04  False  False  False  False\\n2013-01-05  False  False  False  False\\n2013-01-06  False  False  False  False\\n'"
     },
     "execution_count": 33,
     "metadata": {},
     "output_type": "execute_result"
    }
   ],
   "source": [
    "df.isnull()\n",
    "print(df.isnull())\n",
    "\"\"\"\n",
    "                A      B      C      D\n",
    "2013-01-01  False   True  False  False\n",
    "2013-01-02  False  False   True  False\n",
    "2013-01-03  False  False  False  False\n",
    "2013-01-04  False  False  False  False\n",
    "2013-01-05  False  False  False  False\n",
    "2013-01-06  False  False  False  False\n",
    "\"\"\""
   ],
   "metadata": {
    "collapsed": false,
    "pycharm": {
     "name": "#%%\n"
    }
   }
  },
  {
   "cell_type": "code",
   "execution_count": 34,
   "outputs": [
    {
     "name": "stdout",
     "output_type": "stream",
     "text": [
      "True\n"
     ]
    }
   ],
   "source": [
    "np.any(df.isnull()) == True\n",
    "print(np.any(df.isnull()))\n",
    "# True"
   ],
   "metadata": {
    "collapsed": false,
    "pycharm": {
     "name": "#%%\n"
    }
   }
  },
  {
   "cell_type": "markdown",
   "source": [
    "# Pandas 导入导出\n",
    "## 读取csv"
   ],
   "metadata": {
    "collapsed": false,
    "pycharm": {
     "name": "#%% md\n"
    }
   }
  },
  {
   "cell_type": "code",
   "execution_count": 35,
   "outputs": [
    {
     "name": "stdout",
     "output_type": "stream",
     "text": [
      "    Student ID  name   age  gender\n",
      "0         1100  Kelly   22  Female\n",
      "1         1101    Clo   21  Female\n",
      "2         1102  Tilly   22  Female\n",
      "3         1103   Tony   24    Male\n",
      "4         1104  David   20    Male\n",
      "5         1105  Catty   22  Female\n",
      "6         1106      M    3  Female\n",
      "7         1107      N   43    Male\n",
      "8         1108      A   13    Male\n",
      "9         1109      S   12    Male\n",
      "10        1110  David   33    Male\n",
      "11        1111     Dw    3  Female\n",
      "12        1112      Q   23    Male\n",
      "13        1113      W   21  Female\n"
     ]
    }
   ],
   "source": [
    "import pandas as pd #加载模块\n",
    "\n",
    "#读取csv\n",
    "data = pd.read_csv(r'15_read_to/student.csv')\n",
    "\n",
    "#打印出data\n",
    "print(data)"
   ],
   "metadata": {
    "collapsed": false,
    "pycharm": {
     "name": "#%%\n"
    }
   }
  },
  {
   "cell_type": "markdown",
   "source": [
    "## 将资料存取成pickle"
   ],
   "metadata": {
    "collapsed": false,
    "pycharm": {
     "name": "#%% md\n"
    }
   }
  },
  {
   "cell_type": "code",
   "execution_count": 36,
   "outputs": [],
   "source": [
    "data.to_pickle('15_read_to/student.pickle')"
   ],
   "metadata": {
    "collapsed": false,
    "pycharm": {
     "name": "#%%\n"
    }
   }
  },
  {
   "cell_type": "markdown",
   "source": [
    "# Pandas 合并 concat"
   ],
   "metadata": {
    "collapsed": false,
    "pycharm": {
     "name": "#%% md\n"
    }
   }
  },
  {
   "cell_type": "markdown",
   "source": [
    "## axis (合并方向)\n",
    "axis=0是预设值，因此未设定任何参数时，函数默认axis=0。"
   ],
   "metadata": {
    "collapsed": false,
    "pycharm": {
     "name": "#%% md\n"
    }
   }
  },
  {
   "cell_type": "code",
   "execution_count": 37,
   "outputs": [
    {
     "name": "stdout",
     "output_type": "stream",
     "text": [
      "     a    b    c    d\n",
      "0  0.0  0.0  0.0  0.0\n",
      "1  0.0  0.0  0.0  0.0\n",
      "2  0.0  0.0  0.0  0.0\n",
      "     a    b    c    d\n",
      "0  1.0  1.0  1.0  1.0\n",
      "1  1.0  1.0  1.0  1.0\n",
      "2  1.0  1.0  1.0  1.0\n",
      "     a    b    c    d\n",
      "0  2.0  2.0  2.0  2.0\n",
      "1  2.0  2.0  2.0  2.0\n",
      "2  2.0  2.0  2.0  2.0\n"
     ]
    }
   ],
   "source": [
    "import pandas as pd\n",
    "import numpy as np\n",
    "\n",
    "#定义资料集\n",
    "df1 = pd.DataFrame(np.ones((3,4))*0, columns=['a','b','c','d'])\n",
    "df2 = pd.DataFrame(np.ones((3,4))*1, columns=['a','b','c','d'])\n",
    "df3 = pd.DataFrame(np.ones((3,4))*2, columns=['a','b','c','d'])\n",
    "print(df1)\n",
    "print(df2)\n",
    "print(df3)"
   ],
   "metadata": {
    "collapsed": false,
    "pycharm": {
     "name": "#%%\n"
    }
   }
  },
  {
   "cell_type": "markdown",
   "source": [
    "#### concat纵向合并"
   ],
   "metadata": {
    "collapsed": false,
    "pycharm": {
     "name": "#%% md\n"
    }
   }
  },
  {
   "cell_type": "code",
   "execution_count": 38,
   "outputs": [
    {
     "name": "stdout",
     "output_type": "stream",
     "text": [
      "     a    b    c    d\n",
      "0  0.0  0.0  0.0  0.0\n",
      "1  0.0  0.0  0.0  0.0\n",
      "2  0.0  0.0  0.0  0.0\n",
      "0  1.0  1.0  1.0  1.0\n",
      "1  1.0  1.0  1.0  1.0\n",
      "2  1.0  1.0  1.0  1.0\n",
      "0  2.0  2.0  2.0  2.0\n",
      "1  2.0  2.0  2.0  2.0\n",
      "2  2.0  2.0  2.0  2.0\n"
     ]
    }
   ],
   "source": [
    "res = pd.concat([df1, df2, df3], axis=0)\n",
    "\n",
    "#打印结果\n",
    "print(res)\n",
    "#     a    b    c    d\n",
    "# 0  0.0  0.0  0.0  0.0\n",
    "# 1  0.0  0.0  0.0  0.0\n",
    "# 2  0.0  0.0  0.0  0.0\n",
    "# 0  1.0  1.0  1.0  1.0\n",
    "# 1  1.0  1.0  1.0  1.0\n",
    "# 2  1.0  1.0  1.0  1.0\n",
    "# 0  2.0  2.0  2.0  2.0\n",
    "# 1  2.0  2.0  2.0  2.0\n",
    "# 2  2.0  2.0  2.0  2.0"
   ],
   "metadata": {
    "collapsed": false,
    "pycharm": {
     "name": "#%%\n"
    }
   }
  },
  {
   "cell_type": "markdown",
   "source": [
    "## ignore_index (重置 index)"
   ],
   "metadata": {
    "collapsed": false,
    "pycharm": {
     "name": "#%% md\n"
    }
   }
  },
  {
   "cell_type": "code",
   "execution_count": 39,
   "outputs": [
    {
     "name": "stdout",
     "output_type": "stream",
     "text": [
      "     a    b    c    d\n",
      "0  0.0  0.0  0.0  0.0\n",
      "1  0.0  0.0  0.0  0.0\n",
      "2  0.0  0.0  0.0  0.0\n",
      "3  1.0  1.0  1.0  1.0\n",
      "4  1.0  1.0  1.0  1.0\n",
      "5  1.0  1.0  1.0  1.0\n",
      "6  2.0  2.0  2.0  2.0\n",
      "7  2.0  2.0  2.0  2.0\n",
      "8  2.0  2.0  2.0  2.0\n"
     ]
    }
   ],
   "source": [
    "#承上一个例子，并将index_ignore设定为True\n",
    "res = pd.concat([df1, df2, df3], axis=0, ignore_index=True)\n",
    "\n",
    "#打印结果\n",
    "print(res)\n",
    "#     a    b    c    d\n",
    "# 0  0.0  0.0  0.0  0.0\n",
    "# 1  0.0  0.0  0.0  0.0\n",
    "# 2  0.0  0.0  0.0  0.0\n",
    "# 3  1.0  1.0  1.0  1.0\n",
    "# 4  1.0  1.0  1.0  1.0\n",
    "# 5  1.0  1.0  1.0  1.0\n",
    "# 6  2.0  2.0  2.0  2.0\n",
    "# 7  2.0  2.0  2.0  2.0\n",
    "# 8  2.0  2.0  2.0  2.0"
   ],
   "metadata": {
    "collapsed": false,
    "pycharm": {
     "name": "#%%\n"
    }
   }
  },
  {
   "cell_type": "markdown",
   "source": [
    "## join (合并方式)"
   ],
   "metadata": {
    "collapsed": false,
    "pycharm": {
     "name": "#%% md\n"
    }
   }
  },
  {
   "cell_type": "code",
   "execution_count": 40,
   "outputs": [
    {
     "name": "stdout",
     "output_type": "stream",
     "text": [
      "     a    b    c    d\n",
      "1  0.0  0.0  0.0  0.0\n",
      "2  0.0  0.0  0.0  0.0\n",
      "3  0.0  0.0  0.0  0.0\n",
      "     b    c    d    e\n",
      "2  1.0  1.0  1.0  1.0\n",
      "3  1.0  1.0  1.0  1.0\n",
      "4  1.0  1.0  1.0  1.0\n"
     ]
    }
   ],
   "source": [
    "import pandas as pd\n",
    "import numpy as np\n",
    "\n",
    "#定义资料集\n",
    "df1 = pd.DataFrame(np.ones((3,4))*0, columns=['a','b','c','d'], index=[1,2,3])\n",
    "df2 = pd.DataFrame(np.ones((3,4))*1, columns=['b','c','d','e'], index=[2,3,4])\n",
    "print(df1)\n",
    "print(df2)"
   ],
   "metadata": {
    "collapsed": false,
    "pycharm": {
     "name": "#%%\n"
    }
   }
  },
  {
   "cell_type": "markdown",
   "source": [
    "#### 纵向\"外\"合并df1与df2"
   ],
   "metadata": {
    "collapsed": false,
    "pycharm": {
     "name": "#%% md\n"
    }
   }
  },
  {
   "cell_type": "code",
   "execution_count": 41,
   "outputs": [
    {
     "name": "stdout",
     "output_type": "stream",
     "text": [
      "     a    b    c    d    e\n",
      "1  0.0  0.0  0.0  0.0  NaN\n",
      "2  0.0  0.0  0.0  0.0  NaN\n",
      "3  0.0  0.0  0.0  0.0  NaN\n",
      "2  NaN  1.0  1.0  1.0  1.0\n",
      "3  NaN  1.0  1.0  1.0  1.0\n",
      "4  NaN  1.0  1.0  1.0  1.0\n"
     ]
    }
   ],
   "source": [
    "res = pd.concat([df1, df2], axis=0, join='outer')\n",
    "\n",
    "print(res)\n",
    "#     a    b    c    d    e\n",
    "# 1  0.0  0.0  0.0  0.0  NaN\n",
    "# 2  0.0  0.0  0.0  0.0  NaN\n",
    "# 3  0.0  0.0  0.0  0.0  NaN\n",
    "# 2  NaN  1.0  1.0  1.0  1.0\n",
    "# 3  NaN  1.0  1.0  1.0  1.0\n",
    "# 4  NaN  1.0  1.0  1.0  1.0"
   ],
   "metadata": {
    "collapsed": false,
    "pycharm": {
     "name": "#%%\n"
    }
   }
  },
  {
   "cell_type": "markdown",
   "source": [
    "## 纵向\"内\"合并df1与df2"
   ],
   "metadata": {
    "collapsed": false,
    "pycharm": {
     "name": "#%% md\n"
    }
   }
  },
  {
   "cell_type": "code",
   "execution_count": 42,
   "outputs": [
    {
     "name": "stdout",
     "output_type": "stream",
     "text": [
      "     b    c    d\n",
      "1  0.0  0.0  0.0\n",
      "2  0.0  0.0  0.0\n",
      "3  0.0  0.0  0.0\n",
      "2  1.0  1.0  1.0\n",
      "3  1.0  1.0  1.0\n",
      "4  1.0  1.0  1.0\n",
      "     b    c    d\n",
      "0  0.0  0.0  0.0\n",
      "1  0.0  0.0  0.0\n",
      "2  0.0  0.0  0.0\n",
      "3  1.0  1.0  1.0\n",
      "4  1.0  1.0  1.0\n",
      "5  1.0  1.0  1.0\n"
     ]
    }
   ],
   "source": [
    "res = pd.concat([df1, df2], axis=0, join='inner')\n",
    "\n",
    "#打印结果\n",
    "print(res)\n",
    "#     b    c    d\n",
    "# 1  0.0  0.0  0.0\n",
    "# 2  0.0  0.0  0.0\n",
    "# 3  0.0  0.0  0.0\n",
    "# 2  1.0  1.0  1.0\n",
    "# 3  1.0  1.0  1.0\n",
    "# 4  1.0  1.0  1.0\n",
    "\n",
    "#重置index并打印结果\n",
    "res = pd.concat([df1, df2], axis=0, join='inner', ignore_index=True)\n",
    "print(res)\n",
    "#     b    c    d\n",
    "# 0  0.0  0.0  0.0\n",
    "# 1  0.0  0.0  0.0\n",
    "# 2  0.0  0.0  0.0\n",
    "# 3  1.0  1.0  1.0\n",
    "# 4  1.0  1.0  1.0\n",
    "# 5  1.0  1.0  1.0"
   ],
   "metadata": {
    "collapsed": false,
    "pycharm": {
     "name": "#%%\n"
    }
   }
  },
  {
   "cell_type": "markdown",
   "source": [
    "## join_axes (依照 axes 合并)\n",
    "新版本pandas已经删除了join_axes"
   ],
   "metadata": {
    "collapsed": false,
    "pycharm": {
     "name": "#%% md\n"
    }
   }
  },
  {
   "cell_type": "code",
   "execution_count": 43,
   "outputs": [
    {
     "name": "stdout",
     "output_type": "stream",
     "text": [
      "     a    b    c    d\n",
      "1  0.0  0.0  0.0  0.0\n",
      "2  0.0  0.0  0.0  0.0\n",
      "3  0.0  0.0  0.0  0.0\n",
      "     b    c    d    e\n",
      "2  1.0  1.0  1.0  1.0\n",
      "3  1.0  1.0  1.0  1.0\n",
      "4  1.0  1.0  1.0  1.0\n"
     ]
    }
   ],
   "source": [
    "import pandas as pd\n",
    "import numpy as np\n",
    "\n",
    "#定义资料集\n",
    "df1 = pd.DataFrame(np.ones((3,4))*0, columns=['a','b','c','d'], index=[1,2,3])\n",
    "df2 = pd.DataFrame(np.ones((3,4))*1, columns=['b','c','d','e'], index=[2,3,4])\n",
    "print(df1)\n",
    "print(df2)"
   ],
   "metadata": {
    "collapsed": false,
    "pycharm": {
     "name": "#%%\n"
    }
   }
  },
  {
   "cell_type": "markdown",
   "source": [
    "#### 依照`df1.index`进行横向合并"
   ],
   "metadata": {
    "collapsed": false,
    "pycharm": {
     "name": "#%% md\n"
    }
   }
  },
  {
   "cell_type": "code",
   "execution_count": 44,
   "outputs": [
    {
     "name": "stdout",
     "output_type": "stream",
     "text": [
      "     a  b_x  c_x  d_x  b_y  c_y  d_y    e\n",
      "1  0.0  0.0  0.0  0.0  NaN  NaN  NaN  NaN\n",
      "2  0.0  0.0  0.0  0.0  1.0  1.0  1.0  1.0\n",
      "3  0.0  0.0  0.0  0.0  1.0  1.0  1.0  1.0\n",
      "     a    b    c    d    b    c    d    e\n",
      "1  0.0  0.0  0.0  0.0  NaN  NaN  NaN  NaN\n",
      "2  0.0  0.0  0.0  0.0  1.0  1.0  1.0  1.0\n",
      "3  0.0  0.0  0.0  0.0  1.0  1.0  1.0  1.0\n",
      "4  NaN  NaN  NaN  NaN  1.0  1.0  1.0  1.0\n"
     ]
    }
   ],
   "source": [
    "res=pd.merge(df1, df2, how='left', left_index=True, right_index=True)\n",
    "#打印结果\n",
    "print(res)\n",
    "#     a    b    c    d    b    c    d    e\n",
    "# 1  0.0  0.0  0.0  0.0  NaN  NaN  NaN  NaN\n",
    "# 2  0.0  0.0  0.0  0.0  1.0  1.0  1.0  1.0\n",
    "# 3  0.0  0.0  0.0  0.0  1.0  1.0  1.0  1.0\n",
    "\n",
    "#移除join_axes，并打印结果\n",
    "res = pd.concat([df1, df2], axis=1)\n",
    "print(res)\n",
    "#     a    b    c    d    b    c    d    e\n",
    "# 1  0.0  0.0  0.0  0.0  NaN  NaN  NaN  NaN\n",
    "# 2  0.0  0.0  0.0  0.0  1.0  1.0  1.0  1.0\n",
    "# 3  0.0  0.0  0.0  0.0  1.0  1.0  1.0  1.0\n",
    "# 4  NaN  NaN  NaN  NaN  1.0  1.0  1.0  1.0"
   ],
   "metadata": {
    "collapsed": false,
    "pycharm": {
     "name": "#%%\n"
    }
   }
  },
  {
   "cell_type": "markdown",
   "source": [
    "## append (添加数据)\n",
    "append只有纵向合并，没有横向合并。"
   ],
   "metadata": {
    "collapsed": false,
    "pycharm": {
     "name": "#%% md\n"
    }
   }
  },
  {
   "cell_type": "code",
   "execution_count": 45,
   "outputs": [
    {
     "name": "stdout",
     "output_type": "stream",
     "text": [
      "     a    b    c    d\n",
      "0  0.0  0.0  0.0  0.0\n",
      "1  0.0  0.0  0.0  0.0\n",
      "2  0.0  0.0  0.0  0.0\n",
      "     a    b    c    d\n",
      "0  1.0  1.0  1.0  1.0\n",
      "1  1.0  1.0  1.0  1.0\n",
      "2  1.0  1.0  1.0  1.0\n",
      "     a    b    c    d\n",
      "0  1.0  1.0  1.0  1.0\n",
      "1  1.0  1.0  1.0  1.0\n",
      "2  1.0  1.0  1.0  1.0\n"
     ]
    }
   ],
   "source": [
    "import pandas as pd\n",
    "import numpy as np\n",
    "\n",
    "#定义资料集\n",
    "df1 = pd.DataFrame(np.ones((3,4))*0, columns=['a','b','c','d'])\n",
    "df2 = pd.DataFrame(np.ones((3,4))*1, columns=['a','b','c','d'])\n",
    "df3 = pd.DataFrame(np.ones((3,4))*1, columns=['a','b','c','d'])\n",
    "s1 = pd.Series([1,2,3,4], index=['a','b','c','d'])\n",
    "print(df1)\n",
    "print(df2)\n",
    "print(df3)"
   ],
   "metadata": {
    "collapsed": false,
    "pycharm": {
     "name": "#%%\n"
    }
   }
  },
  {
   "cell_type": "code",
   "execution_count": 46,
   "outputs": [
    {
     "name": "stdout",
     "output_type": "stream",
     "text": [
      "     a    b    c    d\n",
      "0  0.0  0.0  0.0  0.0\n",
      "1  0.0  0.0  0.0  0.0\n",
      "2  0.0  0.0  0.0  0.0\n",
      "3  1.0  1.0  1.0  1.0\n",
      "4  1.0  1.0  1.0  1.0\n",
      "5  1.0  1.0  1.0  1.0\n"
     ]
    }
   ],
   "source": [
    "#将df2合并到df1的下面，以及重置index，并打印出结果\n",
    "res = df1.append(df2, ignore_index=True)\n",
    "print(res)\n",
    "#     a    b    c    d\n",
    "# 0  0.0  0.0  0.0  0.0\n",
    "# 1  0.0  0.0  0.0  0.0\n",
    "# 2  0.0  0.0  0.0  0.0\n",
    "# 3  1.0  1.0  1.0  1.0\n",
    "# 4  1.0  1.0  1.0  1.0\n",
    "# 5  1.0  1.0  1.0  1.0"
   ],
   "metadata": {
    "collapsed": false,
    "pycharm": {
     "name": "#%%\n"
    }
   }
  },
  {
   "cell_type": "code",
   "execution_count": 47,
   "outputs": [
    {
     "name": "stdout",
     "output_type": "stream",
     "text": [
      "     a    b    c    d\n",
      "0  0.0  0.0  0.0  0.0\n",
      "1  0.0  0.0  0.0  0.0\n",
      "2  0.0  0.0  0.0  0.0\n",
      "3  1.0  1.0  1.0  1.0\n",
      "4  1.0  1.0  1.0  1.0\n",
      "5  1.0  1.0  1.0  1.0\n",
      "6  1.0  1.0  1.0  1.0\n",
      "7  1.0  1.0  1.0  1.0\n",
      "8  1.0  1.0  1.0  1.0\n"
     ]
    }
   ],
   "source": [
    "#合并多个df，将df2与df3合并至df1的下面，以及重置index，并打印出结果\n",
    "res = df1.append([df2, df3], ignore_index=True)\n",
    "print(res)\n",
    "#     a    b    c    d\n",
    "# 0  0.0  0.0  0.0  0.0\n",
    "# 1  0.0  0.0  0.0  0.0\n",
    "# 2  0.0  0.0  0.0  0.0\n",
    "# 3  1.0  1.0  1.0  1.0\n",
    "# 4  1.0  1.0  1.0  1.0\n",
    "# 5  1.0  1.0  1.0  1.0\n",
    "# 6  1.0  1.0  1.0  1.0\n",
    "# 7  1.0  1.0  1.0  1.0\n",
    "# 8  1.0  1.0  1.0  1.0"
   ],
   "metadata": {
    "collapsed": false,
    "pycharm": {
     "name": "#%%\n"
    }
   }
  },
  {
   "cell_type": "code",
   "execution_count": 48,
   "outputs": [
    {
     "name": "stdout",
     "output_type": "stream",
     "text": [
      "     a    b    c    d\n",
      "0  0.0  0.0  0.0  0.0\n",
      "1  0.0  0.0  0.0  0.0\n",
      "2  0.0  0.0  0.0  0.0\n",
      "3  1.0  2.0  3.0  4.0\n"
     ]
    }
   ],
   "source": [
    "#合并series，将s1合并至df1，以及重置index，并打印出结果\n",
    "res = df1.append(s1, ignore_index=True)\n",
    "print(res)\n",
    "#     a    b    c    d\n",
    "# 0  0.0  0.0  0.0  0.0\n",
    "# 1  0.0  0.0  0.0  0.0\n",
    "# 2  0.0  0.0  0.0  0.0\n",
    "# 3  1.0  2.0  3.0  4.0"
   ],
   "metadata": {
    "collapsed": false,
    "pycharm": {
     "name": "#%%\n"
    }
   }
  },
  {
   "cell_type": "markdown",
   "source": [
    "# Pandas 合并 merge\n",
    "## 依据一组key合并"
   ],
   "metadata": {
    "collapsed": false,
    "pycharm": {
     "name": "#%% md\n"
    }
   }
  },
  {
   "cell_type": "code",
   "execution_count": 49,
   "outputs": [
    {
     "name": "stdout",
     "output_type": "stream",
     "text": [
      "  key   A   B\n",
      "0  K0  A0  B0\n",
      "1  K1  A1  B1\n",
      "2  K2  A2  B2\n",
      "3  K3  A3  B3\n",
      "  key   C   D\n",
      "0  K0  C0  D0\n",
      "1  K1  C1  D1\n",
      "2  K2  C2  D2\n",
      "3  K3  C3  D3\n",
      "  key   A   B   C   D\n",
      "0  K0  A0  B0  C0  D0\n",
      "1  K1  A1  B1  C1  D1\n",
      "2  K2  A2  B2  C2  D2\n",
      "3  K3  A3  B3  C3  D3\n"
     ]
    }
   ],
   "source": [
    "import pandas as pd\n",
    "\n",
    "#定义资料集并打印出\n",
    "left = pd.DataFrame({'key': ['K0', 'K1', 'K2', 'K3'],\n",
    "                             'A': ['A0', 'A1', 'A2', 'A3'],\n",
    "                             'B': ['B0', 'B1', 'B2', 'B3']})\n",
    "right = pd.DataFrame({'key': ['K0', 'K1', 'K2', 'K3'],\n",
    "                              'C': ['C0', 'C1', 'C2', 'C3'],\n",
    "                              'D': ['D0', 'D1', 'D2', 'D3']})\n",
    "\n",
    "print(left)\n",
    "#    A   B key\n",
    "# 0  A0  B0  K0\n",
    "# 1  A1  B1  K1\n",
    "# 2  A2  B2  K2\n",
    "# 3  A3  B3  K3\n",
    "\n",
    "print(right)\n",
    "#    C   D key\n",
    "# 0  C0  D0  K0\n",
    "# 1  C1  D1  K1\n",
    "# 2  C2  D2  K2\n",
    "# 3  C3  D3  K3\n",
    "\n",
    "#依据key column合并，并打印出\n",
    "res = pd.merge(left, right, on='key')\n",
    "\n",
    "print(res)\n"
   ],
   "metadata": {
    "collapsed": false,
    "pycharm": {
     "name": "#%%\n"
    }
   }
  },
  {
   "cell_type": "markdown",
   "source": [
    "## 依据两组key合并\n",
    "#### 合并时有4种方法how = ['left', 'right', 'outer', 'inner']，预设值how='inner'。"
   ],
   "metadata": {
    "collapsed": false,
    "pycharm": {
     "name": "#%% md\n"
    }
   }
  },
  {
   "cell_type": "code",
   "execution_count": 50,
   "outputs": [
    {
     "name": "stdout",
     "output_type": "stream",
     "text": [
      "  key1 key2   A   B\n",
      "0   K0   K0  A0  B0\n",
      "1   K0   K1  A1  B1\n",
      "2   K1   K0  A2  B2\n",
      "3   K2   K1  A3  B3\n",
      "  key1 key2   C   D\n",
      "0   K0   K0  C0  D0\n",
      "1   K1   K0  C1  D1\n",
      "2   K1   K0  C2  D2\n",
      "3   K2   K0  C3  D3\n"
     ]
    }
   ],
   "source": [
    "import pandas as pd\n",
    "\n",
    "#定义资料集并打印出\n",
    "left = pd.DataFrame({'key1': ['K0', 'K0', 'K1', 'K2'],\n",
    "                      'key2': ['K0', 'K1', 'K0', 'K1'],\n",
    "                      'A': ['A0', 'A1', 'A2', 'A3'],\n",
    "                      'B': ['B0', 'B1', 'B2', 'B3']})\n",
    "right = pd.DataFrame({'key1': ['K0', 'K1', 'K1', 'K2'],\n",
    "                       'key2': ['K0', 'K0', 'K0', 'K0'],\n",
    "                       'C': ['C0', 'C1', 'C2', 'C3'],\n",
    "                       'D': ['D0', 'D1', 'D2', 'D3']})\n",
    "\n",
    "print(left)\n",
    "#    A   B key1 key2\n",
    "# 0  A0  B0   K0   K0\n",
    "# 1  A1  B1   K0   K1\n",
    "# 2  A2  B2   K1   K0\n",
    "# 3  A3  B3   K2   K1\n",
    "\n",
    "print(right)\n",
    "#    C   D key1 key2\n",
    "# 0  C0  D0   K0   K0\n",
    "# 1  C1  D1   K1   K0\n",
    "# 2  C2  D2   K1   K0\n",
    "# 3  C3  D3   K2   K0"
   ],
   "metadata": {
    "collapsed": false,
    "pycharm": {
     "name": "#%%\n"
    }
   }
  },
  {
   "cell_type": "markdown",
   "source": [
    "#### 依据key1与key2 columns进行合并，并打印出四种结果['left', 'right', 'outer', 'inner']"
   ],
   "metadata": {
    "collapsed": false,
    "pycharm": {
     "name": "#%% md\n"
    }
   }
  },
  {
   "cell_type": "code",
   "execution_count": 51,
   "outputs": [
    {
     "name": "stdout",
     "output_type": "stream",
     "text": [
      "  key1 key2   A   B   C   D\n",
      "0   K0   K0  A0  B0  C0  D0\n",
      "1   K1   K0  A2  B2  C1  D1\n",
      "2   K1   K0  A2  B2  C2  D2\n"
     ]
    }
   ],
   "source": [
    "res = pd.merge(left, right, on=['key1', 'key2'], how='inner')\n",
    "print(res)\n",
    "#    A   B key1 key2   C   D\n",
    "# 0  A0  B0   K0   K0  C0  D0\n",
    "# 1  A2  B2   K1   K0  C1  D1\n",
    "# 2  A2  B2   K1   K0  C2  D2"
   ],
   "metadata": {
    "collapsed": false,
    "pycharm": {
     "name": "#%%\n"
    }
   }
  },
  {
   "cell_type": "code",
   "execution_count": 52,
   "outputs": [
    {
     "name": "stdout",
     "output_type": "stream",
     "text": [
      "  key1 key2    A    B    C    D\n",
      "0   K0   K0   A0   B0   C0   D0\n",
      "1   K0   K1   A1   B1  NaN  NaN\n",
      "2   K1   K0   A2   B2   C1   D1\n",
      "3   K1   K0   A2   B2   C2   D2\n",
      "4   K2   K1   A3   B3  NaN  NaN\n",
      "5   K2   K0  NaN  NaN   C3   D3\n"
     ]
    }
   ],
   "source": [
    "res = pd.merge(left, right, on=['key1', 'key2'], how='outer')\n",
    "print(res)\n",
    "#     A    B key1 key2    C    D\n",
    "# 0   A0   B0   K0   K0   C0   D0\n",
    "# 1   A1   B1   K0   K1  NaN  NaN\n",
    "# 2   A2   B2   K1   K0   C1   D1\n",
    "# 3   A2   B2   K1   K0   C2   D2\n",
    "# 4   A3   B3   K2   K1  NaN  NaN\n",
    "# 5  NaN  NaN   K2   K0   C3   D3"
   ],
   "metadata": {
    "collapsed": false,
    "pycharm": {
     "name": "#%%\n"
    }
   }
  },
  {
   "cell_type": "code",
   "execution_count": 53,
   "outputs": [
    {
     "name": "stdout",
     "output_type": "stream",
     "text": [
      "  key1 key2   A   B    C    D\n",
      "0   K0   K0  A0  B0   C0   D0\n",
      "1   K0   K1  A1  B1  NaN  NaN\n",
      "2   K1   K0  A2  B2   C1   D1\n",
      "3   K1   K0  A2  B2   C2   D2\n",
      "4   K2   K1  A3  B3  NaN  NaN\n"
     ]
    }
   ],
   "source": [
    "res = pd.merge(left, right, on=['key1', 'key2'], how='left')\n",
    "print(res)\n",
    "#    A   B key1 key2    C    D\n",
    "# 0  A0  B0   K0   K0   C0   D0\n",
    "# 1  A1  B1   K0   K1  NaN  NaN\n",
    "# 2  A2  B2   K1   K0   C1   D1\n",
    "# 3  A2  B2   K1   K0   C2   D2\n",
    "# 4  A3  B3   K2   K1  NaN  NaN"
   ],
   "metadata": {
    "collapsed": false,
    "pycharm": {
     "name": "#%%\n"
    }
   }
  },
  {
   "cell_type": "code",
   "execution_count": 54,
   "outputs": [
    {
     "name": "stdout",
     "output_type": "stream",
     "text": [
      "  key1 key2    A    B   C   D\n",
      "0   K0   K0   A0   B0  C0  D0\n",
      "1   K1   K0   A2   B2  C1  D1\n",
      "2   K1   K0   A2   B2  C2  D2\n",
      "3   K2   K0  NaN  NaN  C3  D3\n"
     ]
    }
   ],
   "source": [
    "res = pd.merge(left, right, on=['key1', 'key2'], how='right')\n",
    "print(res)\n",
    "#     A    B key1 key2   C   D\n",
    "# 0   A0   B0   K0   K0  C0  D0\n",
    "# 1   A2   B2   K1   K0  C1  D1\n",
    "# 2   A2   B2   K1   K0  C2  D2\n",
    "# 3  NaN  NaN   K2   K0  C3  D3"
   ],
   "metadata": {
    "collapsed": false,
    "pycharm": {
     "name": "#%%\n"
    }
   }
  },
  {
   "cell_type": "markdown",
   "source": [
    "## Indicator\n",
    "indicator=True会将合并的记录放在新的一列"
   ],
   "metadata": {
    "collapsed": false,
    "pycharm": {
     "name": "#%% md\n"
    }
   }
  },
  {
   "cell_type": "code",
   "execution_count": 55,
   "outputs": [
    {
     "name": "stdout",
     "output_type": "stream",
     "text": [
      "   col1 col_left\n",
      "0     0        a\n",
      "1     1        b\n"
     ]
    }
   ],
   "source": [
    "import pandas as pd\n",
    "\n",
    "#定义资料集并打印出\n",
    "df1 = pd.DataFrame({'col1':[0,1], 'col_left':['a','b']})\n",
    "df2 = pd.DataFrame({'col1':[1,2,2],'col_right':[2,2,2]})\n",
    "\n",
    "print(df1)\n",
    "#   col1 col_left\n",
    "# 0     0        a\n",
    "# 1     1        b"
   ],
   "metadata": {
    "collapsed": false,
    "pycharm": {
     "name": "#%%\n"
    }
   }
  },
  {
   "cell_type": "code",
   "execution_count": 56,
   "outputs": [
    {
     "name": "stdout",
     "output_type": "stream",
     "text": [
      "   col1  col_right\n",
      "0     1          2\n",
      "1     2          2\n",
      "2     2          2\n"
     ]
    }
   ],
   "source": [
    "print(df2)\n",
    "#   col1  col_right\n",
    "# 0     1          2\n",
    "# 1     2          2\n",
    "# 2     2          2"
   ],
   "metadata": {
    "collapsed": false,
    "pycharm": {
     "name": "#%%\n"
    }
   }
  },
  {
   "cell_type": "markdown",
   "source": [
    "#### 依据col1进行合并，并启用indicator=True，最后打印出"
   ],
   "metadata": {
    "collapsed": false,
    "pycharm": {
     "name": "#%% md\n"
    }
   }
  },
  {
   "cell_type": "code",
   "execution_count": 57,
   "outputs": [
    {
     "name": "stdout",
     "output_type": "stream",
     "text": [
      "   col1 col_left  col_right      _merge\n",
      "0     0        a        NaN   left_only\n",
      "1     1        b        2.0        both\n",
      "2     2      NaN        2.0  right_only\n",
      "3     2      NaN        2.0  right_only\n"
     ]
    }
   ],
   "source": [
    "res = pd.merge(df1, df2, on='col1', how='outer', indicator=True)\n",
    "print(res)\n",
    "#   col1 col_left  col_right      _merge\n",
    "# 0   0.0        a        NaN   left_only\n",
    "# 1   1.0        b        2.0        both\n",
    "# 2   2.0      NaN        2.0  right_only\n",
    "# 3   2.0      NaN        2.0  right_only"
   ],
   "metadata": {
    "collapsed": false,
    "pycharm": {
     "name": "#%%\n"
    }
   }
  },
  {
   "cell_type": "markdown",
   "source": [
    "#### 自定indicator column的名称，并打印出"
   ],
   "metadata": {
    "collapsed": false,
    "pycharm": {
     "name": "#%% md\n"
    }
   }
  },
  {
   "cell_type": "code",
   "execution_count": 58,
   "outputs": [
    {
     "name": "stdout",
     "output_type": "stream",
     "text": [
      "   col1 col_left  col_right indicator_column\n",
      "0     0        a        NaN        left_only\n",
      "1     1        b        2.0             both\n",
      "2     2      NaN        2.0       right_only\n",
      "3     2      NaN        2.0       right_only\n"
     ]
    }
   ],
   "source": [
    "res = pd.merge(df1, df2, on='col1', how='outer', indicator='indicator_column')\n",
    "print(res)\n",
    "#   col1 col_left  col_right indicator_column\n",
    "# 0   0.0        a        NaN        left_only\n",
    "# 1   1.0        b        2.0             both\n",
    "# 2   2.0      NaN        2.0       right_only\n",
    "# 3   2.0      NaN        2.0       right_only"
   ],
   "metadata": {
    "collapsed": false,
    "pycharm": {
     "name": "#%%\n"
    }
   }
  },
  {
   "cell_type": "markdown",
   "source": [
    "## 依据index合并"
   ],
   "metadata": {
    "collapsed": false,
    "pycharm": {
     "name": "#%% md\n"
    }
   }
  },
  {
   "cell_type": "code",
   "execution_count": 59,
   "outputs": [
    {
     "name": "stdout",
     "output_type": "stream",
     "text": [
      "     A   B\n",
      "K0  A0  B0\n",
      "K1  A1  B1\n",
      "K2  A2  B2\n",
      "     C   D\n",
      "K0  C0  D0\n",
      "K2  C2  D2\n",
      "K3  C3  D3\n"
     ]
    }
   ],
   "source": [
    "import pandas as pd\n",
    "\n",
    "#定义资料集并打印出\n",
    "left = pd.DataFrame({'A': ['A0', 'A1', 'A2'],\n",
    "                     'B': ['B0', 'B1', 'B2']},\n",
    "                     index=['K0', 'K1', 'K2'])\n",
    "right = pd.DataFrame({'C': ['C0', 'C2', 'C3'],\n",
    "                      'D': ['D0', 'D2', 'D3']},\n",
    "                     index=['K0', 'K2', 'K3'])\n",
    "\n",
    "print(left)\n",
    "#     A   B\n",
    "# K0  A0  B0\n",
    "# K1  A1  B1\n",
    "# K2  A2  B2\n",
    "\n",
    "print(right)\n",
    "#     C   D\n",
    "# K0  C0  D0\n",
    "# K2  C2  D2\n",
    "# K3  C3  D3"
   ],
   "metadata": {
    "collapsed": false,
    "pycharm": {
     "name": "#%%\n"
    }
   }
  },
  {
   "cell_type": "markdown",
   "source": [
    "#### 依据左右资料集的index进行合并，how='outer',并打印出\n",
    "res = pd.merge(left, right, left_index=True, right_index=True, how='outer')\n",
    "print(res)"
   ],
   "metadata": {
    "collapsed": false,
    "pycharm": {
     "name": "#%% md\n"
    }
   }
  },
  {
   "cell_type": "code",
   "execution_count": 60,
   "outputs": [],
   "source": [
    "#      A    B    C    D\n",
    "# K0   A0   B0   C0   D0\n",
    "# K1   A1   B1  NaN  NaN\n",
    "# K2   A2   B2   C2   D2\n",
    "# K3  NaN  NaN   C3   D3"
   ],
   "metadata": {
    "collapsed": false,
    "pycharm": {
     "name": "#%%\n"
    }
   }
  },
  {
   "cell_type": "markdown",
   "source": [
    "#### 依据左右资料集的index进行合并，how='inner',并打印出"
   ],
   "metadata": {
    "collapsed": false,
    "pycharm": {
     "name": "#%% md\n"
    }
   }
  },
  {
   "cell_type": "code",
   "execution_count": 61,
   "outputs": [
    {
     "name": "stdout",
     "output_type": "stream",
     "text": [
      "     A   B   C   D\n",
      "K0  A0  B0  C0  D0\n",
      "K2  A2  B2  C2  D2\n"
     ]
    }
   ],
   "source": [
    "res = pd.merge(left, right, left_index=True, right_index=True, how='inner')\n",
    "print(res)\n",
    "#     A   B   C   D\n",
    "# K0  A0  B0  C0  D0\n",
    "# K2  A2  B2  C2  D2"
   ],
   "metadata": {
    "collapsed": false,
    "pycharm": {
     "name": "#%%\n"
    }
   }
  },
  {
   "cell_type": "markdown",
   "source": [
    "## 解决overlapping的问题"
   ],
   "metadata": {
    "collapsed": false,
    "pycharm": {
     "name": "#%% md\n"
    }
   }
  },
  {
   "cell_type": "code",
   "execution_count": 62,
   "outputs": [],
   "source": [
    "import pandas as pd"
   ],
   "metadata": {
    "collapsed": false,
    "pycharm": {
     "name": "#%%\n"
    }
   }
  },
  {
   "cell_type": "markdown",
   "source": [
    "#### 定义资料集"
   ],
   "metadata": {
    "collapsed": false,
    "pycharm": {
     "name": "#%% md\n"
    }
   }
  },
  {
   "cell_type": "code",
   "execution_count": 63,
   "outputs": [],
   "source": [
    "boys = pd.DataFrame({'k': ['K0', 'K1', 'K2'], 'age': [1, 2, 3]})\n",
    "girls = pd.DataFrame({'k': ['K0', 'K0', 'K3'], 'age': [4, 5, 6]})"
   ],
   "metadata": {
    "collapsed": false,
    "pycharm": {
     "name": "#%%\n"
    }
   }
  },
  {
   "cell_type": "markdown",
   "source": [
    "#### 使用suffixes解决overlapping的问题"
   ],
   "metadata": {
    "collapsed": false,
    "pycharm": {
     "name": "#%% md\n"
    }
   }
  },
  {
   "cell_type": "code",
   "execution_count": 64,
   "outputs": [
    {
     "name": "stdout",
     "output_type": "stream",
     "text": [
      "    k  age_boy  age_girl\n",
      "0  K0        1         4\n",
      "1  K0        1         5\n"
     ]
    }
   ],
   "source": [
    "res = pd.merge(boys, girls, on='k', suffixes=['_boy', '_girl'], how='inner')\n",
    "print(res)\n",
    "#    age_boy   k  age_girl\n",
    "# 0        1  K0         4\n",
    "# 1        1  K0         5"
   ],
   "metadata": {
    "collapsed": false,
    "pycharm": {
     "name": "#%%\n"
    }
   }
  },
  {
   "cell_type": "markdown",
   "source": [
    "# Pandas plot 出图"
   ],
   "metadata": {
    "collapsed": false,
    "pycharm": {
     "name": "#%% md\n"
    }
   }
  },
  {
   "cell_type": "code",
   "execution_count": 65,
   "outputs": [],
   "source": [
    "import pandas as pd\n",
    "import numpy as np\n",
    "import matplotlib.pyplot as plt"
   ],
   "metadata": {
    "collapsed": false,
    "pycharm": {
     "name": "#%%\n"
    }
   }
  },
  {
   "cell_type": "markdown",
   "source": [
    "## 创建一个Series"
   ],
   "metadata": {
    "collapsed": false,
    "pycharm": {
     "name": "#%% md\n"
    }
   }
  },
  {
   "cell_type": "code",
   "execution_count": 66,
   "outputs": [
    {
     "name": "stdout",
     "output_type": "stream",
     "text": [
      "0     -0.790753\n",
      "1     -0.463358\n",
      "2      0.254506\n",
      "3      0.194354\n",
      "4     -0.663941\n",
      "         ...   \n",
      "995    1.039735\n",
      "996    0.009297\n",
      "997    0.097212\n",
      "998    0.280388\n",
      "999    0.075202\n",
      "Length: 1000, dtype: float64\n"
     ]
    }
   ],
   "source": [
    "# 随机生成1000个数据\n",
    "data = pd.Series(np.random.randn(1000),index=np.arange(1000))\n",
    "print(data)"
   ],
   "metadata": {
    "collapsed": false,
    "pycharm": {
     "name": "#%%\n"
    }
   }
  },
  {
   "cell_type": "code",
   "execution_count": 67,
   "outputs": [],
   "source": [
    "#np.arange(1000)"
   ],
   "metadata": {
    "collapsed": false,
    "pycharm": {
     "name": "#%%\n"
    }
   }
  },
  {
   "cell_type": "code",
   "execution_count": 68,
   "outputs": [],
   "source": [
    "#np.random.randn(1000)"
   ],
   "metadata": {
    "collapsed": false,
    "pycharm": {
     "name": "#%%\n"
    }
   }
  },
  {
   "cell_type": "code",
   "execution_count": 69,
   "outputs": [
    {
     "data": {
      "text/plain": "0      -0.790753\n1      -1.254111\n2      -0.999605\n3      -0.805251\n4      -1.469192\n         ...    \n995   -46.505390\n996   -46.496092\n997   -46.398881\n998   -46.118493\n999   -46.043291\nLength: 1000, dtype: float64"
     },
     "execution_count": 69,
     "metadata": {},
     "output_type": "execute_result"
    }
   ],
   "source": [
    "# 为了方便观看效果, 我们累加这个数据\n",
    "data.cumsum()"
   ],
   "metadata": {
    "collapsed": false,
    "pycharm": {
     "name": "#%%\n"
    }
   }
  },
  {
   "cell_type": "code",
   "execution_count": 70,
   "outputs": [
    {
     "data": {
      "text/plain": "<Figure size 432x288 with 1 Axes>",
      "image/png": "[encoded data removed]"
     },
     "metadata": {
      "needs_background": "light"
     },
     "output_type": "display_data"
    }
   ],
   "source": [
    "# pandas 数据可以直接观看其可视化形式\n",
    "data.cumsum().plot()\n",
    "plt.show()"
   ],
   "metadata": {
    "collapsed": false,
    "pycharm": {
     "name": "#%%\n"
    }
   }
  },
  {
   "cell_type": "markdown",
   "source": [
    "## Dataframe 可视化"
   ],
   "metadata": {
    "collapsed": false,
    "pycharm": {
     "name": "#%% md\n"
    }
   }
  },
  {
   "cell_type": "code",
   "execution_count": 71,
   "outputs": [
    {
     "name": "stdout",
     "output_type": "stream",
     "text": [
      "            A         B         C         D\n",
      "0    0.847451 -0.806818 -0.748743  1.185564\n",
      "1   -1.807194 -0.086723  0.177159  1.598554\n",
      "2    0.117879  0.483783 -0.435493  0.600555\n",
      "3    0.017364 -1.278001 -0.479248 -0.239155\n",
      "4   -0.187846 -0.902414  1.077424 -1.023775\n",
      "..        ...       ...       ...       ...\n",
      "995 -0.934464  1.181573 -0.122922 -0.440729\n",
      "996  1.381103  0.635042  0.215550  1.203127\n",
      "997 -0.583027  0.294866  1.194688  0.055035\n",
      "998  1.069465 -1.208930 -1.239508 -2.205784\n",
      "999  0.103627 -0.133070  0.303615  1.204920\n",
      "\n",
      "[1000 rows x 4 columns]\n"
     ]
    }
   ],
   "source": [
    "data = pd.DataFrame(\n",
    "    np.random.randn(1000,4),\n",
    "    index=np.arange(1000),\n",
    "    columns=list(\"ABCD\")\n",
    "    )\n",
    "print(data)"
   ],
   "metadata": {
    "collapsed": false,
    "pycharm": {
     "name": "#%%\n"
    }
   }
  },
  {
   "cell_type": "code",
   "execution_count": 72,
   "outputs": [
    {
     "data": {
      "text/plain": "<Figure size 432x288 with 1 Axes>",
      "image/png": "[encoded data removed]"
     },
     "metadata": {
      "needs_background": "light"
     },
     "output_type": "display_data"
    }
   ],
   "source": [
    "data.cumsum()\n",
    "data.cumsum().plot()\n",
    "plt.show()"
   ],
   "metadata": {
    "collapsed": false,
    "pycharm": {
     "name": "#%%\n"
    }
   }
  },
  {
   "cell_type": "markdown",
   "source": [
    "#### 分别给x, y指定数据"
   ],
   "metadata": {
    "collapsed": false,
    "pycharm": {
     "name": "#%% md\n"
    }
   }
  },
  {
   "cell_type": "code",
   "execution_count": 73,
   "outputs": [
    {
     "data": {
      "text/plain": "<Figure size 432x288 with 1 Axes>",
      "image/png": "[encoded data removed]"
     },
     "metadata": {
      "needs_background": "light"
     },
     "output_type": "display_data"
    }
   ],
   "source": [
    "ax = data.cumsum().plot.scatter(x='A',y='B',color='DarkBlue',label='Class1')\n",
    "#将之下这个 data 画在上一个 ax 上面\n",
    "data.cumsum().plot.scatter(x='A',y='C',color='LightGreen',label='Class2',ax=ax)\n",
    "plt.show()"
   ],
   "metadata": {
    "collapsed": false,
    "pycharm": {
     "name": "#%%\n"
    }
   }
  },
  {
   "cell_type": "markdown",
   "source": [
    "# 为什么用 Numpy 还是慢, 你用对了吗?\n",
    "## 为什么用 Numpy?\n",
    "## 创建 Numpy Array 的结构\n",
    "## 在 Axis 上的动作"
   ],
   "metadata": {
    "collapsed": false,
    "pycharm": {
     "name": "#%% md\n"
    }
   }
  },
  {
   "cell_type": "code",
   "source": [
    "import time\n",
    "import pandas as pd\n",
    "import numpy as np\n",
    "import matplotlib.pyplot as plt\n",
    "\n",
    "a = np.zeros((200, 200), order='C')\n",
    "b = np.zeros((200, 200), order='F')\n",
    "N = 9999\n",
    "\n",
    "def f1(a):\n",
    "    for _ in range(N):\n",
    "        np.concatenate((a, a), axis=0)\n",
    "def f2(b):\n",
    "    for _ in range(N):\n",
    "        np.concatenate((b, b), axis=0)\n",
    "\n",
    "t0 = time.time()\n",
    "f1(a)\n",
    "t1 = time.time()\n",
    "f2(b)\n",
    "t2 = time.time()\n",
    "\n",
    "print((t1-t0)/N)     # 0.000040\n",
    "print((t2-t1)/N)     # 0.000070"
   ],
   "metadata": {
    "collapsed": false,
    "pycharm": {
     "name": "#%%\n"
    }
   },
   "execution_count": 74,
   "outputs": [
    {
     "name": "stdout",
     "output_type": "stream",
     "text": [
      "2.143575926043532e-05\n",
      "3.077466674584939e-05\n"
     ]
    }
   ]
  },
  {
   "cell_type": "markdown",
   "source": [
    "np.vstack((a,a))\n",
    "np.concatenate((a,a), axis=0)"
   ],
   "metadata": {
    "collapsed": false,
    "pycharm": {
     "name": "#%% md\n"
    }
   }
  },
  {
   "cell_type": "code",
   "execution_count": 75,
   "outputs": [
    {
     "name": "stdout",
     "output_type": "stream",
     "text": [
      "2.8025616358632935e-05\n",
      "2.1778162580357157e-05\n"
     ]
    }
   ],
   "source": [
    "a = np.zeros((200, 200), order='C')\n",
    "N = 9999\n",
    "\n",
    "def f1(a):\n",
    "    for _ in range(N):\n",
    "        np.vstack((a,a))\n",
    "\n",
    "def f2(b):\n",
    "    for _ in range(N):\n",
    "        np.concatenate((a, a), axis=0)\n",
    "\n",
    "t0 = time.time()\n",
    "f1(a)\n",
    "t1 = time.time()\n",
    "f2(b)\n",
    "t2 = time.time()\n",
    "\n",
    "print((t1-t0)/N)\n",
    "print((t2-t1)/N)\n"
   ],
   "metadata": {
    "collapsed": false,
    "pycharm": {
     "name": "#%%\n"
    }
   }
  },
  {
   "cell_type": "code",
   "execution_count": 76,
   "outputs": [
    {
     "data": {
      "text/plain": "array([[0., 0., 0., ..., 0., 0., 0.],\n       [0., 0., 0., ..., 0., 0., 0.],\n       [0., 0., 0., ..., 0., 0., 0.],\n       ...,\n       [0., 0., 0., ..., 0., 0., 0.],\n       [0., 0., 0., ..., 0., 0., 0.],\n       [0., 0., 0., ..., 0., 0., 0.]])"
     },
     "execution_count": 76,
     "metadata": {},
     "output_type": "execute_result"
    }
   ],
   "source": [
    "indices = np.random.randint(0, 100, size=10, dtype=np.int32)\n",
    "a[indices, :]     # 0.000003\n",
    "a[:, indices]     # 0.000006\n"
   ],
   "metadata": {
    "collapsed": false,
    "pycharm": {
     "name": "#%%\n"
    }
   }
  },
  {
   "cell_type": "markdown",
   "source": [
    "## copy慢 view快"
   ],
   "metadata": {
    "collapsed": false,
    "pycharm": {
     "name": "#%% md\n"
    }
   }
  },
  {
   "cell_type": "code",
   "execution_count": 77,
   "outputs": [
    {
     "name": "stdout",
     "output_type": "stream",
     "text": [
      "[[1 2]\n",
      " [3 4]\n",
      " [5 6]]\n",
      "[[1 2]\n",
      " [3 0]\n",
      " [5 6]]\n"
     ]
    }
   ],
   "source": [
    "a = np.arange(1, 7).reshape((3,2))\n",
    "a_view = a[:2]\n",
    "a_copy = a[:2].copy()\n",
    "\n",
    "a_copy[1,1] = 0\n",
    "print(a)\n",
    "a_view[1,1] = 0\n",
    "print(a)\n",
    "\n"
   ],
   "metadata": {
    "collapsed": false,
    "pycharm": {
     "name": "#%%\n"
    }
   }
  },
  {
   "cell_type": "markdown",
   "source": [
    "#### 测速 copy与view"
   ],
   "metadata": {
    "collapsed": false,
    "pycharm": {
     "name": "#%% md\n"
    }
   }
  },
  {
   "cell_type": "code",
   "execution_count": 78,
   "outputs": [
    {
     "name": "stdout",
     "output_type": "stream",
     "text": [
      "0.000333\n",
      "0.003851\n"
     ]
    }
   ],
   "source": [
    "a = np.zeros((1000, 1000))\n",
    "b = np.zeros((1000, 1000))\n",
    "N = 99\n",
    "\n",
    "def f1(a):\n",
    "    for _ in range(N):\n",
    "        a *= 2           # same as a[:] *= 2\n",
    "\n",
    "def f2(b):\n",
    "    for _ in range(N):\n",
    "        b = 2*b\n",
    "t0 = time.time()\n",
    "f1(a)\n",
    "t1 = time.time()\n",
    "f2(b)\n",
    "t2 = time.time()\n",
    "print('%f' % ((t1-t0)/N))     # f1: 0.000837\n",
    "print('%f' % ((t2-t1)/N))     # f2: 0.001346"
   ],
   "metadata": {
    "collapsed": false,
    "pycharm": {
     "name": "#%%\n"
    }
   }
  },
  {
   "cell_type": "markdown",
   "source": [
    "####  相比于 flatten, ravel 是神速"
   ],
   "metadata": {
    "collapsed": false,
    "pycharm": {
     "name": "#%% md\n"
    }
   }
  },
  {
   "cell_type": "code",
   "execution_count": 79,
   "outputs": [
    {
     "name": "stdout",
     "output_type": "stream",
     "text": [
      "0.003707\n",
      "0.000000\n"
     ]
    }
   ],
   "source": [
    "def f1(a):\n",
    "    for _ in range(N):\n",
    "        a.flatten()\n",
    "\n",
    "def f2(b):\n",
    "    for _ in range(N):\n",
    "        b.ravel()\n",
    "t0 = time.time()\n",
    "f1(a)\n",
    "t1 = time.time()\n",
    "f2(b)\n",
    "t2 = time.time()\n",
    "print('%f' % ((t1-t0)/N))    # 0.001059\n",
    "print('%f' % ((t2-t1)/N))    # 0.000000"
   ],
   "metadata": {
    "collapsed": false,
    "pycharm": {
     "name": "#%%\n"
    }
   }
  },
  {
   "cell_type": "markdown",
   "source": [
    "## 选择数据"
   ],
   "metadata": {
    "collapsed": false,
    "pycharm": {
     "name": "#%% md\n"
    }
   }
  },
  {
   "cell_type": "code",
   "execution_count": 80,
   "outputs": [],
   "source": [
    "a_view1 = a[1:2, 3:6]    # 切片 slice\n",
    "a_view2 = a[:100]        # 同上\n",
    "a_view3 = a[::2]         # 跳步\n",
    "a_view4 = a.ravel()      # 上面提到了"
   ],
   "metadata": {
    "collapsed": false,
    "pycharm": {
     "name": "#%%\n"
    }
   }
  },
  {
   "cell_type": "raw",
   "source": [
    "\n",
    "a_copy1 = a[[1,4,6], [2,4,6]]   # 用 index 选\n",
    "a_copy2 = a[[True, True], [False, True]]  # 用 mask\n",
    "a_copy3 = a[[1,2], :]        # 虽然 1,2 的确连在一起了, 但是他们确实是 copy\n",
    "a_copy4 = a[a[1,:] != 0, :]  # fancy indexing\n",
    "a_copy5 = a[np.isnan(a), :]  # fancy indexing\n"
   ],
   "metadata": {
    "collapsed": false,
    "pycharm": {
     "name": "#%% raw\n"
    }
   }
  },
  {
   "cell_type": "markdown",
   "source": [
    "#### 1.使用 np.take(), 替代用 index 选数据的方法."
   ],
   "metadata": {
    "collapsed": false,
    "pycharm": {
     "name": "#%% md\n"
    }
   }
  },
  {
   "cell_type": "code",
   "execution_count": 81,
   "outputs": [
    {
     "name": "stdout",
     "output_type": "stream",
     "text": [
      "0.000010\n",
      "0.000010\n"
     ]
    }
   ],
   "source": [
    "a = np.random.rand(100, 10)\n",
    "N = 99\n",
    "indices = np.random.randint(0, 100, size=1)\n",
    "\n",
    "def f1(a):\n",
    "    for _ in range(N):\n",
    "        _ = np.take(a, indices, axis=0)\n",
    "\n",
    "def f2(b):\n",
    "    for _ in range(N):\n",
    "        _ = b[indices]\n",
    "t0 = time.time()\n",
    "f1(a)\n",
    "t1 = time.time()\n",
    "f2(b)\n",
    "t2 = time.time()\n",
    "print('%f' % ((t1-t0)/N))    # 0.000393\n",
    "print('%f' % ((t2-t1)/N))    # 0.000569"
   ],
   "metadata": {
    "collapsed": false,
    "pycharm": {
     "name": "#%%\n"
    }
   }
  },
  {
   "cell_type": "markdown",
   "source": [
    "#### 2.使用 np.compress(), 替代用 mask 选数据的方法."
   ],
   "metadata": {
    "collapsed": false,
    "pycharm": {
     "name": "#%% md\n"
    }
   }
  },
  {
   "cell_type": "raw",
   "source": [
    "\n",
    "mask = a[:, 0] < 0.5\n",
    "def f1(a):\n",
    "    for _ in range(N):\n",
    "        _ = np.compress(mask, a, axis=0)\n",
    "\n",
    "def f2(b):\n",
    "    for _ in range(N):\n",
    "        _ = b[mask]\n",
    "t0 = time.time()\n",
    "f1(a)\n",
    "t1 = time.time()\n",
    "f2(b)\n",
    "t2 = time.time()\n",
    "print('%f' % ((t1-t0)/N))    # 0.028109\n",
    "print('%f' % ((t2-t1)/N))    # 0.031013\n",
    "\n"
   ],
   "metadata": {
    "collapsed": false,
    "pycharm": {
     "name": "#%% raw\n"
    }
   }
  },
  {
   "cell_type": "markdown",
   "source": [
    "## 非常有用的 out 参数"
   ],
   "metadata": {
    "collapsed": false,
    "pycharm": {
     "name": "#%% md\n"
    }
   }
  },
  {
   "cell_type": "code",
   "execution_count": 82,
   "outputs": [
    {
     "data": {
      "text/plain": "array([[4.63370028, 4.78045598, 4.87752656, 4.11812759, 4.91282839,\n        4.46451183, 4.60891447, 4.53353798, 4.36552393, 4.27895127],\n       [4.55836133, 4.73441811, 4.89590615, 4.05814334, 4.91111149,\n        4.10497049, 4.68305308, 4.04574433, 4.43057134, 4.46034427],\n       [4.40533394, 4.52770868, 4.18556421, 4.12201059, 4.8733649 ,\n        4.94723647, 4.74992499, 4.05274142, 4.25597573, 4.17095631],\n       [4.36057916, 4.58131394, 4.84381272, 4.4322213 , 4.50467969,\n        4.24998912, 4.06787579, 4.63169731, 4.38955071, 4.03052024],\n       [4.19838534, 4.22595382, 4.7603479 , 4.69165098, 4.59870922,\n        4.58794738, 4.20262507, 4.27115438, 4.89663609, 4.51028433],\n       [4.09606967, 4.00677165, 4.53296707, 4.84244038, 4.10503692,\n        4.81495709, 4.47988405, 4.59893255, 4.64796527, 4.71587227],\n       [4.38751691, 4.29470396, 4.57383349, 4.36033437, 4.82282015,\n        4.8331328 , 4.23122946, 4.4251752 , 4.95686127, 4.29297798],\n       [4.73191054, 4.28560762, 4.61073899, 4.02222775, 4.49800775,\n        4.35871837, 4.52300852, 4.46840797, 4.5352249 , 4.68854062],\n       [4.36392999, 4.58516123, 4.74157457, 4.09355826, 4.50541531,\n        4.47766408, 4.61787532, 4.00409873, 4.87891825, 4.16114823],\n       [4.74720326, 4.7064148 , 4.76707984, 4.58118266, 4.9559675 ,\n        4.38225519, 4.96571234, 4.29467193, 4.69173171, 4.35688777],\n       [4.30590609, 4.2732447 , 4.2349379 , 4.66270727, 4.62639611,\n        4.75372432, 4.10463083, 4.6618488 , 4.96080167, 4.67307669],\n       [4.1532141 , 4.11308949, 4.34065372, 4.52657861, 4.41176185,\n        4.4860541 , 4.81907069, 4.62079393, 4.45408367, 4.56863135],\n       [4.04178264, 4.2087145 , 4.09019637, 4.03768404, 4.79798602,\n        4.07653653, 4.41632192, 4.75291322, 4.50453621, 4.32815356],\n       [4.00618831, 4.79875582, 4.52194908, 4.93182024, 4.33068129,\n        4.62113182, 4.81120825, 4.10354615, 4.7894048 , 4.93828123],\n       [4.16617286, 4.14622688, 4.37192715, 4.42690388, 4.49803682,\n        4.95710985, 4.04070669, 4.83250192, 4.72253015, 4.42002922],\n       [4.89211429, 4.09374287, 4.34210721, 4.8694928 , 4.6699914 ,\n        4.40850006, 4.68239213, 4.25516538, 4.94196753, 4.3960026 ],\n       [4.59947397, 4.22605733, 4.51059213, 4.4317258 , 4.6202265 ,\n        4.35492749, 4.69931905, 4.09772757, 4.44335292, 4.64328411],\n       [4.81790465, 4.88293165, 4.95103319, 4.44695887, 4.19042355,\n        4.51633815, 4.32508842, 4.97420045, 4.32095952, 4.13089611],\n       [4.11191161, 4.58145368, 4.51031082, 4.23195308, 4.50778633,\n        4.86004076, 4.58404026, 4.51052581, 4.90045748, 4.28461337],\n       [4.3154181 , 4.43408145, 4.52891507, 4.61275401, 4.26962098,\n        4.49607798, 4.73257237, 4.2350975 , 4.53367268, 4.20826033],\n       [4.81361247, 4.76191224, 4.29090392, 4.50718774, 4.52615105,\n        4.70843858, 4.52346209, 4.49490494, 4.35246433, 4.03703125],\n       [4.83901578, 4.08965026, 4.03688401, 4.17169176, 4.04713077,\n        4.09869464, 4.77687334, 4.77700573, 4.42455702, 4.57722859],\n       [4.99610695, 4.03631652, 4.99706939, 4.59726181, 4.15366524,\n        4.37152561, 4.23760191, 4.8404103 , 4.37821057, 4.35405565],\n       [4.48341131, 4.68513057, 4.89773183, 4.27990488, 4.99229745,\n        4.83129217, 4.82700517, 4.74594568, 4.4272581 , 4.17627749],\n       [4.87358007, 4.24139063, 4.32426292, 4.6734685 , 4.80619717,\n        4.40541511, 4.64714715, 4.63717385, 4.63845237, 4.12883669],\n       [4.44124452, 4.52453198, 4.93392049, 4.15751855, 4.71609455,\n        4.38411146, 4.77415195, 4.28458967, 4.29804485, 4.03459028],\n       [4.5098218 , 4.41750828, 4.30573453, 4.8113003 , 4.89843141,\n        4.90600813, 4.04949311, 4.5729301 , 4.8828931 , 4.88964021],\n       [4.60409251, 4.38425517, 4.44742515, 4.32112575, 4.53386418,\n        4.17155579, 4.16896332, 4.76897615, 4.43295778, 4.70448891],\n       [4.72989658, 4.5254884 , 4.09319662, 4.05690232, 4.81085183,\n        4.70080241, 4.23452095, 4.07879099, 4.78853367, 4.97652153],\n       [4.72155674, 4.95856299, 4.37654802, 4.46960472, 4.11239224,\n        4.41721621, 4.42534062, 4.15178423, 4.78983367, 4.09203499],\n       [4.63020793, 4.03319415, 4.98220354, 4.35706356, 4.25156259,\n        4.34403168, 4.47482768, 4.43150573, 4.35762006, 4.66601068],\n       [4.75876438, 4.4419345 , 4.99799452, 4.94456744, 4.53855914,\n        4.08022274, 4.36061779, 4.49415334, 4.23379446, 4.14772969],\n       [4.5809125 , 4.86526236, 4.16579902, 4.21348243, 4.71126968,\n        4.37452397, 4.31866575, 4.12408875, 4.73802052, 4.77958676],\n       [4.2862599 , 4.40019581, 4.13105129, 4.60184263, 4.03723841,\n        4.72833686, 4.3431132 , 4.4534796 , 4.55908508, 4.69368751],\n       [4.88427118, 4.13052333, 4.59503701, 4.47789718, 4.96041471,\n        4.16531438, 4.1729082 , 4.06312881, 4.25678864, 4.82063245],\n       [4.41476546, 4.58621168, 4.58172305, 4.70250449, 4.59717696,\n        4.63776269, 4.10579468, 4.89115091, 4.32497467, 4.0469964 ],\n       [4.94847672, 4.58265696, 4.38485849, 4.20357465, 4.40430883,\n        4.82911252, 4.38878095, 4.59097155, 4.71575453, 4.80954522],\n       [4.54491644, 4.47177806, 4.26766012, 4.61132368, 4.31317724,\n        4.9532068 , 4.95789829, 4.69554034, 4.39392436, 4.83658839],\n       [4.30153929, 4.94049549, 4.65326121, 4.15500886, 4.8941891 ,\n        4.06472587, 4.73184113, 4.94602303, 4.7410882 , 4.90685146],\n       [4.33432386, 4.95678915, 4.68091166, 4.64645018, 4.13468844,\n        4.06000045, 4.94027689, 4.72209754, 4.94038686, 4.82127959],\n       [4.49446243, 4.92852162, 4.94109757, 4.8522953 , 4.7310701 ,\n        4.33793224, 4.04966332, 4.40448016, 4.4061345 , 4.8078689 ],\n       [4.90150174, 4.09508725, 4.38833212, 4.01183343, 4.53036003,\n        4.87864235, 4.05321899, 4.99791217, 4.16169626, 4.72454978],\n       [4.11116459, 4.5724274 , 4.63383678, 4.26893187, 4.21561283,\n        4.32828534, 4.9843651 , 4.65672298, 4.77073445, 4.35809862],\n       [4.72158781, 4.50831099, 4.43684806, 4.98260667, 4.15495755,\n        4.05939632, 4.39324665, 4.6975562 , 4.31661657, 4.30256222],\n       [4.94988178, 4.43485143, 4.58406617, 4.09404754, 4.94406634,\n        4.33108736, 4.88542392, 4.36909804, 4.87064395, 4.97077679],\n       [4.01099439, 4.89974191, 4.33761074, 4.26072943, 4.95512049,\n        4.85438041, 4.27660898, 4.20328718, 4.93027609, 4.47809989],\n       [4.31229951, 4.17986591, 4.05094157, 4.07642471, 4.67688226,\n        4.27422417, 4.44941012, 4.67522866, 4.2706781 , 4.45559715],\n       [4.5923896 , 4.51978578, 4.32664291, 4.14232223, 4.63101107,\n        4.43401677, 4.09167725, 4.33015265, 4.30188742, 4.63659655],\n       [4.5906062 , 4.00142399, 4.89156485, 4.57111979, 4.18531073,\n        4.14900493, 4.32612597, 4.49492526, 4.51786173, 4.80159856],\n       [4.70224166, 4.02468596, 4.79648022, 4.23612709, 4.13050279,\n        4.72722913, 4.64736015, 4.8126427 , 4.2532693 , 4.32037252],\n       [4.59446582, 4.61337228, 4.66043277, 4.58416357, 4.06920979,\n        4.81301603, 4.90115065, 4.30672459, 4.22641562, 4.40142741],\n       [4.80110134, 4.935374  , 4.09684696, 4.65665394, 4.7008807 ,\n        4.56718136, 4.84774801, 4.67605944, 4.63760548, 4.20232469],\n       [4.9139497 , 4.29445674, 4.99307858, 4.42547656, 4.37906208,\n        4.27927805, 4.73499849, 4.4214668 , 4.77338477, 4.63584955],\n       [4.2822453 , 4.60837046, 4.78607285, 4.34086843, 4.08307459,\n        4.56757275, 4.38358469, 4.04485834, 4.26737055, 4.49871134],\n       [4.31043119, 4.89113704, 4.43304262, 4.81727201, 4.63676356,\n        4.51234642, 4.08232338, 4.8770101 , 4.29439631, 4.43027952],\n       [4.21941615, 4.10160459, 4.11565368, 4.17292318, 4.73477675,\n        4.05236318, 4.39471157, 4.1485686 , 4.27086144, 4.47127337],\n       [4.47225207, 4.02043935, 4.49783493, 4.55115785, 4.78352046,\n        4.66375589, 4.1135703 , 4.78127482, 4.88057556, 4.18878868],\n       [4.52753102, 4.68082991, 4.03411378, 4.95232722, 4.54873285,\n        4.28343076, 4.03769904, 4.21804969, 4.81008039, 4.85273555],\n       [4.12129762, 4.00909648, 4.06968297, 4.3004819 , 4.6715305 ,\n        4.74018473, 4.46005673, 4.51718669, 4.48447315, 4.90650289],\n       [4.75674676, 4.84555598, 4.63350339, 4.74766878, 4.11071576,\n        4.43380069, 4.36313804, 4.31854717, 4.10161607, 4.28456336],\n       [4.51725436, 4.76889631, 4.54473466, 4.45504066, 4.31802232,\n        4.46874172, 4.4491586 , 4.58787925, 4.46972816, 4.09188924],\n       [4.12801725, 4.86217749, 4.26603486, 4.89716289, 4.77845224,\n        4.87800047, 4.66086257, 4.18512278, 4.21839905, 4.73884403],\n       [4.71479716, 4.50222243, 4.40504624, 4.78590614, 4.05662778,\n        4.37814186, 4.4801587 , 4.49432872, 4.76798368, 4.08407729],\n       [4.98616735, 4.10986656, 4.41632831, 4.44063189, 4.47222722,\n        4.0466678 , 4.2794237 , 4.04255841, 4.10188109, 4.54598888],\n       [4.9556661 , 4.34118123, 4.09831804, 4.2891653 , 4.66822466,\n        4.76384924, 4.89806465, 4.16210782, 4.75328475, 4.07078941],\n       [4.52813419, 4.90373462, 4.96424261, 4.00216439, 4.02943006,\n        4.42361767, 4.57191817, 4.43960387, 4.98148704, 4.19246044],\n       [4.81087377, 4.31386438, 4.35397025, 4.62257351, 4.02687661,\n        4.30261333, 4.14403842, 4.85285949, 4.84007262, 4.01458628],\n       [4.32031873, 4.71229146, 4.40140977, 4.56908692, 4.21849555,\n        4.51702017, 4.49318519, 4.81538962, 4.80233264, 4.58034857],\n       [4.79792402, 4.12977804, 4.00584825, 4.34885079, 4.56400505,\n        4.21026298, 4.59024153, 4.32226712, 4.78721026, 4.18859298],\n       [4.11507464, 4.07931362, 4.39384445, 4.56393671, 4.89761931,\n        4.6559533 , 4.72889136, 4.59438767, 4.57305696, 4.90134067],\n       [4.43213822, 4.10297503, 4.46932153, 4.74375033, 4.74018242,\n        4.66493113, 4.69384738, 4.45240394, 4.60136279, 4.86348045],\n       [4.94558856, 4.55176584, 4.67294785, 4.08371454, 4.32847699,\n        4.18474434, 4.1799801 , 4.48739881, 4.77788066, 4.08362917],\n       [4.32676221, 4.6661662 , 4.0662411 , 4.98297133, 4.125128  ,\n        4.71777768, 4.13315953, 4.53356059, 4.58144632, 4.64476855],\n       [4.24188473, 4.0922919 , 4.50419877, 4.9678706 , 4.29205323,\n        4.52603774, 4.77410121, 4.68782018, 4.24527072, 4.94322566],\n       [4.96350401, 4.79594862, 4.34642869, 4.2314667 , 4.21991068,\n        4.73306387, 4.35577687, 4.31517974, 4.59874401, 4.07254582],\n       [4.40219476, 4.68871082, 4.86007105, 4.03147312, 4.94229239,\n        4.86144005, 4.4393326 , 4.11202724, 4.04881291, 4.95618498],\n       [4.55270489, 4.64217007, 4.61050021, 4.66391719, 4.75910007,\n        4.09878264, 4.72850118, 4.96814854, 4.51702569, 4.91627482],\n       [4.41520555, 4.51344459, 4.29550325, 4.12907427, 4.05305382,\n        4.65144262, 4.5485069 , 4.77152491, 4.18047456, 4.4050852 ],\n       [4.56573384, 4.65174453, 4.23764264, 4.82150571, 4.56539285,\n        4.73005793, 4.67807941, 4.59668683, 4.37178641, 4.63519854],\n       [4.19540651, 4.28779221, 4.14806542, 4.20225804, 4.25354385,\n        4.10170262, 4.03705015, 4.47223833, 4.47221923, 4.68648138],\n       [4.18984645, 4.02303534, 4.19244335, 4.60813648, 4.78062346,\n        4.30589971, 4.13871786, 4.9520898 , 4.84018283, 4.11141385],\n       [4.60360581, 4.27643205, 4.56809535, 4.07866301, 4.05620327,\n        4.39968586, 4.99651048, 4.36823519, 4.62597117, 4.90647804],\n       [4.111687  , 4.00686478, 4.69727828, 4.07929805, 4.02506562,\n        4.36046887, 4.94875861, 4.02551355, 4.14862236, 4.76339372],\n       [4.19388205, 4.0370429 , 4.10257849, 4.38947544, 4.57605744,\n        4.64645338, 4.38519239, 4.8125068 , 4.88776995, 4.0517889 ],\n       [4.81500255, 4.868866  , 4.3829812 , 4.43540955, 4.37225958,\n        4.93422364, 4.97568737, 4.4601464 , 4.26541595, 4.81941572],\n       [4.30602388, 4.54942013, 4.41924644, 4.12745009, 4.80203773,\n        4.58119881, 4.16698064, 4.80278716, 4.33327948, 4.19009019],\n       [4.22723565, 4.60936631, 4.18721146, 4.06302903, 4.04423886,\n        4.73664817, 4.45807799, 4.89261562, 4.27547734, 4.5472976 ],\n       [4.67411017, 4.97819822, 4.60157928, 4.94039327, 4.0330893 ,\n        4.46958146, 4.64066953, 4.39379651, 4.45958784, 4.27775717],\n       [4.23761354, 4.19352355, 4.66100532, 4.92373012, 4.84387859,\n        4.20013011, 4.28515416, 4.55974598, 4.07001402, 4.24443388],\n       [4.69762043, 4.07156727, 4.29899337, 4.85114243, 4.0871642 ,\n        4.67286621, 4.78123132, 4.96149922, 4.87248142, 4.03813185],\n       [4.83954322, 4.58180218, 4.4789963 , 4.16143528, 4.72377861,\n        4.39929058, 4.80916135, 4.35307303, 4.17666394, 4.97264919],\n       [4.08914182, 4.24896803, 4.72000411, 4.45952675, 4.92336597,\n        4.55462734, 4.55957068, 4.04344757, 4.04073418, 4.52944973],\n       [4.44990198, 4.70132541, 4.96149662, 4.32901745, 4.10308292,\n        4.41399095, 4.39106172, 4.18369405, 4.03299489, 4.49781005],\n       [4.62190141, 4.80847775, 4.8913891 , 4.21870897, 4.178995  ,\n        4.76104501, 4.24802632, 4.48110958, 4.7828908 , 4.3220619 ],\n       [4.40169136, 4.50930159, 4.30835056, 4.66433672, 4.38621271,\n        4.85900498, 4.03820164, 4.64354986, 4.30930364, 4.07365309],\n       [4.77086066, 4.5681979 , 4.40663306, 4.59673692, 4.3515822 ,\n        4.61940161, 4.56085714, 4.63513662, 4.04939228, 4.4092189 ],\n       [4.32643417, 4.36887065, 4.65416749, 4.87929331, 4.98429886,\n        4.26785819, 4.78303824, 4.62786135, 4.78701576, 4.12494585],\n       [4.38908372, 4.19507553, 4.0925716 , 4.69520241, 4.51226468,\n        4.92045794, 4.15283738, 4.48306803, 4.38408156, 4.93040153],\n       [4.2968264 , 4.39394799, 4.30177457, 4.55652878, 4.81385279,\n        4.32901887, 4.58632023, 4.87403096, 4.98330902, 4.15160803],\n       [4.51271188, 4.85926898, 4.7447691 , 4.15011333, 4.91697496,\n        4.15875876, 4.57432357, 4.25145591, 4.45411603, 4.77801606]])"
     },
     "execution_count": 82,
     "metadata": {},
     "output_type": "execute_result"
    }
   ],
   "source": [
    "a = a + 1         # 0.035230\n",
    "a = np.add(a, 1)  # 0.032738\n",
    "a += 1                 # 0.011219\n",
    "np.add(a, 1, out=a)    # 0.008843"
   ],
   "metadata": {
    "collapsed": false,
    "pycharm": {
     "name": "#%%\n"
    }
   }
  },
  {
   "cell_type": "markdown",
   "source": [
    "## 给数据一个名字"
   ],
   "metadata": {
    "collapsed": false,
    "pycharm": {
     "name": "#%% md\n"
    }
   }
  },
  {
   "cell_type": "code",
   "execution_count": 83,
   "outputs": [
    {
     "name": "stdout",
     "output_type": "stream",
     "text": [
      "0.000000\n",
      "0.000289\n"
     ]
    }
   ],
   "source": [
    "a = np.zeros(3, dtype=[('foo', np.int32), ('bar', np.float16)])\n",
    "b = pd.DataFrame(np.zeros((3, 2), dtype=np.int32), columns=['foo', 'bar'])\n",
    "b['bar'] = b['bar'].astype(np.float16)\n",
    "\"\"\"\n",
    "# a\n",
    "array([(0,  0.), (0,  0.), (0,  0.)],\n",
    "      dtype=[('foo', '<i4'), ('bar', '<f2')])\n",
    "\n",
    "# b\n",
    "   foo  bar\n",
    "0    0  0.0\n",
    "1    0  0.0\n",
    "2    0  0.0\n",
    "\"\"\"\n",
    "\n",
    "def f1(a):\n",
    "    for _ in range(N):\n",
    "        a['bar'] *= a['foo']\n",
    "\n",
    "def f2(b):\n",
    "    for _ in range(N):\n",
    "        b['bar'] *= b['foo']\n",
    "t0 = time.time()\n",
    "f1(a)\n",
    "t1 = time.time()\n",
    "f2(b)\n",
    "t2 = time.time()\n",
    "print('%f' % ((t1-t0)/N))    # 0.000003\n",
    "print('%f' % ((t2-t1)/N))    # 0.000508\n"
   ],
   "metadata": {
    "collapsed": false,
    "pycharm": {
     "name": "#%%\n"
    }
   }
  }
 ],
 "metadata": {
  "kernelspec": {
   "name": "pycharm-5d4c1c6c",
   "language": "python",
   "display_name": "PyCharm (tutorials)"
  },
  "language_info": {
   "codemirror_mode": {
    "name": "ipython",
    "version": 2
   },
   "file_extension": ".py",
   "mimetype": "text/x-python",
   "name": "python",
   "nbconvert_exporter": "python",
   "pygments_lexer": "ipython2",
   "version": "2.7.6"
  }
 },
 "nbformat": 4,
 "nbformat_minor": 0
}