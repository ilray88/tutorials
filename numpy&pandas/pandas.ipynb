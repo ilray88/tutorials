{
 "cells": [
  {
   "cell_type": "markdown",
   "metadata": {
    "collapsed": true,
    "pycharm": {
     "name": "#%% md\n"
    }
   },
   "source": [
    "# Pandas 基本介绍\n",
    "## Numpy 和 Pandas 有什么不同\n",
    "如果用 python 的列表和字典来作比较, 那么可以说 Numpy 是列表形式的，没有数值标签，而 Pandas 就是字典形式。Pandas是基于Numpy构建的，让Numpy为中心的应用变得更加简单。\n",
    "要使用pandas，首先需要了解他主要两个数据结构：Series和DataFrame。\n",
    "## Series"
   ]
  },
  {
   "cell_type": "code",
   "execution_count": 164,
   "outputs": [
    {
     "name": "stdout",
     "output_type": "stream",
     "text": [
      "324\n"
     ]
    }
   ],
   "source": [
    "print('324')"
   ],
   "metadata": {
    "collapsed": false,
    "pycharm": {
     "name": "#%%\n"
    }
   }
  },
  {
   "cell_type": "code",
   "execution_count": 165,
   "outputs": [
    {
     "name": "stdout",
     "output_type": "stream",
     "text": [
      "0     1.0\n",
      "1     3.0\n",
      "2     6.0\n",
      "3     NaN\n",
      "4    44.0\n",
      "5     1.0\n",
      "dtype: float64\n"
     ]
    },
    {
     "data": {
      "text/plain": "'\\n0     1.0\\n1     3.0\\n2     6.0\\n3     NaN\\n4    44.0\\n5     1.0\\ndtype: float64\\n'"
     },
     "execution_count": 165,
     "metadata": {},
     "output_type": "execute_result"
    }
   ],
   "source": [
    "import pandas as pd\n",
    "import numpy as np\n",
    "s = pd.Series([1,3,6,np.nan,44,1])\n",
    "\n",
    "print(s)\n",
    "\"\"\"\n",
    "0     1.0\n",
    "1     3.0\n",
    "2     6.0\n",
    "3     NaN\n",
    "4    44.0\n",
    "5     1.0\n",
    "dtype: float64\n",
    "\"\"\""
   ],
   "metadata": {
    "collapsed": false,
    "pycharm": {
     "name": "#%%\n"
    }
   }
  },
  {
   "cell_type": "markdown",
   "source": [
    "## DataFrame"
   ],
   "metadata": {
    "collapsed": false,
    "pycharm": {
     "name": "#%% md\n"
    }
   }
  },
  {
   "cell_type": "code",
   "execution_count": 166,
   "outputs": [
    {
     "name": "stdout",
     "output_type": "stream",
     "text": [
      "                   a         b         c         d\n",
      "2016-01-01  0.630211  1.127831 -0.274302 -1.140026\n",
      "2016-01-02  0.483117 -0.685341  0.062623 -0.764229\n",
      "2016-01-03 -0.375089 -0.371611  1.544601 -0.219058\n",
      "2016-01-04 -1.945099  2.709960  0.086935 -0.790434\n",
      "2016-01-05  1.523707 -1.315016  0.819976 -0.610846\n",
      "2016-01-06 -0.375328 -0.707933  1.200083  3.371797\n"
     ]
    },
    {
     "data": {
      "text/plain": "'\\n                   a         b         c         d\\n2016-01-01 -0.253065 -2.071051 -0.640515  0.613663\\n2016-01-02 -1.147178  1.532470  0.989255 -0.499761\\n2016-01-03  1.221656 -2.390171  1.862914  0.778070\\n2016-01-04  1.473877 -0.046419  0.610046  0.204672\\n2016-01-05 -1.584752 -0.700592  1.487264 -1.778293\\n2016-01-06  0.633675 -1.414157 -0.277066 -0.442545\\n'"
     },
     "execution_count": 166,
     "metadata": {},
     "output_type": "execute_result"
    }
   ],
   "source": [
    "dates = pd.date_range('20160101',periods=6)\n",
    "df = pd.DataFrame(np.random.randn(6,4),index=dates,columns=['a','b','c','d'])\n",
    "\n",
    "print(df)\n",
    "\"\"\"\n",
    "                   a         b         c         d\n",
    "2016-01-01 -0.253065 -2.071051 -0.640515  0.613663\n",
    "2016-01-02 -1.147178  1.532470  0.989255 -0.499761\n",
    "2016-01-03  1.221656 -2.390171  1.862914  0.778070\n",
    "2016-01-04  1.473877 -0.046419  0.610046  0.204672\n",
    "2016-01-05 -1.584752 -0.700592  1.487264 -1.778293\n",
    "2016-01-06  0.633675 -1.414157 -0.277066 -0.442545\n",
    "\"\"\""
   ],
   "metadata": {
    "collapsed": false,
    "pycharm": {
     "name": "#%%\n"
    }
   }
  },
  {
   "cell_type": "markdown",
   "source": [
    "## DataFrame 的一些简单运用"
   ],
   "metadata": {
    "collapsed": false,
    "pycharm": {
     "name": "#%% md\n"
    }
   }
  },
  {
   "cell_type": "code",
   "execution_count": 167,
   "outputs": [
    {
     "name": "stdout",
     "output_type": "stream",
     "text": [
      "2016-01-01    1.127831\n",
      "2016-01-02   -0.685341\n",
      "2016-01-03   -0.371611\n",
      "2016-01-04    2.709960\n",
      "2016-01-05   -1.315016\n",
      "2016-01-06   -0.707933\n",
      "Freq: D, Name: b, dtype: float64\n"
     ]
    },
    {
     "data": {
      "text/plain": "'\\n2016-01-01   -2.071051\\n2016-01-02    1.532470\\n2016-01-03   -2.390171\\n2016-01-04   -0.046419\\n2016-01-05   -0.700592\\n2016-01-06   -1.414157\\nFreq: D, Name: b, dtype: float64\\n'"
     },
     "execution_count": 167,
     "metadata": {},
     "output_type": "execute_result"
    }
   ],
   "source": [
    "print(df['b'])\n",
    "\n",
    "\"\"\"\n",
    "2016-01-01   -2.071051\n",
    "2016-01-02    1.532470\n",
    "2016-01-03   -2.390171\n",
    "2016-01-04   -0.046419\n",
    "2016-01-05   -0.700592\n",
    "2016-01-06   -1.414157\n",
    "Freq: D, Name: b, dtype: float64\n",
    "\"\"\"\n"
   ],
   "metadata": {
    "collapsed": false,
    "pycharm": {
     "name": "#%%\n"
    }
   }
  },
  {
   "cell_type": "markdown",
   "source": [
    "#### 默认的从0开始 index."
   ],
   "metadata": {
    "collapsed": false,
    "pycharm": {
     "name": "#%% md\n"
    }
   }
  },
  {
   "cell_type": "code",
   "execution_count": 168,
   "outputs": [
    {
     "name": "stdout",
     "output_type": "stream",
     "text": [
      "   0  1   2   3\n",
      "0  0  1   2   3\n",
      "1  4  5   6   7\n",
      "2  8  9  10  11\n"
     ]
    },
    {
     "data": {
      "text/plain": "'\\n   0  1   2   3\\n0  0  1   2   3\\n1  4  5   6   7\\n2  8  9  10  11\\n'"
     },
     "execution_count": 168,
     "metadata": {},
     "output_type": "execute_result"
    }
   ],
   "source": [
    "df1 = pd.DataFrame(np.arange(12).reshape((3,4)))\n",
    "print(df1)\n",
    "\n",
    "\"\"\"\n",
    "   0  1   2   3\n",
    "0  0  1   2   3\n",
    "1  4  5   6   7\n",
    "2  8  9  10  11\n",
    "\"\"\""
   ],
   "metadata": {
    "collapsed": false,
    "pycharm": {
     "name": "#%%\n"
    }
   }
  },
  {
   "cell_type": "markdown",
   "source": [
    "#### 另外一种生成 df 的方法"
   ],
   "metadata": {
    "collapsed": false,
    "pycharm": {
     "name": "#%% md\n"
    }
   }
  },
  {
   "cell_type": "code",
   "execution_count": 169,
   "outputs": [
    {
     "name": "stdout",
     "output_type": "stream",
     "text": [
      "     A          B    C  D      E    F\n",
      "0  1.0 2013-01-02  1.0  3   test  foo\n",
      "1  1.0 2013-01-02  1.0  3  train  foo\n",
      "2  1.0 2013-01-02  1.0  3   test  foo\n",
      "3  1.0 2013-01-02  1.0  3  train  foo\n"
     ]
    },
    {
     "data": {
      "text/plain": "'\\n     A          B    C  D      E    F\\n0  1.0 2013-01-02  1.0  3   test  foo\\n1  1.0 2013-01-02  1.0  3  train  foo\\n2  1.0 2013-01-02  1.0  3   test  foo\\n3  1.0 2013-01-02  1.0  3  train  foo\\n'"
     },
     "execution_count": 169,
     "metadata": {},
     "output_type": "execute_result"
    }
   ],
   "source": [
    "df2 = pd.DataFrame({'A' : 1.,\n",
    "                    'B' : pd.Timestamp('20130102'),\n",
    "                    'C' : pd.Series(1,index=list(range(4)),dtype='float32'),\n",
    "                    'D' : np.array([3] * 4,dtype='int32'),\n",
    "                    'E' : pd.Categorical([\"test\",\"train\",\"test\",\"train\"]),\n",
    "                    'F' : 'foo'})\n",
    "\n",
    "print(df2)\n",
    "\n",
    "\"\"\"\n",
    "     A          B    C  D      E    F\n",
    "0  1.0 2013-01-02  1.0  3   test  foo\n",
    "1  1.0 2013-01-02  1.0  3  train  foo\n",
    "2  1.0 2013-01-02  1.0  3   test  foo\n",
    "3  1.0 2013-01-02  1.0  3  train  foo\n",
    "\"\"\""
   ],
   "metadata": {
    "collapsed": false,
    "pycharm": {
     "name": "#%%\n"
    }
   }
  },
  {
   "cell_type": "markdown",
   "source": [
    "#### dtype"
   ],
   "metadata": {
    "collapsed": false,
    "pycharm": {
     "name": "#%% md\n"
    }
   }
  },
  {
   "cell_type": "code",
   "source": [
    "print(df2.dtypes)\n",
    "\n",
    "\"\"\"\n",
    "df2.dtypes\n",
    "A           float64\n",
    "B    datetime64[ns]\n",
    "C           float32\n",
    "D             int32\n",
    "E          category\n",
    "F            object\n",
    "dtype: object\n",
    "\"\"\""
   ],
   "metadata": {
    "collapsed": false,
    "pycharm": {
     "name": "#%%\n"
    }
   },
   "execution_count": 170,
   "outputs": [
    {
     "name": "stdout",
     "output_type": "stream",
     "text": [
      "A           float64\n",
      "B    datetime64[ns]\n",
      "C           float32\n",
      "D             int32\n",
      "E          category\n",
      "F            object\n",
      "dtype: object\n"
     ]
    },
    {
     "data": {
      "text/plain": "'\\ndf2.dtypes\\nA           float64\\nB    datetime64[ns]\\nC           float32\\nD             int32\\nE          category\\nF            object\\ndtype: object\\n'"
     },
     "execution_count": 170,
     "metadata": {},
     "output_type": "execute_result"
    }
   ]
  },
  {
   "cell_type": "markdown",
   "source": [
    "#### index"
   ],
   "metadata": {
    "collapsed": false,
    "pycharm": {
     "name": "#%% md\n"
    }
   }
  },
  {
   "cell_type": "code",
   "source": [
    "print(df2.index)\n",
    "\n",
    "# Int64Index([0, 1, 2, 3], dtype='int64')"
   ],
   "metadata": {
    "collapsed": false,
    "pycharm": {
     "name": "#%%\n"
    }
   },
   "execution_count": 171,
   "outputs": [
    {
     "name": "stdout",
     "output_type": "stream",
     "text": [
      "Int64Index([0, 1, 2, 3], dtype='int64')\n"
     ]
    }
   ]
  },
  {
   "cell_type": "markdown",
   "source": [
    "#### columns"
   ],
   "metadata": {
    "collapsed": false,
    "pycharm": {
     "name": "#%% md\n"
    }
   }
  },
  {
   "cell_type": "code",
   "execution_count": 172,
   "outputs": [
    {
     "name": "stdout",
     "output_type": "stream",
     "text": [
      "Index(['A', 'B', 'C', 'D', 'E', 'F'], dtype='object')\n"
     ]
    }
   ],
   "source": [
    "print(df2.columns)\n",
    "\n",
    "# Index(['A', 'B', 'C', 'D', 'E', 'F'], dtype='object')"
   ],
   "metadata": {
    "collapsed": false,
    "pycharm": {
     "name": "#%%\n"
    }
   }
  },
  {
   "cell_type": "markdown",
   "source": [
    "#### values"
   ],
   "metadata": {
    "collapsed": false,
    "pycharm": {
     "name": "#%% md\n"
    }
   }
  },
  {
   "cell_type": "code",
   "execution_count": 173,
   "outputs": [
    {
     "name": "stdout",
     "output_type": "stream",
     "text": [
      "[[1.0 Timestamp('2013-01-02 00:00:00') 1.0 3 'test' 'foo']\n",
      " [1.0 Timestamp('2013-01-02 00:00:00') 1.0 3 'train' 'foo']\n",
      " [1.0 Timestamp('2013-01-02 00:00:00') 1.0 3 'test' 'foo']\n",
      " [1.0 Timestamp('2013-01-02 00:00:00') 1.0 3 'train' 'foo']]\n"
     ]
    },
    {
     "data": {
      "text/plain": "\"\\narray([[1.0, Timestamp('2013-01-02 00:00:00'), 1.0, 3, 'test', 'foo'],\\n       [1.0, Timestamp('2013-01-02 00:00:00'), 1.0, 3, 'train', 'foo'],\\n       [1.0, Timestamp('2013-01-02 00:00:00'), 1.0, 3, 'test', 'foo'],\\n       [1.0, Timestamp('2013-01-02 00:00:00'), 1.0, 3, 'train', 'foo']], dtype=object)\\n\""
     },
     "execution_count": 173,
     "metadata": {},
     "output_type": "execute_result"
    }
   ],
   "source": [
    "print(df2.values)\n",
    "\n",
    "\"\"\"\n",
    "array([[1.0, Timestamp('2013-01-02 00:00:00'), 1.0, 3, 'test', 'foo'],\n",
    "       [1.0, Timestamp('2013-01-02 00:00:00'), 1.0, 3, 'train', 'foo'],\n",
    "       [1.0, Timestamp('2013-01-02 00:00:00'), 1.0, 3, 'test', 'foo'],\n",
    "       [1.0, Timestamp('2013-01-02 00:00:00'), 1.0, 3, 'train', 'foo']], dtype=object)\n",
    "\"\"\""
   ],
   "metadata": {
    "collapsed": false,
    "pycharm": {
     "name": "#%%\n"
    }
   }
  },
  {
   "cell_type": "markdown",
   "source": [
    "#### 数据的总结describe()"
   ],
   "metadata": {
    "collapsed": false,
    "pycharm": {
     "name": "#%% md\n"
    }
   }
  },
  {
   "cell_type": "code",
   "execution_count": 174,
   "outputs": [
    {
     "data": {
      "text/plain": "'\\n         A    C    D\\ncount  4.0  4.0  4.0\\nmean   1.0  1.0  3.0\\nstd    0.0  0.0  0.0\\nmin    1.0  1.0  3.0\\n25%    1.0  1.0  3.0\\n50%    1.0  1.0  3.0\\n75%    1.0  1.0  3.0\\nmax    1.0  1.0  3.0\\n'"
     },
     "execution_count": 174,
     "metadata": {},
     "output_type": "execute_result"
    }
   ],
   "source": [
    "df2.describe()\n",
    "\n",
    "\"\"\"\n",
    "         A    C    D\n",
    "count  4.0  4.0  4.0\n",
    "mean   1.0  1.0  3.0\n",
    "std    0.0  0.0  0.0\n",
    "min    1.0  1.0  3.0\n",
    "25%    1.0  1.0  3.0\n",
    "50%    1.0  1.0  3.0\n",
    "75%    1.0  1.0  3.0\n",
    "max    1.0  1.0  3.0\n",
    "\"\"\""
   ],
   "metadata": {
    "collapsed": false,
    "pycharm": {
     "name": "#%%\n"
    }
   }
  },
  {
   "cell_type": "markdown",
   "source": [
    "#### 翻转数据, transpose:"
   ],
   "metadata": {
    "collapsed": false,
    "pycharm": {
     "name": "#%% md\n"
    }
   }
  },
  {
   "cell_type": "code",
   "execution_count": 175,
   "outputs": [
    {
     "name": "stdout",
     "output_type": "stream",
     "text": [
      "                     0                    1                    2  \\\n",
      "A                  1.0                  1.0                  1.0   \n",
      "B  2013-01-02 00:00:00  2013-01-02 00:00:00  2013-01-02 00:00:00   \n",
      "C                  1.0                  1.0                  1.0   \n",
      "D                    3                    3                    3   \n",
      "E                 test                train                 test   \n",
      "F                  foo                  foo                  foo   \n",
      "\n",
      "                     3  \n",
      "A                  1.0  \n",
      "B  2013-01-02 00:00:00  \n",
      "C                  1.0  \n",
      "D                    3  \n",
      "E                train  \n",
      "F                  foo  \n"
     ]
    },
    {
     "data": {
      "text/plain": "'\\n0                    1                    2  A                    1                    1                    1\\nB  2013-01-02 00:00:00  2013-01-02 00:00:00  2013-01-02 00:00:00\\nC                    1                    1                    1\\nD                    3                    3                    3\\nE                 test                train                 test\\nF                  foo                  foo                  foo\\n\\n                     3\\nA                    1\\nB  2013-01-02 00:00:00\\nC                    1\\nD                    3\\nE                train\\nF                  foo\\n\\n'"
     },
     "execution_count": 175,
     "metadata": {},
     "output_type": "execute_result"
    }
   ],
   "source": [
    "print(df2.T)\n",
    "\n",
    "\"\"\"\n",
    "0                    1                    2  \\\n",
    "A                    1                    1                    1\n",
    "B  2013-01-02 00:00:00  2013-01-02 00:00:00  2013-01-02 00:00:00\n",
    "C                    1                    1                    1\n",
    "D                    3                    3                    3\n",
    "E                 test                train                 test\n",
    "F                  foo                  foo                  foo\n",
    "\n",
    "                     3\n",
    "A                    1\n",
    "B  2013-01-02 00:00:00\n",
    "C                    1\n",
    "D                    3\n",
    "E                train\n",
    "F                  foo\n",
    "\n",
    "\"\"\""
   ],
   "metadata": {
    "collapsed": false,
    "pycharm": {
     "name": "#%%\n"
    }
   }
  },
  {
   "cell_type": "markdown",
   "source": [
    "#### index排序"
   ],
   "metadata": {
    "collapsed": false,
    "pycharm": {
     "name": "#%% md\n"
    }
   }
  },
  {
   "cell_type": "code",
   "execution_count": 176,
   "outputs": [
    {
     "name": "stdout",
     "output_type": "stream",
     "text": [
      "     F      E  D    C          B    A\n",
      "0  foo   test  3  1.0 2013-01-02  1.0\n",
      "1  foo  train  3  1.0 2013-01-02  1.0\n",
      "2  foo   test  3  1.0 2013-01-02  1.0\n",
      "3  foo  train  3  1.0 2013-01-02  1.0\n"
     ]
    },
    {
     "data": {
      "text/plain": "'\\n     F      E  D    C          B    A\\n0  foo   test  3  1.0 2013-01-02  1.0\\n1  foo  train  3  1.0 2013-01-02  1.0\\n2  foo   test  3  1.0 2013-01-02  1.0\\n3  foo  train  3  1.0 2013-01-02  1.0\\n'"
     },
     "execution_count": 176,
     "metadata": {},
     "output_type": "execute_result"
    }
   ],
   "source": [
    "print(df2.sort_index(axis=1, ascending=False))\n",
    "\n",
    "\"\"\"\n",
    "     F      E  D    C          B    A\n",
    "0  foo   test  3  1.0 2013-01-02  1.0\n",
    "1  foo  train  3  1.0 2013-01-02  1.0\n",
    "2  foo   test  3  1.0 2013-01-02  1.0\n",
    "3  foo  train  3  1.0 2013-01-02  1.0\n",
    "\"\"\""
   ],
   "metadata": {
    "collapsed": false,
    "pycharm": {
     "name": "#%%\n"
    }
   }
  },
  {
   "cell_type": "markdown",
   "source": [
    "#### 值 排序"
   ],
   "metadata": {
    "collapsed": false,
    "pycharm": {
     "name": "#%% md\n"
    }
   }
  },
  {
   "cell_type": "code",
   "execution_count": 177,
   "outputs": [
    {
     "name": "stdout",
     "output_type": "stream",
     "text": [
      "     A          B    C  D      E    F\n",
      "0  1.0 2013-01-02  1.0  3   test  foo\n",
      "1  1.0 2013-01-02  1.0  3  train  foo\n",
      "2  1.0 2013-01-02  1.0  3   test  foo\n",
      "3  1.0 2013-01-02  1.0  3  train  foo\n"
     ]
    },
    {
     "data": {
      "text/plain": "'\\n     A          B    C  D      E    F\\n0  1.0 2013-01-02  1.0  3   test  foo\\n1  1.0 2013-01-02  1.0  3  train  foo\\n2  1.0 2013-01-02  1.0  3   test  foo\\n3  1.0 2013-01-02  1.0  3  train  foo\\n'"
     },
     "execution_count": 177,
     "metadata": {},
     "output_type": "execute_result"
    }
   ],
   "source": [
    "print(df2.sort_values(by='B'))\n",
    "\n",
    "\"\"\"\n",
    "     A          B    C  D      E    F\n",
    "0  1.0 2013-01-02  1.0  3   test  foo\n",
    "1  1.0 2013-01-02  1.0  3  train  foo\n",
    "2  1.0 2013-01-02  1.0  3   test  foo\n",
    "3  1.0 2013-01-02  1.0  3  train  foo\n",
    "\"\"\""
   ],
   "metadata": {
    "collapsed": false,
    "pycharm": {
     "name": "#%%\n"
    }
   }
  },
  {
   "cell_type": "markdown",
   "source": [
    "# Pandas 选择数据\n",
    "## 简单的筛选"
   ],
   "metadata": {
    "collapsed": false,
    "pycharm": {
     "name": "#%% md\n"
    }
   }
  },
  {
   "cell_type": "code",
   "execution_count": 178,
   "outputs": [
    {
     "name": "stdout",
     "output_type": "stream",
     "text": [
      "2013-01-01   -0.565482\n",
      "2013-01-02    0.870680\n",
      "2013-01-03   -0.243606\n",
      "2013-01-04    1.477018\n",
      "2013-01-05    0.174477\n",
      "2013-01-06   -0.007761\n",
      "Freq: D, Name: A, dtype: float64\n",
      "2013-01-01   -0.565482\n",
      "2013-01-02    0.870680\n",
      "2013-01-03   -0.243606\n",
      "2013-01-04    1.477018\n",
      "2013-01-05    0.174477\n",
      "2013-01-06   -0.007761\n",
      "Freq: D, Name: A, dtype: float64\n"
     ]
    },
    {
     "data": {
      "text/plain": "'\\n2013-01-01     0\\n2013-01-02     4\\n2013-01-03     8\\n2013-01-04    12\\n2013-01-05    16\\n2013-01-06    20\\nFreq: D, Name: A, dtype: int64\\n'"
     },
     "execution_count": 178,
     "metadata": {},
     "output_type": "execute_result"
    }
   ],
   "source": [
    "from __future__ import print_function\n",
    "import pandas as pd\n",
    "import numpy as np\n",
    "\n",
    "dates = pd.date_range('20130101', periods=6)\n",
    "df = pd.DataFrame(np.random.randn(6,4), index=dates, columns=['A', 'B', 'C', 'D'])\n",
    "\n",
    "print(df['A'])\n",
    "print(df.A)\n",
    "\n",
    "\"\"\"\n",
    "2013-01-01     0\n",
    "2013-01-02     4\n",
    "2013-01-03     8\n",
    "2013-01-04    12\n",
    "2013-01-05    16\n",
    "2013-01-06    20\n",
    "Freq: D, Name: A, dtype: int64\n",
    "\"\"\"\n"
   ],
   "metadata": {
    "collapsed": false,
    "pycharm": {
     "name": "#%%\n"
    }
   }
  },
  {
   "cell_type": "markdown",
   "source": [
    "选择跨越多行或多列:"
   ],
   "metadata": {
    "collapsed": false,
    "pycharm": {
     "name": "#%% md\n"
    }
   }
  },
  {
   "cell_type": "code",
   "execution_count": 179,
   "outputs": [
    {
     "name": "stdout",
     "output_type": "stream",
     "text": [
      "                   A         B         C         D\n",
      "2013-01-01 -0.565482  0.372979  0.045922 -1.212512\n",
      "2013-01-02  0.870680 -1.731998  0.095424 -1.605267\n",
      "2013-01-03 -0.243606 -0.639587 -0.216658 -0.372731\n",
      "                   A         B         C         D\n",
      "2013-01-02  0.870680 -1.731998  0.095424 -1.605267\n",
      "2013-01-03 -0.243606 -0.639587 -0.216658 -0.372731\n",
      "2013-01-04  1.477018  1.689524 -0.477337  0.246865\n"
     ]
    },
    {
     "data": {
      "text/plain": "'\\nA   B   C   D\\n2013-01-02   4   5   6   7\\n2013-01-03   8   9  10  11\\n2013-01-04  12  13  14  15\\n'"
     },
     "execution_count": 179,
     "metadata": {},
     "output_type": "execute_result"
    }
   ],
   "source": [
    "print(df[0:3])\n",
    "\n",
    "\"\"\"\n",
    "            A  B   C   D\n",
    "2013-01-01  0  1   2   3\n",
    "2013-01-02  4  5   6   7\n",
    "2013-01-03  8  9  10  11\n",
    "\"\"\"\n",
    "\n",
    "print(df['20130102':'20130104'])\n",
    "\n",
    "\"\"\"\n",
    "A   B   C   D\n",
    "2013-01-02   4   5   6   7\n",
    "2013-01-03   8   9  10  11\n",
    "2013-01-04  12  13  14  15\n",
    "\"\"\""
   ],
   "metadata": {
    "collapsed": false,
    "pycharm": {
     "name": "#%%\n"
    }
   }
  },
  {
   "cell_type": "markdown",
   "source": [
    "## 根据标签 loc"
   ],
   "metadata": {
    "collapsed": false,
    "pycharm": {
     "name": "#%% md\n"
    }
   }
  },
  {
   "cell_type": "code",
   "execution_count": 180,
   "outputs": [
    {
     "name": "stdout",
     "output_type": "stream",
     "text": [
      "A    0.870680\n",
      "B   -1.731998\n",
      "C    0.095424\n",
      "D   -1.605267\n",
      "Name: 2013-01-02 00:00:00, dtype: float64\n"
     ]
    },
    {
     "data": {
      "text/plain": "'\\nA    4\\nB    5\\nC    6\\nD    7\\nName: 2013-01-02 00:00:00, dtype: int64\\n'"
     },
     "execution_count": 180,
     "metadata": {},
     "output_type": "execute_result"
    }
   ],
   "source": [
    "print(df.loc['20130102'])\n",
    "\"\"\"\n",
    "A    4\n",
    "B    5\n",
    "C    6\n",
    "D    7\n",
    "Name: 2013-01-02 00:00:00, dtype: int64\n",
    "\"\"\""
   ],
   "metadata": {
    "collapsed": false,
    "pycharm": {
     "name": "#%%\n"
    }
   }
  },
  {
   "cell_type": "code",
   "execution_count": 181,
   "outputs": [
    {
     "name": "stdout",
     "output_type": "stream",
     "text": [
      "                   A         B\n",
      "2013-01-01 -0.565482  0.372979\n",
      "2013-01-02  0.870680 -1.731998\n",
      "2013-01-03 -0.243606 -0.639587\n",
      "2013-01-04  1.477018  1.689524\n",
      "2013-01-05  0.174477  0.834632\n",
      "2013-01-06 -0.007761  0.256598\n"
     ]
    },
    {
     "data": {
      "text/plain": "'\\n             A   B\\n2013-01-01   0   1\\n2013-01-02   4   5\\n2013-01-03   8   9\\n2013-01-04  12  13\\n2013-01-05  16  17\\n2013-01-06  20  21\\n'"
     },
     "execution_count": 181,
     "metadata": {},
     "output_type": "execute_result"
    }
   ],
   "source": [
    "print(df.loc[:,['A','B']])\n",
    "\"\"\"\n",
    "             A   B\n",
    "2013-01-01   0   1\n",
    "2013-01-02   4   5\n",
    "2013-01-03   8   9\n",
    "2013-01-04  12  13\n",
    "2013-01-05  16  17\n",
    "2013-01-06  20  21\n",
    "\"\"\""
   ],
   "metadata": {
    "collapsed": false,
    "pycharm": {
     "name": "#%%\n"
    }
   }
  },
  {
   "cell_type": "code",
   "execution_count": 182,
   "outputs": [
    {
     "name": "stdout",
     "output_type": "stream",
     "text": [
      "A    0.870680\n",
      "B   -1.731998\n",
      "Name: 2013-01-02 00:00:00, dtype: float64\n"
     ]
    },
    {
     "data": {
      "text/plain": "'\\nA    4\\nB    5\\nName: 2013-01-02 00:00:00, dtype: int64\\n'"
     },
     "execution_count": 182,
     "metadata": {},
     "output_type": "execute_result"
    }
   ],
   "source": [
    "print(df.loc['20130102',['A','B']])\n",
    "\"\"\"\n",
    "A    4\n",
    "B    5\n",
    "Name: 2013-01-02 00:00:00, dtype: int64\n",
    "\"\"\""
   ],
   "metadata": {
    "collapsed": false,
    "pycharm": {
     "name": "#%%\n"
    }
   }
  },
  {
   "cell_type": "markdown",
   "source": [
    "## 根据序列 iloc"
   ],
   "metadata": {
    "collapsed": false,
    "pycharm": {
     "name": "#%% md\n"
    }
   }
  },
  {
   "cell_type": "code",
   "execution_count": 183,
   "outputs": [
    {
     "name": "stdout",
     "output_type": "stream",
     "text": [
      "1.689524364979021\n"
     ]
    }
   ],
   "source": [
    "print(df.iloc[3,1])\n",
    "# 13"
   ],
   "metadata": {
    "collapsed": false,
    "pycharm": {
     "name": "#%%\n"
    }
   }
  },
  {
   "cell_type": "code",
   "execution_count": 184,
   "outputs": [
    {
     "name": "stdout",
     "output_type": "stream",
     "text": [
      "                   B         C\n",
      "2013-01-04  1.689524 -0.477337\n",
      "2013-01-05  0.834632  0.385394\n"
     ]
    },
    {
     "data": {
      "text/plain": "'\\n             B   C\\n2013-01-04  13  14\\n2013-01-05  17  18\\n'"
     },
     "execution_count": 184,
     "metadata": {},
     "output_type": "execute_result"
    }
   ],
   "source": [
    "print(df.iloc[3:5,1:3])\n",
    "\"\"\"\n",
    "             B   C\n",
    "2013-01-04  13  14\n",
    "2013-01-05  17  18\n",
    "\"\"\""
   ],
   "metadata": {
    "collapsed": false,
    "pycharm": {
     "name": "#%%\n"
    }
   }
  },
  {
   "cell_type": "code",
   "execution_count": 185,
   "outputs": [
    {
     "name": "stdout",
     "output_type": "stream",
     "text": [
      "                   B         C\n",
      "2013-01-02 -1.731998  0.095424\n",
      "2013-01-04  1.689524 -0.477337\n",
      "2013-01-06  0.256598 -0.559005\n"
     ]
    },
    {
     "data": {
      "text/plain": "'\\n             B   C\\n2013-01-02   5   6\\n2013-01-04  13  14\\n2013-01-06  21  22\\n\\n'"
     },
     "execution_count": 185,
     "metadata": {},
     "output_type": "execute_result"
    }
   ],
   "source": [
    "print(df.iloc[[1,3,5],1:3])\n",
    "\"\"\"\n",
    "             B   C\n",
    "2013-01-02   5   6\n",
    "2013-01-04  13  14\n",
    "2013-01-06  21  22\n",
    "\n",
    "\"\"\""
   ],
   "metadata": {
    "collapsed": false,
    "pycharm": {
     "name": "#%%\n"
    }
   }
  },
  {
   "cell_type": "markdown",
   "source": [
    "## 根据混合的这两种 ix"
   ],
   "metadata": {
    "collapsed": false,
    "pycharm": {
     "name": "#%% md\n"
    }
   }
  },
  {
   "cell_type": "code",
   "execution_count": 186,
   "outputs": [
    {
     "data": {
      "text/plain": "'\\n            A   C\\n2013-01-01  0   2\\n2013-01-02  4   6\\n2013-01-03  8  10\\n'"
     },
     "execution_count": 186,
     "metadata": {},
     "output_type": "execute_result"
    }
   ],
   "source": [
    "#print(df.ix[:3,['A','C']])\n",
    "\"\"\"\n",
    "            A   C\n",
    "2013-01-01  0   2\n",
    "2013-01-02  4   6\n",
    "2013-01-03  8  10\n",
    "\"\"\""
   ],
   "metadata": {
    "collapsed": false,
    "pycharm": {
     "name": "#%%\n"
    }
   }
  },
  {
   "cell_type": "markdown",
   "source": [
    "## 通过判断的筛选"
   ],
   "metadata": {
    "collapsed": false,
    "pycharm": {
     "name": "#%% md\n"
    }
   }
  },
  {
   "cell_type": "code",
   "execution_count": 187,
   "outputs": [
    {
     "name": "stdout",
     "output_type": "stream",
     "text": [
      "Empty DataFrame\n",
      "Columns: [A, B, C, D]\n",
      "Index: []\n"
     ]
    },
    {
     "data": {
      "text/plain": "'\\n             A   B   C   D\\n2013-01-04  12  13  14  15\\n2013-01-05  16  17  18  19\\n2013-01-06  20  21  22  23\\n'"
     },
     "execution_count": 187,
     "metadata": {},
     "output_type": "execute_result"
    }
   ],
   "source": [
    "print(df[df.A>8])\n",
    "\"\"\"\n",
    "             A   B   C   D\n",
    "2013-01-04  12  13  14  15\n",
    "2013-01-05  16  17  18  19\n",
    "2013-01-06  20  21  22  23\n",
    "\"\"\""
   ],
   "metadata": {
    "collapsed": false,
    "pycharm": {
     "name": "#%%\n"
    }
   }
  },
  {
   "cell_type": "markdown",
   "source": [
    "# Pandas 设置值\n",
    "## 创建数据"
   ],
   "metadata": {
    "collapsed": false,
    "pycharm": {
     "name": "#%% md\n"
    }
   }
  },
  {
   "cell_type": "code",
   "execution_count": 188,
   "outputs": [
    {
     "name": "stdout",
     "output_type": "stream",
     "text": [
      "             A   B   C   D\n",
      "2013-01-01   0   1   2   3\n",
      "2013-01-02   4   5   6   7\n",
      "2013-01-03   8   9  10  11\n",
      "2013-01-04  12  13  14  15\n",
      "2013-01-05  16  17  18  19\n",
      "2013-01-06  20  21  22  23\n"
     ]
    },
    {
     "data": {
      "text/plain": "'\\n             A   B   C   D\\n2013-01-01   0   1   2   3\\n2013-01-02   4   5   6   7\\n2013-01-03   8   9  10  11\\n2013-01-04  12  13  14  15\\n2013-01-05  16  17  18  19\\n2013-01-06  20  21  22  23\\n'"
     },
     "execution_count": 188,
     "metadata": {},
     "output_type": "execute_result"
    }
   ],
   "source": [
    "dates = pd.date_range('20130101', periods=6)\n",
    "df = pd.DataFrame(np.arange(24).reshape((6,4)),index=dates, columns=['A','B','C','D'])\n",
    "print(df)\n",
    "\"\"\"\n",
    "             A   B   C   D\n",
    "2013-01-01   0   1   2   3\n",
    "2013-01-02   4   5   6   7\n",
    "2013-01-03   8   9  10  11\n",
    "2013-01-04  12  13  14  15\n",
    "2013-01-05  16  17  18  19\n",
    "2013-01-06  20  21  22  23\n",
    "\"\"\""
   ],
   "metadata": {
    "collapsed": false,
    "pycharm": {
     "name": "#%%\n"
    }
   }
  },
  {
   "cell_type": "markdown",
   "source": [
    "## 根据位置设置 loc 和 iloc"
   ],
   "metadata": {
    "collapsed": false,
    "pycharm": {
     "name": "#%% md\n"
    }
   }
  },
  {
   "cell_type": "code",
   "execution_count": 189,
   "outputs": [
    {
     "name": "stdout",
     "output_type": "stream",
     "text": [
      "             A     B     C   D\n",
      "2013-01-01   0  2222     2   3\n",
      "2013-01-02   4     5     6   7\n",
      "2013-01-03   8     9  1111  11\n",
      "2013-01-04  12    13    14  15\n",
      "2013-01-05  16    17    18  19\n",
      "2013-01-06  20    21    22  23\n"
     ]
    },
    {
     "data": {
      "text/plain": "'\\n             A     B     C   D\\n2013-01-01   0  2222     2   3\\n2013-01-02   4     5     6   7\\n2013-01-03   8     9  1111  11\\n2013-01-04  12    13    14  15\\n2013-01-05  16    17    18  19\\n2013-01-06  20    21    22  23\\n'"
     },
     "execution_count": 189,
     "metadata": {},
     "output_type": "execute_result"
    }
   ],
   "source": [
    "df.iloc[2,2] = 1111\n",
    "df.loc['20130101','B'] = 2222\n",
    "print(df)\n",
    "\"\"\"\n",
    "             A     B     C   D\n",
    "2013-01-01   0  2222     2   3\n",
    "2013-01-02   4     5     6   7\n",
    "2013-01-03   8     9  1111  11\n",
    "2013-01-04  12    13    14  15\n",
    "2013-01-05  16    17    18  19\n",
    "2013-01-06  20    21    22  23\n",
    "\"\"\""
   ],
   "metadata": {
    "collapsed": false,
    "pycharm": {
     "name": "#%%\n"
    }
   }
  },
  {
   "cell_type": "markdown",
   "source": [
    "## 根据条件设置"
   ],
   "metadata": {
    "collapsed": false,
    "pycharm": {
     "name": "#%% md\n"
    }
   }
  },
  {
   "cell_type": "code",
   "execution_count": 190,
   "outputs": [
    {
     "name": "stdout",
     "output_type": "stream",
     "text": [
      "             A     B     C   D\n",
      "2013-01-01   0  2222     2   3\n",
      "2013-01-02   4     5     6   7\n",
      "2013-01-03   8     0  1111  11\n",
      "2013-01-04  12     0    14  15\n",
      "2013-01-05  16     0    18  19\n",
      "2013-01-06  20     0    22  23\n"
     ]
    }
   ],
   "source": [
    "df.B[df.A>4] = 0\n",
    "\"\"\"\n",
    "                A     B     C   D\n",
    "2013-01-01   0  2222     2   3\n",
    "2013-01-02   4     5     6   7\n",
    "2013-01-03   8     0  1111  11\n",
    "2013-01-04  12     0    14  15\n",
    "2013-01-05  16     0    18  19\n",
    "2013-01-06  20     0    22  23\n",
    "\"\"\"\n",
    "print(df)"
   ],
   "metadata": {
    "collapsed": false,
    "pycharm": {
     "name": "#%%\n"
    }
   }
  },
  {
   "cell_type": "markdown",
   "source": [
    "## 按行或列设置"
   ],
   "metadata": {
    "collapsed": false,
    "pycharm": {
     "name": "#%% md\n"
    }
   }
  },
  {
   "cell_type": "code",
   "execution_count": 191,
   "outputs": [
    {
     "name": "stdout",
     "output_type": "stream",
     "text": [
      "             A     B     C   D   F\n",
      "2013-01-01   0  2222     2   3 NaN\n",
      "2013-01-02   4     5     6   7 NaN\n",
      "2013-01-03   8     0  1111  11 NaN\n",
      "2013-01-04  12     0    14  15 NaN\n",
      "2013-01-05  16     0    18  19 NaN\n",
      "2013-01-06  20     0    22  23 NaN\n"
     ]
    },
    {
     "data": {
      "text/plain": "'\\n             A     B     C   D   F\\n2013-01-01   0  2222     2   3 NaN\\n2013-01-02   4     5     6   7 NaN\\n2013-01-03   8     0  1111  11 NaN\\n2013-01-04  12     0    14  15 NaN\\n2013-01-05  16     0    18  19 NaN\\n2013-01-06  20     0    22  23 NaN\\n'"
     },
     "execution_count": 191,
     "metadata": {},
     "output_type": "execute_result"
    }
   ],
   "source": [
    "df['F'] = np.nan\n",
    "print(df)\n",
    "\"\"\"\n",
    "             A     B     C   D   F\n",
    "2013-01-01   0  2222     2   3 NaN\n",
    "2013-01-02   4     5     6   7 NaN\n",
    "2013-01-03   8     0  1111  11 NaN\n",
    "2013-01-04  12     0    14  15 NaN\n",
    "2013-01-05  16     0    18  19 NaN\n",
    "2013-01-06  20     0    22  23 NaN\n",
    "\"\"\""
   ],
   "metadata": {
    "collapsed": false,
    "pycharm": {
     "name": "#%%\n"
    }
   }
  },
  {
   "cell_type": "markdown",
   "source": [
    "## 添加数据"
   ],
   "metadata": {
    "collapsed": false,
    "pycharm": {
     "name": "#%% md\n"
    }
   }
  },
  {
   "cell_type": "code",
   "execution_count": 192,
   "outputs": [
    {
     "name": "stdout",
     "output_type": "stream",
     "text": [
      "             A     B     C   D   F  E\n",
      "2013-01-01   0  2222     2   3 NaN  1\n",
      "2013-01-02   4     5     6   7 NaN  2\n",
      "2013-01-03   8     0  1111  11 NaN  3\n",
      "2013-01-04  12     0    14  15 NaN  4\n",
      "2013-01-05  16     0    18  19 NaN  5\n",
      "2013-01-06  20     0    22  23 NaN  6\n"
     ]
    },
    {
     "data": {
      "text/plain": "'\\n             A     B     C   D   F  E\\n2013-01-01   0  2222     2   3 NaN  1\\n2013-01-02   4     5     6   7 NaN  2\\n2013-01-03   8     0  1111  11 NaN  3\\n2013-01-04  12     0    14  15 NaN  4\\n2013-01-05  16     0    18  19 NaN  5\\n2013-01-06  20     0    22  23 NaN  6\\n'"
     },
     "execution_count": 192,
     "metadata": {},
     "output_type": "execute_result"
    }
   ],
   "source": [
    "df['E'] = pd.Series([1,2,3,4,5,6], index=pd.date_range('20130101',periods=6))\n",
    "print(df)\n",
    "\"\"\"\n",
    "             A     B     C   D   F  E\n",
    "2013-01-01   0  2222     2   3 NaN  1\n",
    "2013-01-02   4     5     6   7 NaN  2\n",
    "2013-01-03   8     0  1111  11 NaN  3\n",
    "2013-01-04  12     0    14  15 NaN  4\n",
    "2013-01-05  16     0    18  19 NaN  5\n",
    "2013-01-06  20     0    22  23 NaN  6\n",
    "\"\"\""
   ],
   "metadata": {
    "collapsed": false,
    "pycharm": {
     "name": "#%%\n"
    }
   }
  },
  {
   "cell_type": "markdown",
   "source": [
    "# Pandas 处理丢失数据\n",
    "## 创建含 NaN 的矩阵\n"
   ],
   "metadata": {
    "collapsed": false,
    "pycharm": {
     "name": "#%% md\n"
    }
   }
  },
  {
   "cell_type": "code",
   "execution_count": 193,
   "outputs": [
    {
     "name": "stdout",
     "output_type": "stream",
     "text": [
      "             A     B     C   D\n",
      "2013-01-01   0   NaN   2.0   3\n",
      "2013-01-02   4   5.0   NaN   7\n",
      "2013-01-03   8   9.0  10.0  11\n",
      "2013-01-04  12  13.0  14.0  15\n",
      "2013-01-05  16  17.0  18.0  19\n",
      "2013-01-06  20  21.0  22.0  23\n"
     ]
    },
    {
     "data": {
      "text/plain": "'\\n             A     B     C   D\\n2013-01-01   0   NaN   2.0   3\\n2013-01-02   4   5.0   NaN   7\\n2013-01-03   8   9.0  10.0  11\\n2013-01-04  12  13.0  14.0  15\\n2013-01-05  16  17.0  18.0  19\\n2013-01-06  20  21.0  22.0  23\\n'"
     },
     "execution_count": 193,
     "metadata": {},
     "output_type": "execute_result"
    }
   ],
   "source": [
    "dates = pd.date_range('20130101', periods=6)\n",
    "df = pd.DataFrame(np.arange(24).reshape((6,4)),index=dates, columns=['A','B','C','D'])\n",
    "df.iloc[0,1] = np.nan\n",
    "df.iloc[1,2] = np.nan\n",
    "print(df)\n",
    "\"\"\"\n",
    "             A     B     C   D\n",
    "2013-01-01   0   NaN   2.0   3\n",
    "2013-01-02   4   5.0   NaN   7\n",
    "2013-01-03   8   9.0  10.0  11\n",
    "2013-01-04  12  13.0  14.0  15\n",
    "2013-01-05  16  17.0  18.0  19\n",
    "2013-01-06  20  21.0  22.0  23\n",
    "\"\"\""
   ],
   "metadata": {
    "collapsed": false,
    "pycharm": {
     "name": "#%%\n"
    }
   }
  },
  {
   "cell_type": "markdown",
   "source": [
    "## pd.dropna()"
   ],
   "metadata": {
    "collapsed": false,
    "pycharm": {
     "name": "#%% md\n"
    }
   }
  },
  {
   "cell_type": "code",
   "execution_count": 194,
   "outputs": [
    {
     "name": "stdout",
     "output_type": "stream",
     "text": [
      "             A     B     C   D\n",
      "2013-01-01   0   NaN   2.0   3\n",
      "2013-01-02   4   5.0   NaN   7\n",
      "2013-01-03   8   9.0  10.0  11\n",
      "2013-01-04  12  13.0  14.0  15\n",
      "2013-01-05  16  17.0  18.0  19\n",
      "2013-01-06  20  21.0  22.0  23\n"
     ]
    },
    {
     "data": {
      "text/plain": "'\\n             A     B     C   D\\n2013-01-03   8   9.0  10.0  11\\n2013-01-04  12  13.0  14.0  15\\n2013-01-05  16  17.0  18.0  19\\n2013-01-06  20  21.0  22.0  23\\n'"
     },
     "execution_count": 194,
     "metadata": {},
     "output_type": "execute_result"
    }
   ],
   "source": [
    "df.dropna(\n",
    "    axis=0,     # 0: 对行进行操作; 1: 对列进行操作\n",
    "    how='any'   # 'any': 只要存在 NaN 就 drop 掉; 'all': 必须全部是 NaN 才 drop\n",
    "    )\n",
    "print(df)\n",
    "\"\"\"\n",
    "             A     B     C   D\n",
    "2013-01-03   8   9.0  10.0  11\n",
    "2013-01-04  12  13.0  14.0  15\n",
    "2013-01-05  16  17.0  18.0  19\n",
    "2013-01-06  20  21.0  22.0  23\n",
    "\"\"\""
   ],
   "metadata": {
    "collapsed": false,
    "pycharm": {
     "name": "#%%\n"
    }
   }
  },
  {
   "cell_type": "markdown",
   "source": [
    "## pd.fillna()"
   ],
   "metadata": {
    "collapsed": false,
    "pycharm": {
     "name": "#%% md\n"
    }
   }
  },
  {
   "cell_type": "code",
   "execution_count": 195,
   "outputs": [
    {
     "name": "stdout",
     "output_type": "stream",
     "text": [
      "             A     B     C   D\n",
      "2013-01-01   0   NaN   2.0   3\n",
      "2013-01-02   4   5.0   NaN   7\n",
      "2013-01-03   8   9.0  10.0  11\n",
      "2013-01-04  12  13.0  14.0  15\n",
      "2013-01-05  16  17.0  18.0  19\n",
      "2013-01-06  20  21.0  22.0  23\n"
     ]
    },
    {
     "data": {
      "text/plain": "'\\n             A     B     C   D\\n2013-01-01   0   0.0   2.0   3\\n2013-01-02   4   5.0   0.0   7\\n2013-01-03   8   9.0  10.0  11\\n2013-01-04  12  13.0  14.0  15\\n2013-01-05  16  17.0  18.0  19\\n2013-01-06  20  21.0  22.0  23\\n'"
     },
     "execution_count": 195,
     "metadata": {},
     "output_type": "execute_result"
    }
   ],
   "source": [
    "df.fillna(value=0)\n",
    "print(df)\n",
    "\"\"\"\n",
    "             A     B     C   D\n",
    "2013-01-01   0   0.0   2.0   3\n",
    "2013-01-02   4   5.0   0.0   7\n",
    "2013-01-03   8   9.0  10.0  11\n",
    "2013-01-04  12  13.0  14.0  15\n",
    "2013-01-05  16  17.0  18.0  19\n",
    "2013-01-06  20  21.0  22.0  23\n",
    "\"\"\""
   ],
   "metadata": {
    "collapsed": false,
    "pycharm": {
     "name": "#%%\n"
    }
   }
  },
  {
   "cell_type": "markdown",
   "source": [
    "## pd.isnull()"
   ],
   "metadata": {
    "collapsed": false,
    "pycharm": {
     "name": "#%% md\n"
    }
   }
  },
  {
   "cell_type": "code",
   "execution_count": 196,
   "outputs": [
    {
     "name": "stdout",
     "output_type": "stream",
     "text": [
      "                A      B      C      D\n",
      "2013-01-01  False   True  False  False\n",
      "2013-01-02  False  False   True  False\n",
      "2013-01-03  False  False  False  False\n",
      "2013-01-04  False  False  False  False\n",
      "2013-01-05  False  False  False  False\n",
      "2013-01-06  False  False  False  False\n"
     ]
    },
    {
     "data": {
      "text/plain": "'\\n                A      B      C      D\\n2013-01-01  False   True  False  False\\n2013-01-02  False  False   True  False\\n2013-01-03  False  False  False  False\\n2013-01-04  False  False  False  False\\n2013-01-05  False  False  False  False\\n2013-01-06  False  False  False  False\\n'"
     },
     "execution_count": 196,
     "metadata": {},
     "output_type": "execute_result"
    }
   ],
   "source": [
    "df.isnull()\n",
    "print(df.isnull())\n",
    "\"\"\"\n",
    "                A      B      C      D\n",
    "2013-01-01  False   True  False  False\n",
    "2013-01-02  False  False   True  False\n",
    "2013-01-03  False  False  False  False\n",
    "2013-01-04  False  False  False  False\n",
    "2013-01-05  False  False  False  False\n",
    "2013-01-06  False  False  False  False\n",
    "\"\"\""
   ],
   "metadata": {
    "collapsed": false,
    "pycharm": {
     "name": "#%%\n"
    }
   }
  },
  {
   "cell_type": "code",
   "execution_count": 197,
   "outputs": [
    {
     "name": "stdout",
     "output_type": "stream",
     "text": [
      "True\n"
     ]
    }
   ],
   "source": [
    "np.any(df.isnull()) == True\n",
    "print(np.any(df.isnull()))\n",
    "# True"
   ],
   "metadata": {
    "collapsed": false,
    "pycharm": {
     "name": "#%%\n"
    }
   }
  },
  {
   "cell_type": "markdown",
   "source": [
    "# Pandas 导入导出\n",
    "## 读取csv"
   ],
   "metadata": {
    "collapsed": false,
    "pycharm": {
     "name": "#%% md\n"
    }
   }
  },
  {
   "cell_type": "code",
   "execution_count": 198,
   "outputs": [
    {
     "name": "stdout",
     "output_type": "stream",
     "text": [
      "    Student ID  name   age  gender\n",
      "0         1100  Kelly   22  Female\n",
      "1         1101    Clo   21  Female\n",
      "2         1102  Tilly   22  Female\n",
      "3         1103   Tony   24    Male\n",
      "4         1104  David   20    Male\n",
      "5         1105  Catty   22  Female\n",
      "6         1106      M    3  Female\n",
      "7         1107      N   43    Male\n",
      "8         1108      A   13    Male\n",
      "9         1109      S   12    Male\n",
      "10        1110  David   33    Male\n",
      "11        1111     Dw    3  Female\n",
      "12        1112      Q   23    Male\n",
      "13        1113      W   21  Female\n"
     ]
    }
   ],
   "source": [
    "import pandas as pd #加载模块\n",
    "\n",
    "#读取csv\n",
    "data = pd.read_csv(r'15_read_to/student.csv')\n",
    "\n",
    "#打印出data\n",
    "print(data)"
   ],
   "metadata": {
    "collapsed": false,
    "pycharm": {
     "name": "#%%\n"
    }
   }
  },
  {
   "cell_type": "markdown",
   "source": [
    "## 将资料存取成pickle"
   ],
   "metadata": {
    "collapsed": false,
    "pycharm": {
     "name": "#%% md\n"
    }
   }
  },
  {
   "cell_type": "code",
   "execution_count": 199,
   "outputs": [],
   "source": [
    "data.to_pickle('15_read_to/student.pickle')"
   ],
   "metadata": {
    "collapsed": false,
    "pycharm": {
     "name": "#%%\n"
    }
   }
  },
  {
   "cell_type": "markdown",
   "source": [
    "# Pandas 合并 concat"
   ],
   "metadata": {
    "collapsed": false,
    "pycharm": {
     "name": "#%% md\n"
    }
   }
  },
  {
   "cell_type": "markdown",
   "source": [
    "## axis (合并方向)\n",
    "axis=0是预设值，因此未设定任何参数时，函数默认axis=0。"
   ],
   "metadata": {
    "collapsed": false,
    "pycharm": {
     "name": "#%% md\n"
    }
   }
  },
  {
   "cell_type": "code",
   "execution_count": 200,
   "outputs": [
    {
     "name": "stdout",
     "output_type": "stream",
     "text": [
      "     a    b    c    d\n",
      "0  0.0  0.0  0.0  0.0\n",
      "1  0.0  0.0  0.0  0.0\n",
      "2  0.0  0.0  0.0  0.0\n",
      "     a    b    c    d\n",
      "0  1.0  1.0  1.0  1.0\n",
      "1  1.0  1.0  1.0  1.0\n",
      "2  1.0  1.0  1.0  1.0\n",
      "     a    b    c    d\n",
      "0  2.0  2.0  2.0  2.0\n",
      "1  2.0  2.0  2.0  2.0\n",
      "2  2.0  2.0  2.0  2.0\n"
     ]
    }
   ],
   "source": [
    "import pandas as pd\n",
    "import numpy as np\n",
    "\n",
    "#定义资料集\n",
    "df1 = pd.DataFrame(np.ones((3,4))*0, columns=['a','b','c','d'])\n",
    "df2 = pd.DataFrame(np.ones((3,4))*1, columns=['a','b','c','d'])\n",
    "df3 = pd.DataFrame(np.ones((3,4))*2, columns=['a','b','c','d'])\n",
    "print(df1)\n",
    "print(df2)\n",
    "print(df3)"
   ],
   "metadata": {
    "collapsed": false,
    "pycharm": {
     "name": "#%%\n"
    }
   }
  },
  {
   "cell_type": "markdown",
   "source": [
    "#### concat纵向合并"
   ],
   "metadata": {
    "collapsed": false,
    "pycharm": {
     "name": "#%% md\n"
    }
   }
  },
  {
   "cell_type": "code",
   "execution_count": 201,
   "outputs": [
    {
     "name": "stdout",
     "output_type": "stream",
     "text": [
      "     a    b    c    d\n",
      "0  0.0  0.0  0.0  0.0\n",
      "1  0.0  0.0  0.0  0.0\n",
      "2  0.0  0.0  0.0  0.0\n",
      "0  1.0  1.0  1.0  1.0\n",
      "1  1.0  1.0  1.0  1.0\n",
      "2  1.0  1.0  1.0  1.0\n",
      "0  2.0  2.0  2.0  2.0\n",
      "1  2.0  2.0  2.0  2.0\n",
      "2  2.0  2.0  2.0  2.0\n"
     ]
    }
   ],
   "source": [
    "res = pd.concat([df1, df2, df3], axis=0)\n",
    "\n",
    "#打印结果\n",
    "print(res)\n",
    "#     a    b    c    d\n",
    "# 0  0.0  0.0  0.0  0.0\n",
    "# 1  0.0  0.0  0.0  0.0\n",
    "# 2  0.0  0.0  0.0  0.0\n",
    "# 0  1.0  1.0  1.0  1.0\n",
    "# 1  1.0  1.0  1.0  1.0\n",
    "# 2  1.0  1.0  1.0  1.0\n",
    "# 0  2.0  2.0  2.0  2.0\n",
    "# 1  2.0  2.0  2.0  2.0\n",
    "# 2  2.0  2.0  2.0  2.0"
   ],
   "metadata": {
    "collapsed": false,
    "pycharm": {
     "name": "#%%\n"
    }
   }
  },
  {
   "cell_type": "markdown",
   "source": [
    "## ignore_index (重置 index)"
   ],
   "metadata": {
    "collapsed": false,
    "pycharm": {
     "name": "#%% md\n"
    }
   }
  },
  {
   "cell_type": "code",
   "execution_count": 202,
   "outputs": [
    {
     "name": "stdout",
     "output_type": "stream",
     "text": [
      "     a    b    c    d\n",
      "0  0.0  0.0  0.0  0.0\n",
      "1  0.0  0.0  0.0  0.0\n",
      "2  0.0  0.0  0.0  0.0\n",
      "3  1.0  1.0  1.0  1.0\n",
      "4  1.0  1.0  1.0  1.0\n",
      "5  1.0  1.0  1.0  1.0\n",
      "6  2.0  2.0  2.0  2.0\n",
      "7  2.0  2.0  2.0  2.0\n",
      "8  2.0  2.0  2.0  2.0\n"
     ]
    }
   ],
   "source": [
    "#承上一个例子，并将index_ignore设定为True\n",
    "res = pd.concat([df1, df2, df3], axis=0, ignore_index=True)\n",
    "\n",
    "#打印结果\n",
    "print(res)\n",
    "#     a    b    c    d\n",
    "# 0  0.0  0.0  0.0  0.0\n",
    "# 1  0.0  0.0  0.0  0.0\n",
    "# 2  0.0  0.0  0.0  0.0\n",
    "# 3  1.0  1.0  1.0  1.0\n",
    "# 4  1.0  1.0  1.0  1.0\n",
    "# 5  1.0  1.0  1.0  1.0\n",
    "# 6  2.0  2.0  2.0  2.0\n",
    "# 7  2.0  2.0  2.0  2.0\n",
    "# 8  2.0  2.0  2.0  2.0"
   ],
   "metadata": {
    "collapsed": false,
    "pycharm": {
     "name": "#%%\n"
    }
   }
  },
  {
   "cell_type": "markdown",
   "source": [
    "## join (合并方式)"
   ],
   "metadata": {
    "collapsed": false,
    "pycharm": {
     "name": "#%% md\n"
    }
   }
  },
  {
   "cell_type": "code",
   "execution_count": 203,
   "outputs": [
    {
     "name": "stdout",
     "output_type": "stream",
     "text": [
      "     a    b    c    d\n",
      "1  0.0  0.0  0.0  0.0\n",
      "2  0.0  0.0  0.0  0.0\n",
      "3  0.0  0.0  0.0  0.0\n",
      "     b    c    d    e\n",
      "2  1.0  1.0  1.0  1.0\n",
      "3  1.0  1.0  1.0  1.0\n",
      "4  1.0  1.0  1.0  1.0\n"
     ]
    }
   ],
   "source": [
    "import pandas as pd\n",
    "import numpy as np\n",
    "\n",
    "#定义资料集\n",
    "df1 = pd.DataFrame(np.ones((3,4))*0, columns=['a','b','c','d'], index=[1,2,3])\n",
    "df2 = pd.DataFrame(np.ones((3,4))*1, columns=['b','c','d','e'], index=[2,3,4])\n",
    "print(df1)\n",
    "print(df2)"
   ],
   "metadata": {
    "collapsed": false,
    "pycharm": {
     "name": "#%%\n"
    }
   }
  },
  {
   "cell_type": "markdown",
   "source": [
    "#### 纵向\"外\"合并df1与df2"
   ],
   "metadata": {
    "collapsed": false,
    "pycharm": {
     "name": "#%% md\n"
    }
   }
  },
  {
   "cell_type": "code",
   "execution_count": 204,
   "outputs": [
    {
     "name": "stdout",
     "output_type": "stream",
     "text": [
      "     a    b    c    d    e\n",
      "1  0.0  0.0  0.0  0.0  NaN\n",
      "2  0.0  0.0  0.0  0.0  NaN\n",
      "3  0.0  0.0  0.0  0.0  NaN\n",
      "2  NaN  1.0  1.0  1.0  1.0\n",
      "3  NaN  1.0  1.0  1.0  1.0\n",
      "4  NaN  1.0  1.0  1.0  1.0\n"
     ]
    }
   ],
   "source": [
    "res = pd.concat([df1, df2], axis=0, join='outer')\n",
    "\n",
    "print(res)\n",
    "#     a    b    c    d    e\n",
    "# 1  0.0  0.0  0.0  0.0  NaN\n",
    "# 2  0.0  0.0  0.0  0.0  NaN\n",
    "# 3  0.0  0.0  0.0  0.0  NaN\n",
    "# 2  NaN  1.0  1.0  1.0  1.0\n",
    "# 3  NaN  1.0  1.0  1.0  1.0\n",
    "# 4  NaN  1.0  1.0  1.0  1.0"
   ],
   "metadata": {
    "collapsed": false,
    "pycharm": {
     "name": "#%%\n"
    }
   }
  },
  {
   "cell_type": "markdown",
   "source": [
    "## 纵向\"内\"合并df1与df2"
   ],
   "metadata": {
    "collapsed": false,
    "pycharm": {
     "name": "#%% md\n"
    }
   }
  },
  {
   "cell_type": "code",
   "execution_count": 205,
   "outputs": [
    {
     "name": "stdout",
     "output_type": "stream",
     "text": [
      "     b    c    d\n",
      "1  0.0  0.0  0.0\n",
      "2  0.0  0.0  0.0\n",
      "3  0.0  0.0  0.0\n",
      "2  1.0  1.0  1.0\n",
      "3  1.0  1.0  1.0\n",
      "4  1.0  1.0  1.0\n",
      "     b    c    d\n",
      "0  0.0  0.0  0.0\n",
      "1  0.0  0.0  0.0\n",
      "2  0.0  0.0  0.0\n",
      "3  1.0  1.0  1.0\n",
      "4  1.0  1.0  1.0\n",
      "5  1.0  1.0  1.0\n"
     ]
    }
   ],
   "source": [
    "res = pd.concat([df1, df2], axis=0, join='inner')\n",
    "\n",
    "#打印结果\n",
    "print(res)\n",
    "#     b    c    d\n",
    "# 1  0.0  0.0  0.0\n",
    "# 2  0.0  0.0  0.0\n",
    "# 3  0.0  0.0  0.0\n",
    "# 2  1.0  1.0  1.0\n",
    "# 3  1.0  1.0  1.0\n",
    "# 4  1.0  1.0  1.0\n",
    "\n",
    "#重置index并打印结果\n",
    "res = pd.concat([df1, df2], axis=0, join='inner', ignore_index=True)\n",
    "print(res)\n",
    "#     b    c    d\n",
    "# 0  0.0  0.0  0.0\n",
    "# 1  0.0  0.0  0.0\n",
    "# 2  0.0  0.0  0.0\n",
    "# 3  1.0  1.0  1.0\n",
    "# 4  1.0  1.0  1.0\n",
    "# 5  1.0  1.0  1.0"
   ],
   "metadata": {
    "collapsed": false,
    "pycharm": {
     "name": "#%%\n"
    }
   }
  },
  {
   "cell_type": "markdown",
   "source": [
    "## join_axes (依照 axes 合并)\n",
    "新版本pandas已经删除了join_axes"
   ],
   "metadata": {
    "collapsed": false,
    "pycharm": {
     "name": "#%% md\n"
    }
   }
  },
  {
   "cell_type": "code",
   "execution_count": 206,
   "outputs": [
    {
     "name": "stdout",
     "output_type": "stream",
     "text": [
      "     a    b    c    d\n",
      "1  0.0  0.0  0.0  0.0\n",
      "2  0.0  0.0  0.0  0.0\n",
      "3  0.0  0.0  0.0  0.0\n",
      "     b    c    d    e\n",
      "2  1.0  1.0  1.0  1.0\n",
      "3  1.0  1.0  1.0  1.0\n",
      "4  1.0  1.0  1.0  1.0\n"
     ]
    }
   ],
   "source": [
    "import pandas as pd\n",
    "import numpy as np\n",
    "\n",
    "#定义资料集\n",
    "df1 = pd.DataFrame(np.ones((3,4))*0, columns=['a','b','c','d'], index=[1,2,3])\n",
    "df2 = pd.DataFrame(np.ones((3,4))*1, columns=['b','c','d','e'], index=[2,3,4])\n",
    "print(df1)\n",
    "print(df2)"
   ],
   "metadata": {
    "collapsed": false,
    "pycharm": {
     "name": "#%%\n"
    }
   }
  },
  {
   "cell_type": "markdown",
   "source": [
    "#### 依照`df1.index`进行横向合并"
   ],
   "metadata": {
    "collapsed": false,
    "pycharm": {
     "name": "#%% md\n"
    }
   }
  },
  {
   "cell_type": "code",
   "execution_count": 207,
   "outputs": [
    {
     "name": "stdout",
     "output_type": "stream",
     "text": [
      "     a  b_x  c_x  d_x  b_y  c_y  d_y    e\n",
      "1  0.0  0.0  0.0  0.0  NaN  NaN  NaN  NaN\n",
      "2  0.0  0.0  0.0  0.0  1.0  1.0  1.0  1.0\n",
      "3  0.0  0.0  0.0  0.0  1.0  1.0  1.0  1.0\n",
      "     a    b    c    d    b    c    d    e\n",
      "1  0.0  0.0  0.0  0.0  NaN  NaN  NaN  NaN\n",
      "2  0.0  0.0  0.0  0.0  1.0  1.0  1.0  1.0\n",
      "3  0.0  0.0  0.0  0.0  1.0  1.0  1.0  1.0\n",
      "4  NaN  NaN  NaN  NaN  1.0  1.0  1.0  1.0\n"
     ]
    }
   ],
   "source": [
    "res=pd.merge(df1, df2, how='left', left_index=True, right_index=True)\n",
    "#打印结果\n",
    "print(res)\n",
    "#     a    b    c    d    b    c    d    e\n",
    "# 1  0.0  0.0  0.0  0.0  NaN  NaN  NaN  NaN\n",
    "# 2  0.0  0.0  0.0  0.0  1.0  1.0  1.0  1.0\n",
    "# 3  0.0  0.0  0.0  0.0  1.0  1.0  1.0  1.0\n",
    "\n",
    "#移除join_axes，并打印结果\n",
    "res = pd.concat([df1, df2], axis=1)\n",
    "print(res)\n",
    "#     a    b    c    d    b    c    d    e\n",
    "# 1  0.0  0.0  0.0  0.0  NaN  NaN  NaN  NaN\n",
    "# 2  0.0  0.0  0.0  0.0  1.0  1.0  1.0  1.0\n",
    "# 3  0.0  0.0  0.0  0.0  1.0  1.0  1.0  1.0\n",
    "# 4  NaN  NaN  NaN  NaN  1.0  1.0  1.0  1.0"
   ],
   "metadata": {
    "collapsed": false,
    "pycharm": {
     "name": "#%%\n"
    }
   }
  },
  {
   "cell_type": "markdown",
   "source": [
    "## append (添加数据)\n",
    "append只有纵向合并，没有横向合并。"
   ],
   "metadata": {
    "collapsed": false,
    "pycharm": {
     "name": "#%% md\n"
    }
   }
  },
  {
   "cell_type": "code",
   "execution_count": 208,
   "outputs": [
    {
     "name": "stdout",
     "output_type": "stream",
     "text": [
      "     a    b    c    d\n",
      "0  0.0  0.0  0.0  0.0\n",
      "1  0.0  0.0  0.0  0.0\n",
      "2  0.0  0.0  0.0  0.0\n",
      "     a    b    c    d\n",
      "0  1.0  1.0  1.0  1.0\n",
      "1  1.0  1.0  1.0  1.0\n",
      "2  1.0  1.0  1.0  1.0\n",
      "     a    b    c    d\n",
      "0  1.0  1.0  1.0  1.0\n",
      "1  1.0  1.0  1.0  1.0\n",
      "2  1.0  1.0  1.0  1.0\n"
     ]
    }
   ],
   "source": [
    "import pandas as pd\n",
    "import numpy as np\n",
    "\n",
    "#定义资料集\n",
    "df1 = pd.DataFrame(np.ones((3,4))*0, columns=['a','b','c','d'])\n",
    "df2 = pd.DataFrame(np.ones((3,4))*1, columns=['a','b','c','d'])\n",
    "df3 = pd.DataFrame(np.ones((3,4))*1, columns=['a','b','c','d'])\n",
    "s1 = pd.Series([1,2,3,4], index=['a','b','c','d'])\n",
    "print(df1)\n",
    "print(df2)\n",
    "print(df3)"
   ],
   "metadata": {
    "collapsed": false,
    "pycharm": {
     "name": "#%%\n"
    }
   }
  },
  {
   "cell_type": "code",
   "execution_count": 209,
   "outputs": [
    {
     "name": "stdout",
     "output_type": "stream",
     "text": [
      "     a    b    c    d\n",
      "0  0.0  0.0  0.0  0.0\n",
      "1  0.0  0.0  0.0  0.0\n",
      "2  0.0  0.0  0.0  0.0\n",
      "3  1.0  1.0  1.0  1.0\n",
      "4  1.0  1.0  1.0  1.0\n",
      "5  1.0  1.0  1.0  1.0\n"
     ]
    }
   ],
   "source": [
    "#将df2合并到df1的下面，以及重置index，并打印出结果\n",
    "res = df1.append(df2, ignore_index=True)\n",
    "print(res)\n",
    "#     a    b    c    d\n",
    "# 0  0.0  0.0  0.0  0.0\n",
    "# 1  0.0  0.0  0.0  0.0\n",
    "# 2  0.0  0.0  0.0  0.0\n",
    "# 3  1.0  1.0  1.0  1.0\n",
    "# 4  1.0  1.0  1.0  1.0\n",
    "# 5  1.0  1.0  1.0  1.0"
   ],
   "metadata": {
    "collapsed": false,
    "pycharm": {
     "name": "#%%\n"
    }
   }
  },
  {
   "cell_type": "code",
   "execution_count": 210,
   "outputs": [
    {
     "name": "stdout",
     "output_type": "stream",
     "text": [
      "     a    b    c    d\n",
      "0  0.0  0.0  0.0  0.0\n",
      "1  0.0  0.0  0.0  0.0\n",
      "2  0.0  0.0  0.0  0.0\n",
      "3  1.0  1.0  1.0  1.0\n",
      "4  1.0  1.0  1.0  1.0\n",
      "5  1.0  1.0  1.0  1.0\n",
      "6  1.0  1.0  1.0  1.0\n",
      "7  1.0  1.0  1.0  1.0\n",
      "8  1.0  1.0  1.0  1.0\n"
     ]
    }
   ],
   "source": [
    "#合并多个df，将df2与df3合并至df1的下面，以及重置index，并打印出结果\n",
    "res = df1.append([df2, df3], ignore_index=True)\n",
    "print(res)\n",
    "#     a    b    c    d\n",
    "# 0  0.0  0.0  0.0  0.0\n",
    "# 1  0.0  0.0  0.0  0.0\n",
    "# 2  0.0  0.0  0.0  0.0\n",
    "# 3  1.0  1.0  1.0  1.0\n",
    "# 4  1.0  1.0  1.0  1.0\n",
    "# 5  1.0  1.0  1.0  1.0\n",
    "# 6  1.0  1.0  1.0  1.0\n",
    "# 7  1.0  1.0  1.0  1.0\n",
    "# 8  1.0  1.0  1.0  1.0"
   ],
   "metadata": {
    "collapsed": false,
    "pycharm": {
     "name": "#%%\n"
    }
   }
  },
  {
   "cell_type": "code",
   "execution_count": 211,
   "outputs": [
    {
     "name": "stdout",
     "output_type": "stream",
     "text": [
      "     a    b    c    d\n",
      "0  0.0  0.0  0.0  0.0\n",
      "1  0.0  0.0  0.0  0.0\n",
      "2  0.0  0.0  0.0  0.0\n",
      "3  1.0  2.0  3.0  4.0\n"
     ]
    }
   ],
   "source": [
    "#合并series，将s1合并至df1，以及重置index，并打印出结果\n",
    "res = df1.append(s1, ignore_index=True)\n",
    "print(res)\n",
    "#     a    b    c    d\n",
    "# 0  0.0  0.0  0.0  0.0\n",
    "# 1  0.0  0.0  0.0  0.0\n",
    "# 2  0.0  0.0  0.0  0.0\n",
    "# 3  1.0  2.0  3.0  4.0"
   ],
   "metadata": {
    "collapsed": false,
    "pycharm": {
     "name": "#%%\n"
    }
   }
  },
  {
   "cell_type": "markdown",
   "source": [
    "# Pandas 合并 merge\n",
    "## 依据一组key合并"
   ],
   "metadata": {
    "collapsed": false,
    "pycharm": {
     "name": "#%% md\n"
    }
   }
  },
  {
   "cell_type": "code",
   "execution_count": 212,
   "outputs": [
    {
     "name": "stdout",
     "output_type": "stream",
     "text": [
      "  key   A   B\n",
      "0  K0  A0  B0\n",
      "1  K1  A1  B1\n",
      "2  K2  A2  B2\n",
      "3  K3  A3  B3\n",
      "  key   C   D\n",
      "0  K0  C0  D0\n",
      "1  K1  C1  D1\n",
      "2  K2  C2  D2\n",
      "3  K3  C3  D3\n",
      "  key   A   B   C   D\n",
      "0  K0  A0  B0  C0  D0\n",
      "1  K1  A1  B1  C1  D1\n",
      "2  K2  A2  B2  C2  D2\n",
      "3  K3  A3  B3  C3  D3\n"
     ]
    }
   ],
   "source": [
    "import pandas as pd\n",
    "\n",
    "#定义资料集并打印出\n",
    "left = pd.DataFrame({'key': ['K0', 'K1', 'K2', 'K3'],\n",
    "                             'A': ['A0', 'A1', 'A2', 'A3'],\n",
    "                             'B': ['B0', 'B1', 'B2', 'B3']})\n",
    "right = pd.DataFrame({'key': ['K0', 'K1', 'K2', 'K3'],\n",
    "                              'C': ['C0', 'C1', 'C2', 'C3'],\n",
    "                              'D': ['D0', 'D1', 'D2', 'D3']})\n",
    "\n",
    "print(left)\n",
    "#    A   B key\n",
    "# 0  A0  B0  K0\n",
    "# 1  A1  B1  K1\n",
    "# 2  A2  B2  K2\n",
    "# 3  A3  B3  K3\n",
    "\n",
    "print(right)\n",
    "#    C   D key\n",
    "# 0  C0  D0  K0\n",
    "# 1  C1  D1  K1\n",
    "# 2  C2  D2  K2\n",
    "# 3  C3  D3  K3\n",
    "\n",
    "#依据key column合并，并打印出\n",
    "res = pd.merge(left, right, on='key')\n",
    "\n",
    "print(res)\n"
   ],
   "metadata": {
    "collapsed": false,
    "pycharm": {
     "name": "#%%\n"
    }
   }
  },
  {
   "cell_type": "markdown",
   "source": [
    "## 依据两组key合并\n",
    "#### 合并时有4种方法how = ['left', 'right', 'outer', 'inner']，预设值how='inner'。"
   ],
   "metadata": {
    "collapsed": false,
    "pycharm": {
     "name": "#%% md\n"
    }
   }
  },
  {
   "cell_type": "code",
   "execution_count": 213,
   "outputs": [
    {
     "name": "stdout",
     "output_type": "stream",
     "text": [
      "  key1 key2   A   B\n",
      "0   K0   K0  A0  B0\n",
      "1   K0   K1  A1  B1\n",
      "2   K1   K0  A2  B2\n",
      "3   K2   K1  A3  B3\n",
      "  key1 key2   C   D\n",
      "0   K0   K0  C0  D0\n",
      "1   K1   K0  C1  D1\n",
      "2   K1   K0  C2  D2\n",
      "3   K2   K0  C3  D3\n"
     ]
    }
   ],
   "source": [
    "import pandas as pd\n",
    "\n",
    "#定义资料集并打印出\n",
    "left = pd.DataFrame({'key1': ['K0', 'K0', 'K1', 'K2'],\n",
    "                      'key2': ['K0', 'K1', 'K0', 'K1'],\n",
    "                      'A': ['A0', 'A1', 'A2', 'A3'],\n",
    "                      'B': ['B0', 'B1', 'B2', 'B3']})\n",
    "right = pd.DataFrame({'key1': ['K0', 'K1', 'K1', 'K2'],\n",
    "                       'key2': ['K0', 'K0', 'K0', 'K0'],\n",
    "                       'C': ['C0', 'C1', 'C2', 'C3'],\n",
    "                       'D': ['D0', 'D1', 'D2', 'D3']})\n",
    "\n",
    "print(left)\n",
    "#    A   B key1 key2\n",
    "# 0  A0  B0   K0   K0\n",
    "# 1  A1  B1   K0   K1\n",
    "# 2  A2  B2   K1   K0\n",
    "# 3  A3  B3   K2   K1\n",
    "\n",
    "print(right)\n",
    "#    C   D key1 key2\n",
    "# 0  C0  D0   K0   K0\n",
    "# 1  C1  D1   K1   K0\n",
    "# 2  C2  D2   K1   K0\n",
    "# 3  C3  D3   K2   K0"
   ],
   "metadata": {
    "collapsed": false,
    "pycharm": {
     "name": "#%%\n"
    }
   }
  },
  {
   "cell_type": "markdown",
   "source": [
    "#### 依据key1与key2 columns进行合并，并打印出四种结果['left', 'right', 'outer', 'inner']"
   ],
   "metadata": {
    "collapsed": false,
    "pycharm": {
     "name": "#%% md\n"
    }
   }
  },
  {
   "cell_type": "code",
   "execution_count": 214,
   "outputs": [
    {
     "name": "stdout",
     "output_type": "stream",
     "text": [
      "  key1 key2   A   B   C   D\n",
      "0   K0   K0  A0  B0  C0  D0\n",
      "1   K1   K0  A2  B2  C1  D1\n",
      "2   K1   K0  A2  B2  C2  D2\n"
     ]
    }
   ],
   "source": [
    "res = pd.merge(left, right, on=['key1', 'key2'], how='inner')\n",
    "print(res)\n",
    "#    A   B key1 key2   C   D\n",
    "# 0  A0  B0   K0   K0  C0  D0\n",
    "# 1  A2  B2   K1   K0  C1  D1\n",
    "# 2  A2  B2   K1   K0  C2  D2"
   ],
   "metadata": {
    "collapsed": false,
    "pycharm": {
     "name": "#%%\n"
    }
   }
  },
  {
   "cell_type": "code",
   "execution_count": 215,
   "outputs": [
    {
     "name": "stdout",
     "output_type": "stream",
     "text": [
      "  key1 key2    A    B    C    D\n",
      "0   K0   K0   A0   B0   C0   D0\n",
      "1   K0   K1   A1   B1  NaN  NaN\n",
      "2   K1   K0   A2   B2   C1   D1\n",
      "3   K1   K0   A2   B2   C2   D2\n",
      "4   K2   K1   A3   B3  NaN  NaN\n",
      "5   K2   K0  NaN  NaN   C3   D3\n"
     ]
    }
   ],
   "source": [
    "res = pd.merge(left, right, on=['key1', 'key2'], how='outer')\n",
    "print(res)\n",
    "#     A    B key1 key2    C    D\n",
    "# 0   A0   B0   K0   K0   C0   D0\n",
    "# 1   A1   B1   K0   K1  NaN  NaN\n",
    "# 2   A2   B2   K1   K0   C1   D1\n",
    "# 3   A2   B2   K1   K0   C2   D2\n",
    "# 4   A3   B3   K2   K1  NaN  NaN\n",
    "# 5  NaN  NaN   K2   K0   C3   D3"
   ],
   "metadata": {
    "collapsed": false,
    "pycharm": {
     "name": "#%%\n"
    }
   }
  },
  {
   "cell_type": "code",
   "execution_count": 216,
   "outputs": [
    {
     "name": "stdout",
     "output_type": "stream",
     "text": [
      "  key1 key2   A   B    C    D\n",
      "0   K0   K0  A0  B0   C0   D0\n",
      "1   K0   K1  A1  B1  NaN  NaN\n",
      "2   K1   K0  A2  B2   C1   D1\n",
      "3   K1   K0  A2  B2   C2   D2\n",
      "4   K2   K1  A3  B3  NaN  NaN\n"
     ]
    }
   ],
   "source": [
    "res = pd.merge(left, right, on=['key1', 'key2'], how='left')\n",
    "print(res)\n",
    "#    A   B key1 key2    C    D\n",
    "# 0  A0  B0   K0   K0   C0   D0\n",
    "# 1  A1  B1   K0   K1  NaN  NaN\n",
    "# 2  A2  B2   K1   K0   C1   D1\n",
    "# 3  A2  B2   K1   K0   C2   D2\n",
    "# 4  A3  B3   K2   K1  NaN  NaN"
   ],
   "metadata": {
    "collapsed": false,
    "pycharm": {
     "name": "#%%\n"
    }
   }
  },
  {
   "cell_type": "code",
   "execution_count": 217,
   "outputs": [
    {
     "name": "stdout",
     "output_type": "stream",
     "text": [
      "  key1 key2    A    B   C   D\n",
      "0   K0   K0   A0   B0  C0  D0\n",
      "1   K1   K0   A2   B2  C1  D1\n",
      "2   K1   K0   A2   B2  C2  D2\n",
      "3   K2   K0  NaN  NaN  C3  D3\n"
     ]
    }
   ],
   "source": [
    "res = pd.merge(left, right, on=['key1', 'key2'], how='right')\n",
    "print(res)\n",
    "#     A    B key1 key2   C   D\n",
    "# 0   A0   B0   K0   K0  C0  D0\n",
    "# 1   A2   B2   K1   K0  C1  D1\n",
    "# 2   A2   B2   K1   K0  C2  D2\n",
    "# 3  NaN  NaN   K2   K0  C3  D3"
   ],
   "metadata": {
    "collapsed": false,
    "pycharm": {
     "name": "#%%\n"
    }
   }
  },
  {
   "cell_type": "markdown",
   "source": [
    "## Indicator\n",
    "indicator=True会将合并的记录放在新的一列"
   ],
   "metadata": {
    "collapsed": false,
    "pycharm": {
     "name": "#%% md\n"
    }
   }
  },
  {
   "cell_type": "code",
   "execution_count": 218,
   "outputs": [
    {
     "name": "stdout",
     "output_type": "stream",
     "text": [
      "   col1 col_left\n",
      "0     0        a\n",
      "1     1        b\n"
     ]
    }
   ],
   "source": [
    "import pandas as pd\n",
    "\n",
    "#定义资料集并打印出\n",
    "df1 = pd.DataFrame({'col1':[0,1], 'col_left':['a','b']})\n",
    "df2 = pd.DataFrame({'col1':[1,2,2],'col_right':[2,2,2]})\n",
    "\n",
    "print(df1)\n",
    "#   col1 col_left\n",
    "# 0     0        a\n",
    "# 1     1        b"
   ],
   "metadata": {
    "collapsed": false,
    "pycharm": {
     "name": "#%%\n"
    }
   }
  },
  {
   "cell_type": "code",
   "execution_count": 219,
   "outputs": [
    {
     "name": "stdout",
     "output_type": "stream",
     "text": [
      "   col1  col_right\n",
      "0     1          2\n",
      "1     2          2\n",
      "2     2          2\n"
     ]
    }
   ],
   "source": [
    "print(df2)\n",
    "#   col1  col_right\n",
    "# 0     1          2\n",
    "# 1     2          2\n",
    "# 2     2          2"
   ],
   "metadata": {
    "collapsed": false,
    "pycharm": {
     "name": "#%%\n"
    }
   }
  },
  {
   "cell_type": "markdown",
   "source": [
    "#### 依据col1进行合并，并启用indicator=True，最后打印出"
   ],
   "metadata": {
    "collapsed": false,
    "pycharm": {
     "name": "#%% md\n"
    }
   }
  },
  {
   "cell_type": "code",
   "execution_count": 220,
   "outputs": [
    {
     "name": "stdout",
     "output_type": "stream",
     "text": [
      "   col1 col_left  col_right      _merge\n",
      "0     0        a        NaN   left_only\n",
      "1     1        b        2.0        both\n",
      "2     2      NaN        2.0  right_only\n",
      "3     2      NaN        2.0  right_only\n"
     ]
    }
   ],
   "source": [
    "res = pd.merge(df1, df2, on='col1', how='outer', indicator=True)\n",
    "print(res)\n",
    "#   col1 col_left  col_right      _merge\n",
    "# 0   0.0        a        NaN   left_only\n",
    "# 1   1.0        b        2.0        both\n",
    "# 2   2.0      NaN        2.0  right_only\n",
    "# 3   2.0      NaN        2.0  right_only"
   ],
   "metadata": {
    "collapsed": false,
    "pycharm": {
     "name": "#%%\n"
    }
   }
  },
  {
   "cell_type": "markdown",
   "source": [
    "#### 自定indicator column的名称，并打印出"
   ],
   "metadata": {
    "collapsed": false,
    "pycharm": {
     "name": "#%% md\n"
    }
   }
  },
  {
   "cell_type": "code",
   "execution_count": 221,
   "outputs": [
    {
     "name": "stdout",
     "output_type": "stream",
     "text": [
      "   col1 col_left  col_right indicator_column\n",
      "0     0        a        NaN        left_only\n",
      "1     1        b        2.0             both\n",
      "2     2      NaN        2.0       right_only\n",
      "3     2      NaN        2.0       right_only\n"
     ]
    }
   ],
   "source": [
    "res = pd.merge(df1, df2, on='col1', how='outer', indicator='indicator_column')\n",
    "print(res)\n",
    "#   col1 col_left  col_right indicator_column\n",
    "# 0   0.0        a        NaN        left_only\n",
    "# 1   1.0        b        2.0             both\n",
    "# 2   2.0      NaN        2.0       right_only\n",
    "# 3   2.0      NaN        2.0       right_only"
   ],
   "metadata": {
    "collapsed": false,
    "pycharm": {
     "name": "#%%\n"
    }
   }
  },
  {
   "cell_type": "markdown",
   "source": [
    "## 依据index合并"
   ],
   "metadata": {
    "collapsed": false,
    "pycharm": {
     "name": "#%% md\n"
    }
   }
  },
  {
   "cell_type": "code",
   "execution_count": 222,
   "outputs": [
    {
     "name": "stdout",
     "output_type": "stream",
     "text": [
      "     A   B\n",
      "K0  A0  B0\n",
      "K1  A1  B1\n",
      "K2  A2  B2\n",
      "     C   D\n",
      "K0  C0  D0\n",
      "K2  C2  D2\n",
      "K3  C3  D3\n"
     ]
    }
   ],
   "source": [
    "import pandas as pd\n",
    "\n",
    "#定义资料集并打印出\n",
    "left = pd.DataFrame({'A': ['A0', 'A1', 'A2'],\n",
    "                     'B': ['B0', 'B1', 'B2']},\n",
    "                     index=['K0', 'K1', 'K2'])\n",
    "right = pd.DataFrame({'C': ['C0', 'C2', 'C3'],\n",
    "                      'D': ['D0', 'D2', 'D3']},\n",
    "                     index=['K0', 'K2', 'K3'])\n",
    "\n",
    "print(left)\n",
    "#     A   B\n",
    "# K0  A0  B0\n",
    "# K1  A1  B1\n",
    "# K2  A2  B2\n",
    "\n",
    "print(right)\n",
    "#     C   D\n",
    "# K0  C0  D0\n",
    "# K2  C2  D2\n",
    "# K3  C3  D3"
   ],
   "metadata": {
    "collapsed": false,
    "pycharm": {
     "name": "#%%\n"
    }
   }
  },
  {
   "cell_type": "markdown",
   "source": [
    "#### 依据左右资料集的index进行合并，how='outer',并打印出\n",
    "res = pd.merge(left, right, left_index=True, right_index=True, how='outer')\n",
    "print(res)"
   ],
   "metadata": {
    "collapsed": false,
    "pycharm": {
     "name": "#%% md\n"
    }
   }
  },
  {
   "cell_type": "code",
   "execution_count": 223,
   "outputs": [],
   "source": [
    "#      A    B    C    D\n",
    "# K0   A0   B0   C0   D0\n",
    "# K1   A1   B1  NaN  NaN\n",
    "# K2   A2   B2   C2   D2\n",
    "# K3  NaN  NaN   C3   D3"
   ],
   "metadata": {
    "collapsed": false,
    "pycharm": {
     "name": "#%%\n"
    }
   }
  },
  {
   "cell_type": "markdown",
   "source": [
    "#### 依据左右资料集的index进行合并，how='inner',并打印出"
   ],
   "metadata": {
    "collapsed": false,
    "pycharm": {
     "name": "#%% md\n"
    }
   }
  },
  {
   "cell_type": "code",
   "execution_count": 224,
   "outputs": [
    {
     "name": "stdout",
     "output_type": "stream",
     "text": [
      "     A   B   C   D\n",
      "K0  A0  B0  C0  D0\n",
      "K2  A2  B2  C2  D2\n"
     ]
    }
   ],
   "source": [
    "res = pd.merge(left, right, left_index=True, right_index=True, how='inner')\n",
    "print(res)\n",
    "#     A   B   C   D\n",
    "# K0  A0  B0  C0  D0\n",
    "# K2  A2  B2  C2  D2"
   ],
   "metadata": {
    "collapsed": false,
    "pycharm": {
     "name": "#%%\n"
    }
   }
  },
  {
   "cell_type": "markdown",
   "source": [
    "## 解决overlapping的问题"
   ],
   "metadata": {
    "collapsed": false,
    "pycharm": {
     "name": "#%% md\n"
    }
   }
  },
  {
   "cell_type": "code",
   "execution_count": 225,
   "outputs": [],
   "source": [
    "import pandas as pd"
   ],
   "metadata": {
    "collapsed": false,
    "pycharm": {
     "name": "#%%\n"
    }
   }
  },
  {
   "cell_type": "markdown",
   "source": [
    "#### 定义资料集"
   ],
   "metadata": {
    "collapsed": false,
    "pycharm": {
     "name": "#%% md\n"
    }
   }
  },
  {
   "cell_type": "code",
   "execution_count": 226,
   "outputs": [],
   "source": [
    "boys = pd.DataFrame({'k': ['K0', 'K1', 'K2'], 'age': [1, 2, 3]})\n",
    "girls = pd.DataFrame({'k': ['K0', 'K0', 'K3'], 'age': [4, 5, 6]})"
   ],
   "metadata": {
    "collapsed": false,
    "pycharm": {
     "name": "#%%\n"
    }
   }
  },
  {
   "cell_type": "markdown",
   "source": [
    "#### 使用suffixes解决overlapping的问题"
   ],
   "metadata": {
    "collapsed": false,
    "pycharm": {
     "name": "#%% md\n"
    }
   }
  },
  {
   "cell_type": "code",
   "execution_count": 227,
   "outputs": [
    {
     "name": "stdout",
     "output_type": "stream",
     "text": [
      "    k  age_boy  age_girl\n",
      "0  K0        1         4\n",
      "1  K0        1         5\n"
     ]
    }
   ],
   "source": [
    "res = pd.merge(boys, girls, on='k', suffixes=['_boy', '_girl'], how='inner')\n",
    "print(res)\n",
    "#    age_boy   k  age_girl\n",
    "# 0        1  K0         4\n",
    "# 1        1  K0         5"
   ],
   "metadata": {
    "collapsed": false,
    "pycharm": {
     "name": "#%%\n"
    }
   }
  },
  {
   "cell_type": "markdown",
   "source": [
    "# Pandas plot 出图"
   ],
   "metadata": {
    "collapsed": false,
    "pycharm": {
     "name": "#%% md\n"
    }
   }
  },
  {
   "cell_type": "code",
   "execution_count": 228,
   "outputs": [],
   "source": [
    "import pandas as pd\n",
    "import numpy as np\n",
    "import matplotlib.pyplot as plt"
   ],
   "metadata": {
    "collapsed": false,
    "pycharm": {
     "name": "#%%\n"
    }
   }
  },
  {
   "cell_type": "markdown",
   "source": [
    "## 创建一个Series"
   ],
   "metadata": {
    "collapsed": false,
    "pycharm": {
     "name": "#%% md\n"
    }
   }
  },
  {
   "cell_type": "code",
   "execution_count": 229,
   "outputs": [
    {
     "name": "stdout",
     "output_type": "stream",
     "text": [
      "0     -0.133929\n",
      "1     -0.899381\n",
      "2     -0.227769\n",
      "3      0.924989\n",
      "4     -0.121313\n",
      "         ...   \n",
      "995   -0.904398\n",
      "996    1.324268\n",
      "997   -0.727751\n",
      "998    1.742964\n",
      "999   -1.200120\n",
      "Length: 1000, dtype: float64\n"
     ]
    }
   ],
   "source": [
    "# 随机生成1000个数据\n",
    "data = pd.Series(np.random.randn(1000),index=np.arange(1000))\n",
    "print(data)"
   ],
   "metadata": {
    "collapsed": false,
    "pycharm": {
     "name": "#%%\n"
    }
   }
  },
  {
   "cell_type": "code",
   "execution_count": 230,
   "outputs": [],
   "source": [
    "#np.arange(1000)"
   ],
   "metadata": {
    "collapsed": false,
    "pycharm": {
     "name": "#%%\n"
    }
   }
  },
  {
   "cell_type": "code",
   "execution_count": 231,
   "outputs": [],
   "source": [
    "#np.random.randn(1000)"
   ],
   "metadata": {
    "collapsed": false,
    "pycharm": {
     "name": "#%%\n"
    }
   }
  },
  {
   "cell_type": "code",
   "execution_count": 232,
   "outputs": [
    {
     "data": {
      "text/plain": "0      -0.133929\n1      -1.033311\n2      -1.261080\n3      -0.336091\n4      -0.457404\n         ...    \n995    52.539425\n996    53.863693\n997    53.135943\n998    54.878907\n999    53.678787\nLength: 1000, dtype: float64"
     },
     "execution_count": 232,
     "metadata": {},
     "output_type": "execute_result"
    }
   ],
   "source": [
    "# 为了方便观看效果, 我们累加这个数据\n",
    "data.cumsum()"
   ],
   "metadata": {
    "collapsed": false,
    "pycharm": {
     "name": "#%%\n"
    }
   }
  },
  {
   "cell_type": "code",
   "execution_count": 233,
   "outputs": [
    {
     "data": {
      "text/plain": "<Figure size 432x288 with 1 Axes>",
      "image/png": "[encoded data removed]"
     },
     "metadata": {
      "needs_background": "light"
     },
     "output_type": "display_data"
    }
   ],
   "source": [
    "# pandas 数据可以直接观看其可视化形式\n",
    "data.cumsum().plot()\n",
    "plt.show()"
   ],
   "metadata": {
    "collapsed": false,
    "pycharm": {
     "name": "#%%\n"
    }
   }
  },
  {
   "cell_type": "markdown",
   "source": [
    "## Dataframe 可视化"
   ],
   "metadata": {
    "collapsed": false,
    "pycharm": {
     "name": "#%% md\n"
    }
   }
  },
  {
   "cell_type": "code",
   "execution_count": 234,
   "outputs": [
    {
     "name": "stdout",
     "output_type": "stream",
     "text": [
      "            A         B         C         D\n",
      "0    1.459407  0.082050  0.627261  0.427675\n",
      "1    1.477555  1.284403  0.760540  0.333537\n",
      "2   -2.668394 -0.876087 -0.102442 -0.293978\n",
      "3   -0.645806 -0.620679 -1.550972  0.456372\n",
      "4    2.239244  0.736729  0.201670 -0.148362\n",
      "..        ...       ...       ...       ...\n",
      "995  1.391258 -0.091110  1.949092  0.195588\n",
      "996 -0.271965 -0.530672  2.042817  2.025573\n",
      "997  0.756406  1.312348 -1.412410 -0.470615\n",
      "998  0.139216  0.472931  0.635419 -1.657797\n",
      "999  0.237858  2.070171  0.769639  0.305296\n",
      "\n",
      "[1000 rows x 4 columns]\n"
     ]
    }
   ],
   "source": [
    "data = pd.DataFrame(\n",
    "    np.random.randn(1000,4),\n",
    "    index=np.arange(1000),\n",
    "    columns=list(\"ABCD\")\n",
    "    )\n",
    "print(data)"
   ],
   "metadata": {
    "collapsed": false,
    "pycharm": {
     "name": "#%%\n"
    }
   }
  },
  {
   "cell_type": "code",
   "execution_count": 235,
   "outputs": [
    {
     "data": {
      "text/plain": "<Figure size 432x288 with 1 Axes>",
      "image/png": "[encoded data removed]"
     },
     "metadata": {
      "needs_background": "light"
     },
     "output_type": "display_data"
    }
   ],
   "source": [
    "data.cumsum()\n",
    "data.cumsum().plot()\n",
    "plt.show()"
   ],
   "metadata": {
    "collapsed": false,
    "pycharm": {
     "name": "#%%\n"
    }
   }
  },
  {
   "cell_type": "markdown",
   "source": [
    "#### 分别给x, y指定数据"
   ],
   "metadata": {
    "collapsed": false,
    "pycharm": {
     "name": "#%% md\n"
    }
   }
  },
  {
   "cell_type": "code",
   "execution_count": 236,
   "outputs": [
    {
     "data": {
      "text/plain": "<Figure size 432x288 with 1 Axes>",
      "image/png": "[encoded data removed]"
     },
     "metadata": {
      "needs_background": "light"
     },
     "output_type": "display_data"
    }
   ],
   "source": [
    "ax = data.cumsum().plot.scatter(x='A',y='B',color='DarkBlue',label='Class1')\n",
    "#将之下这个 data 画在上一个 ax 上面\n",
    "data.cumsum().plot.scatter(x='A',y='C',color='LightGreen',label='Class2',ax=ax)\n",
    "plt.show()"
   ],
   "metadata": {
    "collapsed": false,
    "pycharm": {
     "name": "#%%\n"
    }
   }
  },
  {
   "cell_type": "markdown",
   "source": [
    "# 为什么用 Numpy 还是慢, 你用对了吗?\n",
    "## 为什么用 Numpy?\n",
    "## 创建 Numpy Array 的结构\n",
    "## 在 Axis 上的动作"
   ],
   "metadata": {
    "collapsed": false,
    "pycharm": {
     "name": "#%% md\n"
    }
   }
  },
  {
   "cell_type": "code",
   "source": [
    "import time\n",
    "import pandas as pd\n",
    "import numpy as np\n",
    "import matplotlib.pyplot as plt\n",
    "\n",
    "a = np.zeros((200, 200), order='C')\n",
    "b = np.zeros((200, 200), order='F')\n",
    "N = 9999\n",
    "\n",
    "def f1(a):\n",
    "    for _ in range(N):\n",
    "        np.concatenate((a, a), axis=0)\n",
    "def f2(b):\n",
    "    for _ in range(N):\n",
    "        np.concatenate((b, b), axis=0)\n",
    "\n",
    "t0 = time.time()\n",
    "f1(a)\n",
    "t1 = time.time()\n",
    "f2(b)\n",
    "t2 = time.time()\n",
    "\n",
    "print((t1-t0)/N)     # 0.000040\n",
    "print((t2-t1)/N)     # 0.000070"
   ],
   "metadata": {
    "collapsed": false,
    "pycharm": {
     "name": "#%%\n"
    }
   },
   "execution_count": 237,
   "outputs": [
    {
     "name": "stdout",
     "output_type": "stream",
     "text": [
      "2.425033362558668e-05\n",
      "5.651974823489429e-05\n"
     ]
    }
   ]
  },
  {
   "cell_type": "markdown",
   "source": [
    "np.vstack((a,a))\n",
    "np.concatenate((a,a), axis=0)"
   ],
   "metadata": {
    "collapsed": false,
    "pycharm": {
     "name": "#%% md\n"
    }
   }
  },
  {
   "cell_type": "code",
   "execution_count": 238,
   "outputs": [
    {
     "name": "stdout",
     "output_type": "stream",
     "text": [
      "2.6515798934019378e-05\n",
      "3.065766304871454e-05\n"
     ]
    }
   ],
   "source": [
    "a = np.zeros((200, 200), order='C')\n",
    "N = 9999\n",
    "\n",
    "def f1(a):\n",
    "    for _ in range(N):\n",
    "        np.vstack((a,a))\n",
    "\n",
    "def f2(b):\n",
    "    for _ in range(N):\n",
    "        np.concatenate((a, a), axis=0)\n",
    "\n",
    "t0 = time.time()\n",
    "f1(a)\n",
    "t1 = time.time()\n",
    "f2(b)\n",
    "t2 = time.time()\n",
    "\n",
    "print((t1-t0)/N)\n",
    "print((t2-t1)/N)\n"
   ],
   "metadata": {
    "collapsed": false,
    "pycharm": {
     "name": "#%%\n"
    }
   }
  },
  {
   "cell_type": "code",
   "execution_count": 239,
   "outputs": [
    {
     "data": {
      "text/plain": "array([[0., 0., 0., ..., 0., 0., 0.],\n       [0., 0., 0., ..., 0., 0., 0.],\n       [0., 0., 0., ..., 0., 0., 0.],\n       ...,\n       [0., 0., 0., ..., 0., 0., 0.],\n       [0., 0., 0., ..., 0., 0., 0.],\n       [0., 0., 0., ..., 0., 0., 0.]])"
     },
     "execution_count": 239,
     "metadata": {},
     "output_type": "execute_result"
    }
   ],
   "source": [
    "indices = np.random.randint(0, 100, size=10, dtype=np.int32)\n",
    "a[indices, :]     # 0.000003\n",
    "a[:, indices]     # 0.000006\n"
   ],
   "metadata": {
    "collapsed": false,
    "pycharm": {
     "name": "#%%\n"
    }
   }
  },
  {
   "cell_type": "markdown",
   "source": [
    "## copy慢 view快"
   ],
   "metadata": {
    "collapsed": false,
    "pycharm": {
     "name": "#%% md\n"
    }
   }
  },
  {
   "cell_type": "code",
   "execution_count": 240,
   "outputs": [
    {
     "name": "stdout",
     "output_type": "stream",
     "text": [
      "[[1 2]\n",
      " [3 4]\n",
      " [5 6]]\n",
      "[[1 2]\n",
      " [3 0]\n",
      " [5 6]]\n"
     ]
    }
   ],
   "source": [
    "a = np.arange(1, 7).reshape((3,2))\n",
    "a_view = a[:2]\n",
    "a_copy = a[:2].copy()\n",
    "\n",
    "a_copy[1,1] = 0\n",
    "print(a)\n",
    "a_view[1,1] = 0\n",
    "print(a)\n",
    "\n"
   ],
   "metadata": {
    "collapsed": false,
    "pycharm": {
     "name": "#%%\n"
    }
   }
  },
  {
   "cell_type": "markdown",
   "source": [
    "#### 测速 copy与view"
   ],
   "metadata": {
    "collapsed": false,
    "pycharm": {
     "name": "#%% md\n"
    }
   }
  },
  {
   "cell_type": "code",
   "execution_count": 241,
   "outputs": [
    {
     "name": "stdout",
     "output_type": "stream",
     "text": [
      "0.000535\n",
      "0.003078\n"
     ]
    }
   ],
   "source": [
    "a = np.zeros((1000, 1000))\n",
    "b = np.zeros((1000, 1000))\n",
    "N = 99\n",
    "\n",
    "def f1(a):\n",
    "    for _ in range(N):\n",
    "        a *= 2           # same as a[:] *= 2\n",
    "\n",
    "def f2(b):\n",
    "    for _ in range(N):\n",
    "        b = 2*b\n",
    "t0 = time.time()\n",
    "f1(a)\n",
    "t1 = time.time()\n",
    "f2(b)\n",
    "t2 = time.time()\n",
    "print('%f' % ((t1-t0)/N))     # f1: 0.000837\n",
    "print('%f' % ((t2-t1)/N))     # f2: 0.001346"
   ],
   "metadata": {
    "collapsed": false,
    "pycharm": {
     "name": "#%%\n"
    }
   }
  },
  {
   "cell_type": "markdown",
   "source": [
    "####  相比于 flatten, ravel 是神速"
   ],
   "metadata": {
    "collapsed": false,
    "pycharm": {
     "name": "#%% md\n"
    }
   }
  },
  {
   "cell_type": "code",
   "execution_count": 242,
   "outputs": [
    {
     "name": "stdout",
     "output_type": "stream",
     "text": [
      "0.003325\n",
      "0.000000\n"
     ]
    }
   ],
   "source": [
    "def f1(a):\n",
    "    for _ in range(N):\n",
    "        a.flatten()\n",
    "\n",
    "def f2(b):\n",
    "    for _ in range(N):\n",
    "        b.ravel()\n",
    "t0 = time.time()\n",
    "f1(a)\n",
    "t1 = time.time()\n",
    "f2(b)\n",
    "t2 = time.time()\n",
    "print('%f' % ((t1-t0)/N))    # 0.001059\n",
    "print('%f' % ((t2-t1)/N))    # 0.000000"
   ],
   "metadata": {
    "collapsed": false,
    "pycharm": {
     "name": "#%%\n"
    }
   }
  },
  {
   "cell_type": "markdown",
   "source": [
    "## 选择数据"
   ],
   "metadata": {
    "collapsed": false,
    "pycharm": {
     "name": "#%% md\n"
    }
   }
  },
  {
   "cell_type": "code",
   "execution_count": 243,
   "outputs": [],
   "source": [
    "a_view1 = a[1:2, 3:6]    # 切片 slice\n",
    "a_view2 = a[:100]        # 同上\n",
    "a_view3 = a[::2]         # 跳步\n",
    "a_view4 = a.ravel()      # 上面提到了"
   ],
   "metadata": {
    "collapsed": false,
    "pycharm": {
     "name": "#%%\n"
    }
   }
  },
  {
   "cell_type": "raw",
   "source": [
    "\n",
    "a_copy1 = a[[1,4,6], [2,4,6]]   # 用 index 选\n",
    "a_copy2 = a[[True, True], [False, True]]  # 用 mask\n",
    "a_copy3 = a[[1,2], :]        # 虽然 1,2 的确连在一起了, 但是他们确实是 copy\n",
    "a_copy4 = a[a[1,:] != 0, :]  # fancy indexing\n",
    "a_copy5 = a[np.isnan(a), :]  # fancy indexing\n"
   ],
   "metadata": {
    "collapsed": false,
    "pycharm": {
     "name": "#%% raw\n"
    }
   }
  },
  {
   "cell_type": "markdown",
   "source": [
    "#### 1.使用 np.take(), 替代用 index 选数据的方法."
   ],
   "metadata": {
    "collapsed": false,
    "pycharm": {
     "name": "#%% md\n"
    }
   }
  },
  {
   "cell_type": "code",
   "execution_count": 244,
   "outputs": [
    {
     "name": "stdout",
     "output_type": "stream",
     "text": [
      "0.000000\n",
      "0.000000\n"
     ]
    }
   ],
   "source": [
    "a = np.random.rand(100, 10)\n",
    "N = 99\n",
    "indices = np.random.randint(0, 100, size=1)\n",
    "\n",
    "def f1(a):\n",
    "    for _ in range(N):\n",
    "        _ = np.take(a, indices, axis=0)\n",
    "\n",
    "def f2(b):\n",
    "    for _ in range(N):\n",
    "        _ = b[indices]\n",
    "t0 = time.time()\n",
    "f1(a)\n",
    "t1 = time.time()\n",
    "f2(b)\n",
    "t2 = time.time()\n",
    "print('%f' % ((t1-t0)/N))    # 0.000393\n",
    "print('%f' % ((t2-t1)/N))    # 0.000569"
   ],
   "metadata": {
    "collapsed": false,
    "pycharm": {
     "name": "#%%\n"
    }
   }
  },
  {
   "cell_type": "markdown",
   "source": [
    "#### 2.使用 np.compress(), 替代用 mask 选数据的方法."
   ],
   "metadata": {
    "collapsed": false,
    "pycharm": {
     "name": "#%% md\n"
    }
   }
  },
  {
   "cell_type": "raw",
   "source": [
    "\n",
    "mask = a[:, 0] < 0.5\n",
    "def f1(a):\n",
    "    for _ in range(N):\n",
    "        _ = np.compress(mask, a, axis=0)\n",
    "\n",
    "def f2(b):\n",
    "    for _ in range(N):\n",
    "        _ = b[mask]\n",
    "t0 = time.time()\n",
    "f1(a)\n",
    "t1 = time.time()\n",
    "f2(b)\n",
    "t2 = time.time()\n",
    "print('%f' % ((t1-t0)/N))    # 0.028109\n",
    "print('%f' % ((t2-t1)/N))    # 0.031013\n",
    "\n"
   ],
   "metadata": {
    "collapsed": false,
    "pycharm": {
     "name": "#%% raw\n"
    }
   }
  },
  {
   "cell_type": "markdown",
   "source": [
    "## 非常有用的 out 参数"
   ],
   "metadata": {
    "collapsed": false,
    "pycharm": {
     "name": "#%% md\n"
    }
   }
  },
  {
   "cell_type": "code",
   "execution_count": 245,
   "outputs": [
    {
     "data": {
      "text/plain": "array([[4.59550101, 4.36518763, 4.99653176, 4.76120367, 4.89921014,\n        4.1654469 , 4.97013413, 4.99733939, 4.77143527, 4.61588053],\n       [4.72136001, 4.00653114, 4.31977466, 4.45025695, 4.36856771,\n        4.57169286, 4.55901947, 4.60687968, 4.91259959, 4.3352801 ],\n       [4.10840242, 4.80049404, 4.06703147, 4.99060746, 4.94697972,\n        4.16247925, 4.63002779, 4.42791695, 4.19125362, 4.43155204],\n       [4.14763659, 4.16469905, 4.28739362, 4.02198049, 4.85414312,\n        4.76212292, 4.02373076, 4.82886276, 4.0489171 , 4.67344239],\n       [4.00512282, 4.73826277, 4.49219608, 4.77529064, 4.16227956,\n        4.6305317 , 4.30310527, 4.44362847, 4.7070454 , 4.30386907],\n       [4.76688081, 4.55780235, 4.74941983, 4.30519803, 4.84936578,\n        4.34759846, 4.26854798, 4.47806709, 4.35580997, 4.60895975],\n       [4.74958172, 4.56050102, 4.26877062, 4.12824933, 4.90513068,\n        4.98587056, 4.64953149, 4.11456089, 4.7898631 , 4.95588601],\n       [4.12737552, 4.7731763 , 4.21720102, 4.34028091, 4.63487411,\n        4.94743745, 4.12922395, 4.46454607, 4.10000564, 4.92769192],\n       [4.3426056 , 4.63594026, 4.37350252, 4.65654788, 4.00549505,\n        4.90344467, 4.83997039, 4.63845576, 4.38406197, 4.72487368],\n       [4.67306543, 4.18309085, 4.3377678 , 4.36211904, 4.87319467,\n        4.27640129, 4.13758563, 4.22995077, 4.19092236, 4.54519286],\n       [4.59264928, 4.81408389, 4.82258945, 4.58765459, 4.07740277,\n        4.90848159, 4.86898639, 4.95889772, 4.67109827, 4.72158328],\n       [4.38931988, 4.36186773, 4.93577858, 4.13541869, 4.71771609,\n        4.4194159 , 4.35357512, 4.70593235, 4.38361556, 4.77688876],\n       [4.57957609, 4.27652062, 4.91694742, 4.17438883, 4.89145115,\n        4.42786503, 4.11024721, 4.72053142, 4.44488365, 4.68994972],\n       [4.26504423, 4.17623549, 4.73235389, 4.04596886, 4.82612695,\n        4.9425302 , 4.14793257, 4.08804   , 4.27179679, 4.22904175],\n       [4.15906071, 4.2639989 , 4.27355164, 4.399241  , 4.91700657,\n        4.78669933, 4.38966747, 4.88169276, 4.7942452 , 4.66563092],\n       [4.79800307, 4.03959905, 4.97658399, 4.99346807, 4.32066618,\n        4.54298762, 4.63438266, 4.34253033, 4.19613558, 4.72142361],\n       [4.56860529, 4.42561045, 4.74878297, 4.53544611, 4.48825534,\n        4.32487702, 4.58860804, 4.12170982, 4.69136188, 4.02915397],\n       [4.88595475, 4.99206199, 4.26310792, 4.0006352 , 4.5073642 ,\n        4.93810209, 4.49743395, 4.87286647, 4.90970652, 4.96401298],\n       [4.08273849, 4.33134101, 4.56708772, 4.58048875, 4.09536353,\n        4.96597846, 4.66874651, 4.10752461, 4.00820293, 4.63357502],\n       [4.14546703, 4.62982569, 4.85975427, 4.91422309, 4.86208807,\n        4.53243514, 4.52215034, 4.07864899, 4.26056424, 4.40702375],\n       [4.9692604 , 4.81236261, 4.96301226, 4.01154699, 4.82880142,\n        4.89031908, 4.92757986, 4.03139   , 4.93960486, 4.02282972],\n       [4.08565137, 4.96395845, 4.0268432 , 4.59754884, 4.09690601,\n        4.1001602 , 4.48576429, 4.43748351, 4.65281219, 4.30779841],\n       [4.24155544, 4.58888147, 4.6754618 , 4.92536485, 4.33962001,\n        4.16324104, 4.41219586, 4.20388025, 4.02713449, 4.25497672],\n       [4.85920196, 4.05081696, 4.29695647, 4.5225066 , 4.20766205,\n        4.33386784, 4.33971947, 4.21068843, 4.10682654, 4.42881317],\n       [4.59449783, 4.24236312, 4.61251668, 4.50432272, 4.37174091,\n        4.54423348, 4.95337637, 4.36479529, 4.48709576, 4.35782525],\n       [4.04982318, 4.55677176, 4.87382725, 4.07451824, 4.68498819,\n        4.84572975, 4.47988214, 4.76606267, 4.36796291, 4.34875694],\n       [4.49209216, 4.60894888, 4.55522181, 4.09260734, 4.78037934,\n        4.00779501, 4.38817428, 4.08196343, 4.22448088, 4.76281121],\n       [4.0053461 , 4.25243354, 4.36730994, 4.32135832, 4.17574617,\n        4.18199772, 4.08706825, 4.31851557, 4.44308266, 4.08597781],\n       [4.45582046, 4.53589926, 4.38047496, 4.97413464, 4.23527756,\n        4.17162751, 4.57502661, 4.24876662, 4.44636072, 4.98050783],\n       [4.69377767, 4.47031917, 4.4803696 , 4.55341206, 4.74561341,\n        4.31357632, 4.05015154, 4.10639512, 4.17553022, 4.79203008],\n       [4.90672856, 4.71416955, 4.02555298, 4.90615105, 4.80989187,\n        4.76813196, 4.94265423, 4.15977261, 4.41381871, 4.70010641],\n       [4.85584708, 4.70139601, 4.88443467, 4.84667665, 4.6073932 ,\n        4.70386502, 4.08999391, 4.47499336, 4.52595327, 4.0453857 ],\n       [4.23407882, 4.43360114, 4.99021063, 4.73535004, 4.69963779,\n        4.963348  , 4.75646558, 4.80857496, 4.97259429, 4.61674229],\n       [4.77572149, 4.18345412, 4.62415459, 4.06450883, 4.11000874,\n        4.66915678, 4.02469309, 4.64234555, 4.84850218, 4.99055187],\n       [4.1443441 , 4.31410224, 4.05458836, 4.10607235, 4.18101239,\n        4.95665337, 4.15535265, 4.87714936, 4.17910303, 4.44458847],\n       [4.46336206, 4.24299854, 4.42832523, 4.85739267, 4.01852975,\n        4.96566919, 4.8045482 , 4.92511033, 4.42601357, 4.23179677],\n       [4.14963239, 4.85609491, 4.99689235, 4.7421523 , 4.09601736,\n        4.73074162, 4.94289448, 4.54799542, 4.04959035, 4.3989281 ],\n       [4.41891526, 4.17033622, 4.43631623, 4.16845447, 4.47650206,\n        4.06232064, 4.70160135, 4.44349524, 4.14927816, 4.05802439],\n       [4.46049611, 4.30819252, 4.14766286, 4.87385363, 4.13581563,\n        4.85361183, 4.58020295, 4.44110133, 4.75961442, 4.38028411],\n       [4.88131302, 4.70979534, 4.61883306, 4.37409958, 4.04921391,\n        4.22665313, 4.31615943, 4.8743155 , 4.08246976, 4.68625853],\n       [4.73796655, 4.02577471, 4.60533266, 4.40984419, 4.99070703,\n        4.05484073, 4.11916378, 4.23096947, 4.20343775, 4.19849821],\n       [4.63915683, 4.03557338, 4.64323398, 4.58685828, 4.35288727,\n        4.54348151, 4.61106685, 4.00374739, 4.48019055, 4.32154004],\n       [4.18945613, 4.66875321, 4.34534911, 4.89016903, 4.53166531,\n        4.94661902, 4.7159855 , 4.18439182, 4.32036435, 4.70577304],\n       [4.47230671, 4.71209353, 4.68734284, 4.61590125, 4.75993414,\n        4.75546636, 4.22697916, 4.11618594, 4.30204846, 4.64436357],\n       [4.50582421, 4.10799718, 4.48413643, 4.97157465, 4.37565465,\n        4.71527558, 4.57497588, 4.4780238 , 4.29384266, 4.15191876],\n       [4.53509683, 4.17526134, 4.22797867, 4.59665323, 4.25443645,\n        4.08931017, 4.24598128, 4.5967404 , 4.46143127, 4.64211292],\n       [4.38783975, 4.90671709, 4.85232976, 4.63082668, 4.13433165,\n        4.11201079, 4.28870657, 4.75447372, 4.39969358, 4.29637832],\n       [4.38935888, 4.51211247, 4.91656236, 4.41253683, 4.26690389,\n        4.38439271, 4.01757571, 4.30179519, 4.06717395, 4.53888217],\n       [4.69419615, 4.85947655, 4.47679511, 4.41427874, 4.78744012,\n        4.5708637 , 4.88126609, 4.05417769, 4.33433296, 4.30217727],\n       [4.77407702, 4.79373374, 4.25704169, 4.20101699, 4.14043629,\n        4.26663114, 4.98491562, 4.42562211, 4.23038659, 4.79172392],\n       [4.14536928, 4.60588422, 4.08975214, 4.33451787, 4.99554361,\n        4.72149456, 4.5561359 , 4.88516503, 4.73630398, 4.17077811],\n       [4.61596527, 4.83740682, 4.5006541 , 4.03236703, 4.04920845,\n        4.58422512, 4.17902991, 4.78981349, 4.44342978, 4.390487  ],\n       [4.58098728, 4.85822571, 4.0272296 , 4.41109658, 4.16081134,\n        4.41596817, 4.14954058, 4.23725315, 4.54238011, 4.99587622],\n       [4.11630881, 4.98485795, 4.58161008, 4.64361439, 4.51294544,\n        4.06562416, 4.63814387, 4.78337066, 4.28765635, 4.52578779],\n       [4.15166477, 4.49192127, 4.43637225, 4.63522788, 4.77771472,\n        4.44645463, 4.22059079, 4.72202149, 4.51758796, 4.0470223 ],\n       [4.56778577, 4.86558436, 4.94520633, 4.55714188, 4.87020635,\n        4.04958868, 4.44303281, 4.73344087, 4.07633491, 4.18798421],\n       [4.73432406, 4.6748498 , 4.73599473, 4.84826331, 4.52915297,\n        4.99886464, 4.90618034, 4.39144758, 4.15980746, 4.28058028],\n       [4.43016972, 4.14355427, 4.6635196 , 4.96618795, 4.25986065,\n        4.63170867, 4.41955454, 4.28739509, 4.42006805, 4.8921471 ],\n       [4.23510266, 4.79450803, 4.23374195, 4.68481954, 4.59464665,\n        4.92263523, 4.42090056, 4.37909094, 4.57407964, 4.53676609],\n       [4.424045  , 4.63326815, 4.63632511, 4.33290286, 4.5647087 ,\n        4.81951022, 4.75812413, 4.55027472, 4.56758187, 4.82045439],\n       [4.50202391, 4.46944848, 4.79494691, 4.87500363, 4.60209664,\n        4.22831776, 4.03421173, 4.13320402, 4.34896335, 4.7511507 ],\n       [4.61998151, 4.12874128, 4.54212735, 4.82936832, 4.6564332 ,\n        4.25223337, 4.91122432, 4.84655289, 4.45652334, 4.75393831],\n       [4.86766717, 4.6974138 , 4.9468552 , 4.27941855, 4.88249743,\n        4.67853083, 4.17837288, 4.77735283, 4.74740097, 4.15561075],\n       [4.18947834, 4.98467322, 4.02132119, 4.6638409 , 4.78929802,\n        4.52634666, 4.56129405, 4.02667816, 4.61359708, 4.6604052 ],\n       [4.8061525 , 4.80639112, 4.46217869, 4.98700548, 4.29555153,\n        4.87781244, 4.1229202 , 4.61042443, 4.5246804 , 4.03742515],\n       [4.88846125, 4.9795465 , 4.60101864, 4.04205359, 4.87131611,\n        4.95434459, 4.3195469 , 4.41752634, 4.39183643, 4.08080023],\n       [4.28107235, 4.59564085, 4.36538952, 4.30907669, 4.54691084,\n        4.99077293, 4.80532519, 4.05761359, 4.27806531, 4.5995239 ],\n       [4.69176381, 4.86448107, 4.52671621, 4.19906597, 4.47063629,\n        4.80379911, 4.52411437, 4.72948967, 4.01908775, 4.10884797],\n       [4.85559738, 4.80653914, 4.75087072, 4.37465681, 4.16463035,\n        4.88682827, 4.8129571 , 4.32123667, 4.87981204, 4.5868415 ],\n       [4.25025631, 4.36079912, 4.19400077, 4.18646411, 4.94308587,\n        4.75706317, 4.44353173, 4.83093133, 4.921269  , 4.4596753 ],\n       [4.03815613, 4.89536453, 4.85365115, 4.62469756, 4.8060446 ,\n        4.73737087, 4.553789  , 4.73341797, 4.18919137, 4.98355635],\n       [4.94153835, 4.58541537, 4.08287758, 4.69540217, 4.29901303,\n        4.2848923 , 4.61273531, 4.55856772, 4.98237074, 4.91456812],\n       [4.08702911, 4.33407423, 4.83744623, 4.21525539, 4.93140183,\n        4.52841939, 4.17601738, 4.83818288, 4.21033131, 4.84440506],\n       [4.20099915, 4.90638705, 4.11341558, 4.16280088, 4.1207742 ,\n        4.49923365, 4.02488168, 4.23853852, 4.45603355, 4.99645453],\n       [4.69395661, 4.49428598, 4.65965358, 4.72538542, 4.75211701,\n        4.48893434, 4.19242237, 4.83749915, 4.84011266, 4.86202946],\n       [4.07059175, 4.05125581, 4.72659539, 4.80904959, 4.51220416,\n        4.01050184, 4.8739628 , 4.04396015, 4.68528754, 4.68839645],\n       [4.97496545, 4.64530118, 4.81342743, 4.9848086 , 4.70589775,\n        4.95249762, 4.63938851, 4.46355694, 4.30475654, 4.59124949],\n       [4.26818098, 4.53880242, 4.32987844, 4.25448269, 4.3095633 ,\n        4.62084144, 4.18110349, 4.07225204, 4.477463  , 4.10391697],\n       [4.39382751, 4.6383548 , 4.6902998 , 4.89765924, 4.75052839,\n        4.08537893, 4.95441652, 4.50080869, 4.96853456, 4.83041328],\n       [4.75629564, 4.58697971, 4.39856798, 4.74853254, 4.76920534,\n        4.5008052 , 4.23071218, 4.18763637, 4.5888907 , 4.65308507],\n       [4.34786497, 4.2212417 , 4.09284585, 4.36382115, 4.73095576,\n        4.18878457, 4.99050334, 4.16519329, 4.90857301, 4.59375436],\n       [4.84471877, 4.98669694, 4.04789041, 4.46260304, 4.29850565,\n        4.53292899, 4.06192922, 4.93236776, 4.83638713, 4.51237653],\n       [4.95898257, 4.28812543, 4.08875129, 4.03738491, 4.89603025,\n        4.97216992, 4.29470938, 4.24360436, 4.45378396, 4.38480274],\n       [4.18490025, 4.75394741, 4.14120666, 4.90470842, 4.49606454,\n        4.74644892, 4.08012255, 4.02636893, 4.15129795, 4.08309065],\n       [4.0365243 , 4.89226881, 4.24190016, 4.98177833, 4.29232705,\n        4.19580333, 4.01803252, 4.21300953, 4.01897488, 4.8953315 ],\n       [4.80665706, 4.96113288, 4.21146153, 4.06626763, 4.37443902,\n        4.04519276, 4.1410671 , 4.88856984, 4.62755736, 4.08442974],\n       [4.41179854, 4.84920524, 4.05947324, 4.70372379, 4.89177659,\n        4.45369603, 4.60640901, 4.65408433, 4.54789032, 4.3234344 ],\n       [4.47271893, 4.12041636, 4.03908501, 4.58272212, 4.24028899,\n        4.99422392, 4.64702836, 4.42906643, 4.37596625, 4.38015757],\n       [4.16964322, 4.21378712, 4.56854524, 4.75905686, 4.56582565,\n        4.99653305, 4.66969652, 4.93612688, 4.12442393, 4.88044492],\n       [4.68193724, 4.61018347, 4.27957691, 4.78326446, 4.8089675 ,\n        4.42513317, 4.25693444, 4.68395717, 4.29913896, 4.39583476],\n       [4.47955922, 4.84079094, 4.26741871, 4.57397696, 4.90865623,\n        4.20309076, 4.32503544, 4.52994022, 4.89884504, 4.15309942],\n       [4.42219343, 4.86556905, 4.40465054, 4.55105194, 4.45910179,\n        4.98663566, 4.78821533, 4.45672213, 4.0336417 , 4.63596095],\n       [4.05641388, 4.47377817, 4.35492824, 4.36773388, 4.36026719,\n        4.06100105, 4.52921057, 4.62126363, 4.96229281, 4.63101578],\n       [4.25752914, 4.91165078, 4.89466609, 4.80779246, 4.62990449,\n        4.8657592 , 4.87367145, 4.4009483 , 4.75403779, 4.33765983],\n       [4.39770983, 4.29801908, 4.34065985, 4.76787591, 4.07114758,\n        4.84919234, 4.61116191, 4.93222372, 4.28072107, 4.11509168],\n       [4.50485831, 4.5751948 , 4.66980408, 4.33325284, 4.25158884,\n        4.2787774 , 4.4709467 , 4.83097011, 4.9310994 , 4.13031816],\n       [4.95670042, 4.18274804, 4.12245379, 4.44340593, 4.58165228,\n        4.85207896, 4.21646699, 4.74367156, 4.04232789, 4.42054729],\n       [4.35405478, 4.83002984, 4.86611257, 4.99121601, 4.04638893,\n        4.31563707, 4.93983773, 4.03531294, 4.03101064, 4.88031948],\n       [4.34770934, 4.18149521, 4.9319842 , 4.81394964, 4.02078567,\n        4.19435373, 4.68769052, 4.6329142 , 4.45871608, 4.80552488],\n       [4.49844368, 4.09388322, 4.2691396 , 4.3063479 , 4.01745896,\n        4.13692246, 4.70948094, 4.52080846, 4.37032334, 4.58614373]])"
     },
     "execution_count": 245,
     "metadata": {},
     "output_type": "execute_result"
    }
   ],
   "source": [
    "a = a + 1         # 0.035230\n",
    "a = np.add(a, 1)  # 0.032738\n",
    "a += 1                 # 0.011219\n",
    "np.add(a, 1, out=a)    # 0.008843"
   ],
   "metadata": {
    "collapsed": false,
    "pycharm": {
     "name": "#%%\n"
    }
   }
  },
  {
   "cell_type": "markdown",
   "source": [
    "## 给数据一个名字"
   ],
   "metadata": {
    "collapsed": false,
    "pycharm": {
     "name": "#%% md\n"
    }
   }
  },
  {
   "cell_type": "code",
   "execution_count": 246,
   "outputs": [
    {
     "name": "stdout",
     "output_type": "stream",
     "text": [
      "0.000010\n",
      "0.000222\n"
     ]
    }
   ],
   "source": [
    "a = np.zeros(3, dtype=[('foo', np.int32), ('bar', np.float16)])\n",
    "b = pd.DataFrame(np.zeros((3, 2), dtype=np.int32), columns=['foo', 'bar'])\n",
    "b['bar'] = b['bar'].astype(np.float16)\n",
    "\"\"\"\n",
    "# a\n",
    "array([(0,  0.), (0,  0.), (0,  0.)],\n",
    "      dtype=[('foo', '<i4'), ('bar', '<f2')])\n",
    "\n",
    "# b\n",
    "   foo  bar\n",
    "0    0  0.0\n",
    "1    0  0.0\n",
    "2    0  0.0\n",
    "\"\"\"\n",
    "\n",
    "def f1(a):\n",
    "    for _ in range(N):\n",
    "        a['bar'] *= a['foo']\n",
    "\n",
    "def f2(b):\n",
    "    for _ in range(N):\n",
    "        b['bar'] *= b['foo']\n",
    "t0 = time.time()\n",
    "f1(a)\n",
    "t1 = time.time()\n",
    "f2(b)\n",
    "t2 = time.time()\n",
    "print('%f' % ((t1-t0)/N))    # 0.000003\n",
    "print('%f' % ((t2-t1)/N))    # 0.000508\n"
   ],
   "metadata": {
    "collapsed": false,
    "pycharm": {
     "name": "#%%\n"
    }
   }
  }
 ],
 "metadata": {
  "kernelspec": {
   "name": "pycharm-64147ca0",
   "language": "python",
   "display_name": "PyCharm (pycharm)"
  },
  "language_info": {
   "codemirror_mode": {
    "name": "ipython",
    "version": 2
   },
   "file_extension": ".py",
   "mimetype": "text/x-python",
   "name": "python",
   "nbconvert_exporter": "python",
   "pygments_lexer": "ipython2",
   "version": "2.7.6"
  }
 },
 "nbformat": 4,
 "nbformat_minor": 0
}